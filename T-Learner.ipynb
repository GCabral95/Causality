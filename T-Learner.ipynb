{
 "cells": [
  {
   "cell_type": "code",
   "execution_count": 2,
   "id": "6fc07176",
   "metadata": {},
   "outputs": [],
   "source": [
    "import numpy as np\n",
    "import pandas as pd\n",
    "import doubleml as dml\n",
    "from sklearn.linear_model import LogisticRegression\n",
    "from xgboost import XGBClassifier, XGBRegressor\n",
    "import matplotlib.pyplot as plt"
   ]
  },
  {
   "cell_type": "markdown",
   "id": "f1630211",
   "metadata": {},
   "source": [
    "## 1 - Preparando a base"
   ]
  },
  {
   "cell_type": "code",
   "execution_count": 3,
   "id": "814b580f",
   "metadata": {},
   "outputs": [],
   "source": [
    "import numpy as np\n",
    "import pandas as pd\n",
    "\n",
    "# seed para a reproducao\n",
    "np.random.seed(422)\n",
    "\n",
    "# numero de linhas do dataframe\n",
    "n = 10000\n",
    "\n",
    "# Gerando as variáveis confundidoras\n",
    "X1 = np.random.normal(loc=0, scale=1, size=n)\n",
    "X2 = np.random.normal(loc=5, scale=2, size=n)\n",
    "X3 = np.random.choice(['A', 'B'], size=n)\n",
    "\n",
    "# Codificando X3 para variável numérica\n",
    "X3_numeric = np.where(X3 == 'B', 1, 0)\n",
    "\n",
    "# Criando a propensity score\n",
    "logits = (0.2 * X1) - (0.2 * X2) + (1.0 * X3_numeric)\n",
    "propensity = 1 / (1 + np.exp(-logits))\n",
    "\n",
    "# Gerando T\n",
    "T = np.random.binomial(1, propensity)\n",
    "\n",
    "# Ruído\n",
    "noise = np.random.normal(1.5, 4, n)\n",
    "\n",
    "# ----> Y com relação NÃO LINEAR <----\n",
    "Y = (2 \n",
    "     + 3 * np.sqrt(T + 1)               # impacto de T não linear --- ATE = 1.24\n",
    "     + 1.5 * (X1**2)                    # quadrático em X1\n",
    "     - 2 * np.log(np.abs(X2) + 1)        # logaritmo de X2\n",
    "     + 2 * (X3_numeric**2)               # X3_dummy ao quadrado (mas como é 0 ou 1, mantém)\n",
    "     + noise)\n",
    "\n",
    "# Construindo o dataframe\n",
    "df = pd.DataFrame({\n",
    "    'Y': Y,\n",
    "    'T': T,\n",
    "    'X1': X1,\n",
    "    'X2': X2,\n",
    "    'X3': X3\n",
    "})"
   ]
  },
  {
   "cell_type": "code",
   "execution_count": 4,
   "id": "7c12aaae",
   "metadata": {},
   "outputs": [
    {
     "data": {
      "text/html": [
       "<div>\n",
       "<style scoped>\n",
       "    .dataframe tbody tr th:only-of-type {\n",
       "        vertical-align: middle;\n",
       "    }\n",
       "\n",
       "    .dataframe tbody tr th {\n",
       "        vertical-align: top;\n",
       "    }\n",
       "\n",
       "    .dataframe thead th {\n",
       "        text-align: right;\n",
       "    }\n",
       "</style>\n",
       "<table border=\"1\" class=\"dataframe\">\n",
       "  <thead>\n",
       "    <tr style=\"text-align: right;\">\n",
       "      <th></th>\n",
       "      <th>Y</th>\n",
       "      <th>T</th>\n",
       "      <th>X1</th>\n",
       "      <th>X2</th>\n",
       "      <th>X3</th>\n",
       "    </tr>\n",
       "  </thead>\n",
       "  <tbody>\n",
       "    <tr>\n",
       "      <th>0</th>\n",
       "      <td>8.152606</td>\n",
       "      <td>0</td>\n",
       "      <td>-0.689625</td>\n",
       "      <td>9.263023</td>\n",
       "      <td>A</td>\n",
       "    </tr>\n",
       "    <tr>\n",
       "      <th>1</th>\n",
       "      <td>10.371396</td>\n",
       "      <td>0</td>\n",
       "      <td>-1.334058</td>\n",
       "      <td>7.404452</td>\n",
       "      <td>B</td>\n",
       "    </tr>\n",
       "    <tr>\n",
       "      <th>2</th>\n",
       "      <td>7.999956</td>\n",
       "      <td>0</td>\n",
       "      <td>0.554514</td>\n",
       "      <td>1.811336</td>\n",
       "      <td>A</td>\n",
       "    </tr>\n",
       "    <tr>\n",
       "      <th>3</th>\n",
       "      <td>2.684620</td>\n",
       "      <td>0</td>\n",
       "      <td>-0.774483</td>\n",
       "      <td>5.144973</td>\n",
       "      <td>B</td>\n",
       "    </tr>\n",
       "    <tr>\n",
       "      <th>4</th>\n",
       "      <td>5.758653</td>\n",
       "      <td>0</td>\n",
       "      <td>0.065460</td>\n",
       "      <td>4.653085</td>\n",
       "      <td>B</td>\n",
       "    </tr>\n",
       "  </tbody>\n",
       "</table>\n",
       "</div>"
      ],
      "text/plain": [
       "           Y  T        X1        X2 X3\n",
       "0   8.152606  0 -0.689625  9.263023  A\n",
       "1  10.371396  0 -1.334058  7.404452  B\n",
       "2   7.999956  0  0.554514  1.811336  A\n",
       "3   2.684620  0 -0.774483  5.144973  B\n",
       "4   5.758653  0  0.065460  4.653085  B"
      ]
     },
     "execution_count": 4,
     "metadata": {},
     "output_type": "execute_result"
    }
   ],
   "source": [
    "df.head()"
   ]
  },
  {
   "cell_type": "code",
   "execution_count": 5,
   "id": "1a255065",
   "metadata": {},
   "outputs": [],
   "source": [
    "# Transformando a variavel qualitativa via dummie (assumindo B como referencia)\n",
    "dummies = pd.get_dummies(df['X3'], prefix='X3', drop_first=True, dtype=float)\n",
    "\n",
    "# Inserindo a nova variavel no data frame original\n",
    "df = pd.concat([df, dummies], axis=1)"
   ]
  },
  {
   "cell_type": "code",
   "execution_count": 6,
   "id": "62a67a2a",
   "metadata": {},
   "outputs": [
    {
     "data": {
      "text/html": [
       "<div>\n",
       "<style scoped>\n",
       "    .dataframe tbody tr th:only-of-type {\n",
       "        vertical-align: middle;\n",
       "    }\n",
       "\n",
       "    .dataframe tbody tr th {\n",
       "        vertical-align: top;\n",
       "    }\n",
       "\n",
       "    .dataframe thead th {\n",
       "        text-align: right;\n",
       "    }\n",
       "</style>\n",
       "<table border=\"1\" class=\"dataframe\">\n",
       "  <thead>\n",
       "    <tr style=\"text-align: right;\">\n",
       "      <th></th>\n",
       "      <th>Y</th>\n",
       "      <th>T</th>\n",
       "      <th>X1</th>\n",
       "      <th>X2</th>\n",
       "      <th>X3</th>\n",
       "      <th>X3_B</th>\n",
       "    </tr>\n",
       "  </thead>\n",
       "  <tbody>\n",
       "    <tr>\n",
       "      <th>0</th>\n",
       "      <td>8.152606</td>\n",
       "      <td>0</td>\n",
       "      <td>-0.689625</td>\n",
       "      <td>9.263023</td>\n",
       "      <td>A</td>\n",
       "      <td>0.0</td>\n",
       "    </tr>\n",
       "    <tr>\n",
       "      <th>1</th>\n",
       "      <td>10.371396</td>\n",
       "      <td>0</td>\n",
       "      <td>-1.334058</td>\n",
       "      <td>7.404452</td>\n",
       "      <td>B</td>\n",
       "      <td>1.0</td>\n",
       "    </tr>\n",
       "    <tr>\n",
       "      <th>2</th>\n",
       "      <td>7.999956</td>\n",
       "      <td>0</td>\n",
       "      <td>0.554514</td>\n",
       "      <td>1.811336</td>\n",
       "      <td>A</td>\n",
       "      <td>0.0</td>\n",
       "    </tr>\n",
       "    <tr>\n",
       "      <th>3</th>\n",
       "      <td>2.684620</td>\n",
       "      <td>0</td>\n",
       "      <td>-0.774483</td>\n",
       "      <td>5.144973</td>\n",
       "      <td>B</td>\n",
       "      <td>1.0</td>\n",
       "    </tr>\n",
       "    <tr>\n",
       "      <th>4</th>\n",
       "      <td>5.758653</td>\n",
       "      <td>0</td>\n",
       "      <td>0.065460</td>\n",
       "      <td>4.653085</td>\n",
       "      <td>B</td>\n",
       "      <td>1.0</td>\n",
       "    </tr>\n",
       "  </tbody>\n",
       "</table>\n",
       "</div>"
      ],
      "text/plain": [
       "           Y  T        X1        X2 X3  X3_B\n",
       "0   8.152606  0 -0.689625  9.263023  A   0.0\n",
       "1  10.371396  0 -1.334058  7.404452  B   1.0\n",
       "2   7.999956  0  0.554514  1.811336  A   0.0\n",
       "3   2.684620  0 -0.774483  5.144973  B   1.0\n",
       "4   5.758653  0  0.065460  4.653085  B   1.0"
      ]
     },
     "execution_count": 6,
     "metadata": {},
     "output_type": "execute_result"
    }
   ],
   "source": [
    "df.head()"
   ]
  },
  {
   "cell_type": "code",
   "execution_count": 7,
   "id": "11e4d3c4",
   "metadata": {},
   "outputs": [],
   "source": [
    "# Nome das variaveis que serao as confundidoras do modelo\n",
    "features_base = ['X1','X2','X3_B']"
   ]
  },
  {
   "cell_type": "code",
   "execution_count": 33,
   "id": "4fbf6584",
   "metadata": {},
   "outputs": [
    {
     "data": {
      "image/png": "[encoded data removed]",
      "text/plain": [
       "<Figure size 640x480 with 1 Axes>"
      ]
     },
     "metadata": {},
     "output_type": "display_data"
    }
   ],
   "source": [
    "# Visualizacao do DAG\n",
    "import networkx as nx\n",
    "import matplotlib.pyplot as plt\n",
    "\n",
    "# Criar um grafo direcionado\n",
    "G = nx.DiGraph()\n",
    "\n",
    "# Adicionar arestas (de onde -> para onde)\n",
    "G.add_edges_from([\n",
    "    (\"T\", \"Y\"),\n",
    "    (\"X1\", \"Y\"),\n",
    "    (\"X2\", \"Y\"),\n",
    "    (\"X3\", \"Y\"),\n",
    "    (\"X1\", \"T\"),\n",
    "    (\"X2\", \"T\"),\n",
    "    (\"X3\", \"T\"),\n",
    "])\n",
    "\n",
    "# Desenhar o grafo\n",
    "pos = nx.spring_layout(G)  # Layout automático\n",
    "nx.draw(G, pos, with_labels=True, arrows=True, node_size=1000, node_color=\"lightblue\", font_size=12)\n",
    "plt.title(\"DAG do exemplo\")\n",
    "plt.show()"
   ]
  },
  {
   "cell_type": "markdown",
   "id": "a74104df",
   "metadata": {},
   "source": [
    "## 2 - Verificando o pressuposto da positividade"
   ]
  },
  {
   "cell_type": "code",
   "execution_count": 9,
   "id": "751de2e6",
   "metadata": {},
   "outputs": [],
   "source": [
    "# Para evitar o overfitting no calculo do propensity score, vamos separar a base em duas, assim, treinaremos dois modelos\n",
    "np.random.seed(42)\n",
    "df1 = df.sample(frac = 0.5)\n",
    "df2 = df.drop(df1.index)"
   ]
  },
  {
   "cell_type": "code",
   "execution_count": 10,
   "id": "1eab458c",
   "metadata": {},
   "outputs": [],
   "source": [
    "from sklearn.linear_model import LogisticRegression\n",
    "# Vamos fazer duas regressoes logisticas para estimar os propensity scores, cada uma vai ser treinada em metade da base\n",
    "logit1 = LogisticRegression()\n",
    "logit2 = LogisticRegression()\n",
    "\n",
    "# Treinando os modelos em cada parte da base, prevendo T com base nas variaveis confundidoras (X)\n",
    "logit1.fit(df1[['X1', 'X2', 'X3_B']], df1['T'])\n",
    "logit2.fit(df2[['X1', 'X2', 'X3_B']], df2['T'])\n",
    "\n",
    "\n",
    "# O modelo treinado na base 1 vai ser usado para calcular o score na base 2\n",
    "# O modelo treinado na base 2 vai ser usado para calcular o score na base 1\n",
    "df1['propensity_score'] = logit2.predict_proba(df1[['X1', 'X2', 'X3_B']])[:, 1]\n",
    "df2['propensity_score'] = logit1.predict_proba(df2[['X1', 'X2', 'X3_B']])[:, 1]\n",
    "\n",
    "# juntando as bases novamente\n",
    "df_f = pd.concat([df1,df2])"
   ]
  },
  {
   "cell_type": "code",
   "execution_count": 11,
   "id": "8d6ffede",
   "metadata": {},
   "outputs": [
    {
     "data": {
      "text/html": [
       "<div>\n",
       "<style scoped>\n",
       "    .dataframe tbody tr th:only-of-type {\n",
       "        vertical-align: middle;\n",
       "    }\n",
       "\n",
       "    .dataframe tbody tr th {\n",
       "        vertical-align: top;\n",
       "    }\n",
       "\n",
       "    .dataframe thead th {\n",
       "        text-align: right;\n",
       "    }\n",
       "</style>\n",
       "<table border=\"1\" class=\"dataframe\">\n",
       "  <thead>\n",
       "    <tr style=\"text-align: right;\">\n",
       "      <th></th>\n",
       "      <th>Y</th>\n",
       "      <th>T</th>\n",
       "      <th>X1</th>\n",
       "      <th>X2</th>\n",
       "      <th>X3</th>\n",
       "      <th>X3_B</th>\n",
       "      <th>propensity_score</th>\n",
       "    </tr>\n",
       "  </thead>\n",
       "  <tbody>\n",
       "    <tr>\n",
       "      <th>6252</th>\n",
       "      <td>13.525385</td>\n",
       "      <td>1</td>\n",
       "      <td>-1.853598</td>\n",
       "      <td>3.874194</td>\n",
       "      <td>B</td>\n",
       "      <td>1.0</td>\n",
       "      <td>0.490423</td>\n",
       "    </tr>\n",
       "    <tr>\n",
       "      <th>4684</th>\n",
       "      <td>8.494246</td>\n",
       "      <td>1</td>\n",
       "      <td>-0.813155</td>\n",
       "      <td>5.249052</td>\n",
       "      <td>B</td>\n",
       "      <td>1.0</td>\n",
       "      <td>0.458626</td>\n",
       "    </tr>\n",
       "    <tr>\n",
       "      <th>1731</th>\n",
       "      <td>8.851926</td>\n",
       "      <td>0</td>\n",
       "      <td>-0.525914</td>\n",
       "      <td>4.146047</td>\n",
       "      <td>A</td>\n",
       "      <td>0.0</td>\n",
       "      <td>0.293096</td>\n",
       "    </tr>\n",
       "    <tr>\n",
       "      <th>4742</th>\n",
       "      <td>0.546085</td>\n",
       "      <td>0</td>\n",
       "      <td>0.276478</td>\n",
       "      <td>8.660110</td>\n",
       "      <td>A</td>\n",
       "      <td>0.0</td>\n",
       "      <td>0.159445</td>\n",
       "    </tr>\n",
       "    <tr>\n",
       "      <th>4521</th>\n",
       "      <td>4.677539</td>\n",
       "      <td>1</td>\n",
       "      <td>-0.227592</td>\n",
       "      <td>3.596237</td>\n",
       "      <td>B</td>\n",
       "      <td>1.0</td>\n",
       "      <td>0.560359</td>\n",
       "    </tr>\n",
       "  </tbody>\n",
       "</table>\n",
       "</div>"
      ],
      "text/plain": [
       "              Y  T        X1        X2 X3  X3_B  propensity_score\n",
       "6252  13.525385  1 -1.853598  3.874194  B   1.0          0.490423\n",
       "4684   8.494246  1 -0.813155  5.249052  B   1.0          0.458626\n",
       "1731   8.851926  0 -0.525914  4.146047  A   0.0          0.293096\n",
       "4742   0.546085  0  0.276478  8.660110  A   0.0          0.159445\n",
       "4521   4.677539  1 -0.227592  3.596237  B   1.0          0.560359"
      ]
     },
     "execution_count": 11,
     "metadata": {},
     "output_type": "execute_result"
    }
   ],
   "source": [
    "df_f.head()"
   ]
  },
  {
   "cell_type": "code",
   "execution_count": 12,
   "id": "7df7cb2f",
   "metadata": {},
   "outputs": [
    {
     "data": {
      "image/png": "[encoded data removed]",
      "text/plain": [
       "<Figure size 640x480 with 1 Axes>"
      ]
     },
     "metadata": {},
     "output_type": "display_data"
    }
   ],
   "source": [
    "import matplotlib.pyplot as plt\n",
    "# Visualizando se temos unidades de controle e tratamento nas mesmas faixas do propensity score (Pressuposto da Positividade)\n",
    "plt.hist(df_f[df_f['T'] == 0]['propensity_score'], label = 'Controle', alpha = 0.5)\n",
    "plt.hist(df_f[df_f['T'] == 1]['propensity_score'], label = 'Tratamento', alpha = 0.5)\n",
    "plt.legend()\n",
    "plt.show()"
   ]
  },
  {
   "cell_type": "markdown",
   "id": "adcb86e8",
   "metadata": {},
   "source": [
    "## 3 - Verificando equilibrio entre as variaveis X dos grupos controle e tratamento (SMD)"
   ]
  },
  {
   "cell_type": "code",
   "execution_count": 13,
   "id": "986b341b",
   "metadata": {},
   "outputs": [
    {
     "name": "stdout",
     "output_type": "stream",
     "text": [
      "📋 Relatório de Balanceamento:\n",
      "         SMD\n",
      "X3  0.238680\n",
      "X1  0.154279\n",
      "X2 -0.378367\n"
     ]
    }
   ],
   "source": [
    "# Função para SMD contínuas\n",
    "def compute_smd_continuous(x, t):\n",
    "    treated = x[t == 1]\n",
    "    control = x[t == 0]\n",
    "    mean_diff = treated.mean() - control.mean()\n",
    "    pooled_std = np.sqrt((np.var(treated, ddof=1) + np.var(control, ddof=1)) / 2)\n",
    "    return mean_diff / pooled_std\n",
    "\n",
    "# Função para SMD categóricas\n",
    "def compute_smd_categorical(x, t):\n",
    "    treated = pd.crosstab(index=t, columns=x, normalize='index').loc[1]\n",
    "    control = pd.crosstab(index=t, columns=x, normalize='index').loc[0]\n",
    "    smd = np.sum(np.abs(treated - control)) / 2\n",
    "    return smd\n",
    "\n",
    "# Identificando variáveis contínuas e categóricas\n",
    "continuous_vars = ['X1','X2']\n",
    "categorical_vars = ['X3']\n",
    "\n",
    "# Calculando SMDs\n",
    "smd_results = {}\n",
    "\n",
    "for col in continuous_vars:\n",
    "    smd = compute_smd_continuous(df[col], df['T'])\n",
    "    smd_results[col] = smd\n",
    "\n",
    "for col in categorical_vars:\n",
    "    smd = compute_smd_categorical(df[col], df['T'])\n",
    "    smd_results[col] = smd\n",
    "\n",
    "# Criar DataFrame de SMDs\n",
    "smd_df = pd.DataFrame.from_dict(smd_results, orient='index', columns=['SMD'])\n",
    "smd_df = smd_df.sort_values(by='SMD', ascending=False)\n",
    "\n",
    "print(\"📋 Relatório de Balanceamento:\")\n",
    "print(smd_df)"
   ]
  },
  {
   "cell_type": "markdown",
   "id": "0a8f4ce7",
   "metadata": {},
   "source": [
    "## 4 - Verificando o resultado de uma regressao linear Y ~ T"
   ]
  },
  {
   "cell_type": "code",
   "execution_count": 14,
   "id": "25e0636d",
   "metadata": {},
   "outputs": [],
   "source": [
    "import statsmodels.api as sm"
   ]
  },
  {
   "cell_type": "code",
   "execution_count": 15,
   "id": "507410db",
   "metadata": {},
   "outputs": [
    {
     "name": "stdout",
     "output_type": "stream",
     "text": [
      "                            OLS Regression Results                            \n",
      "==============================================================================\n",
      "Dep. Variable:                      Y   R-squared:                       0.040\n",
      "Model:                            OLS   Adj. R-squared:                  0.040\n",
      "Method:                 Least Squares   F-statistic:                     416.0\n",
      "Date:                Sun, 13 Apr 2025   Prob (F-statistic):           1.24e-90\n",
      "Time:                        12:01:15   Log-Likelihood:                -29703.\n",
      "No. Observations:               10000   AIC:                         5.941e+04\n",
      "Df Residuals:                    9998   BIC:                         5.943e+04\n",
      "Df Model:                           1                                         \n",
      "Covariance Type:            nonrobust                                         \n",
      "==============================================================================\n",
      "                 coef    std err          t      P>|t|      [0.025      0.975]\n",
      "------------------------------------------------------------------------------\n",
      "const          5.2491      0.061     86.728      0.000       5.130       5.368\n",
      "T              1.9712      0.097     20.396      0.000       1.782       2.161\n",
      "==============================================================================\n",
      "Omnibus:                      177.182   Durbin-Watson:                   2.016\n",
      "Prob(Omnibus):                  0.000   Jarque-Bera (JB):              228.658\n",
      "Skew:                           0.242   Prob(JB):                     2.23e-50\n",
      "Kurtosis:                       3.561   Cond. No.                         2.44\n",
      "==============================================================================\n",
      "\n",
      "Notes:\n",
      "[1] Standard Errors assume that the covariance matrix of the errors is correctly specified.\n"
     ]
    }
   ],
   "source": [
    "X = df[['T']]\n",
    "y = df[['Y']]\n",
    "# Adicionar constante\n",
    "X_const = sm.add_constant(X)\n",
    "\n",
    "# Ajustar modelo\n",
    "model = sm.OLS(y, X_const)\n",
    "results = model.fit()\n",
    "\n",
    "# Exibir o resumo completo\n",
    "print(results.summary())\n",
    "\n",
    "#O impacto de T (1.822 - 2.135) não contem o valor especificado na funcao geradora dos dados (ATE = 1.24)"
   ]
  },
  {
   "cell_type": "markdown",
   "id": "c0489975",
   "metadata": {},
   "source": [
    "## 5.1 - Dividindo a base em dois para o cross-fitting (DF1 e DF2)"
   ]
  },
  {
   "cell_type": "code",
   "execution_count": 16,
   "id": "46870d2a",
   "metadata": {},
   "outputs": [],
   "source": [
    "from sklearn.model_selection import train_test_split\n",
    "\n",
    "# Split direto, estratificando por T\n",
    "df_f1, df_f2 = train_test_split(\n",
    "    df_f,\n",
    "    test_size=0.5,      # ajusta o tamanho como quiser\n",
    "    random_state=42,    # para resultados reproduzíveis\n",
    "    stratify=df_f['T']    # aqui usamos T direto\n",
    ")"
   ]
  },
  {
   "cell_type": "markdown",
   "id": "7599cb48",
   "metadata": {},
   "source": [
    "## 5.2 - Modelo em DF1 e T=1"
   ]
  },
  {
   "cell_type": "code",
   "execution_count": 17,
   "id": "57ef984a",
   "metadata": {},
   "outputs": [
    {
     "name": "stdout",
     "output_type": "stream",
     "text": [
      "3.2859123880087084\n",
      "0.21092654181274373\n"
     ]
    },
    {
     "name": "stderr",
     "output_type": "stream",
     "text": [
      "C:\\Users\\gcabr\\AppData\\Local\\Programs\\Python\\Python311\\Lib\\site-packages\\numpy\\ma\\core.py:2820: RuntimeWarning: invalid value encountered in cast\n",
      "  _data = np.array(data, dtype=dtype, copy=copy,\n"
     ]
    }
   ],
   "source": [
    "import xgboost as xgb\n",
    "from sklearn.model_selection import GridSearchCV\n",
    "\n",
    "# Ajustando o modelo de XGBoost para a base DF1 e T = 1\n",
    "\n",
    "df_f1_T1 = df_f1[df_f1['T'] == 1]\n",
    "df_f1_T1_X = df_f1_T1[['X1','X2','X3_B']]\n",
    "df_f1_T1_Y = df_f1_T1['Y']\n",
    "\n",
    "df_f1_T1_X_train, df_f1_T1_X_test, df_f1_T1_Y_train, df_f1_T1_Y_test = train_test_split(df_f1_T1_X,df_f1_T1_Y, \n",
    "                                                                                        test_size=0.3, random_state = 42)\n",
    "\n",
    "params = {\n",
    "    'max_depth': [3,5,7,9,11],\n",
    "    'learning_rate': [0.01,0.05,0.1,0.2,0.5,1],\n",
    "    'reg_alpha': [0,0.01,0.05,0.1,0.5],\n",
    "    'reg_lambda': [0,0.01,0.05,0.1,0.5]}\n",
    "\n",
    "xgb_df_f1_T1 = GridSearchCV(\n",
    "    XGBRegressor(n_estimators=250, random_state=61658,objective = \"reg:squarederror\"),\n",
    "    params,\n",
    "    cv=5,\n",
    "    scoring='neg_mean_absolute_error'\n",
    ")\n",
    "xgb_df_f1_T1.fit(df_f1_T1_X_train,df_f1_T1_Y_train)\n",
    "\n",
    "from sklearn.metrics import mean_absolute_error\n",
    "from sklearn.metrics import r2_score\n",
    "\n",
    "print(mean_absolute_error(df_f1_T1_Y_test, xgb_df_f1_T1.predict(df_f1_T1_X_test))) #\n",
    "print(r2_score(df_f1_T1_Y_test, xgb_df_f1_T1.predict(df_f1_T1_X_test))) #"
   ]
  },
  {
   "cell_type": "markdown",
   "id": "91e9a885",
   "metadata": {},
   "source": [
    "## 5.3 - Modelo em DF1 e T=0"
   ]
  },
  {
   "cell_type": "code",
   "execution_count": 18,
   "id": "a5c240dd",
   "metadata": {},
   "outputs": [
    {
     "name": "stdout",
     "output_type": "stream",
     "text": [
      "3.317085841168734\n",
      "0.24876702200090062\n"
     ]
    },
    {
     "name": "stderr",
     "output_type": "stream",
     "text": [
      "C:\\Users\\gcabr\\AppData\\Local\\Programs\\Python\\Python311\\Lib\\site-packages\\numpy\\ma\\core.py:2820: RuntimeWarning: invalid value encountered in cast\n",
      "  _data = np.array(data, dtype=dtype, copy=copy,\n"
     ]
    }
   ],
   "source": [
    "import xgboost as xgb\n",
    "from sklearn.model_selection import GridSearchCV\n",
    "\n",
    "# Ajustando o modelo de XGBoost para a base DF1 e T = 0\n",
    "\n",
    "df_f1_T0 = df_f1[df_f1['T'] == 0]\n",
    "df_f1_T0_X = df_f1_T0[['X1','X2','X3_B']]\n",
    "df_f1_T0_Y = df_f1_T0['Y']\n",
    "\n",
    "df_f1_T0_X_train, df_f1_T0_X_test, df_f1_T0_Y_train, df_f1_T0_Y_test = train_test_split(df_f1_T0_X,df_f1_T0_Y, \n",
    "                                                                                        test_size=0.3, random_state = 42)\n",
    "\n",
    "params = {\n",
    "    'max_depth': [3,5,7,9,11],\n",
    "    'learning_rate': [0.01,0.05,0.1,0.2,0.5,1],\n",
    "    'reg_alpha': [0,0.01,0.05,0.1,0.5],\n",
    "    'reg_lambda': [0,0.01,0.05,0.1,0.5]}\n",
    "\n",
    "xgb_df_f1_T0 = GridSearchCV(\n",
    "    XGBRegressor(n_estimators=250, random_state=61658,objective = \"reg:squarederror\"),\n",
    "    params,\n",
    "    cv=5,\n",
    "    scoring='neg_mean_absolute_error'\n",
    ")\n",
    "xgb_df_f1_T0.fit(df_f1_T0_X_train,df_f1_T0_Y_train)\n",
    "\n",
    "from sklearn.metrics import mean_absolute_error\n",
    "from sklearn.metrics import r2_score\n",
    "\n",
    "print(mean_absolute_error(df_f1_T0_Y_test, xgb_df_f1_T0.predict(df_f1_T0_X_test))) #\n",
    "print(r2_score(df_f1_T0_Y_test, xgb_df_f1_T0.predict(df_f1_T0_X_test))) #"
   ]
  },
  {
   "cell_type": "markdown",
   "id": "36b894a7",
   "metadata": {},
   "source": [
    "## 5.4 - Modelo em DF2 e T=1"
   ]
  },
  {
   "cell_type": "code",
   "execution_count": 19,
   "id": "59239ae2",
   "metadata": {},
   "outputs": [
    {
     "name": "stdout",
     "output_type": "stream",
     "text": [
      "3.120238127940182\n",
      "0.22350855283241233\n"
     ]
    }
   ],
   "source": [
    "import xgboost as xgb\n",
    "from sklearn.model_selection import GridSearchCV\n",
    "\n",
    "# Ajustando o modelo de XGBoost para a base DF2 e T = 1\n",
    "\n",
    "df_f2_T1 = df_f2[df_f2['T'] == 1]\n",
    "df_f2_T1_X = df_f2_T1[['X1','X2','X3_B']]\n",
    "df_f2_T1_Y = df_f2_T1['Y']\n",
    "\n",
    "df_f2_T1_X_train, df_f2_T1_X_test, df_f2_T1_Y_train, df_f2_T1_Y_test = train_test_split(df_f2_T1_X,df_f2_T1_Y, \n",
    "                                                                                        test_size=0.3, random_state = 42)\n",
    "\n",
    "params = {\n",
    "    'max_depth': [3,5,7,9,11],\n",
    "    'learning_rate': [0.01,0.05,0.1,0.2,0.5,1],\n",
    "    'reg_alpha': [0,0.01,0.05,0.1,0.5],\n",
    "    'reg_lambda': [0,0.01,0.05,0.1,0.5]}\n",
    "\n",
    "xgb_df_f2_T1 = GridSearchCV(\n",
    "    XGBRegressor(n_estimators=250, random_state=61658,objective = \"reg:squarederror\"),\n",
    "    params,\n",
    "    cv=5,\n",
    "    scoring='neg_mean_absolute_error'\n",
    ")\n",
    "xgb_df_f2_T1.fit(df_f2_T1_X_train,df_f2_T1_Y_train)\n",
    "\n",
    "from sklearn.metrics import mean_absolute_error\n",
    "from sklearn.metrics import r2_score\n",
    "\n",
    "print(mean_absolute_error(df_f2_T1_Y_test, xgb_df_f2_T1.predict(df_f2_T1_X_test))) #\n",
    "print(r2_score(df_f2_T1_Y_test, xgb_df_f2_T1.predict(df_f2_T1_X_test))) #"
   ]
  },
  {
   "cell_type": "markdown",
   "id": "fce03d66",
   "metadata": {},
   "source": [
    "## 5.5 - Modelo em DF2 e T=0"
   ]
  },
  {
   "cell_type": "code",
   "execution_count": 20,
   "id": "52133cbb",
   "metadata": {},
   "outputs": [
    {
     "name": "stdout",
     "output_type": "stream",
     "text": [
      "3.16613173443665\n",
      "0.20331956804984663\n"
     ]
    }
   ],
   "source": [
    "import xgboost as xgb\n",
    "from sklearn.model_selection import GridSearchCV\n",
    "\n",
    "# Ajustando o modelo de XGBoost para a base DF2 e T = 0\n",
    "\n",
    "df_f2_T0 = df_f2[df_f2['T'] == 0]\n",
    "df_f2_T0_X = df_f2_T0[['X1','X2','X3_B']]\n",
    "df_f2_T0_Y = df_f2_T0['Y']\n",
    "\n",
    "df_f2_T0_X_train, df_f2_T0_X_test, df_f2_T0_Y_train, df_f2_T0_Y_test = train_test_split(df_f2_T0_X,df_f2_T0_Y, \n",
    "                                                                                        test_size=0.3, random_state = 42)\n",
    "\n",
    "params = {\n",
    "    'max_depth': [3,5,7,9,11],\n",
    "    'learning_rate': [0.01,0.05,0.1,0.2,0.5,1],\n",
    "    'reg_alpha': [0,0.01,0.05,0.1,0.5],\n",
    "    'reg_lambda': [0,0.01,0.05,0.1,0.5]}\n",
    "\n",
    "xgb_df_f2_T0 = GridSearchCV(\n",
    "    XGBRegressor(n_estimators=250, random_state=61658,objective = \"reg:squarederror\"),\n",
    "    params,\n",
    "    cv=5,\n",
    "    scoring='neg_mean_absolute_error'\n",
    ")\n",
    "xgb_df_f2_T0.fit(df_f2_T0_X_train,df_f2_T0_Y_train)\n",
    "\n",
    "from sklearn.metrics import mean_absolute_error\n",
    "from sklearn.metrics import r2_score\n",
    "\n",
    "print(mean_absolute_error(df_f2_T0_Y_test, xgb_df_f2_T0.predict(df_f2_T0_X_test))) #\n",
    "print(r2_score(df_f2_T0_Y_test, xgb_df_f2_T0.predict(df_f2_T0_X_test))) #"
   ]
  },
  {
   "cell_type": "markdown",
   "id": "974590ca",
   "metadata": {},
   "source": [
    "## 5.6 - Predição de T = 0 e T = 1 em ambas bases"
   ]
  },
  {
   "cell_type": "code",
   "execution_count": 22,
   "id": "b7c57bef",
   "metadata": {},
   "outputs": [],
   "source": [
    "df_f1['T=1'] = xgb_df_f2_T1.predict(df_f1[['X1','X2','X3_B']])\n",
    "df_f1['T=0'] = xgb_df_f2_T0.predict(df_f1[['X1','X2','X3_B']])\n",
    "df_f2['T=1'] = xgb_df_f1_T1.predict(df_f1[['X1','X2','X3_B']])\n",
    "df_f2['T=0'] = xgb_df_f1_T0.predict(df_f1[['X1','X2','X3_B']])"
   ]
  },
  {
   "cell_type": "markdown",
   "id": "0513d50f",
   "metadata": {},
   "source": [
    "## 6 - Calculo do ATE"
   ]
  },
  {
   "cell_type": "code",
   "execution_count": 30,
   "id": "11a911c5",
   "metadata": {},
   "outputs": [
    {
     "name": "stdout",
     "output_type": "stream",
     "text": [
      "1.4727752208709717\n"
     ]
    }
   ],
   "source": [
    "df_f1['ATE'] = df_f1['T=1'] - df_f1['T=0']\n",
    "df_f2['ATE'] = df_f2['T=1'] - df_f2['T=0']\n",
    "ATE_FINAL = (df_f1['ATE'].mean() + df_f2['ATE'].mean())/2\n",
    "print(ATE_FINAL)"
   ]
  },
  {
   "cell_type": "code",
   "execution_count": null,
   "id": "23407ffa",
   "metadata": {},
   "outputs": [],
   "source": []
  }
 ],
 "metadata": {
  "kernelspec": {
   "display_name": "Python 3 (ipykernel)",
   "language": "python",
   "name": "python3"
  },
  "language_info": {
   "codemirror_mode": {
    "name": "ipython",
    "version": 3
   },
   "file_extension": ".py",
   "mimetype": "text/x-python",
   "name": "python",
   "nbconvert_exporter": "python",
   "pygments_lexer": "ipython3",
   "version": "3.11.0"
  }
 },
 "nbformat": 4,
 "nbformat_minor": 5
}
