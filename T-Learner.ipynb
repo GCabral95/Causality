{
 "cells": [
  {
   "cell_type": "code",
   "execution_count": 1,
   "id": "6fc07176",
   "metadata": {},
   "outputs": [],
   "source": [
    "import numpy as np\n",
    "import pandas as pd\n",
    "import doubleml as dml\n",
    "from sklearn.linear_model import LogisticRegression\n",
    "from xgboost import XGBClassifier, XGBRegressor\n",
    "from sklearn.model_selection import train_test_split, RandomizedSearchCV\n",
    "import xgboost as xgb\n",
    "import matplotlib.pyplot as plt"
   ]
  },
  {
   "cell_type": "markdown",
   "id": "f1630211",
   "metadata": {},
   "source": [
    "## 1 - Preparando a base"
   ]
  },
  {
   "cell_type": "code",
   "execution_count": 2,
   "id": "814b580f",
   "metadata": {},
   "outputs": [],
   "source": [
    "import numpy as np\n",
    "import pandas as pd\n",
    "\n",
    "# seed para a reproducao\n",
    "np.random.seed(555)\n",
    "\n",
    "# numero de linhas do dataframe\n",
    "n = 10000\n",
    "\n",
    "# Gerando as variáveis confundidoras\n",
    "X1 = np.random.normal(loc=0, scale=1, size=n)\n",
    "X2 = np.random.normal(loc=5, scale=2, size=n)\n",
    "X3 = np.random.choice(['A', 'B'], size=n)\n",
    "\n",
    "# Codificando X3 para variável numérica\n",
    "X3_numeric = np.where(X3 == 'B', 1, 0)\n",
    "\n",
    "# Criando a propensity score\n",
    "logits = (0.2 * X1) - (0.2 * X2) + (1.0 * X3_numeric)\n",
    "propensity = 1 / (1 + np.exp(-logits))\n",
    "\n",
    "# Gerando T\n",
    "T = np.random.binomial(1, propensity)\n",
    "\n",
    "# Ruído\n",
    "noise = np.random.normal(1.5, 4, n)\n",
    "\n",
    "# ----> Y com relação não linear <----\n",
    "Y = (2 \n",
    "     + 3 * np.sqrt(T + 1)               # impacto de T não linear --- ATE = 1.24\n",
    "     + 1.5 * (X1**2)                    # quadrático em X1\n",
    "     - 2 * np.log(np.abs(X2) + 1)        # logaritmo de X2\n",
    "     + 2 * (X3_numeric**2)               # X3_dummy ao quadrado (mas como é 0 ou 1, mantém)\n",
    "     + noise)\n",
    "\n",
    "# Construindo o dataframe\n",
    "df = pd.DataFrame({\n",
    "    'Y': Y,\n",
    "    'T': T,\n",
    "    'X1': X1,\n",
    "    'X2': X2,\n",
    "    'X3': X3\n",
    "})"
   ]
  },
  {
   "cell_type": "code",
   "execution_count": 3,
   "id": "7c12aaae",
   "metadata": {},
   "outputs": [
    {
     "data": {
      "text/html": [
       "<div>\n",
       "<style scoped>\n",
       "    .dataframe tbody tr th:only-of-type {\n",
       "        vertical-align: middle;\n",
       "    }\n",
       "\n",
       "    .dataframe tbody tr th {\n",
       "        vertical-align: top;\n",
       "    }\n",
       "\n",
       "    .dataframe thead th {\n",
       "        text-align: right;\n",
       "    }\n",
       "</style>\n",
       "<table border=\"1\" class=\"dataframe\">\n",
       "  <thead>\n",
       "    <tr style=\"text-align: right;\">\n",
       "      <th></th>\n",
       "      <th>Y</th>\n",
       "      <th>T</th>\n",
       "      <th>X1</th>\n",
       "      <th>X2</th>\n",
       "      <th>X3</th>\n",
       "    </tr>\n",
       "  </thead>\n",
       "  <tbody>\n",
       "    <tr>\n",
       "      <th>0</th>\n",
       "      <td>2.125066</td>\n",
       "      <td>1</td>\n",
       "      <td>0.148227</td>\n",
       "      <td>5.764354</td>\n",
       "      <td>A</td>\n",
       "    </tr>\n",
       "    <tr>\n",
       "      <th>1</th>\n",
       "      <td>10.198400</td>\n",
       "      <td>1</td>\n",
       "      <td>0.353487</td>\n",
       "      <td>3.611086</td>\n",
       "      <td>A</td>\n",
       "    </tr>\n",
       "    <tr>\n",
       "      <th>2</th>\n",
       "      <td>4.168240</td>\n",
       "      <td>1</td>\n",
       "      <td>-1.087250</td>\n",
       "      <td>5.684751</td>\n",
       "      <td>A</td>\n",
       "    </tr>\n",
       "    <tr>\n",
       "      <th>3</th>\n",
       "      <td>0.108358</td>\n",
       "      <td>1</td>\n",
       "      <td>0.247096</td>\n",
       "      <td>8.235536</td>\n",
       "      <td>B</td>\n",
       "    </tr>\n",
       "    <tr>\n",
       "      <th>4</th>\n",
       "      <td>-0.805467</td>\n",
       "      <td>1</td>\n",
       "      <td>-0.156840</td>\n",
       "      <td>5.719679</td>\n",
       "      <td>A</td>\n",
       "    </tr>\n",
       "  </tbody>\n",
       "</table>\n",
       "</div>"
      ],
      "text/plain": [
       "           Y  T        X1        X2 X3\n",
       "0   2.125066  1  0.148227  5.764354  A\n",
       "1  10.198400  1  0.353487  3.611086  A\n",
       "2   4.168240  1 -1.087250  5.684751  A\n",
       "3   0.108358  1  0.247096  8.235536  B\n",
       "4  -0.805467  1 -0.156840  5.719679  A"
      ]
     },
     "execution_count": 3,
     "metadata": {},
     "output_type": "execute_result"
    }
   ],
   "source": [
    "df.head()"
   ]
  },
  {
   "cell_type": "code",
   "execution_count": 4,
   "id": "1a255065",
   "metadata": {},
   "outputs": [],
   "source": [
    "# Transformando a variavel qualitativa via dummie (assumindo B como referencia)\n",
    "dummies = pd.get_dummies(df['X3'], prefix='X3', drop_first=True, dtype=float)\n",
    "\n",
    "# Inserindo a nova variavel no data frame original\n",
    "df = pd.concat([df, dummies], axis=1)"
   ]
  },
  {
   "cell_type": "code",
   "execution_count": 5,
   "id": "62a67a2a",
   "metadata": {},
   "outputs": [
    {
     "data": {
      "text/html": [
       "<div>\n",
       "<style scoped>\n",
       "    .dataframe tbody tr th:only-of-type {\n",
       "        vertical-align: middle;\n",
       "    }\n",
       "\n",
       "    .dataframe tbody tr th {\n",
       "        vertical-align: top;\n",
       "    }\n",
       "\n",
       "    .dataframe thead th {\n",
       "        text-align: right;\n",
       "    }\n",
       "</style>\n",
       "<table border=\"1\" class=\"dataframe\">\n",
       "  <thead>\n",
       "    <tr style=\"text-align: right;\">\n",
       "      <th></th>\n",
       "      <th>Y</th>\n",
       "      <th>T</th>\n",
       "      <th>X1</th>\n",
       "      <th>X2</th>\n",
       "      <th>X3</th>\n",
       "      <th>X3_B</th>\n",
       "    </tr>\n",
       "  </thead>\n",
       "  <tbody>\n",
       "    <tr>\n",
       "      <th>0</th>\n",
       "      <td>2.125066</td>\n",
       "      <td>1</td>\n",
       "      <td>0.148227</td>\n",
       "      <td>5.764354</td>\n",
       "      <td>A</td>\n",
       "      <td>0.0</td>\n",
       "    </tr>\n",
       "    <tr>\n",
       "      <th>1</th>\n",
       "      <td>10.198400</td>\n",
       "      <td>1</td>\n",
       "      <td>0.353487</td>\n",
       "      <td>3.611086</td>\n",
       "      <td>A</td>\n",
       "      <td>0.0</td>\n",
       "    </tr>\n",
       "    <tr>\n",
       "      <th>2</th>\n",
       "      <td>4.168240</td>\n",
       "      <td>1</td>\n",
       "      <td>-1.087250</td>\n",
       "      <td>5.684751</td>\n",
       "      <td>A</td>\n",
       "      <td>0.0</td>\n",
       "    </tr>\n",
       "    <tr>\n",
       "      <th>3</th>\n",
       "      <td>0.108358</td>\n",
       "      <td>1</td>\n",
       "      <td>0.247096</td>\n",
       "      <td>8.235536</td>\n",
       "      <td>B</td>\n",
       "      <td>1.0</td>\n",
       "    </tr>\n",
       "    <tr>\n",
       "      <th>4</th>\n",
       "      <td>-0.805467</td>\n",
       "      <td>1</td>\n",
       "      <td>-0.156840</td>\n",
       "      <td>5.719679</td>\n",
       "      <td>A</td>\n",
       "      <td>0.0</td>\n",
       "    </tr>\n",
       "  </tbody>\n",
       "</table>\n",
       "</div>"
      ],
      "text/plain": [
       "           Y  T        X1        X2 X3  X3_B\n",
       "0   2.125066  1  0.148227  5.764354  A   0.0\n",
       "1  10.198400  1  0.353487  3.611086  A   0.0\n",
       "2   4.168240  1 -1.087250  5.684751  A   0.0\n",
       "3   0.108358  1  0.247096  8.235536  B   1.0\n",
       "4  -0.805467  1 -0.156840  5.719679  A   0.0"
      ]
     },
     "execution_count": 5,
     "metadata": {},
     "output_type": "execute_result"
    }
   ],
   "source": [
    "df.head()"
   ]
  },
  {
   "cell_type": "code",
   "execution_count": 6,
   "id": "11e4d3c4",
   "metadata": {},
   "outputs": [],
   "source": [
    "# Nome das variaveis que serao as confundidoras do modelo\n",
    "features_base = ['X1','X2','X3_B']"
   ]
  },
  {
   "cell_type": "code",
   "execution_count": 7,
   "id": "4fbf6584",
   "metadata": {},
   "outputs": [
    {
     "data": {
      "image/png": "[encoded data removed]",
      "text/plain": [
       "<Figure size 640x480 with 1 Axes>"
      ]
     },
     "metadata": {},
     "output_type": "display_data"
    }
   ],
   "source": [
    "# Visualizacao do DAG\n",
    "import networkx as nx\n",
    "import matplotlib.pyplot as plt\n",
    "\n",
    "# Criar um grafo direcionado\n",
    "G = nx.DiGraph()\n",
    "\n",
    "# Adicionar arestas (de onde -> para onde)\n",
    "G.add_edges_from([\n",
    "    (\"T\", \"Y\"),\n",
    "    (\"X1\", \"Y\"),\n",
    "    (\"X2\", \"Y\"),\n",
    "    (\"X3\", \"Y\"),\n",
    "    (\"X1\", \"T\"),\n",
    "    (\"X2\", \"T\"),\n",
    "    (\"X3\", \"T\"),\n",
    "])\n",
    "\n",
    "# Desenhar o grafo\n",
    "pos = nx.spring_layout(G)  # Layout automático\n",
    "nx.draw(G, pos, with_labels=True, arrows=True, node_size=1000, node_color=\"lightblue\", font_size=12)\n",
    "plt.title(\"DAG do exemplo\")\n",
    "plt.show()"
   ]
  },
  {
   "cell_type": "markdown",
   "id": "a74104df",
   "metadata": {},
   "source": [
    "## 2 - Verificando o pressuposto da positividade"
   ]
  },
  {
   "cell_type": "code",
   "execution_count": 8,
   "id": "751de2e6",
   "metadata": {},
   "outputs": [],
   "source": [
    "# Para evitar o overfitting no calculo do propensity score, vamos separar a base em duas, assim, treinaremos dois modelos\n",
    "np.random.seed(42)\n",
    "df1 = df.sample(frac = 0.5)\n",
    "df2 = df.drop(df1.index)"
   ]
  },
  {
   "cell_type": "code",
   "execution_count": 9,
   "id": "1eab458c",
   "metadata": {},
   "outputs": [],
   "source": [
    "from sklearn.linear_model import LogisticRegression\n",
    "# Vamos fazer duas regressoes logisticas para estimar os propensity scores, cada uma vai ser treinada em metade da base\n",
    "logit1 = LogisticRegression()\n",
    "logit2 = LogisticRegression()\n",
    "\n",
    "# Treinando os modelos em cada parte da base, prevendo T com base nas variaveis confundidoras (X)\n",
    "logit1.fit(df1[['X1', 'X2', 'X3_B']], df1['T'])\n",
    "logit2.fit(df2[['X1', 'X2', 'X3_B']], df2['T'])\n",
    "\n",
    "\n",
    "# O modelo treinado na base 1 vai ser usado para calcular o score na base 2\n",
    "# O modelo treinado na base 2 vai ser usado para calcular o score na base 1\n",
    "df1['propensity_score'] = logit2.predict_proba(df1[['X1', 'X2', 'X3_B']])[:, 1]\n",
    "df2['propensity_score'] = logit1.predict_proba(df2[['X1', 'X2', 'X3_B']])[:, 1]\n",
    "\n",
    "# juntando as bases novamente\n",
    "df_f = pd.concat([df1,df2])"
   ]
  },
  {
   "cell_type": "code",
   "execution_count": 10,
   "id": "8d6ffede",
   "metadata": {},
   "outputs": [
    {
     "data": {
      "text/html": [
       "<div>\n",
       "<style scoped>\n",
       "    .dataframe tbody tr th:only-of-type {\n",
       "        vertical-align: middle;\n",
       "    }\n",
       "\n",
       "    .dataframe tbody tr th {\n",
       "        vertical-align: top;\n",
       "    }\n",
       "\n",
       "    .dataframe thead th {\n",
       "        text-align: right;\n",
       "    }\n",
       "</style>\n",
       "<table border=\"1\" class=\"dataframe\">\n",
       "  <thead>\n",
       "    <tr style=\"text-align: right;\">\n",
       "      <th></th>\n",
       "      <th>Y</th>\n",
       "      <th>T</th>\n",
       "      <th>X1</th>\n",
       "      <th>X2</th>\n",
       "      <th>X3</th>\n",
       "      <th>X3_B</th>\n",
       "      <th>propensity_score</th>\n",
       "    </tr>\n",
       "  </thead>\n",
       "  <tbody>\n",
       "    <tr>\n",
       "      <th>6252</th>\n",
       "      <td>6.245912</td>\n",
       "      <td>0</td>\n",
       "      <td>-1.282448</td>\n",
       "      <td>1.063122</td>\n",
       "      <td>B</td>\n",
       "      <td>1.0</td>\n",
       "      <td>0.631678</td>\n",
       "    </tr>\n",
       "    <tr>\n",
       "      <th>4684</th>\n",
       "      <td>5.169191</td>\n",
       "      <td>0</td>\n",
       "      <td>0.020394</td>\n",
       "      <td>3.072690</td>\n",
       "      <td>A</td>\n",
       "      <td>0.0</td>\n",
       "      <td>0.351474</td>\n",
       "    </tr>\n",
       "    <tr>\n",
       "      <th>1731</th>\n",
       "      <td>11.470787</td>\n",
       "      <td>1</td>\n",
       "      <td>1.194059</td>\n",
       "      <td>4.055988</td>\n",
       "      <td>B</td>\n",
       "      <td>1.0</td>\n",
       "      <td>0.622431</td>\n",
       "    </tr>\n",
       "    <tr>\n",
       "      <th>4742</th>\n",
       "      <td>3.844062</td>\n",
       "      <td>0</td>\n",
       "      <td>0.114715</td>\n",
       "      <td>5.565521</td>\n",
       "      <td>A</td>\n",
       "      <td>0.0</td>\n",
       "      <td>0.245794</td>\n",
       "    </tr>\n",
       "    <tr>\n",
       "      <th>4521</th>\n",
       "      <td>9.114045</td>\n",
       "      <td>0</td>\n",
       "      <td>1.181729</td>\n",
       "      <td>5.446279</td>\n",
       "      <td>B</td>\n",
       "      <td>1.0</td>\n",
       "      <td>0.549965</td>\n",
       "    </tr>\n",
       "  </tbody>\n",
       "</table>\n",
       "</div>"
      ],
      "text/plain": [
       "              Y  T        X1        X2 X3  X3_B  propensity_score\n",
       "6252   6.245912  0 -1.282448  1.063122  B   1.0          0.631678\n",
       "4684   5.169191  0  0.020394  3.072690  A   0.0          0.351474\n",
       "1731  11.470787  1  1.194059  4.055988  B   1.0          0.622431\n",
       "4742   3.844062  0  0.114715  5.565521  A   0.0          0.245794\n",
       "4521   9.114045  0  1.181729  5.446279  B   1.0          0.549965"
      ]
     },
     "execution_count": 10,
     "metadata": {},
     "output_type": "execute_result"
    }
   ],
   "source": [
    "df_f.head()"
   ]
  },
  {
   "cell_type": "code",
   "execution_count": 11,
   "id": "7df7cb2f",
   "metadata": {},
   "outputs": [
    {
     "data": {
      "image/png": "[encoded data removed]",
      "text/plain": [
       "<Figure size 640x480 with 1 Axes>"
      ]
     },
     "metadata": {},
     "output_type": "display_data"
    }
   ],
   "source": [
    "import matplotlib.pyplot as plt\n",
    "# Visualizando se temos unidades de controle e tratamento nas mesmas faixas do propensity score (Pressuposto da Positividade)\n",
    "plt.hist(df_f[df_f['T'] == 0]['propensity_score'], label = 'Controle', alpha = 0.5)\n",
    "plt.hist(df_f[df_f['T'] == 1]['propensity_score'], label = 'Tratamento', alpha = 0.5)\n",
    "plt.legend()\n",
    "plt.show()"
   ]
  },
  {
   "cell_type": "markdown",
   "id": "adcb86e8",
   "metadata": {},
   "source": [
    "## 3 - Verificando equilibrio entre as variaveis X dos grupos controle e tratamento (SMD)"
   ]
  },
  {
   "cell_type": "code",
   "execution_count": 12,
   "id": "986b341b",
   "metadata": {},
   "outputs": [
    {
     "name": "stdout",
     "output_type": "stream",
     "text": [
      "📋 Relatório de Balanceamento:\n",
      "         SMD\n",
      "X3  0.225236\n",
      "X1  0.202327\n",
      "X2 -0.407831\n"
     ]
    }
   ],
   "source": [
    "# Função para SMD contínuas\n",
    "def compute_smd_continuous(x, t):\n",
    "    treated = x[t == 1]\n",
    "    control = x[t == 0]\n",
    "    mean_diff = treated.mean() - control.mean()\n",
    "    pooled_std = np.sqrt((np.var(treated, ddof=1) + np.var(control, ddof=1)) / 2)\n",
    "    return mean_diff / pooled_std\n",
    "\n",
    "# Função para SMD categóricas\n",
    "def compute_smd_categorical(x, t):\n",
    "    treated = pd.crosstab(index=t, columns=x, normalize='index').loc[1]\n",
    "    control = pd.crosstab(index=t, columns=x, normalize='index').loc[0]\n",
    "    smd = np.sum(np.abs(treated - control)) / 2\n",
    "    return smd\n",
    "\n",
    "# Identificando variáveis contínuas e categóricas\n",
    "continuous_vars = ['X1','X2']\n",
    "categorical_vars = ['X3']\n",
    "\n",
    "# Calculando SMDs\n",
    "smd_results = {}\n",
    "\n",
    "for col in continuous_vars:\n",
    "    smd = compute_smd_continuous(df[col], df['T'])\n",
    "    smd_results[col] = smd\n",
    "\n",
    "for col in categorical_vars:\n",
    "    smd = compute_smd_categorical(df[col], df['T'])\n",
    "    smd_results[col] = smd\n",
    "\n",
    "# Criar DataFrame de SMDs\n",
    "smd_df = pd.DataFrame.from_dict(smd_results, orient='index', columns=['SMD'])\n",
    "smd_df = smd_df.sort_values(by='SMD', ascending=False)\n",
    "\n",
    "print(\"📋 Relatório de Balanceamento:\")\n",
    "print(smd_df)"
   ]
  },
  {
   "cell_type": "markdown",
   "id": "0a8f4ce7",
   "metadata": {},
   "source": [
    "## 4 - Verificando o resultado de uma regressao linear Y ~ T"
   ]
  },
  {
   "cell_type": "code",
   "execution_count": 13,
   "id": "25e0636d",
   "metadata": {},
   "outputs": [],
   "source": [
    "import statsmodels.api as sm"
   ]
  },
  {
   "cell_type": "code",
   "execution_count": 14,
   "id": "507410db",
   "metadata": {},
   "outputs": [
    {
     "name": "stdout",
     "output_type": "stream",
     "text": [
      "                            OLS Regression Results                            \n",
      "==============================================================================\n",
      "Dep. Variable:                      Y   R-squared:                       0.040\n",
      "Model:                            OLS   Adj. R-squared:                  0.039\n",
      "Method:                 Least Squares   F-statistic:                     412.0\n",
      "Date:                Sat, 19 Apr 2025   Prob (F-statistic):           8.37e-90\n",
      "Time:                        00:08:03   Log-Likelihood:                -29619.\n",
      "No. Observations:               10000   AIC:                         5.924e+04\n",
      "Df Residuals:                    9998   BIC:                         5.926e+04\n",
      "Df Model:                           1                                         \n",
      "Covariance Type:            nonrobust                                         \n",
      "==============================================================================\n",
      "                 coef    std err          t      P>|t|      [0.025      0.975]\n",
      "------------------------------------------------------------------------------\n",
      "const          5.3250      0.060     88.752      0.000       5.207       5.443\n",
      "T              1.9455      0.096     20.299      0.000       1.758       2.133\n",
      "==============================================================================\n",
      "Omnibus:                       96.221   Durbin-Watson:                   1.981\n",
      "Prob(Omnibus):                  0.000   Jarque-Bera (JB):              104.726\n",
      "Skew:                           0.207   Prob(JB):                     1.82e-23\n",
      "Kurtosis:                       3.282   Cond. No.                         2.44\n",
      "==============================================================================\n",
      "\n",
      "Notes:\n",
      "[1] Standard Errors assume that the covariance matrix of the errors is correctly specified.\n"
     ]
    }
   ],
   "source": [
    "X = df[['T']]\n",
    "y = df[['Y']]\n",
    "# Adicionar constante\n",
    "X_const = sm.add_constant(X)\n",
    "\n",
    "# Ajustar modelo\n",
    "model = sm.OLS(y, X_const)\n",
    "results = model.fit()\n",
    "\n",
    "# Exibir o resumo completo\n",
    "print(results.summary())\n",
    "\n",
    "#O impacto de T [1.758;2.133] não contem o valor especificado na funcao geradora dos dados (ATE = 1.24)"
   ]
  },
  {
   "cell_type": "markdown",
   "id": "c0489975",
   "metadata": {},
   "source": [
    "## 5.1 - Dividindo a base em dois para o cross-fitting (DF1 e DF2)"
   ]
  },
  {
   "cell_type": "code",
   "execution_count": 15,
   "id": "46870d2a",
   "metadata": {},
   "outputs": [],
   "source": [
    "from sklearn.model_selection import train_test_split\n",
    "\n",
    "# Split das bases, estratificando por T, garantindo proporcoes parecidas em ambas bases\n",
    "df_f1, df_f2 = train_test_split(\n",
    "    df_f,\n",
    "    test_size=0.5,\n",
    "    random_state=42,    \n",
    "    stratify=df_f['T']   \n",
    ")"
   ]
  },
  {
   "cell_type": "markdown",
   "id": "7599cb48",
   "metadata": {},
   "source": [
    "## 5.2 - Modelo em DF1 e T=1"
   ]
  },
  {
   "cell_type": "code",
   "execution_count": 16,
   "id": "57ef984a",
   "metadata": {},
   "outputs": [
    {
     "name": "stdout",
     "output_type": "stream",
     "text": [
      "3.222104073201669\n",
      "0.1775842979018316\n"
     ]
    }
   ],
   "source": [
    "import xgboost as xgb\n",
    "from sklearn.model_selection import train_test_split, RandomizedSearchCV\n",
    "from sklearn.metrics import mean_absolute_error, r2_score\n",
    "\n",
    "# Ajustando o modelo de XGBoost para a base DF1 e T = 1\n",
    "\n",
    "df_f1_T1 = df_f1[df_f1['T'] == 1]\n",
    "df_f1_T1_X = df_f1_T1[['X1','X2','X3_B']]\n",
    "df_f1_T1_Y = df_f1_T1['Y']\n",
    "\n",
    "df_f1_T1_X_train, df_f1_T1_X_test, df_f1_T1_Y_train, df_f1_T1_Y_test = train_test_split(df_f1_T1_X,df_f1_T1_Y, \n",
    "                                                                                        test_size=0.3, random_state = 42)\n",
    "param_dist = {\n",
    "    'max_depth':        [3, 5, 7, 10, 15],\n",
    "    'learning_rate':    [0.01, 0.05, 0.1, 0.3, 0.5],\n",
    "    'subsample':        [0.2, 0.4, 0.6, 0.8, 1.0],\n",
    "    'colsample_bytree': [0.2, 0.4, 0.6, 0.8, 1.0],\n",
    "    'reg_alpha':        [0, 0.01, 0.05, 0.1, 0.5],\n",
    "    'reg_lambda':       [0, 0.01, 0.05, 0.1, 0.5]\n",
    "}\n",
    "\n",
    "xgb_df_f1_T1 = RandomizedSearchCV(\n",
    "    estimator=xgb.XGBRegressor(\n",
    "        n_estimators=250,\n",
    "        objective=\"reg:squarederror\",\n",
    "        random_state=61658\n",
    "    ),\n",
    "    param_distributions=param_dist,\n",
    "    n_iter=100,                    # testa 100 combinações aleatórias\n",
    "    cv=5,\n",
    "    scoring='neg_mean_absolute_error',\n",
    "    random_state=61658,\n",
    "    n_jobs=-1                     # usa todos os núcleos disponíveis\n",
    ")\n",
    "\n",
    "xgb_df_f1_T1.fit(df_f1_T1_X_train,df_f1_T1_Y_train)\n",
    "\n",
    "from sklearn.metrics import mean_absolute_error\n",
    "from sklearn.metrics import r2_score\n",
    "\n",
    "print(mean_absolute_error(df_f1_T1_Y_test, xgb_df_f1_T1.predict(df_f1_T1_X_test))) #\n",
    "print(r2_score(df_f1_T1_Y_test, xgb_df_f1_T1.predict(df_f1_T1_X_test))) #"
   ]
  },
  {
   "cell_type": "markdown",
   "id": "91e9a885",
   "metadata": {},
   "source": [
    "## 5.3 - Modelo em DF1 e T=0"
   ]
  },
  {
   "cell_type": "code",
   "execution_count": 17,
   "id": "a5c240dd",
   "metadata": {},
   "outputs": [
    {
     "name": "stdout",
     "output_type": "stream",
     "text": [
      "3.2510366159385087\n",
      "0.2711293849351497\n"
     ]
    }
   ],
   "source": [
    "import xgboost as xgb\n",
    "from sklearn.model_selection import GridSearchCV\n",
    "\n",
    "# Ajustando o modelo de XGBoost para a base DF1 e T = 0\n",
    "\n",
    "df_f1_T0 = df_f1[df_f1['T'] == 0]\n",
    "df_f1_T0_X = df_f1_T0[['X1','X2','X3_B']]\n",
    "df_f1_T0_Y = df_f1_T0['Y']\n",
    "\n",
    "df_f1_T0_X_train, df_f1_T0_X_test, df_f1_T0_Y_train, df_f1_T0_Y_test = train_test_split(df_f1_T0_X,df_f1_T0_Y, \n",
    "                                                                                        test_size=0.3, random_state = 42)\n",
    "param_dist = {\n",
    "    'max_depth':        [3, 5, 7, 10, 15],\n",
    "    'learning_rate':    [0.01, 0.05, 0.1, 0.3, 0.5],\n",
    "    'subsample':        [0.2, 0.4, 0.6, 0.8, 1.0],\n",
    "    'colsample_bytree': [0.2, 0.4, 0.6, 0.8, 1.0],\n",
    "    'reg_alpha':        [0, 0.01, 0.05, 0.1, 0.5],\n",
    "    'reg_lambda':       [0, 0.01, 0.05, 0.1, 0.5]\n",
    "}\n",
    "\n",
    "xgb_df_f1_T0 = RandomizedSearchCV(\n",
    "    estimator=xgb.XGBRegressor(\n",
    "        n_estimators=250,\n",
    "        objective=\"reg:squarederror\",\n",
    "        random_state=61658\n",
    "    ),\n",
    "    param_distributions=param_dist,\n",
    "    n_iter=100,                    # testa 100 combinações aleatórias\n",
    "    cv=5,\n",
    "    scoring='neg_mean_absolute_error',\n",
    "    random_state=61658,\n",
    "    n_jobs=-1                     # usa todos os núcleos disponíveis\n",
    ")\n",
    "\n",
    "xgb_df_f1_T0.fit(df_f1_T0_X_train,df_f1_T0_Y_train)\n",
    "\n",
    "from sklearn.metrics import mean_absolute_error\n",
    "from sklearn.metrics import r2_score\n",
    "\n",
    "print(mean_absolute_error(df_f1_T0_Y_test, xgb_df_f1_T0.predict(df_f1_T0_X_test))) #\n",
    "print(r2_score(df_f1_T0_Y_test, xgb_df_f1_T0.predict(df_f1_T0_X_test))) #"
   ]
  },
  {
   "cell_type": "markdown",
   "id": "36b894a7",
   "metadata": {},
   "source": [
    "## 5.4 - Modelo em DF2 e T=1"
   ]
  },
  {
   "cell_type": "code",
   "execution_count": 18,
   "id": "59239ae2",
   "metadata": {},
   "outputs": [
    {
     "name": "stdout",
     "output_type": "stream",
     "text": [
      "3.1728145826151226\n",
      "0.23182088032806625\n"
     ]
    }
   ],
   "source": [
    "import xgboost as xgb\n",
    "from sklearn.model_selection import GridSearchCV\n",
    "\n",
    "# Ajustando o modelo de XGBoost para a base DF2 e T = 1\n",
    "\n",
    "df_f2_T1 = df_f2[df_f2['T'] == 1]\n",
    "df_f2_T1_X = df_f2_T1[['X1','X2','X3_B']]\n",
    "df_f2_T1_Y = df_f2_T1['Y']\n",
    "\n",
    "df_f2_T1_X_train, df_f2_T1_X_test, df_f2_T1_Y_train, df_f2_T1_Y_test = train_test_split(df_f2_T1_X,df_f2_T1_Y, \n",
    "                                                                                        test_size=0.3, random_state = 42)\n",
    "param_dist = {\n",
    "    'max_depth':        [3, 5, 7, 10, 15],\n",
    "    'learning_rate':    [0.01, 0.05, 0.1, 0.3, 0.5],\n",
    "    'subsample':        [0.2, 0.4, 0.6, 0.8, 1.0],\n",
    "    'colsample_bytree': [0.2, 0.4, 0.6, 0.8, 1.0],\n",
    "    'reg_alpha':        [0, 0.01, 0.05, 0.1, 0.5],\n",
    "    'reg_lambda':       [0, 0.01, 0.05, 0.1, 0.5]\n",
    "}\n",
    "\n",
    "xgb_df_f2_T1 = RandomizedSearchCV(\n",
    "    estimator=xgb.XGBRegressor(\n",
    "        n_estimators=250,\n",
    "        objective=\"reg:squarederror\",\n",
    "        random_state=61658\n",
    "    ),\n",
    "    param_distributions=param_dist,\n",
    "    n_iter=100,                    # testa 100 combinações aleatórias\n",
    "    cv=5,\n",
    "    scoring='neg_mean_absolute_error',\n",
    "    random_state=61658,\n",
    "    n_jobs=-1                     # usa todos os núcleos disponíveis\n",
    ")\n",
    "\n",
    "xgb_df_f2_T1.fit(df_f2_T1_X_train,df_f2_T1_Y_train)\n",
    "\n",
    "from sklearn.metrics import mean_absolute_error\n",
    "from sklearn.metrics import r2_score\n",
    "\n",
    "print(mean_absolute_error(df_f2_T1_Y_test, xgb_df_f2_T1.predict(df_f2_T1_X_test))) #\n",
    "print(r2_score(df_f2_T1_Y_test, xgb_df_f2_T1.predict(df_f2_T1_X_test))) #"
   ]
  },
  {
   "cell_type": "markdown",
   "id": "fce03d66",
   "metadata": {},
   "source": [
    "## 5.5 - Modelo em DF2 e T=0"
   ]
  },
  {
   "cell_type": "code",
   "execution_count": 19,
   "id": "52133cbb",
   "metadata": {},
   "outputs": [
    {
     "name": "stdout",
     "output_type": "stream",
     "text": [
      "3.154729232043786\n",
      "0.20825801148699685\n"
     ]
    }
   ],
   "source": [
    "import xgboost as xgb\n",
    "from sklearn.model_selection import GridSearchCV\n",
    "\n",
    "# Ajustando o modelo de XGBoost para a base DF2 e T = 0\n",
    "\n",
    "df_f2_T0 = df_f2[df_f2['T'] == 0]\n",
    "df_f2_T0_X = df_f2_T0[['X1','X2','X3_B']]\n",
    "df_f2_T0_Y = df_f2_T0['Y']\n",
    "\n",
    "df_f2_T0_X_train, df_f2_T0_X_test, df_f2_T0_Y_train, df_f2_T0_Y_test = train_test_split(df_f2_T0_X,df_f2_T0_Y, \n",
    "                                                                                        test_size=0.3, random_state = 42)\n",
    "param_dist = {\n",
    "    'max_depth':        [3, 5, 7, 10, 15],\n",
    "    'learning_rate':    [0.01, 0.05, 0.1, 0.3, 0.5],\n",
    "    'subsample':        [0.2, 0.4, 0.6, 0.8, 1.0],\n",
    "    'colsample_bytree': [0.2, 0.4, 0.6, 0.8, 1.0],\n",
    "    'reg_alpha':        [0, 0.01, 0.05, 0.1, 0.5],\n",
    "    'reg_lambda':       [0, 0.01, 0.05, 0.1, 0.5]\n",
    "}\n",
    "\n",
    "xgb_df_f2_T0 = RandomizedSearchCV(\n",
    "    estimator=xgb.XGBRegressor(\n",
    "        n_estimators=250,\n",
    "        objective=\"reg:squarederror\",\n",
    "        random_state=61658\n",
    "    ),\n",
    "    param_distributions=param_dist,\n",
    "    n_iter=100,                    # testa 100 combinações aleatórias\n",
    "    cv=5,\n",
    "    scoring='neg_mean_absolute_error',\n",
    "    random_state=61658,\n",
    "    n_jobs=-1                     # usa todos os núcleos disponíveis\n",
    ")\n",
    "\n",
    "xgb_df_f2_T0.fit(df_f2_T0_X_train,df_f2_T0_Y_train)\n",
    "\n",
    "from sklearn.metrics import mean_absolute_error\n",
    "from sklearn.metrics import r2_score\n",
    "\n",
    "print(mean_absolute_error(df_f2_T0_Y_test, xgb_df_f2_T0.predict(df_f2_T0_X_test))) #\n",
    "print(r2_score(df_f2_T0_Y_test, xgb_df_f2_T0.predict(df_f2_T0_X_test))) #"
   ]
  },
  {
   "cell_type": "markdown",
   "id": "974590ca",
   "metadata": {},
   "source": [
    "## 5.6 - Predição de T = 0 e T = 1 em ambas bases"
   ]
  },
  {
   "cell_type": "code",
   "execution_count": 20,
   "id": "b7c57bef",
   "metadata": {},
   "outputs": [],
   "source": [
    "df_f1['T=1'] = xgb_df_f2_T1.predict(df_f1[['X1','X2','X3_B']]) #usar modelo de df2 para prever em df1\n",
    "df_f1['T=0'] = xgb_df_f2_T0.predict(df_f1[['X1','X2','X3_B']]) #usar modelo de df2 para prever em df1\n",
    "df_f2['T=1'] = xgb_df_f1_T1.predict(df_f2[['X1','X2','X3_B']]) #usar modelo de df1 para prever em df2\n",
    "df_f2['T=0'] = xgb_df_f1_T0.predict(df_f2[['X1','X2','X3_B']]) #usar modelo de df1 para prever em df2"
   ]
  },
  {
   "cell_type": "markdown",
   "id": "0513d50f",
   "metadata": {},
   "source": [
    "## 6 - Calculo do ATE"
   ]
  },
  {
   "cell_type": "code",
   "execution_count": 21,
   "id": "11a911c5",
   "metadata": {},
   "outputs": [
    {
     "name": "stdout",
     "output_type": "stream",
     "text": [
      "1.1272227764129639\n"
     ]
    }
   ],
   "source": [
    "df_f1['ATE'] = df_f1['T=1'] - df_f1['T=0']\n",
    "df_f2['ATE'] = df_f2['T=1'] - df_f2['T=0']\n",
    "ATE_FINAL = (df_f1['ATE'].mean() + df_f2['ATE'].mean())/2\n",
    "print(ATE_FINAL)"
   ]
  },
  {
   "cell_type": "markdown",
   "id": "5064334c",
   "metadata": {},
   "source": [
    "## 7 - Bootstrapping"
   ]
  },
  {
   "cell_type": "code",
   "execution_count": 22,
   "id": "9c95a7fd",
   "metadata": {},
   "outputs": [],
   "source": [
    "from sklearn.model_selection import train_test_split, RandomizedSearchCV\n",
    "\n",
    "def bootstrapping_t_learner(n_boots):\n",
    "    ATEs = []\n",
    "    X_cols = ['X1','X2','X3_B']\n",
    "    param_dist = {\n",
    "        'max_depth':        [3, 5, 7, 10, 15],\n",
    "        'learning_rate':    [0.01, 0.05, 0.1, 0.3, 0.5],\n",
    "        'subsample':        [0.2, 0.4, 0.6, 0.8, 1.0],\n",
    "        'colsample_bytree': [0.2, 0.4, 0.6, 0.8, 1.0],\n",
    "        'reg_alpha':        [0, 0.01, 0.05, 0.1, 0.5],\n",
    "        'reg_lambda':       [0, 0.01, 0.05, 0.1, 0.5]\n",
    "    }\n",
    "\n",
    "    for i in range(n_boots):\n",
    "        # 1) cria a amostra com reposicao\n",
    "        df_boot = df_f.sample(n=len(df_f), replace=True, random_state=42 + i)\n",
    "\n",
    "        # 2) faz o cross‑fitting sobre df_boot\n",
    "        df_f1, df_f2 = train_test_split(df_boot,\n",
    "                                        test_size=0.5,\n",
    "                                        stratify=df_boot['T'],\n",
    "                                        random_state=42 + i)\n",
    "\n",
    "        # 3) treina os dois modelos em df_f1 (T=1 e T=0)\n",
    "        # --- modelo para T=1 em df_f1\n",
    "        df1_T1 = df_f1[df_f1['T']==1]\n",
    "        xgb_df_f1_T1 = RandomizedSearchCV(xgb.XGBRegressor(n_estimators=250,\n",
    "                                                  objective=\"reg:squarederror\"),\n",
    "                                 param_distributions=param_dist,\n",
    "                                 n_iter=50,\n",
    "                                 cv=5,\n",
    "                                 scoring='neg_mean_absolute_error',\n",
    "                                 n_jobs=-1,\n",
    "                                 random_state=42 + i)\n",
    "        xgb_df_f1_T1.fit(df1_T1[X_cols], df1_T1['Y'])\n",
    "\n",
    "        # --- modelo para T=0 em df_f1\n",
    "        df1_T0 = df_f1[df_f1['T']==0]\n",
    "        xgb_df_f1_T0 = RandomizedSearchCV(xgb.XGBRegressor(n_estimators=250,\n",
    "                                                  objective=\"reg:squarederror\"),\n",
    "                                 param_distributions=param_dist,\n",
    "                                 n_iter=50,\n",
    "                                 cv=5,\n",
    "                                 scoring='neg_mean_absolute_error',\n",
    "                                 n_jobs=-1,\n",
    "                                 random_state=42 + i)\n",
    "        xgb_df_f1_T0.fit(df1_T0[X_cols], df1_T0['Y'])\n",
    "        \n",
    "        # 4) treina os dois modelos em df_f2 (T=1 e T=0)\n",
    "        # --- modelo para T=1 em df_f2\n",
    "        df2_T1 = df_f2[df_f2['T']==1]\n",
    "        xgb_df_f2_T1 = RandomizedSearchCV(xgb.XGBRegressor(n_estimators=250,\n",
    "                                                  objective=\"reg:squarederror\"),\n",
    "                                 param_distributions=param_dist,\n",
    "                                 n_iter=50,\n",
    "                                 cv=5,\n",
    "                                 scoring='neg_mean_absolute_error',\n",
    "                                 n_jobs=-1,\n",
    "                                 random_state=42 + i)\n",
    "        xgb_df_f2_T1.fit(df2_T1[X_cols], df2_T1['Y'])\n",
    "\n",
    "        # --- modelo para T=0 em df_f2\n",
    "        df2_T0 = df_f2[df_f2['T']==0]\n",
    "        xgb_df_f2_T0 = RandomizedSearchCV(xgb.XGBRegressor(n_estimators=250,\n",
    "                                                  objective=\"reg:squarederror\"),\n",
    "                                 param_distributions=param_dist,\n",
    "                                 n_iter=50,\n",
    "                                 cv=5,\n",
    "                                 scoring='neg_mean_absolute_error',\n",
    "                                 n_jobs=-1,\n",
    "                                 random_state=42 + i)\n",
    "        xgb_df_f2_T0.fit(df2_T0[X_cols], df2_T0['Y'])\n",
    "        \n",
    "\n",
    "        # 5) \n",
    "        df_f1['T=1'] = xgb_df_f2_T1.predict(df_f1[['X1','X2','X3_B']])\n",
    "        df_f1['T=0'] = xgb_df_f2_T0.predict(df_f1[['X1','X2','X3_B']])\n",
    "        df_f2['T=1'] = xgb_df_f1_T1.predict(df_f2[['X1','X2','X3_B']])\n",
    "        df_f2['T=0'] = xgb_df_f1_T0.predict(df_f2[['X1','X2','X3_B']])\n",
    "        df_f1['ATE'] = df_f1['T=1'] - df_f1['T=0']\n",
    "        df_f2['ATE'] = df_f2['T=1'] - df_f2['T=0']\n",
    "        ate_i = (df_f1['ATE'].mean() + df_f2['ATE'].mean())/2\n",
    "        ATEs.append(ate_i)\n",
    "        print(f\"Bootstrap {i+1}/{n_boots}\")\n",
    "        \n",
    "    # 6) só aqui retornamos a lista completa\n",
    "    return ATEs"
   ]
  },
  {
   "cell_type": "code",
   "execution_count": 23,
   "id": "9802f8ab",
   "metadata": {},
   "outputs": [
    {
     "name": "stdout",
     "output_type": "stream",
     "text": [
      "Bootstrap 1/50\n",
      "Bootstrap 2/50\n",
      "Bootstrap 3/50\n",
      "Bootstrap 4/50\n",
      "Bootstrap 5/50\n",
      "Bootstrap 6/50\n",
      "Bootstrap 7/50\n",
      "Bootstrap 8/50\n",
      "Bootstrap 9/50\n",
      "Bootstrap 10/50\n",
      "Bootstrap 11/50\n",
      "Bootstrap 12/50\n",
      "Bootstrap 13/50\n",
      "Bootstrap 14/50\n",
      "Bootstrap 15/50\n",
      "Bootstrap 16/50\n",
      "Bootstrap 17/50\n",
      "Bootstrap 18/50\n",
      "Bootstrap 19/50\n",
      "Bootstrap 20/50\n",
      "Bootstrap 21/50\n",
      "Bootstrap 22/50\n",
      "Bootstrap 23/50\n",
      "Bootstrap 24/50\n",
      "Bootstrap 25/50\n",
      "Bootstrap 26/50\n",
      "Bootstrap 27/50\n",
      "Bootstrap 28/50\n",
      "Bootstrap 29/50\n",
      "Bootstrap 30/50\n",
      "Bootstrap 31/50\n",
      "Bootstrap 32/50\n",
      "Bootstrap 33/50\n",
      "Bootstrap 34/50\n",
      "Bootstrap 35/50\n",
      "Bootstrap 36/50\n",
      "Bootstrap 37/50\n",
      "Bootstrap 38/50\n",
      "Bootstrap 39/50\n",
      "Bootstrap 40/50\n",
      "Bootstrap 41/50\n",
      "Bootstrap 42/50\n",
      "Bootstrap 43/50\n",
      "Bootstrap 44/50\n",
      "Bootstrap 45/50\n",
      "Bootstrap 46/50\n",
      "Bootstrap 47/50\n",
      "Bootstrap 48/50\n",
      "Bootstrap 49/50\n",
      "Bootstrap 50/50\n",
      "ATEs obtidos nos boots: [1.1709766387939453, 1.351053237915039, 1.3730888366699219, 1.0890936851501465, 1.250816822052002, 1.1104084253311157, 1.3080196380615234, 1.4017939567565918, 1.2641758918762207, 1.0862915515899658, 1.2656846046447754, 1.3954713344573975, 1.47761869430542, 1.2496628761291504, 1.1904733180999756, 1.1438884735107422, 1.0492570400238037, 1.2092890739440918, 1.1467238664627075, 1.2893116474151611, 1.0891993045806885, 1.0963702201843262, 1.1884335279464722, 1.1873407363891602, 0.9604810476303101, 1.2963082790374756, 1.1008167266845703, 1.174288034439087, 1.2369173765182495, 1.3274641036987305, 1.2229952812194824, 1.3727850914001465, 1.1363898515701294, 1.15398371219635, 1.1358264684677124, 1.338858723640442, 1.4053864479064941, 0.9965211153030396, 1.3994824886322021, 1.567979335784912, 1.2821359634399414, 1.459934949874878, 1.4170880317687988, 1.1504805088043213, 1.2015048265457153, 1.1310510635375977, 1.1962008476257324, 1.0263274908065796, 1.3441697359085083, 1.1899583339691162]\n"
     ]
    }
   ],
   "source": [
    "ates = bootstrapping_t_learner(50)\n",
    "print(\"ATEs obtidos nos boots:\", ates)"
   ]
  },
  {
   "cell_type": "code",
   "execution_count": 28,
   "id": "22bfa490",
   "metadata": {},
   "outputs": [
    {
     "data": {
      "text/plain": [
       "(array([ 2.,  2.,  9., 12.,  6.,  5.,  6.,  5.,  2.,  1.]),\n",
       " array([0.96048105, 1.02123088, 1.08198071, 1.14273053, 1.20348036,\n",
       "        1.26423019, 1.32498002, 1.38572985, 1.44647968, 1.50722951,\n",
       "        1.56797934]),\n",
       " <BarContainer object of 10 artists>)"
      ]
     },
     "execution_count": 28,
     "metadata": {},
     "output_type": "execute_result"
    },
    {
     "data": {
      "image/png": "[encoded data removed]",
      "text/plain": [
       "<Figure size 640x480 with 1 Axes>"
      ]
     },
     "metadata": {},
     "output_type": "display_data"
    }
   ],
   "source": [
    "plt.hist(ates, bins=10)"
   ]
  },
  {
   "cell_type": "code",
   "execution_count": null,
   "id": "197a9dc1",
   "metadata": {},
   "outputs": [],
   "source": []
  }
 ],
 "metadata": {
  "kernelspec": {
   "display_name": "Python 3 (ipykernel)",
   "language": "python",
   "name": "python3"
  },
  "language_info": {
   "codemirror_mode": {
    "name": "ipython",
    "version": 3
   },
   "file_extension": ".py",
   "mimetype": "text/x-python",
   "name": "python",
   "nbconvert_exporter": "python",
   "pygments_lexer": "ipython3",
   "version": "3.11.0"
  }
 },
 "nbformat": 4,
 "nbformat_minor": 5
}
