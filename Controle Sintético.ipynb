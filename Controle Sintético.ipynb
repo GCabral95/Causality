{
 "cells": [
  {
   "cell_type": "code",
   "execution_count": 13,
   "id": "a1f8fe9f",
   "metadata": {},
   "outputs": [
    {
     "name": "stdout",
     "output_type": "stream",
     "text": [
      "Collecting cvxpy\n",
      "  Downloading cvxpy-1.5.1-cp311-cp311-win_amd64.whl (1.1 MB)\n",
      "     ---------------------------------------- 1.1/1.1 MB 3.5 MB/s eta 0:00:00\n",
      "Collecting osqp>=0.6.2 (from cvxpy)\n",
      "  Downloading osqp-0.6.5-cp311-cp311-win_amd64.whl (293 kB)\n",
      "     -------------------------------------- 293.1/293.1 kB 3.6 MB/s eta 0:00:00\n",
      "Collecting ecos>=2 (from cvxpy)\n",
      "  Downloading ecos-2.0.13-cp311-cp311-win_amd64.whl (72 kB)\n",
      "     ---------------------------------------- 72.0/72.0 kB 1.9 MB/s eta 0:00:00\n",
      "Collecting clarabel>=0.5.0 (from cvxpy)\n",
      "  Downloading clarabel-0.7.1-cp37-abi3-win_amd64.whl (321 kB)\n",
      "     -------------------------------------- 321.5/321.5 kB 2.9 MB/s eta 0:00:00\n",
      "Collecting scs>=3.2.4.post1 (from cvxpy)\n",
      "  Downloading scs-3.2.4.post1-cp311-cp311-win_amd64.whl (8.4 MB)\n",
      "     ---------------------------------------- 8.4/8.4 MB 7.9 MB/s eta 0:00:00\n",
      "Requirement already satisfied: numpy>=1.15 in c:\\users\\gcabr\\appdata\\local\\programs\\python\\python311\\lib\\site-packages (from cvxpy) (1.23.5)\n",
      "Requirement already satisfied: scipy>=1.1.0 in c:\\users\\gcabr\\appdata\\local\\programs\\python\\python311\\lib\\site-packages (from cvxpy) (1.9.3)\n",
      "Collecting qdldl (from osqp>=0.6.2->cvxpy)\n",
      "  Downloading qdldl-0.1.7.post2-cp311-cp311-win_amd64.whl (87 kB)\n",
      "     ---------------------------------------- 87.4/87.4 kB 5.1 MB/s eta 0:00:00\n",
      "Installing collected packages: scs, qdldl, ecos, clarabel, osqp, cvxpy\n",
      "Successfully installed clarabel-0.7.1 cvxpy-1.5.1 ecos-2.0.13 osqp-0.6.5 qdldl-0.1.7.post2 scs-3.2.4.post1\n"
     ]
    },
    {
     "name": "stderr",
     "output_type": "stream",
     "text": [
      "\n",
      "[notice] A new release of pip is available: 23.1.2 -> 24.0\n",
      "[notice] To update, run: python.exe -m pip install --upgrade pip\n"
     ]
    }
   ],
   "source": [
    "!pip install cvxpy"
   ]
  },
  {
   "cell_type": "code",
   "execution_count": 63,
   "id": "a7feb155",
   "metadata": {},
   "outputs": [],
   "source": [
    "import pandas as pd\n",
    "import numpy as np\n",
    "import matplotlib as plt"
   ]
  },
  {
   "cell_type": "code",
   "execution_count": 5,
   "id": "040078de",
   "metadata": {},
   "outputs": [],
   "source": [
    "df = pd.read_excel(\"teste_controle_sintetico.xlsx\")"
   ]
  },
  {
   "cell_type": "code",
   "execution_count": 6,
   "id": "25f18927",
   "metadata": {},
   "outputs": [
    {
     "data": {
      "text/html": [
       "<div>\n",
       "<style scoped>\n",
       "    .dataframe tbody tr th:only-of-type {\n",
       "        vertical-align: middle;\n",
       "    }\n",
       "\n",
       "    .dataframe tbody tr th {\n",
       "        vertical-align: top;\n",
       "    }\n",
       "\n",
       "    .dataframe thead th {\n",
       "        text-align: right;\n",
       "    }\n",
       "</style>\n",
       "<table border=\"1\" class=\"dataframe\">\n",
       "  <thead>\n",
       "    <tr style=\"text-align: right;\">\n",
       "      <th></th>\n",
       "      <th>ANOMES</th>\n",
       "      <th>ID</th>\n",
       "      <th>T</th>\n",
       "      <th>TD</th>\n",
       "      <th>Y</th>\n",
       "      <th>X</th>\n",
       "    </tr>\n",
       "  </thead>\n",
       "  <tbody>\n",
       "    <tr>\n",
       "      <th>0</th>\n",
       "      <td>2023-01-01</td>\n",
       "      <td>1</td>\n",
       "      <td>1</td>\n",
       "      <td>0</td>\n",
       "      <td>121</td>\n",
       "      <td>140</td>\n",
       "    </tr>\n",
       "    <tr>\n",
       "      <th>1</th>\n",
       "      <td>2023-02-01</td>\n",
       "      <td>1</td>\n",
       "      <td>1</td>\n",
       "      <td>0</td>\n",
       "      <td>16</td>\n",
       "      <td>17</td>\n",
       "    </tr>\n",
       "    <tr>\n",
       "      <th>2</th>\n",
       "      <td>2023-03-01</td>\n",
       "      <td>1</td>\n",
       "      <td>1</td>\n",
       "      <td>0</td>\n",
       "      <td>48</td>\n",
       "      <td>64</td>\n",
       "    </tr>\n",
       "    <tr>\n",
       "      <th>3</th>\n",
       "      <td>2023-04-01</td>\n",
       "      <td>1</td>\n",
       "      <td>1</td>\n",
       "      <td>0</td>\n",
       "      <td>32</td>\n",
       "      <td>37</td>\n",
       "    </tr>\n",
       "    <tr>\n",
       "      <th>4</th>\n",
       "      <td>2023-05-01</td>\n",
       "      <td>1</td>\n",
       "      <td>1</td>\n",
       "      <td>0</td>\n",
       "      <td>132</td>\n",
       "      <td>133</td>\n",
       "    </tr>\n",
       "  </tbody>\n",
       "</table>\n",
       "</div>"
      ],
      "text/plain": [
       "      ANOMES  ID  T  TD    Y    X\n",
       "0 2023-01-01   1  1   0  121  140\n",
       "1 2023-02-01   1  1   0   16   17\n",
       "2 2023-03-01   1  1   0   48   64\n",
       "3 2023-04-01   1  1   0   32   37\n",
       "4 2023-05-01   1  1   0  132  133"
      ]
     },
     "execution_count": 6,
     "metadata": {},
     "output_type": "execute_result"
    }
   ],
   "source": [
    "df.head()"
   ]
  },
  {
   "cell_type": "code",
   "execution_count": 7,
   "id": "50505786",
   "metadata": {},
   "outputs": [
    {
     "data": {
      "text/plain": [
       "[1, 2, 3]"
      ]
     },
     "execution_count": 7,
     "metadata": {},
     "output_type": "execute_result"
    }
   ],
   "source": [
    "treated = list(df.query(\"T==1\")[\"ID\"].unique())\n",
    "treated"
   ]
  },
  {
   "cell_type": "code",
   "execution_count": 8,
   "id": "0e58aa8e",
   "metadata": {},
   "outputs": [
    {
     "data": {
      "text/plain": [
       "Timestamp('2024-05-01 00:00:00')"
      ]
     },
     "execution_count": 8,
     "metadata": {},
     "output_type": "execute_result"
    }
   ],
   "source": [
    "tr_period = df.query(\"TD==1\")[\"ANOMES\"].min()\n",
    "tr_period"
   ]
  },
  {
   "cell_type": "code",
   "execution_count": 9,
   "id": "b8f6ca50",
   "metadata": {},
   "outputs": [],
   "source": [
    "def reshape_sc_data(df: pd.DataFrame, geo_col: str,  time_col: str, y_col: str, tr_geos: str, tr_start: str):\n",
    "    df_pivot = df.pivot(time_col, geo_col, y_col)\n",
    "    y_co = df_pivot.drop(columns=tr_geos)\n",
    "    y_tr = df_pivot[tr_geos]\n",
    "    y_pre_co = y_co[df_pivot.index < tr_start]\n",
    "    y_pre_tr = y_tr[df_pivot.index < tr_start]\n",
    "    y_post_co = y_co[df_pivot.index >= tr_start]\n",
    "    y_post_tr = y_tr[df_pivot.index >= tr_start]\n",
    "    return y_pre_co, y_pre_tr, y_post_co, y_post_tr"
   ]
  },
  {
   "cell_type": "code",
   "execution_count": 10,
   "id": "afd57588",
   "metadata": {},
   "outputs": [
    {
     "name": "stderr",
     "output_type": "stream",
     "text": [
      "C:\\Users\\gcabr\\AppData\\Local\\Temp\\ipykernel_8048\\705883185.py:2: FutureWarning: In a future version of pandas all arguments of DataFrame.pivot will be keyword-only.\n",
      "  df_pivot = df.pivot(time_col, geo_col, y_col)\n"
     ]
    },
    {
     "data": {
      "text/html": [
       "<div>\n",
       "<style scoped>\n",
       "    .dataframe tbody tr th:only-of-type {\n",
       "        vertical-align: middle;\n",
       "    }\n",
       "\n",
       "    .dataframe tbody tr th {\n",
       "        vertical-align: top;\n",
       "    }\n",
       "\n",
       "    .dataframe thead th {\n",
       "        text-align: right;\n",
       "    }\n",
       "</style>\n",
       "<table border=\"1\" class=\"dataframe\">\n",
       "  <thead>\n",
       "    <tr style=\"text-align: right;\">\n",
       "      <th>ID</th>\n",
       "      <th>1</th>\n",
       "      <th>2</th>\n",
       "      <th>3</th>\n",
       "    </tr>\n",
       "    <tr>\n",
       "      <th>ANOMES</th>\n",
       "      <th></th>\n",
       "      <th></th>\n",
       "      <th></th>\n",
       "    </tr>\n",
       "  </thead>\n",
       "  <tbody>\n",
       "    <tr>\n",
       "      <th>2023-01-01</th>\n",
       "      <td>121</td>\n",
       "      <td>130</td>\n",
       "      <td>146</td>\n",
       "    </tr>\n",
       "    <tr>\n",
       "      <th>2023-02-01</th>\n",
       "      <td>16</td>\n",
       "      <td>65</td>\n",
       "      <td>128</td>\n",
       "    </tr>\n",
       "    <tr>\n",
       "      <th>2023-03-01</th>\n",
       "      <td>48</td>\n",
       "      <td>62</td>\n",
       "      <td>112</td>\n",
       "    </tr>\n",
       "    <tr>\n",
       "      <th>2023-04-01</th>\n",
       "      <td>32</td>\n",
       "      <td>129</td>\n",
       "      <td>130</td>\n",
       "    </tr>\n",
       "    <tr>\n",
       "      <th>2023-05-01</th>\n",
       "      <td>132</td>\n",
       "      <td>143</td>\n",
       "      <td>140</td>\n",
       "    </tr>\n",
       "  </tbody>\n",
       "</table>\n",
       "</div>"
      ],
      "text/plain": [
       "ID            1    2    3\n",
       "ANOMES                   \n",
       "2023-01-01  121  130  146\n",
       "2023-02-01   16   65  128\n",
       "2023-03-01   48   62  112\n",
       "2023-04-01   32  129  130\n",
       "2023-05-01  132  143  140"
      ]
     },
     "execution_count": 10,
     "metadata": {},
     "output_type": "execute_result"
    }
   ],
   "source": [
    "y_pre_co, y_pre_tr, y_post_co, y_post_tr = reshape_sc_data(df, \n",
    "                                                            geo_col=\"ID\", \n",
    "                                                            time_col=\"ANOMES\", \n",
    "                                                            y_col=\"Y\", \n",
    "                                                            tr_geos=treated, \n",
    "                                                            tr_start=str(tr_period))\n",
    "y_pre_tr.head()"
   ]
  },
  {
   "cell_type": "code",
   "execution_count": 16,
   "id": "08235e47",
   "metadata": {},
   "outputs": [
    {
     "data": {
      "text/html": [
       "<div>\n",
       "<style scoped>\n",
       "    .dataframe tbody tr th:only-of-type {\n",
       "        vertical-align: middle;\n",
       "    }\n",
       "\n",
       "    .dataframe tbody tr th {\n",
       "        vertical-align: top;\n",
       "    }\n",
       "\n",
       "    .dataframe thead th {\n",
       "        text-align: right;\n",
       "    }\n",
       "</style>\n",
       "<table border=\"1\" class=\"dataframe\">\n",
       "  <thead>\n",
       "    <tr style=\"text-align: right;\">\n",
       "      <th>ID</th>\n",
       "      <th>4</th>\n",
       "      <th>5</th>\n",
       "      <th>6</th>\n",
       "      <th>7</th>\n",
       "      <th>8</th>\n",
       "      <th>9</th>\n",
       "      <th>10</th>\n",
       "    </tr>\n",
       "    <tr>\n",
       "      <th>ANOMES</th>\n",
       "      <th></th>\n",
       "      <th></th>\n",
       "      <th></th>\n",
       "      <th></th>\n",
       "      <th></th>\n",
       "      <th></th>\n",
       "      <th></th>\n",
       "    </tr>\n",
       "  </thead>\n",
       "  <tbody>\n",
       "    <tr>\n",
       "      <th>2023-01-01</th>\n",
       "      <td>78</td>\n",
       "      <td>130</td>\n",
       "      <td>26</td>\n",
       "      <td>81</td>\n",
       "      <td>73</td>\n",
       "      <td>114</td>\n",
       "      <td>33</td>\n",
       "    </tr>\n",
       "    <tr>\n",
       "      <th>2023-02-01</th>\n",
       "      <td>128</td>\n",
       "      <td>46</td>\n",
       "      <td>139</td>\n",
       "      <td>123</td>\n",
       "      <td>22</td>\n",
       "      <td>81</td>\n",
       "      <td>80</td>\n",
       "    </tr>\n",
       "    <tr>\n",
       "      <th>2023-03-01</th>\n",
       "      <td>137</td>\n",
       "      <td>60</td>\n",
       "      <td>134</td>\n",
       "      <td>65</td>\n",
       "      <td>105</td>\n",
       "      <td>47</td>\n",
       "      <td>106</td>\n",
       "    </tr>\n",
       "    <tr>\n",
       "      <th>2023-04-01</th>\n",
       "      <td>111</td>\n",
       "      <td>64</td>\n",
       "      <td>44</td>\n",
       "      <td>58</td>\n",
       "      <td>14</td>\n",
       "      <td>123</td>\n",
       "      <td>79</td>\n",
       "    </tr>\n",
       "    <tr>\n",
       "      <th>2023-05-01</th>\n",
       "      <td>104</td>\n",
       "      <td>87</td>\n",
       "      <td>31</td>\n",
       "      <td>39</td>\n",
       "      <td>144</td>\n",
       "      <td>129</td>\n",
       "      <td>88</td>\n",
       "    </tr>\n",
       "  </tbody>\n",
       "</table>\n",
       "</div>"
      ],
      "text/plain": [
       "ID           4    5    6    7    8    9    10\n",
       "ANOMES                                       \n",
       "2023-01-01   78  130   26   81   73  114   33\n",
       "2023-02-01  128   46  139  123   22   81   80\n",
       "2023-03-01  137   60  134   65  105   47  106\n",
       "2023-04-01  111   64   44   58   14  123   79\n",
       "2023-05-01  104   87   31   39  144  129   88"
      ]
     },
     "execution_count": 16,
     "metadata": {},
     "output_type": "execute_result"
    }
   ],
   "source": [
    "y_pre_co.head()"
   ]
  },
  {
   "cell_type": "markdown",
   "id": "c9e1a1bc",
   "metadata": {},
   "source": [
    "# Primeira Versao"
   ]
  },
  {
   "cell_type": "code",
   "execution_count": 14,
   "id": "1e0d9c3c",
   "metadata": {},
   "outputs": [],
   "source": [
    "from sklearn.base import BaseEstimator, RegressorMixin\n",
    "from sklearn.utils.validation import (check_X_y, check_array, check_is_fitted)\n",
    "import cvxpy as cp\n",
    "\n",
    "class SyntheticControl(BaseEstimator, RegressorMixin):\n",
    "    def __init__(self,):\n",
    "        pass\n",
    "\n",
    "    def fit(self, y_pre_co, y_pre_tr):\n",
    "        y_pre_co, y_pre_tr = check_X_y(y_pre_co, y_pre_tr)\n",
    "            \n",
    "        w = cp.Variable(y_pre_co.shape[1])\n",
    "        \n",
    "        objective = cp.Minimize(cp.sum_squares(y_pre_co@w - y_pre_tr))\n",
    "        constraints = [cp.sum(w) == 1, w >= 0]\n",
    "        \n",
    "        problem = cp.Problem(objective, constraints)\n",
    "        self.loss_ = problem.solve(verbose=False)\n",
    "        self.w_ = w.value\n",
    "        \n",
    "        self.is_fitted_ = True\n",
    "        return self\n",
    "    \n",
    "    def predict(self, y_co):\n",
    "        check_is_fitted(self)\n",
    "        y_co = check_array(y_co)\n",
    "        \n",
    "        return y_co @ self.w_"
   ]
  },
  {
   "cell_type": "code",
   "execution_count": 15,
   "id": "4518a674",
   "metadata": {},
   "outputs": [
    {
     "data": {
      "text/plain": [
       "array([-0.   ,  0.498, -0.   , -0.   ,  0.077,  0.425, -0.   ])"
      ]
     },
     "execution_count": 15,
     "metadata": {},
     "output_type": "execute_result"
    }
   ],
   "source": [
    "model = SyntheticControl()\n",
    "model.fit(y_pre_co, y_pre_tr.mean(axis=1))\n",
    "# extrac the weights\n",
    "model.w_.round(3)"
   ]
  },
  {
   "cell_type": "code",
   "execution_count": 18,
   "id": "cd7a62ff",
   "metadata": {},
   "outputs": [],
   "source": [
    "y0_tr_hat = y_post_co.dot(model.w_)"
   ]
  },
  {
   "cell_type": "code",
   "execution_count": 19,
   "id": "895334d5",
   "metadata": {},
   "outputs": [
    {
     "data": {
      "text/plain": [
       "ANOMES\n",
       "2024-05-01     69.484905\n",
       "2024-06-01     73.497012\n",
       "2024-07-01     17.368147\n",
       "2024-08-01    139.665321\n",
       "2024-09-01     58.206204\n",
       "dtype: float64"
      ]
     },
     "execution_count": 19,
     "metadata": {},
     "output_type": "execute_result"
    }
   ],
   "source": [
    "y0_tr_hat.head()"
   ]
  },
  {
   "cell_type": "code",
   "execution_count": 65,
   "id": "c58ccb6a",
   "metadata": {},
   "outputs": [
    {
     "data": {
      "text/plain": [
       "<AxesSubplot: xlabel='ANOMES'>"
      ]
     },
     "execution_count": 65,
     "metadata": {},
     "output_type": "execute_result"
    },
    {
     "data": {
      "image/png": "[encoded data removed]",
      "text/plain": [
       "<Figure size 640x480 with 1 Axes>"
      ]
     },
     "metadata": {},
     "output_type": "display_data"
    }
   ],
   "source": [
    "y_pre_tr.mean(axis=1).plot()\n",
    "y_post_tr.mean(axis=1).plot()\n",
    "y0_tr_hat.plot()"
   ]
  },
  {
   "cell_type": "code",
   "execution_count": 21,
   "id": "897bc2a1",
   "metadata": {},
   "outputs": [],
   "source": [
    "att = y_post_tr.mean(axis=1) - y0_tr_hat"
   ]
  },
  {
   "cell_type": "code",
   "execution_count": null,
   "id": "130f9bf9",
   "metadata": {},
   "outputs": [],
   "source": []
  },
  {
   "cell_type": "markdown",
   "id": "a68a786d",
   "metadata": {},
   "source": [
    "# Com covariavel"
   ]
  },
  {
   "cell_type": "code",
   "execution_count": 33,
   "id": "2cf743b6",
   "metadata": {},
   "outputs": [],
   "source": [
    "from toolz import partial"
   ]
  },
  {
   "cell_type": "code",
   "execution_count": 36,
   "id": "3ae932ec",
   "metadata": {},
   "outputs": [
    {
     "name": "stderr",
     "output_type": "stream",
     "text": [
      "C:\\Users\\gcabr\\AppData\\Local\\Temp\\ipykernel_8048\\705883185.py:2: FutureWarning: In a future version of pandas all arguments of DataFrame.pivot will be keyword-only.\n",
      "  df_pivot = df.pivot(time_col, geo_col, y_col)\n",
      "C:\\Users\\gcabr\\AppData\\Local\\Temp\\ipykernel_8048\\705883185.py:2: FutureWarning: In a future version of pandas all arguments of DataFrame.pivot will be keyword-only.\n",
      "  df_pivot = df.pivot(time_col, geo_col, y_col)\n"
     ]
    }
   ],
   "source": [
    "reshaper = partial(reshape_sc_data,\n",
    "                            df=df,\n",
    "                            geo_col=\"ID\",\n",
    "                            time_col=\"ANOMES\",\n",
    "                            tr_geos=treated,\n",
    "                            tr_start=str(tr_period))\n",
    "y_pre_co, y_pre_tr, y_post_co, y_post_tr = reshaper(y_col=\"Y\")\n",
    "x_pre_co, _, x_post_co, _ = reshaper(y_col=\"Y\")"
   ]
  },
  {
   "cell_type": "code",
   "execution_count": 48,
   "id": "4e37a732",
   "metadata": {},
   "outputs": [],
   "source": [
    "def find_w_given_vs(vs, x_co_list, y_tr_pre):\n",
    "    X_times_v = sum([x*v for x, v in zip(x_co_list, vs)])\n",
    "    \n",
    "    model = SyntheticControl()\n",
    "    model.fit(X_times_v, y_tr_pre)\n",
    "    \n",
    "    return {\"loss\": model.loss_, \"w\": model.w_}"
   ]
  },
  {
   "cell_type": "code",
   "execution_count": 133,
   "id": "c80495bd",
   "metadata": {},
   "outputs": [
    {
     "data": {
      "text/plain": [
       "array([0.54774658, 0.54774658])"
      ]
     },
     "execution_count": 133,
     "metadata": {},
     "output_type": "execute_result"
    }
   ],
   "source": [
    "from scipy.optimize import minimize\n",
    "\n",
    "def v_loss(vs):\n",
    "    return find_w_given_vs(vs,[y_pre_co, x_pre_co],\n",
    "    y_pre_tr.mean(axis=1)).get(\"loss\")\n",
    "\n",
    "v_solution = minimize(v_loss, [0, 0], method='L-BFGS-B')\n",
    "v_solution.x"
   ]
  },
  {
   "cell_type": "code",
   "execution_count": 51,
   "id": "286f1e89",
   "metadata": {},
   "outputs": [],
   "source": [
    "w_cov = find_w_given_vs(v_solution.x,[y_pre_co, x_pre_co],\n",
    "         y_pre_tr.mean(axis=1)).get(\"w\").round(3)"
   ]
  },
  {
   "cell_type": "code",
   "execution_count": 52,
   "id": "05d4000a",
   "metadata": {},
   "outputs": [
    {
     "data": {
      "text/plain": [
       "array([-0.   ,  0.508, -0.   , -0.   ,  0.105,  0.366,  0.022])"
      ]
     },
     "execution_count": 52,
     "metadata": {},
     "output_type": "execute_result"
    }
   ],
   "source": [
    "w_cov"
   ]
  },
  {
   "cell_type": "code",
   "execution_count": 54,
   "id": "d4b7a11d",
   "metadata": {},
   "outputs": [],
   "source": [
    "y0_hat = sum([x*v for x, v in zip([y_post_co, x_post_co], v_solution.x)]).dot(w_cov)"
   ]
  },
  {
   "cell_type": "code",
   "execution_count": 55,
   "id": "7c9863b3",
   "metadata": {},
   "outputs": [
    {
     "data": {
      "text/plain": [
       "ANOMES\n",
       "2024-05-01     79.633589\n",
       "2024-06-01     84.808698\n",
       "2024-07-01     20.035474\n",
       "2024-08-01    149.757201\n",
       "2024-09-01     63.733601\n",
       "2024-10-01     45.278923\n",
       "2024-11-01     89.646396\n",
       "2024-12-01    101.176461\n",
       "2025-01-01     68.068467\n",
       "dtype: float64"
      ]
     },
     "execution_count": 55,
     "metadata": {},
     "output_type": "execute_result"
    }
   ],
   "source": [
    "y0_hat"
   ]
  },
  {
   "cell_type": "code",
   "execution_count": 68,
   "id": "47f8e58d",
   "metadata": {},
   "outputs": [
    {
     "data": {
      "text/plain": [
       "<AxesSubplot: xlabel='ANOMES'>"
      ]
     },
     "execution_count": 68,
     "metadata": {},
     "output_type": "execute_result"
    },
    {
     "data": {
      "image/png": "[encoded data removed]",
      "text/plain": [
       "<Figure size 640x480 with 1 Axes>"
      ]
     },
     "metadata": {},
     "output_type": "display_data"
    }
   ],
   "source": [
    "y0_hat.plot()\n",
    "y0_tr_hat.plot()"
   ]
  },
  {
   "cell_type": "code",
   "execution_count": 69,
   "id": "585e9ff6",
   "metadata": {},
   "outputs": [],
   "source": [
    "att_new = y_post_tr.mean(axis=1) - y0_hat"
   ]
  },
  {
   "cell_type": "code",
   "execution_count": 77,
   "id": "64c66bc4",
   "metadata": {},
   "outputs": [
    {
     "data": {
      "text/plain": [
       "<AxesSubplot: xlabel='ANOMES'>"
      ]
     },
     "execution_count": 77,
     "metadata": {},
     "output_type": "execute_result"
    },
    {
     "data": {
      "image/png": "[encoded data removed]",
      "text/plain": [
       "<Figure size 640x480 with 1 Axes>"
      ]
     },
     "metadata": {},
     "output_type": "display_data"
    }
   ],
   "source": [
    "att.plot()\n",
    "att_new.plot()"
   ]
  },
  {
   "cell_type": "markdown",
   "id": "1b8d670c",
   "metadata": {},
   "source": [
    "# Debising"
   ]
  },
  {
   "cell_type": "code",
   "execution_count": 105,
   "id": "e1b6d16f",
   "metadata": {},
   "outputs": [],
   "source": [
    "def debiased_sc_atts(y_pre_co, y_pre_tr, y_post_co, y_post_tr, K=2):\n",
    "    block_size = int(min(np.floor(len(y_pre_tr)/K), len(y_post_tr)))\n",
    "    blocks = np.split(y_pre_tr.index[-K*block_size:], K)\n",
    "    \n",
    "    def fold_effect(hold_out):\n",
    "        model = SyntheticControl()\n",
    "        model.fit(\n",
    "        y_pre_co.drop(hold_out),\n",
    "        y_pre_tr.drop(hold_out)\n",
    "        )\n",
    "        \n",
    "        bias_hat = np.mean(y_pre_tr.loc[hold_out]- model.predict(y_pre_co.loc[hold_out]))\n",
    "        y0_hat = model.predict(y_post_co)\n",
    "    \n",
    "        return (y_post_tr - y0_hat) - bias_hat\n",
    "\n",
    "    return pd.DataFrame([fold_effect(block) for block in blocks]).T"
   ]
  },
  {
   "cell_type": "code",
   "execution_count": 110,
   "id": "8ca360d6",
   "metadata": {},
   "outputs": [],
   "source": [
    "deb_atts = debiased_sc_atts(y_pre_co, y_pre_tr.mean(axis=1), y_post_co, y_post_tr.mean(axis=1), K=2)"
   ]
  },
  {
   "cell_type": "code",
   "execution_count": 126,
   "id": "19c880c4",
   "metadata": {},
   "outputs": [
    {
     "data": {
      "text/html": [
       "<div>\n",
       "<style scoped>\n",
       "    .dataframe tbody tr th:only-of-type {\n",
       "        vertical-align: middle;\n",
       "    }\n",
       "\n",
       "    .dataframe tbody tr th {\n",
       "        vertical-align: top;\n",
       "    }\n",
       "\n",
       "    .dataframe thead th {\n",
       "        text-align: right;\n",
       "    }\n",
       "</style>\n",
       "<table border=\"1\" class=\"dataframe\">\n",
       "  <thead>\n",
       "    <tr style=\"text-align: right;\">\n",
       "      <th></th>\n",
       "      <th>0</th>\n",
       "      <th>1</th>\n",
       "    </tr>\n",
       "    <tr>\n",
       "      <th>ANOMES</th>\n",
       "      <th></th>\n",
       "      <th></th>\n",
       "    </tr>\n",
       "  </thead>\n",
       "  <tbody>\n",
       "    <tr>\n",
       "      <th>2024-05-01</th>\n",
       "      <td>-5.097380</td>\n",
       "      <td>31.839369</td>\n",
       "    </tr>\n",
       "    <tr>\n",
       "      <th>2024-06-01</th>\n",
       "      <td>19.937761</td>\n",
       "      <td>71.019446</td>\n",
       "    </tr>\n",
       "    <tr>\n",
       "      <th>2024-07-01</th>\n",
       "      <td>94.951131</td>\n",
       "      <td>122.076548</td>\n",
       "    </tr>\n",
       "    <tr>\n",
       "      <th>2024-08-01</th>\n",
       "      <td>-6.088374</td>\n",
       "      <td>3.844068</td>\n",
       "    </tr>\n",
       "    <tr>\n",
       "      <th>2024-09-01</th>\n",
       "      <td>36.292458</td>\n",
       "      <td>45.207508</td>\n",
       "    </tr>\n",
       "    <tr>\n",
       "      <th>2024-10-01</th>\n",
       "      <td>29.049058</td>\n",
       "      <td>46.037597</td>\n",
       "    </tr>\n",
       "    <tr>\n",
       "      <th>2024-11-01</th>\n",
       "      <td>-7.721323</td>\n",
       "      <td>23.492750</td>\n",
       "    </tr>\n",
       "    <tr>\n",
       "      <th>2024-12-01</th>\n",
       "      <td>-20.016959</td>\n",
       "      <td>-8.594753</td>\n",
       "    </tr>\n",
       "    <tr>\n",
       "      <th>2025-01-01</th>\n",
       "      <td>1.478320</td>\n",
       "      <td>-4.265787</td>\n",
       "    </tr>\n",
       "  </tbody>\n",
       "</table>\n",
       "</div>"
      ],
      "text/plain": [
       "                    0           1\n",
       "ANOMES                           \n",
       "2024-05-01  -5.097380   31.839369\n",
       "2024-06-01  19.937761   71.019446\n",
       "2024-07-01  94.951131  122.076548\n",
       "2024-08-01  -6.088374    3.844068\n",
       "2024-09-01  36.292458   45.207508\n",
       "2024-10-01  29.049058   46.037597\n",
       "2024-11-01  -7.721323   23.492750\n",
       "2024-12-01 -20.016959   -8.594753\n",
       "2025-01-01   1.478320   -4.265787"
      ]
     },
     "execution_count": 126,
     "metadata": {},
     "output_type": "execute_result"
    }
   ],
   "source": [
    "deb_atts.head(15)"
   ]
  },
  {
   "cell_type": "code",
   "execution_count": 112,
   "id": "91f14521",
   "metadata": {},
   "outputs": [
    {
     "data": {
      "text/plain": [
       "ANOMES\n",
       "2024-05-01     13.370995\n",
       "2024-06-01     45.478604\n",
       "2024-07-01    108.513840\n",
       "2024-08-01     -1.122153\n",
       "2024-09-01     40.749983\n",
       "2024-10-01     37.543327\n",
       "2024-11-01      7.885713\n",
       "2024-12-01    -14.305856\n",
       "2025-01-01     -1.393733\n",
       "dtype: float64"
      ]
     },
     "execution_count": 112,
     "metadata": {},
     "output_type": "execute_result"
    }
   ],
   "source": [
    "deb_atts.mean(axis=1)"
   ]
  },
  {
   "cell_type": "code",
   "execution_count": 120,
   "id": "42b31b30",
   "metadata": {},
   "outputs": [],
   "source": [
    "atts_k = deb_atts.mean(axis=0).values\n",
    "att = np.mean(atts_k)"
   ]
  },
  {
   "cell_type": "code",
   "execution_count": 122,
   "id": "be1e9c32",
   "metadata": {},
   "outputs": [
    {
     "data": {
      "text/plain": [
       "array([15.86496582, 36.73963859])"
      ]
     },
     "execution_count": 122,
     "metadata": {},
     "output_type": "execute_result"
    }
   ],
   "source": [
    "atts_k"
   ]
  },
  {
   "cell_type": "code",
   "execution_count": 123,
   "id": "3bcb6b0f",
   "metadata": {},
   "outputs": [
    {
     "data": {
      "text/plain": [
       "26.302302200550038"
      ]
     },
     "execution_count": 123,
     "metadata": {},
     "output_type": "execute_result"
    }
   ],
   "source": [
    "att"
   ]
  },
  {
   "cell_type": "markdown",
   "id": "bd5e8a09",
   "metadata": {},
   "source": [
    "# Inferencia"
   ]
  },
  {
   "cell_type": "code",
   "execution_count": 125,
   "id": "034f76ab",
   "metadata": {},
   "outputs": [
    {
     "data": {
      "text/plain": [
       "[-194.72925282172602, 247.33385722282608]"
      ]
     },
     "execution_count": 125,
     "metadata": {},
     "output_type": "execute_result"
    }
   ],
   "source": [
    "K = len(atts_k)\n",
    "T0 = len(y_pre_co)\n",
    "T1 = len(y_post_co)\n",
    "block_size = min(np.floor(T0/K), T1)\n",
    "se_hat=np.sqrt(1+((K*block_size)/T1))*np.std(atts_k, ddof=1)/np.sqrt(K)\n",
    "\n",
    "from scipy.stats import t\n",
    "alpha = 0.05\n",
    "[att - t.ppf(1-alpha/2, K-1)*se_hat,\n",
    "att + t.ppf(1-alpha/2, K-1)*se_hat]"
   ]
  },
  {
   "cell_type": "code",
   "execution_count": null,
   "id": "d9cf1b44",
   "metadata": {},
   "outputs": [],
   "source": []
  }
 ],
 "metadata": {
  "kernelspec": {
   "display_name": "Python 3 (ipykernel)",
   "language": "python",
   "name": "python3"
  },
  "language_info": {
   "codemirror_mode": {
    "name": "ipython",
    "version": 3
   },
   "file_extension": ".py",
   "mimetype": "text/x-python",
   "name": "python",
   "nbconvert_exporter": "python",
   "pygments_lexer": "ipython3",
   "version": "3.11.0"
  }
 },
 "nbformat": 4,
 "nbformat_minor": 5
}
