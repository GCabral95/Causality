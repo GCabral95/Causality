{
 "cells": [
  {
   "cell_type": "code",
   "execution_count": null,
   "id": "79aafd7a",
   "metadata": {},
   "outputs": [],
   "source": [
    "!pip install cvxpy"
   ]
  },
  {
   "cell_type": "code",
   "execution_count": 1,
   "id": "12961908",
   "metadata": {},
   "outputs": [],
   "source": [
    "import pandas as pd\n",
    "import numpy as np\n",
    "import matplotlib as plt"
   ]
  },
  {
   "cell_type": "code",
   "execution_count": 2,
   "id": "b5b2857f",
   "metadata": {},
   "outputs": [],
   "source": [
    "df = pd.read_excel(\"teste_controle.xlsx\")"
   ]
  },
  {
   "cell_type": "code",
   "execution_count": 4,
   "id": "f5025170",
   "metadata": {},
   "outputs": [
    {
     "data": {
      "text/html": [
       "<div>\n",
       "<style scoped>\n",
       "    .dataframe tbody tr th:only-of-type {\n",
       "        vertical-align: middle;\n",
       "    }\n",
       "\n",
       "    .dataframe tbody tr th {\n",
       "        vertical-align: top;\n",
       "    }\n",
       "\n",
       "    .dataframe thead th {\n",
       "        text-align: right;\n",
       "    }\n",
       "</style>\n",
       "<table border=\"1\" class=\"dataframe\">\n",
       "  <thead>\n",
       "    <tr style=\"text-align: right;\">\n",
       "      <th></th>\n",
       "      <th>ANOMES</th>\n",
       "      <th>ID</th>\n",
       "      <th>T</th>\n",
       "      <th>TD</th>\n",
       "      <th>Y</th>\n",
       "    </tr>\n",
       "  </thead>\n",
       "  <tbody>\n",
       "    <tr>\n",
       "      <th>0</th>\n",
       "      <td>2023-01-01</td>\n",
       "      <td>1</td>\n",
       "      <td>1</td>\n",
       "      <td>0</td>\n",
       "      <td>121</td>\n",
       "    </tr>\n",
       "    <tr>\n",
       "      <th>1</th>\n",
       "      <td>2023-02-01</td>\n",
       "      <td>1</td>\n",
       "      <td>1</td>\n",
       "      <td>0</td>\n",
       "      <td>16</td>\n",
       "    </tr>\n",
       "    <tr>\n",
       "      <th>2</th>\n",
       "      <td>2023-03-01</td>\n",
       "      <td>1</td>\n",
       "      <td>1</td>\n",
       "      <td>0</td>\n",
       "      <td>48</td>\n",
       "    </tr>\n",
       "    <tr>\n",
       "      <th>3</th>\n",
       "      <td>2023-04-01</td>\n",
       "      <td>1</td>\n",
       "      <td>1</td>\n",
       "      <td>0</td>\n",
       "      <td>32</td>\n",
       "    </tr>\n",
       "    <tr>\n",
       "      <th>4</th>\n",
       "      <td>2023-05-01</td>\n",
       "      <td>1</td>\n",
       "      <td>1</td>\n",
       "      <td>0</td>\n",
       "      <td>132</td>\n",
       "    </tr>\n",
       "    <tr>\n",
       "      <th>...</th>\n",
       "      <td>...</td>\n",
       "      <td>...</td>\n",
       "      <td>...</td>\n",
       "      <td>...</td>\n",
       "      <td>...</td>\n",
       "    </tr>\n",
       "    <tr>\n",
       "      <th>95</th>\n",
       "      <td>2024-09-01</td>\n",
       "      <td>4</td>\n",
       "      <td>0</td>\n",
       "      <td>1</td>\n",
       "      <td>29</td>\n",
       "    </tr>\n",
       "    <tr>\n",
       "      <th>96</th>\n",
       "      <td>2024-10-01</td>\n",
       "      <td>4</td>\n",
       "      <td>0</td>\n",
       "      <td>1</td>\n",
       "      <td>143</td>\n",
       "    </tr>\n",
       "    <tr>\n",
       "      <th>97</th>\n",
       "      <td>2024-11-01</td>\n",
       "      <td>4</td>\n",
       "      <td>0</td>\n",
       "      <td>1</td>\n",
       "      <td>55</td>\n",
       "    </tr>\n",
       "    <tr>\n",
       "      <th>98</th>\n",
       "      <td>2024-12-01</td>\n",
       "      <td>4</td>\n",
       "      <td>0</td>\n",
       "      <td>1</td>\n",
       "      <td>27</td>\n",
       "    </tr>\n",
       "    <tr>\n",
       "      <th>99</th>\n",
       "      <td>2025-01-01</td>\n",
       "      <td>4</td>\n",
       "      <td>0</td>\n",
       "      <td>1</td>\n",
       "      <td>88</td>\n",
       "    </tr>\n",
       "  </tbody>\n",
       "</table>\n",
       "<p>100 rows × 5 columns</p>\n",
       "</div>"
      ],
      "text/plain": [
       "       ANOMES  ID  T  TD    Y\n",
       "0  2023-01-01   1  1   0  121\n",
       "1  2023-02-01   1  1   0   16\n",
       "2  2023-03-01   1  1   0   48\n",
       "3  2023-04-01   1  1   0   32\n",
       "4  2023-05-01   1  1   0  132\n",
       "..        ...  .. ..  ..  ...\n",
       "95 2024-09-01   4  0   1   29\n",
       "96 2024-10-01   4  0   1  143\n",
       "97 2024-11-01   4  0   1   55\n",
       "98 2024-12-01   4  0   1   27\n",
       "99 2025-01-01   4  0   1   88\n",
       "\n",
       "[100 rows x 5 columns]"
      ]
     },
     "execution_count": 4,
     "metadata": {},
     "output_type": "execute_result"
    }
   ],
   "source": [
    "df.head(100)"
   ]
  },
  {
   "cell_type": "code",
   "execution_count": 7,
   "id": "82518932",
   "metadata": {},
   "outputs": [
    {
     "name": "stdout",
     "output_type": "stream",
     "text": [
      "[1, 2, 3]\n",
      "2024-05-01 00:00:00\n"
     ]
    }
   ],
   "source": [
    "treated = list(df.query(\"T==1\")[\"ID\"].unique())\n",
    "print(treated)\n",
    "tr_period = df.query(\"TD==1\")[\"ANOMES\"].min()\n",
    "print(tr_period)"
   ]
  },
  {
   "cell_type": "code",
   "execution_count": 8,
   "id": "08c04cf7",
   "metadata": {},
   "outputs": [],
   "source": [
    "def reshape_sc_data(df: pd.DataFrame, geo_col: str,  time_col: str, y_col: str, tr_geos: str, tr_start: str):\n",
    "    df_pivot = df.pivot(time_col, geo_col, y_col)\n",
    "    y_co = df_pivot.drop(columns=tr_geos)\n",
    "    y_tr = df_pivot[tr_geos]\n",
    "    y_pre_co = y_co[df_pivot.index < tr_start]\n",
    "    y_pre_tr = y_tr[df_pivot.index < tr_start]\n",
    "    y_post_co = y_co[df_pivot.index >= tr_start]\n",
    "    y_post_tr = y_tr[df_pivot.index >= tr_start]\n",
    "    return y_pre_co, y_pre_tr, y_post_co, y_post_tr"
   ]
  },
  {
   "cell_type": "code",
   "execution_count": 9,
   "id": "d5fc3afa",
   "metadata": {},
   "outputs": [
    {
     "name": "stderr",
     "output_type": "stream",
     "text": [
      "C:\\Users\\gcabr\\AppData\\Local\\Temp\\ipykernel_11880\\705883185.py:2: FutureWarning: In a future version of pandas all arguments of DataFrame.pivot will be keyword-only.\n",
      "  df_pivot = df.pivot(time_col, geo_col, y_col)\n"
     ]
    },
    {
     "data": {
      "text/html": [
       "<div>\n",
       "<style scoped>\n",
       "    .dataframe tbody tr th:only-of-type {\n",
       "        vertical-align: middle;\n",
       "    }\n",
       "\n",
       "    .dataframe tbody tr th {\n",
       "        vertical-align: top;\n",
       "    }\n",
       "\n",
       "    .dataframe thead th {\n",
       "        text-align: right;\n",
       "    }\n",
       "</style>\n",
       "<table border=\"1\" class=\"dataframe\">\n",
       "  <thead>\n",
       "    <tr style=\"text-align: right;\">\n",
       "      <th>ID</th>\n",
       "      <th>1</th>\n",
       "      <th>2</th>\n",
       "      <th>3</th>\n",
       "    </tr>\n",
       "    <tr>\n",
       "      <th>ANOMES</th>\n",
       "      <th></th>\n",
       "      <th></th>\n",
       "      <th></th>\n",
       "    </tr>\n",
       "  </thead>\n",
       "  <tbody>\n",
       "    <tr>\n",
       "      <th>2023-01-01</th>\n",
       "      <td>121</td>\n",
       "      <td>130</td>\n",
       "      <td>146</td>\n",
       "    </tr>\n",
       "    <tr>\n",
       "      <th>2023-02-01</th>\n",
       "      <td>16</td>\n",
       "      <td>65</td>\n",
       "      <td>128</td>\n",
       "    </tr>\n",
       "    <tr>\n",
       "      <th>2023-03-01</th>\n",
       "      <td>48</td>\n",
       "      <td>62</td>\n",
       "      <td>112</td>\n",
       "    </tr>\n",
       "    <tr>\n",
       "      <th>2023-04-01</th>\n",
       "      <td>32</td>\n",
       "      <td>129</td>\n",
       "      <td>130</td>\n",
       "    </tr>\n",
       "    <tr>\n",
       "      <th>2023-05-01</th>\n",
       "      <td>132</td>\n",
       "      <td>143</td>\n",
       "      <td>140</td>\n",
       "    </tr>\n",
       "  </tbody>\n",
       "</table>\n",
       "</div>"
      ],
      "text/plain": [
       "ID            1    2    3\n",
       "ANOMES                   \n",
       "2023-01-01  121  130  146\n",
       "2023-02-01   16   65  128\n",
       "2023-03-01   48   62  112\n",
       "2023-04-01   32  129  130\n",
       "2023-05-01  132  143  140"
      ]
     },
     "execution_count": 9,
     "metadata": {},
     "output_type": "execute_result"
    }
   ],
   "source": [
    "y_pre_co, y_pre_tr, y_post_co, y_post_tr = reshape_sc_data(df, \n",
    "                                                            geo_col=\"ID\", \n",
    "                                                            time_col=\"ANOMES\", \n",
    "                                                            y_col=\"Y\", \n",
    "                                                            tr_geos=treated, \n",
    "                                                            tr_start=str(tr_period))\n",
    "y_pre_tr.head()"
   ]
  },
  {
   "cell_type": "code",
   "execution_count": 10,
   "id": "40adb481",
   "metadata": {},
   "outputs": [
    {
     "data": {
      "text/html": [
       "<div>\n",
       "<style scoped>\n",
       "    .dataframe tbody tr th:only-of-type {\n",
       "        vertical-align: middle;\n",
       "    }\n",
       "\n",
       "    .dataframe tbody tr th {\n",
       "        vertical-align: top;\n",
       "    }\n",
       "\n",
       "    .dataframe thead th {\n",
       "        text-align: right;\n",
       "    }\n",
       "</style>\n",
       "<table border=\"1\" class=\"dataframe\">\n",
       "  <thead>\n",
       "    <tr style=\"text-align: right;\">\n",
       "      <th>ID</th>\n",
       "      <th>4</th>\n",
       "      <th>5</th>\n",
       "      <th>6</th>\n",
       "      <th>7</th>\n",
       "      <th>8</th>\n",
       "      <th>9</th>\n",
       "      <th>10</th>\n",
       "    </tr>\n",
       "    <tr>\n",
       "      <th>ANOMES</th>\n",
       "      <th></th>\n",
       "      <th></th>\n",
       "      <th></th>\n",
       "      <th></th>\n",
       "      <th></th>\n",
       "      <th></th>\n",
       "      <th></th>\n",
       "    </tr>\n",
       "  </thead>\n",
       "  <tbody>\n",
       "    <tr>\n",
       "      <th>2023-01-01</th>\n",
       "      <td>78</td>\n",
       "      <td>130</td>\n",
       "      <td>26</td>\n",
       "      <td>81</td>\n",
       "      <td>73</td>\n",
       "      <td>114</td>\n",
       "      <td>33</td>\n",
       "    </tr>\n",
       "    <tr>\n",
       "      <th>2023-02-01</th>\n",
       "      <td>128</td>\n",
       "      <td>46</td>\n",
       "      <td>139</td>\n",
       "      <td>123</td>\n",
       "      <td>22</td>\n",
       "      <td>81</td>\n",
       "      <td>80</td>\n",
       "    </tr>\n",
       "    <tr>\n",
       "      <th>2023-03-01</th>\n",
       "      <td>137</td>\n",
       "      <td>60</td>\n",
       "      <td>134</td>\n",
       "      <td>65</td>\n",
       "      <td>105</td>\n",
       "      <td>47</td>\n",
       "      <td>106</td>\n",
       "    </tr>\n",
       "    <tr>\n",
       "      <th>2023-04-01</th>\n",
       "      <td>111</td>\n",
       "      <td>64</td>\n",
       "      <td>44</td>\n",
       "      <td>58</td>\n",
       "      <td>14</td>\n",
       "      <td>123</td>\n",
       "      <td>79</td>\n",
       "    </tr>\n",
       "    <tr>\n",
       "      <th>2023-05-01</th>\n",
       "      <td>104</td>\n",
       "      <td>87</td>\n",
       "      <td>31</td>\n",
       "      <td>39</td>\n",
       "      <td>144</td>\n",
       "      <td>129</td>\n",
       "      <td>88</td>\n",
       "    </tr>\n",
       "  </tbody>\n",
       "</table>\n",
       "</div>"
      ],
      "text/plain": [
       "ID           4    5    6    7    8    9    10\n",
       "ANOMES                                       \n",
       "2023-01-01   78  130   26   81   73  114   33\n",
       "2023-02-01  128   46  139  123   22   81   80\n",
       "2023-03-01  137   60  134   65  105   47  106\n",
       "2023-04-01  111   64   44   58   14  123   79\n",
       "2023-05-01  104   87   31   39  144  129   88"
      ]
     },
     "execution_count": 10,
     "metadata": {},
     "output_type": "execute_result"
    }
   ],
   "source": [
    "y_pre_co.head()"
   ]
  },
  {
   "cell_type": "code",
   "execution_count": 11,
   "id": "2f069402",
   "metadata": {},
   "outputs": [],
   "source": [
    "from sklearn.base import BaseEstimator, RegressorMixin\n",
    "from sklearn.utils.validation import (check_X_y, check_array, check_is_fitted)\n",
    "import cvxpy as cp\n",
    "\n",
    "class SyntheticControl(BaseEstimator, RegressorMixin):\n",
    "    def __init__(self,):\n",
    "        pass\n",
    "\n",
    "    def fit(self, y_pre_co, y_pre_tr):\n",
    "        y_pre_co, y_pre_tr = check_X_y(y_pre_co, y_pre_tr)\n",
    "            \n",
    "        w = cp.Variable(y_pre_co.shape[1])\n",
    "        \n",
    "        objective = cp.Minimize(cp.sum_squares(y_pre_co@w - y_pre_tr))\n",
    "        constraints = [cp.sum(w) == 1, w >= 0]\n",
    "        \n",
    "        problem = cp.Problem(objective, constraints)\n",
    "        self.loss_ = problem.solve(verbose=False)\n",
    "        self.w_ = w.value\n",
    "        \n",
    "        self.is_fitted_ = True\n",
    "        return self\n",
    "    \n",
    "    def predict(self, y_co):\n",
    "        check_is_fitted(self)\n",
    "        y_co = check_array(y_co)\n",
    "        \n",
    "        return y_co @ self.w_"
   ]
  },
  {
   "cell_type": "code",
   "execution_count": 12,
   "id": "ebd96bc3",
   "metadata": {},
   "outputs": [
    {
     "data": {
      "text/plain": [
       "array([-0.   ,  0.498, -0.   , -0.   ,  0.077,  0.425, -0.   ])"
      ]
     },
     "execution_count": 12,
     "metadata": {},
     "output_type": "execute_result"
    }
   ],
   "source": [
    "model = SyntheticControl()\n",
    "model.fit(y_pre_co, y_pre_tr.mean(axis=1))\n",
    "# extrac the weights\n",
    "model.w_.round(3)"
   ]
  },
  {
   "cell_type": "code",
   "execution_count": 30,
   "id": "4668c6a4",
   "metadata": {},
   "outputs": [],
   "source": [
    "y0_tr_post = y_post_co.dot(model.w_)\n",
    "y0_tr_pre = y_pre_co.dot(model.w_)"
   ]
  },
  {
   "cell_type": "code",
   "execution_count": 31,
   "id": "a6273274",
   "metadata": {},
   "outputs": [
    {
     "data": {
      "text/plain": [
       "ANOMES\n",
       "2023-01-01    118.796963\n",
       "2023-02-01     59.004370\n",
       "2023-03-01     57.961349\n",
       "2023-04-01     85.183430\n",
       "2023-05-01    109.242622\n",
       "dtype: float64"
      ]
     },
     "execution_count": 31,
     "metadata": {},
     "output_type": "execute_result"
    }
   ],
   "source": [
    "# valor sintetico pre\n",
    "y0_tr_pre.head()"
   ]
  },
  {
   "cell_type": "code",
   "execution_count": 32,
   "id": "bdf2bd40",
   "metadata": {},
   "outputs": [
    {
     "data": {
      "text/plain": [
       "ANOMES\n",
       "2024-05-01     69.484905\n",
       "2024-06-01     73.497012\n",
       "2024-07-01     17.368147\n",
       "2024-08-01    139.665321\n",
       "2024-09-01     58.206204\n",
       "dtype: float64"
      ]
     },
     "execution_count": 32,
     "metadata": {},
     "output_type": "execute_result"
    }
   ],
   "source": [
    "# valor sintetico pos\n",
    "y0_tr_post.head()"
   ]
  },
  {
   "cell_type": "code",
   "execution_count": 40,
   "id": "ceca91df",
   "metadata": {},
   "outputs": [],
   "source": [
    "sintetico = pd.concat([y0_tr_pre,y0_tr_post])"
   ]
  },
  {
   "cell_type": "code",
   "execution_count": 42,
   "id": "1aa9f522",
   "metadata": {},
   "outputs": [],
   "source": [
    "real = pd.concat([y_pre_tr.mean(axis=1),y_post_tr.mean(axis=1)])"
   ]
  },
  {
   "cell_type": "code",
   "execution_count": null,
   "id": "7c0ccf39",
   "metadata": {},
   "outputs": [],
   "source": []
  }
 ],
 "metadata": {
  "kernelspec": {
   "display_name": "Python 3 (ipykernel)",
   "language": "python",
   "name": "python3"
  },
  "language_info": {
   "codemirror_mode": {
    "name": "ipython",
    "version": 3
   },
   "file_extension": ".py",
   "mimetype": "text/x-python",
   "name": "python",
   "nbconvert_exporter": "python",
   "pygments_lexer": "ipython3",
   "version": "3.11.0"
  }
 },
 "nbformat": 4,
 "nbformat_minor": 5
}
