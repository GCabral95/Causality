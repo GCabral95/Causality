{
 "cells": [
  {
   "cell_type": "markdown",
   "id": "566124b2",
   "metadata": {},
   "source": [
    "# Propensity Score"
   ]
  },
  {
   "cell_type": "markdown",
   "id": "7d629719",
   "metadata": {},
   "source": [
    "* Quando trabalhamos com observacionais, não randomizados, há questão no viés nos dados que não nos garante que tratados e não-tratados são comparáveis, essencialmente pelo impacto das variáveis confounders, que impactam tanto tratamento quanto a variável outcome\n",
    "\n",
    "* Propensity Score determina a probabilidade, para cada observação ser designado para o tratamento, dado o conjunto de variáveis X (essencialmente confounders)\n",
    "\n",
    "* O Propensity Score, P(x), nos permite controlar os confounders X, comparando observações tratadas e não-tratadas com score semelhantes, ou seja, que tem a mesma probabilidade de receber o tratamento\n",
    "\n",
    "* A combinação direta das variáveis X, comparando observações parecidas, pode funcionar para poucas variáveis e amostras grandes, para mais variáveis e menos amostras, o controle pelo propensity score é apropriado, além de não se limitar ao pressuposto da linearidade via regressão, por exemplo, permitindo ajustes de interações mais complexas."
   ]
  },
  {
   "cell_type": "code",
   "execution_count": 1,
   "id": "e129d378",
   "metadata": {},
   "outputs": [],
   "source": [
    "import pandas as pd\n",
    "import numpy as np\n",
    "from numpy import argmax\n",
    "import seaborn as sns\n",
    "import matplotlib.pyplot as plt\n",
    "import statistics as st\n",
    "import matplotlib.ticker as mtick\n",
    "import warnings\n",
    "warnings.filterwarnings(\"ignore\")"
   ]
  },
  {
   "cell_type": "markdown",
   "id": "6e6c9b72",
   "metadata": {},
   "source": [
    "# Contexto do estudo\n",
    "\n",
    "* Verificar o impacto do acesso a internet no domicilio do estudante na nota de redação do ENEM 2021\n",
    "* Será utilizado a técnica de Propensity Score"
   ]
  },
  {
   "cell_type": "markdown",
   "id": "6d091d80",
   "metadata": {},
   "source": [
    "#### Base ENEM 2021"
   ]
  },
  {
   "cell_type": "code",
   "execution_count": 2,
   "id": "b424fbce",
   "metadata": {},
   "outputs": [],
   "source": [
    "enem = pd.read_csv('MICRODADOS_ENEM_2021.csv',encoding='latin-1', sep = \";\")"
   ]
  },
  {
   "cell_type": "code",
   "execution_count": 3,
   "id": "00fee08e",
   "metadata": {},
   "outputs": [
    {
     "data": {
      "text/html": [
       "<div>\n",
       "<style scoped>\n",
       "    .dataframe tbody tr th:only-of-type {\n",
       "        vertical-align: middle;\n",
       "    }\n",
       "\n",
       "    .dataframe tbody tr th {\n",
       "        vertical-align: top;\n",
       "    }\n",
       "\n",
       "    .dataframe thead th {\n",
       "        text-align: right;\n",
       "    }\n",
       "</style>\n",
       "<table border=\"1\" class=\"dataframe\">\n",
       "  <thead>\n",
       "    <tr style=\"text-align: right;\">\n",
       "      <th></th>\n",
       "      <th>NU_INSCRICAO</th>\n",
       "      <th>NU_ANO</th>\n",
       "      <th>TP_FAIXA_ETARIA</th>\n",
       "      <th>TP_SEXO</th>\n",
       "      <th>TP_ESTADO_CIVIL</th>\n",
       "      <th>TP_COR_RACA</th>\n",
       "      <th>TP_NACIONALIDADE</th>\n",
       "      <th>TP_ST_CONCLUSAO</th>\n",
       "      <th>TP_ANO_CONCLUIU</th>\n",
       "      <th>TP_ESCOLA</th>\n",
       "      <th>...</th>\n",
       "      <th>Q016</th>\n",
       "      <th>Q017</th>\n",
       "      <th>Q018</th>\n",
       "      <th>Q019</th>\n",
       "      <th>Q020</th>\n",
       "      <th>Q021</th>\n",
       "      <th>Q022</th>\n",
       "      <th>Q023</th>\n",
       "      <th>Q024</th>\n",
       "      <th>Q025</th>\n",
       "    </tr>\n",
       "  </thead>\n",
       "  <tbody>\n",
       "    <tr>\n",
       "      <th>0</th>\n",
       "      <td>210053865474</td>\n",
       "      <td>2021</td>\n",
       "      <td>5</td>\n",
       "      <td>F</td>\n",
       "      <td>1</td>\n",
       "      <td>1</td>\n",
       "      <td>1</td>\n",
       "      <td>1</td>\n",
       "      <td>3</td>\n",
       "      <td>1</td>\n",
       "      <td>...</td>\n",
       "      <td>A</td>\n",
       "      <td>A</td>\n",
       "      <td>A</td>\n",
       "      <td>B</td>\n",
       "      <td>A</td>\n",
       "      <td>A</td>\n",
       "      <td>B</td>\n",
       "      <td>A</td>\n",
       "      <td>B</td>\n",
       "      <td>B</td>\n",
       "    </tr>\n",
       "    <tr>\n",
       "      <th>1</th>\n",
       "      <td>210052384164</td>\n",
       "      <td>2021</td>\n",
       "      <td>12</td>\n",
       "      <td>M</td>\n",
       "      <td>1</td>\n",
       "      <td>1</td>\n",
       "      <td>1</td>\n",
       "      <td>1</td>\n",
       "      <td>11</td>\n",
       "      <td>1</td>\n",
       "      <td>...</td>\n",
       "      <td>A</td>\n",
       "      <td>A</td>\n",
       "      <td>A</td>\n",
       "      <td>B</td>\n",
       "      <td>A</td>\n",
       "      <td>A</td>\n",
       "      <td>C</td>\n",
       "      <td>A</td>\n",
       "      <td>A</td>\n",
       "      <td>A</td>\n",
       "    </tr>\n",
       "    <tr>\n",
       "      <th>2</th>\n",
       "      <td>210052589243</td>\n",
       "      <td>2021</td>\n",
       "      <td>13</td>\n",
       "      <td>F</td>\n",
       "      <td>3</td>\n",
       "      <td>1</td>\n",
       "      <td>1</td>\n",
       "      <td>1</td>\n",
       "      <td>15</td>\n",
       "      <td>1</td>\n",
       "      <td>...</td>\n",
       "      <td>B</td>\n",
       "      <td>A</td>\n",
       "      <td>A</td>\n",
       "      <td>B</td>\n",
       "      <td>A</td>\n",
       "      <td>A</td>\n",
       "      <td>C</td>\n",
       "      <td>B</td>\n",
       "      <td>B</td>\n",
       "      <td>B</td>\n",
       "    </tr>\n",
       "    <tr>\n",
       "      <th>3</th>\n",
       "      <td>210052128335</td>\n",
       "      <td>2021</td>\n",
       "      <td>3</td>\n",
       "      <td>M</td>\n",
       "      <td>1</td>\n",
       "      <td>3</td>\n",
       "      <td>1</td>\n",
       "      <td>2</td>\n",
       "      <td>0</td>\n",
       "      <td>2</td>\n",
       "      <td>...</td>\n",
       "      <td>A</td>\n",
       "      <td>A</td>\n",
       "      <td>A</td>\n",
       "      <td>B</td>\n",
       "      <td>A</td>\n",
       "      <td>A</td>\n",
       "      <td>B</td>\n",
       "      <td>A</td>\n",
       "      <td>B</td>\n",
       "      <td>B</td>\n",
       "    </tr>\n",
       "    <tr>\n",
       "      <th>4</th>\n",
       "      <td>210051353021</td>\n",
       "      <td>2021</td>\n",
       "      <td>2</td>\n",
       "      <td>F</td>\n",
       "      <td>1</td>\n",
       "      <td>3</td>\n",
       "      <td>1</td>\n",
       "      <td>2</td>\n",
       "      <td>0</td>\n",
       "      <td>2</td>\n",
       "      <td>...</td>\n",
       "      <td>B</td>\n",
       "      <td>A</td>\n",
       "      <td>A</td>\n",
       "      <td>B</td>\n",
       "      <td>A</td>\n",
       "      <td>B</td>\n",
       "      <td>E</td>\n",
       "      <td>A</td>\n",
       "      <td>B</td>\n",
       "      <td>B</td>\n",
       "    </tr>\n",
       "  </tbody>\n",
       "</table>\n",
       "<p>5 rows × 76 columns</p>\n",
       "</div>"
      ],
      "text/plain": [
       "   NU_INSCRICAO  NU_ANO  TP_FAIXA_ETARIA TP_SEXO  TP_ESTADO_CIVIL  \\\n",
       "0  210053865474    2021                5       F                1   \n",
       "1  210052384164    2021               12       M                1   \n",
       "2  210052589243    2021               13       F                3   \n",
       "3  210052128335    2021                3       M                1   \n",
       "4  210051353021    2021                2       F                1   \n",
       "\n",
       "   TP_COR_RACA  TP_NACIONALIDADE  TP_ST_CONCLUSAO  TP_ANO_CONCLUIU  TP_ESCOLA  \\\n",
       "0            1                 1                1                3          1   \n",
       "1            1                 1                1               11          1   \n",
       "2            1                 1                1               15          1   \n",
       "3            3                 1                2                0          2   \n",
       "4            3                 1                2                0          2   \n",
       "\n",
       "   ...  Q016  Q017  Q018 Q019  Q020 Q021  Q022  Q023  Q024  Q025  \n",
       "0  ...     A     A     A    B     A    A     B     A     B     B  \n",
       "1  ...     A     A     A    B     A    A     C     A     A     A  \n",
       "2  ...     B     A     A    B     A    A     C     B     B     B  \n",
       "3  ...     A     A     A    B     A    A     B     A     B     B  \n",
       "4  ...     B     A     A    B     A    B     E     A     B     B  \n",
       "\n",
       "[5 rows x 76 columns]"
      ]
     },
     "execution_count": 3,
     "metadata": {},
     "output_type": "execute_result"
    }
   ],
   "source": [
    "enem.head()"
   ]
  },
  {
   "cell_type": "code",
   "execution_count": 4,
   "id": "730a25e6",
   "metadata": {},
   "outputs": [
    {
     "data": {
      "text/plain": [
       "3389832"
      ]
     },
     "execution_count": 4,
     "metadata": {},
     "output_type": "execute_result"
    }
   ],
   "source": [
    "len(enem)"
   ]
  },
  {
   "cell_type": "markdown",
   "id": "e324e993",
   "metadata": {},
   "source": [
    "# Escolha das variáveis\n",
    "* Variável tratamento: Variável que se deseja mensurar o efeito/impacto\n",
    "* Variável outcome (resultado/efeito): Variável que será influenciada pelo tratamento, em que será refletido o efeito\n",
    "* Para demais variáveis, cabe o detalhamento:\n",
    "    * Variáveis de confounders: É necessário, um requisito incluir as variáveis que causam (estão correlacionadas) tanto o outcome quanto o tratamento\n",
    "    * Variáveis que reduzem a variância do outcome: É vantajoso a performance do modelo incluir variáveis que reduzem a variabilidade (são boas preditoras) da variável outcome, mesmo que não seja da variável tratamento\n",
    "    * Variáveis nocivas ao modelo\n",
    "        * Variáveis que sejam apenas boas preditoras do tratamento\n",
    "        * Variáveis que estejam entre o tratamento e outcome, visualizado em um gráfico causal\n",
    "        * Variáveis que são efeito comum entre o tratamento e outcome"
   ]
  },
  {
   "cell_type": "markdown",
   "id": "2bb5fbb2",
   "metadata": {},
   "source": [
    "# Variáveis da base\n",
    "\n",
    "* Tratamento: Acesso a internet no domicilio\n",
    "    * Q025 - Na sua residência possui acesso a internet?\n",
    "        * A - Não\n",
    "        * B - Sim\n",
    "* Outcome: Nota de redação do enem\n",
    "    * NU_NOTA_REDACAO\n",
    "* Demais controles: Será analisado logo abaixo se cada uma destas variáveis sera inclusa no modelo\n",
    "    * TP_ESCOLA: Tipo de escola do Ensino Médio\n",
    "        * 1 - Nao respondeu\n",
    "        * 2 - Pública\n",
    "        * 3 - Privada\n",
    "    * TP_LOCALIZACAO_ESC: Localização da escola\n",
    "        * 1 - Urbana\n",
    "        * 2 - Rural\n",
    "    * Q006: Qual é a renda mensal de sua família? (Some a sua renda com a dos seus familiares\n",
    "        * A -\tNenhuma Renda\n",
    "        * B -\tAté R 1.100.00\n",
    "        * C -  De R 1.100,01 até R 1.650,00.\n",
    "        * D - \tDe R 1.650,01 até R 2.200,00.\n",
    "        * E - \tDe R 2.200,01 até R 2.750,00.\n",
    "        * F - \tDe R 2.750,01 até R 3.300,00.\n",
    "        * G - \tDe R 3.300,01 até R 4.400,00.\n",
    "        * H - \tDe R 4.400,01 até R 5.500,00.\n",
    "        * I - \tDe R 5.500,01 até R 6.600,00.\n",
    "        * J - \tDe R 6.600,01 até R 7.700,00.\n",
    "        * K - \tDe R 7.700,01 até R 8.800,00.\n",
    "        * L - \tDe R 8.800,01 até R 9.900,00.\n",
    "        * M - \tDe R 9.900,01 até R 11.000,00.\n",
    "        * N - \tDe R 11.000,01 até R 13.200,00.\n",
    "        * O - \tDe R 13.200,01 até R 16.500,00.\n",
    "        * P - \tDe R 16.500,01 até R 22.000,00.\n",
    "        * Q - \tAcima de R 22.000,00.\n",
    "    * Q024: Na sua residência tem computador?\n",
    "        * A -\tNão.\n",
    "        * B -\tSim, um.\n",
    "        * C - \tSim, dois.\n",
    "        * D - \tSim, três.\n",
    "        * E -\tSim, quatro ou mais."
   ]
  },
  {
   "cell_type": "code",
   "execution_count": 5,
   "id": "10d31d32",
   "metadata": {},
   "outputs": [],
   "source": [
    "df = enem[['TP_ESCOLA','TP_LOCALIZACAO_ESC','Q006','Q024','Q025','NU_NOTA_REDACAO']]"
   ]
  },
  {
   "cell_type": "code",
   "execution_count": 6,
   "id": "c5e8e11d",
   "metadata": {},
   "outputs": [
    {
     "data": {
      "text/html": [
       "<div>\n",
       "<style scoped>\n",
       "    .dataframe tbody tr th:only-of-type {\n",
       "        vertical-align: middle;\n",
       "    }\n",
       "\n",
       "    .dataframe tbody tr th {\n",
       "        vertical-align: top;\n",
       "    }\n",
       "\n",
       "    .dataframe thead th {\n",
       "        text-align: right;\n",
       "    }\n",
       "</style>\n",
       "<table border=\"1\" class=\"dataframe\">\n",
       "  <thead>\n",
       "    <tr style=\"text-align: right;\">\n",
       "      <th></th>\n",
       "      <th>TP_ESCOLA</th>\n",
       "      <th>TP_LOCALIZACAO_ESC</th>\n",
       "      <th>Q006</th>\n",
       "      <th>Q024</th>\n",
       "      <th>Q025</th>\n",
       "      <th>NU_NOTA_REDACAO</th>\n",
       "    </tr>\n",
       "  </thead>\n",
       "  <tbody>\n",
       "    <tr>\n",
       "      <th>0</th>\n",
       "      <td>1</td>\n",
       "      <td>NaN</td>\n",
       "      <td>D</td>\n",
       "      <td>B</td>\n",
       "      <td>B</td>\n",
       "      <td>760.0</td>\n",
       "    </tr>\n",
       "    <tr>\n",
       "      <th>1</th>\n",
       "      <td>1</td>\n",
       "      <td>NaN</td>\n",
       "      <td>B</td>\n",
       "      <td>A</td>\n",
       "      <td>A</td>\n",
       "      <td>560.0</td>\n",
       "    </tr>\n",
       "    <tr>\n",
       "      <th>2</th>\n",
       "      <td>1</td>\n",
       "      <td>NaN</td>\n",
       "      <td>C</td>\n",
       "      <td>B</td>\n",
       "      <td>B</td>\n",
       "      <td>NaN</td>\n",
       "    </tr>\n",
       "    <tr>\n",
       "      <th>3</th>\n",
       "      <td>2</td>\n",
       "      <td>1.0</td>\n",
       "      <td>B</td>\n",
       "      <td>B</td>\n",
       "      <td>B</td>\n",
       "      <td>780.0</td>\n",
       "    </tr>\n",
       "    <tr>\n",
       "      <th>4</th>\n",
       "      <td>2</td>\n",
       "      <td>1.0</td>\n",
       "      <td>C</td>\n",
       "      <td>B</td>\n",
       "      <td>B</td>\n",
       "      <td>780.0</td>\n",
       "    </tr>\n",
       "  </tbody>\n",
       "</table>\n",
       "</div>"
      ],
      "text/plain": [
       "   TP_ESCOLA  TP_LOCALIZACAO_ESC Q006 Q024 Q025  NU_NOTA_REDACAO\n",
       "0          1                 NaN    D    B    B            760.0\n",
       "1          1                 NaN    B    A    A            560.0\n",
       "2          1                 NaN    C    B    B              NaN\n",
       "3          2                 1.0    B    B    B            780.0\n",
       "4          2                 1.0    C    B    B            780.0"
      ]
     },
     "execution_count": 6,
     "metadata": {},
     "output_type": "execute_result"
    }
   ],
   "source": [
    "df.head()"
   ]
  },
  {
   "cell_type": "code",
   "execution_count": 7,
   "id": "05fd0644",
   "metadata": {},
   "outputs": [
    {
     "data": {
      "text/plain": [
       "TP_ESCOLA              0.000000\n",
       "TP_LOCALIZACAO_ESC    75.992734\n",
       "Q006                   0.000059\n",
       "Q024                   0.000059\n",
       "Q025                   0.000059\n",
       "NU_NOTA_REDACAO       29.837850\n",
       "dtype: float64"
      ]
     },
     "execution_count": 7,
     "metadata": {},
     "output_type": "execute_result"
    }
   ],
   "source": [
    "#verificando nulos\n",
    "(df.isnull().sum()/len(df))*100"
   ]
  },
  {
   "cell_type": "markdown",
   "id": "88fd48ff",
   "metadata": {},
   "source": [
    "* Como há muitos nulos na variável de localização da escola, decide-se incluir uma terceira classe, equivalente a informação não fornecida"
   ]
  },
  {
   "cell_type": "code",
   "execution_count": 8,
   "id": "c96f10e4",
   "metadata": {},
   "outputs": [],
   "source": [
    "df.fillna({'TP_LOCALIZACAO_ESC':3}, inplace=True)"
   ]
  },
  {
   "cell_type": "code",
   "execution_count": 9,
   "id": "e77f54aa",
   "metadata": {},
   "outputs": [],
   "source": [
    "# Retirando as linhas sem nota de redação\n",
    "df.dropna(inplace=True)"
   ]
  },
  {
   "cell_type": "code",
   "execution_count": 10,
   "id": "2d615e95",
   "metadata": {},
   "outputs": [
    {
     "data": {
      "text/plain": [
       "2378378"
      ]
     },
     "execution_count": 10,
     "metadata": {},
     "output_type": "execute_result"
    }
   ],
   "source": [
    "# Restam cerca de 2,3 MM de provas\n",
    "len(df)"
   ]
  },
  {
   "cell_type": "markdown",
   "id": "630c597b",
   "metadata": {},
   "source": [
    "* Um modelo simples, que seria verificar a média da nota entre os possíveis valores do tratamento, gera o resultado de que: O acesso a internet impacta positivamente a nota da prova em 93 pontos\n",
    "    * Esse modelo será criticado com o Propensity Score, retirando o viés de outras variáveis que impactam o outcome"
   ]
  },
  {
   "cell_type": "code",
   "execution_count": 11,
   "id": "ba58a6f4",
   "metadata": {},
   "outputs": [
    {
     "data": {
      "text/plain": [
       "Q025\n",
       "A    528.206907\n",
       "B    621.557337\n",
       "Name: NU_NOTA_REDACAO, dtype: float64"
      ]
     },
     "execution_count": 11,
     "metadata": {},
     "output_type": "execute_result"
    }
   ],
   "source": [
    "df.groupby('Q025')['NU_NOTA_REDACAO'].mean()"
   ]
  },
  {
   "cell_type": "code",
   "execution_count": 12,
   "id": "3b070f4d",
   "metadata": {},
   "outputs": [
    {
     "data": {
      "text/plain": [
       "93"
      ]
     },
     "execution_count": 12,
     "metadata": {},
     "output_type": "execute_result"
    }
   ],
   "source": [
    "621-528"
   ]
  },
  {
   "cell_type": "markdown",
   "id": "52e68b9f",
   "metadata": {},
   "source": [
    "## Tipo de escola"
   ]
  },
  {
   "cell_type": "markdown",
   "id": "727d6819",
   "metadata": {},
   "source": [
    "#### VS Variável Tratamento "
   ]
  },
  {
   "cell_type": "markdown",
   "id": "793d9599",
   "metadata": {},
   "source": [
    "* Visão gráfica\n",
    "    * A principio, o acesso a internet é maior nas escolas privadas, na sequência, das não identificadas e púbica tem um % maior de não acesso a internet"
   ]
  },
  {
   "cell_type": "code",
   "execution_count": 13,
   "id": "0c47c38b",
   "metadata": {},
   "outputs": [
    {
     "data": {
      "image/png": "[encoded data removed]",
      "text/plain": [
       "<Figure size 640x480 with 1 Axes>"
      ]
     },
     "metadata": {},
     "output_type": "display_data"
    }
   ],
   "source": [
    "freq = pd.crosstab(df['TP_ESCOLA'], df['Q025'], normalize = 'index')*100\n",
    "freq\n",
    "ax = freq.plot.bar(stacked=True, rot=0)\n",
    "plt.legend(title = \"Acesso a internet\", bbox_to_anchor=(1.05, 1), loc=2, borderaxespad=0.)\n",
    "ax.yaxis.set_major_formatter(mtick.PercentFormatter())"
   ]
  },
  {
   "cell_type": "markdown",
   "id": "768264cf",
   "metadata": {},
   "source": [
    "* Teste de hipotese - qui-quadrado\n",
    "    * Como p-valor <0.05, há evidências para rejeitar a hipotese de nula que não ha relação entre as variaveis"
   ]
  },
  {
   "cell_type": "code",
   "execution_count": 14,
   "id": "5ae0e657",
   "metadata": {},
   "outputs": [
    {
     "name": "stdout",
     "output_type": "stream",
     "text": [
      "0.0\n"
     ]
    }
   ],
   "source": [
    "from scipy.stats import chi2_contingency\n",
    "df2 = pd.crosstab(df['TP_ESCOLA'], df['Q025'])\n",
    "chi2, p, dof, ex = chi2_contingency(df2)\n",
    "print(p)"
   ]
  },
  {
   "cell_type": "markdown",
   "id": "f3cbf449",
   "metadata": {},
   "source": [
    "    * V-cramer: Mensura a força entre a associação entre variáveis categoricas\n",
    "        * O valor de 0.08 evidencia que, apesar de haver alguma relação, conforme teste acima, essa associação é fraca"
   ]
  },
  {
   "cell_type": "code",
   "execution_count": 15,
   "id": "9bf41337",
   "metadata": {},
   "outputs": [],
   "source": [
    "df['cont'] = 1"
   ]
  },
  {
   "cell_type": "code",
   "execution_count": 16,
   "id": "77dd75f2",
   "metadata": {},
   "outputs": [
    {
     "name": "stdout",
     "output_type": "stream",
     "text": [
      "0.08608020924817718\n"
     ]
    }
   ],
   "source": [
    "chi = df.pivot_table('cont',df['TP_ESCOLA'], df['Q025'],aggfunc = 'count')\n",
    "chi=chi.replace(np.nan,0)\n",
    "xsq,pvalue,dof,expected=chi2_contingency(chi)\n",
    "a = min(len(df['TP_ESCOLA'].unique()),len(df['Q025'].unique()))\n",
    "b = len(df['TP_ESCOLA'])\n",
    "vcramer = (xsq/(b*(a-1)))**(1/2)\n",
    "print(vcramer)"
   ]
  },
  {
   "cell_type": "markdown",
   "id": "9ca78e58",
   "metadata": {},
   "source": [
    "#### VS Variável Outcome "
   ]
  },
  {
   "cell_type": "markdown",
   "id": "4b74ddec",
   "metadata": {},
   "source": [
    "* Visão gráfica\n",
    "    * As notas de redação são maiores nas escolas privadas, na sequência vem as não identificadas e, por fim, as públicas"
   ]
  },
  {
   "cell_type": "code",
   "execution_count": 17,
   "id": "f6e40c97",
   "metadata": {},
   "outputs": [
    {
     "data": {
      "image/png": "[encoded data removed]",
      "text/plain": [
       "<Figure size 640x480 with 1 Axes>"
      ]
     },
     "metadata": {},
     "output_type": "display_data"
    }
   ],
   "source": [
    "sns.boxplot(x=\"TP_ESCOLA\", y=\"NU_NOTA_REDACAO\", data=df, palette=\"Set2\", width=0.5)\n",
    "plt.show()"
   ]
  },
  {
   "cell_type": "markdown",
   "id": "34b28657",
   "metadata": {},
   "source": [
    "* Regressão Linear\n",
    "    * Pelos coeficientes da regressão podemos atestar o impacto positivo de 115 pontos da escola privada na nota e redução de 45 para o colégio publico, ambos referenciados nas escola sem identificação"
   ]
  },
  {
   "cell_type": "code",
   "execution_count": 18,
   "id": "74da024c",
   "metadata": {},
   "outputs": [],
   "source": [
    "import statsmodels.api as sm\n",
    "df_tip = df[['TP_ESCOLA','NU_NOTA_REDACAO']]\n",
    "df_tip = pd.get_dummies(df_tip,columns=['TP_ESCOLA'], drop_first=True)\n",
    "df_tip = sm.add_constant(df_tip)\n",
    "Y = \"NU_NOTA_REDACAO\"\n",
    "X = df_tip.columns.drop([Y])"
   ]
  },
  {
   "cell_type": "code",
   "execution_count": 19,
   "id": "9391a9b2",
   "metadata": {},
   "outputs": [],
   "source": [
    "model1 = sm.OLS(df_tip[Y], df_tip[X]).fit()"
   ]
  },
  {
   "cell_type": "code",
   "execution_count": 20,
   "id": "d628c96b",
   "metadata": {},
   "outputs": [
    {
     "data": {
      "text/html": [
       "<table class=\"simpletable\">\n",
       "<caption>OLS Regression Results</caption>\n",
       "<tr>\n",
       "  <th>Dep. Variable:</th>     <td>NU_NOTA_REDACAO</td> <th>  R-squared:         </th>  <td>   0.043</td>  \n",
       "</tr>\n",
       "<tr>\n",
       "  <th>Model:</th>                   <td>OLS</td>       <th>  Adj. R-squared:    </th>  <td>   0.043</td>  \n",
       "</tr>\n",
       "<tr>\n",
       "  <th>Method:</th>             <td>Least Squares</td>  <th>  F-statistic:       </th>  <td>5.299e+04</td> \n",
       "</tr>\n",
       "<tr>\n",
       "  <th>Date:</th>             <td>Fri, 07 Apr 2023</td> <th>  Prob (F-statistic):</th>   <td>  0.00</td>   \n",
       "</tr>\n",
       "<tr>\n",
       "  <th>Time:</th>                 <td>14:38:04</td>     <th>  Log-Likelihood:    </th> <td>-1.5811e+07</td>\n",
       "</tr>\n",
       "<tr>\n",
       "  <th>No. Observations:</th>      <td>2378378</td>     <th>  AIC:               </th>  <td>3.162e+07</td> \n",
       "</tr>\n",
       "<tr>\n",
       "  <th>Df Residuals:</th>          <td>2378375</td>     <th>  BIC:               </th>  <td>3.162e+07</td> \n",
       "</tr>\n",
       "<tr>\n",
       "  <th>Df Model:</th>              <td>     2</td>      <th>                     </th>      <td> </td>     \n",
       "</tr>\n",
       "<tr>\n",
       "  <th>Covariance Type:</th>      <td>nonrobust</td>    <th>                     </th>      <td> </td>     \n",
       "</tr>\n",
       "</table>\n",
       "<table class=\"simpletable\">\n",
       "<tr>\n",
       "       <td></td>          <th>coef</th>     <th>std err</th>      <th>t</th>      <th>P>|t|</th>  <th>[0.025</th>    <th>0.975]</th>  \n",
       "</tr>\n",
       "<tr>\n",
       "  <th>const</th>       <td>  618.5040</td> <td>    0.153</td> <td> 4040.187</td> <td> 0.000</td> <td>  618.204</td> <td>  618.804</td>\n",
       "</tr>\n",
       "<tr>\n",
       "  <th>TP_ESCOLA_2</th> <td>  -45.5458</td> <td>    0.269</td> <td> -169.144</td> <td> 0.000</td> <td>  -46.074</td> <td>  -45.018</td>\n",
       "</tr>\n",
       "<tr>\n",
       "  <th>TP_ESCOLA_3</th> <td>  111.5557</td> <td>    0.462</td> <td>  241.330</td> <td> 0.000</td> <td>  110.650</td> <td>  112.462</td>\n",
       "</tr>\n",
       "</table>\n",
       "<table class=\"simpletable\">\n",
       "<tr>\n",
       "  <th>Omnibus:</th>       <td>341572.839</td> <th>  Durbin-Watson:     </th>  <td>   1.942</td> \n",
       "</tr>\n",
       "<tr>\n",
       "  <th>Prob(Omnibus):</th>   <td> 0.000</td>   <th>  Jarque-Bera (JB):  </th> <td>709071.416</td>\n",
       "</tr>\n",
       "<tr>\n",
       "  <th>Skew:</th>            <td>-0.879</td>   <th>  Prob(JB):          </th>  <td>    0.00</td> \n",
       "</tr>\n",
       "<tr>\n",
       "  <th>Kurtosis:</th>        <td> 5.016</td>   <th>  Cond. No.          </th>  <td>    4.10</td> \n",
       "</tr>\n",
       "</table><br/><br/>Notes:<br/>[1] Standard Errors assume that the covariance matrix of the errors is correctly specified."
      ],
      "text/plain": [
       "<class 'statsmodels.iolib.summary.Summary'>\n",
       "\"\"\"\n",
       "                            OLS Regression Results                            \n",
       "==============================================================================\n",
       "Dep. Variable:        NU_NOTA_REDACAO   R-squared:                       0.043\n",
       "Model:                            OLS   Adj. R-squared:                  0.043\n",
       "Method:                 Least Squares   F-statistic:                 5.299e+04\n",
       "Date:                Fri, 07 Apr 2023   Prob (F-statistic):               0.00\n",
       "Time:                        14:38:04   Log-Likelihood:            -1.5811e+07\n",
       "No. Observations:             2378378   AIC:                         3.162e+07\n",
       "Df Residuals:                 2378375   BIC:                         3.162e+07\n",
       "Df Model:                           2                                         \n",
       "Covariance Type:            nonrobust                                         \n",
       "===============================================================================\n",
       "                  coef    std err          t      P>|t|      [0.025      0.975]\n",
       "-------------------------------------------------------------------------------\n",
       "const         618.5040      0.153   4040.187      0.000     618.204     618.804\n",
       "TP_ESCOLA_2   -45.5458      0.269   -169.144      0.000     -46.074     -45.018\n",
       "TP_ESCOLA_3   111.5557      0.462    241.330      0.000     110.650     112.462\n",
       "==============================================================================\n",
       "Omnibus:                   341572.839   Durbin-Watson:                   1.942\n",
       "Prob(Omnibus):                  0.000   Jarque-Bera (JB):           709071.416\n",
       "Skew:                          -0.879   Prob(JB):                         0.00\n",
       "Kurtosis:                       5.016   Cond. No.                         4.10\n",
       "==============================================================================\n",
       "\n",
       "Notes:\n",
       "[1] Standard Errors assume that the covariance matrix of the errors is correctly specified.\n",
       "\"\"\""
      ]
     },
     "execution_count": 20,
     "metadata": {},
     "output_type": "execute_result"
    }
   ],
   "source": [
    "model1.summary()"
   ]
  },
  {
   "cell_type": "markdown",
   "id": "603abd13",
   "metadata": {},
   "source": [
    "## Localização da escola"
   ]
  },
  {
   "cell_type": "markdown",
   "id": "760cd2de",
   "metadata": {},
   "source": [
    "##### VS Variável Tratamento"
   ]
  },
  {
   "cell_type": "markdown",
   "id": "6d983812",
   "metadata": {},
   "source": [
    "* Visão gráfica\n",
    "    * As escolas rurais possuem visivelmente uma taxa menor de acesso a internet quando comparado aos colégios urbanos e sem identificação"
   ]
  },
  {
   "cell_type": "code",
   "execution_count": 21,
   "id": "cb8fe201",
   "metadata": {},
   "outputs": [
    {
     "data": {
      "image/png": "[encoded data removed]",
      "text/plain": [
       "<Figure size 640x480 with 1 Axes>"
      ]
     },
     "metadata": {},
     "output_type": "display_data"
    }
   ],
   "source": [
    "freq = pd.crosstab(df['TP_LOCALIZACAO_ESC'], df['Q025'], normalize = 'index')*100\n",
    "freq\n",
    "ax = freq.plot.bar(stacked=True, rot=0)\n",
    "plt.legend(title = \"Acesso a internet\", bbox_to_anchor=(1.05, 1), loc=2, borderaxespad=0.)\n",
    "ax.yaxis.set_major_formatter(mtick.PercentFormatter())"
   ]
  },
  {
   "cell_type": "markdown",
   "id": "a2ba349c",
   "metadata": {},
   "source": [
    "* Teste de hipotese - qui-quadrado\n",
    "    * Como p-valor <0.05, há evidências para rejeitar a hipotese de nula que não ha relação entre as variaveis"
   ]
  },
  {
   "cell_type": "code",
   "execution_count": 22,
   "id": "30a3bb79",
   "metadata": {},
   "outputs": [
    {
     "name": "stdout",
     "output_type": "stream",
     "text": [
      "0.0\n"
     ]
    }
   ],
   "source": [
    "from scipy.stats import chi2_contingency\n",
    "df2 = pd.crosstab(df['TP_LOCALIZACAO_ESC'], df['Q025'])\n",
    "chi2, p, dof, ex = chi2_contingency(df2)\n",
    "print(p)"
   ]
  },
  {
   "cell_type": "markdown",
   "id": "51acaa13",
   "metadata": {},
   "source": [
    "       * V-cramer: Mensura a força entre a associação entre variáveis categoricas\n",
    "           * Novamente, com um v-cramer baixo, a relação existente entre as variáveis é fraca"
   ]
  },
  {
   "cell_type": "code",
   "execution_count": 23,
   "id": "a8aba9f0",
   "metadata": {},
   "outputs": [
    {
     "name": "stdout",
     "output_type": "stream",
     "text": [
      "0.042426405186051314\n"
     ]
    }
   ],
   "source": [
    "chi = df.pivot_table('cont',df['TP_LOCALIZACAO_ESC'], df['Q025'],aggfunc = 'count')\n",
    "chi=chi.replace(np.nan,0)\n",
    "xsq,pvalue,dof,expected=chi2_contingency(chi)\n",
    "a = min(len(df['TP_LOCALIZACAO_ESC'].unique()),len(df['Q025'].unique()))\n",
    "b = len(df['TP_LOCALIZACAO_ESC'])\n",
    "vcramer = (xsq/(b*(a-1)))**(1/2)\n",
    "print(vcramer)"
   ]
  },
  {
   "cell_type": "markdown",
   "id": "efb11503",
   "metadata": {},
   "source": [
    "#### VS Variável Outcome "
   ]
  },
  {
   "cell_type": "markdown",
   "id": "3d4d7ad6",
   "metadata": {},
   "source": [
    "* Visão gráfica\n",
    "    * As escolas urbanas e não identificadas estão situadas acima das rurais na mediana e principalmente no terceiro quartil quanto as notas de redação"
   ]
  },
  {
   "cell_type": "code",
   "execution_count": 24,
   "id": "cab9a2f5",
   "metadata": {},
   "outputs": [
    {
     "data": {
      "image/png": "[encoded data removed]",
      "text/plain": [
       "<Figure size 640x480 with 1 Axes>"
      ]
     },
     "metadata": {},
     "output_type": "display_data"
    }
   ],
   "source": [
    "sns.boxplot(x=\"TP_LOCALIZACAO_ESC\", y=\"NU_NOTA_REDACAO\", data=df, palette=\"Set2\", width=0.5)\n",
    "plt.show()"
   ]
  },
  {
   "cell_type": "markdown",
   "id": "33bb3473",
   "metadata": {},
   "source": [
    "* Regressão Linear\n",
    "    * Com a escola urbana como referencial, a regressão evidencia que tanto a rural quanto as não identificadas tem uma queda da nota, dado os coeficientes significativos"
   ]
  },
  {
   "cell_type": "code",
   "execution_count": 25,
   "id": "ce5a2e5b",
   "metadata": {},
   "outputs": [],
   "source": [
    "import statsmodels.api as sm"
   ]
  },
  {
   "cell_type": "code",
   "execution_count": 26,
   "id": "c3b08d8e",
   "metadata": {},
   "outputs": [],
   "source": [
    "df_loc = df[['TP_LOCALIZACAO_ESC','NU_NOTA_REDACAO']]\n",
    "df_loc = pd.get_dummies(df_loc,columns=['TP_LOCALIZACAO_ESC'], drop_first=True)\n",
    "df_loc = sm.add_constant(df_loc)\n",
    "Y = \"NU_NOTA_REDACAO\"\n",
    "X = df_loc.columns.drop([Y])"
   ]
  },
  {
   "cell_type": "code",
   "execution_count": 27,
   "id": "27cc5208",
   "metadata": {},
   "outputs": [],
   "source": [
    "model2 = sm.OLS(df_loc[Y], df_loc[X]).fit()"
   ]
  },
  {
   "cell_type": "code",
   "execution_count": 28,
   "id": "6e393483",
   "metadata": {},
   "outputs": [
    {
     "data": {
      "text/html": [
       "<table class=\"simpletable\">\n",
       "<caption>OLS Regression Results</caption>\n",
       "<tr>\n",
       "  <th>Dep. Variable:</th>     <td>NU_NOTA_REDACAO</td> <th>  R-squared:         </th>  <td>   0.001</td>  \n",
       "</tr>\n",
       "<tr>\n",
       "  <th>Model:</th>                   <td>OLS</td>       <th>  Adj. R-squared:    </th>  <td>   0.001</td>  \n",
       "</tr>\n",
       "<tr>\n",
       "  <th>Method:</th>             <td>Least Squares</td>  <th>  F-statistic:       </th>  <td>   1247.</td>  \n",
       "</tr>\n",
       "<tr>\n",
       "  <th>Date:</th>             <td>Fri, 07 Apr 2023</td> <th>  Prob (F-statistic):</th>   <td>  0.00</td>   \n",
       "</tr>\n",
       "<tr>\n",
       "  <th>Time:</th>                 <td>14:38:06</td>     <th>  Log-Likelihood:    </th> <td>-1.5862e+07</td>\n",
       "</tr>\n",
       "<tr>\n",
       "  <th>No. Observations:</th>      <td>2378378</td>     <th>  AIC:               </th>  <td>3.172e+07</td> \n",
       "</tr>\n",
       "<tr>\n",
       "  <th>Df Residuals:</th>          <td>2378375</td>     <th>  BIC:               </th>  <td>3.172e+07</td> \n",
       "</tr>\n",
       "<tr>\n",
       "  <th>Df Model:</th>              <td>     2</td>      <th>                     </th>      <td> </td>     \n",
       "</tr>\n",
       "<tr>\n",
       "  <th>Covariance Type:</th>      <td>nonrobust</td>    <th>                     </th>      <td> </td>     \n",
       "</tr>\n",
       "</table>\n",
       "<table class=\"simpletable\">\n",
       "<tr>\n",
       "             <td></td>               <th>coef</th>     <th>std err</th>      <th>t</th>      <th>P>|t|</th>  <th>[0.025</th>    <th>0.975]</th>  \n",
       "</tr>\n",
       "<tr>\n",
       "  <th>const</th>                  <td>  619.2375</td> <td>    0.243</td> <td> 2544.428</td> <td> 0.000</td> <td>  618.760</td> <td>  619.714</td>\n",
       "</tr>\n",
       "<tr>\n",
       "  <th>TP_LOCALIZACAO_ESC_2.0</th> <td>  -64.5278</td> <td>    1.389</td> <td>  -46.473</td> <td> 0.000</td> <td>  -67.249</td> <td>  -61.806</td>\n",
       "</tr>\n",
       "<tr>\n",
       "  <th>TP_LOCALIZACAO_ESC_3.0</th> <td>   -7.0983</td> <td>    0.283</td> <td>  -25.089</td> <td> 0.000</td> <td>   -7.653</td> <td>   -6.544</td>\n",
       "</tr>\n",
       "</table>\n",
       "<table class=\"simpletable\">\n",
       "<tr>\n",
       "  <th>Omnibus:</th>       <td>327127.831</td> <th>  Durbin-Watson:     </th>  <td>   1.949</td> \n",
       "</tr>\n",
       "<tr>\n",
       "  <th>Prob(Omnibus):</th>   <td> 0.000</td>   <th>  Jarque-Bera (JB):  </th> <td>650787.091</td>\n",
       "</tr>\n",
       "<tr>\n",
       "  <th>Skew:</th>            <td>-0.862</td>   <th>  Prob(JB):          </th>  <td>    0.00</td> \n",
       "</tr>\n",
       "<tr>\n",
       "  <th>Kurtosis:</th>        <td> 4.896</td>   <th>  Cond. No.          </th>  <td>    14.3</td> \n",
       "</tr>\n",
       "</table><br/><br/>Notes:<br/>[1] Standard Errors assume that the covariance matrix of the errors is correctly specified."
      ],
      "text/plain": [
       "<class 'statsmodels.iolib.summary.Summary'>\n",
       "\"\"\"\n",
       "                            OLS Regression Results                            \n",
       "==============================================================================\n",
       "Dep. Variable:        NU_NOTA_REDACAO   R-squared:                       0.001\n",
       "Model:                            OLS   Adj. R-squared:                  0.001\n",
       "Method:                 Least Squares   F-statistic:                     1247.\n",
       "Date:                Fri, 07 Apr 2023   Prob (F-statistic):               0.00\n",
       "Time:                        14:38:06   Log-Likelihood:            -1.5862e+07\n",
       "No. Observations:             2378378   AIC:                         3.172e+07\n",
       "Df Residuals:                 2378375   BIC:                         3.172e+07\n",
       "Df Model:                           2                                         \n",
       "Covariance Type:            nonrobust                                         \n",
       "==========================================================================================\n",
       "                             coef    std err          t      P>|t|      [0.025      0.975]\n",
       "------------------------------------------------------------------------------------------\n",
       "const                    619.2375      0.243   2544.428      0.000     618.760     619.714\n",
       "TP_LOCALIZACAO_ESC_2.0   -64.5278      1.389    -46.473      0.000     -67.249     -61.806\n",
       "TP_LOCALIZACAO_ESC_3.0    -7.0983      0.283    -25.089      0.000      -7.653      -6.544\n",
       "==============================================================================\n",
       "Omnibus:                   327127.831   Durbin-Watson:                   1.949\n",
       "Prob(Omnibus):                  0.000   Jarque-Bera (JB):           650787.091\n",
       "Skew:                          -0.862   Prob(JB):                         0.00\n",
       "Kurtosis:                       4.896   Cond. No.                         14.3\n",
       "==============================================================================\n",
       "\n",
       "Notes:\n",
       "[1] Standard Errors assume that the covariance matrix of the errors is correctly specified.\n",
       "\"\"\""
      ]
     },
     "execution_count": 28,
     "metadata": {},
     "output_type": "execute_result"
    }
   ],
   "source": [
    "model2.summary()"
   ]
  },
  {
   "cell_type": "markdown",
   "id": "bb994b90",
   "metadata": {},
   "source": [
    "## Renda mensal familiar "
   ]
  },
  {
   "cell_type": "markdown",
   "id": "a6be0296",
   "metadata": {},
   "source": [
    "#### VS Variável Tratamento "
   ]
  },
  {
   "cell_type": "markdown",
   "id": "95a69530",
   "metadata": {},
   "source": [
    "* Visão gráfica\n",
    "    * É notavel o aumento do acesso a internet conforme o aumento da renda, principalmente das classes C e D em diante (R 1.6/2 mil em diante)"
   ]
  },
  {
   "cell_type": "code",
   "execution_count": 29,
   "id": "398d59ae",
   "metadata": {},
   "outputs": [
    {
     "data": {
      "image/png": "[encoded data removed]",
      "text/plain": [
       "<Figure size 640x480 with 1 Axes>"
      ]
     },
     "metadata": {},
     "output_type": "display_data"
    }
   ],
   "source": [
    "freq = pd.crosstab(df['Q006'], df['Q025'], normalize = 'index')*100\n",
    "freq\n",
    "ax = freq.plot.bar(stacked=True, rot=0)\n",
    "plt.legend(title = \"Acesso a internet\", bbox_to_anchor=(1.05, 1), loc=2, borderaxespad=0.)\n",
    "ax.yaxis.set_major_formatter(mtick.PercentFormatter())"
   ]
  },
  {
   "cell_type": "markdown",
   "id": "e90baee8",
   "metadata": {},
   "source": [
    "* Teste de hipotese - qui-quadrado\n",
    "    * Como p-valor <0.05, há evidências para rejeitar a hipotese de nula que não ha relação entre as variaveis"
   ]
  },
  {
   "cell_type": "code",
   "execution_count": 30,
   "id": "3e3bbd8e",
   "metadata": {},
   "outputs": [
    {
     "name": "stdout",
     "output_type": "stream",
     "text": [
      "0.0\n"
     ]
    }
   ],
   "source": [
    "from scipy.stats import chi2_contingency\n",
    "df2 = pd.crosstab(df['Q006'], df['Q025'])\n",
    "chi2, p, dof, ex = chi2_contingency(df2)\n",
    "print(p)"
   ]
  },
  {
   "cell_type": "markdown",
   "id": "3c5b484e",
   "metadata": {},
   "source": [
    "    * V-cramer: Mensura a força entre a associação entre variáveis categoricas\n",
    "        * Com a variável de renda há um v-cramer maior, assim, existe uma associação moderada entre as variáveis"
   ]
  },
  {
   "cell_type": "code",
   "execution_count": 31,
   "id": "57f71da4",
   "metadata": {},
   "outputs": [
    {
     "name": "stdout",
     "output_type": "stream",
     "text": [
      "0.347179475773926\n"
     ]
    }
   ],
   "source": [
    "chi = df.pivot_table('cont',df['Q006'], df['Q025'],aggfunc = 'count')\n",
    "chi=chi.replace(np.nan,0)\n",
    "xsq,pvalue,dof,expected=chi2_contingency(chi)\n",
    "a = min(len(df['Q006'].unique()),len(df['Q025'].unique()))\n",
    "b = len(df['Q006'])\n",
    "vcramer = (xsq/(b*(a-1)))**(1/2)\n",
    "print(vcramer)"
   ]
  },
  {
   "cell_type": "markdown",
   "id": "07ef78a5",
   "metadata": {},
   "source": [
    "##### VS Variável Outcome"
   ]
  },
  {
   "cell_type": "markdown",
   "id": "8c240996",
   "metadata": {},
   "source": [
    "* Visão gráfica\n",
    "    * A nota de redação cresce gradativamente conforme a renda aumenta, até estabilizar por volta da classe K (R 7 - 8 mil)"
   ]
  },
  {
   "cell_type": "code",
   "execution_count": 32,
   "id": "6644b38e",
   "metadata": {},
   "outputs": [
    {
     "data": {
      "image/png": "[encoded data removed]",
      "text/plain": [
       "<Figure size 640x480 with 1 Axes>"
      ]
     },
     "metadata": {},
     "output_type": "display_data"
    }
   ],
   "source": [
    "sns.boxplot(x=\"Q006\", y=\"NU_NOTA_REDACAO\", data=df, palette=\"Set2\", width=0.5,\n",
    "           order = ['A','B','C','D','E','F','G','H','I','J','K','L','M','N','O','P','Q'])\n",
    "plt.show()"
   ]
  },
  {
   "cell_type": "markdown",
   "id": "4136d4e1",
   "metadata": {},
   "source": [
    "* Regressao Linear\n",
    "    * Com a variavel renda como dummy, utilizando a menor classe de renda como referência, todos os coeficientes são significativos, e gradativamente maiores"
   ]
  },
  {
   "cell_type": "code",
   "execution_count": 33,
   "id": "e7987196",
   "metadata": {},
   "outputs": [],
   "source": [
    "df_rend = df[['Q006','NU_NOTA_REDACAO']]\n",
    "df_rend = pd.get_dummies(df_rend,columns=['Q006'], drop_first=True)\n",
    "df_rend = sm.add_constant(df_rend)\n",
    "Y = \"NU_NOTA_REDACAO\"\n",
    "X = df_rend.columns.drop([Y])"
   ]
  },
  {
   "cell_type": "code",
   "execution_count": 34,
   "id": "bb8c4334",
   "metadata": {},
   "outputs": [],
   "source": [
    "model3 = sm.OLS(df_rend[Y], df_rend[X]).fit()"
   ]
  },
  {
   "cell_type": "code",
   "execution_count": 35,
   "id": "53f77538",
   "metadata": {},
   "outputs": [
    {
     "data": {
      "text/html": [
       "<table class=\"simpletable\">\n",
       "<caption>OLS Regression Results</caption>\n",
       "<tr>\n",
       "  <th>Dep. Variable:</th>     <td>NU_NOTA_REDACAO</td> <th>  R-squared:         </th>  <td>   0.092</td>  \n",
       "</tr>\n",
       "<tr>\n",
       "  <th>Model:</th>                   <td>OLS</td>       <th>  Adj. R-squared:    </th>  <td>   0.092</td>  \n",
       "</tr>\n",
       "<tr>\n",
       "  <th>Method:</th>             <td>Least Squares</td>  <th>  F-statistic:       </th>  <td>1.501e+04</td> \n",
       "</tr>\n",
       "<tr>\n",
       "  <th>Date:</th>             <td>Fri, 07 Apr 2023</td> <th>  Prob (F-statistic):</th>   <td>  0.00</td>   \n",
       "</tr>\n",
       "<tr>\n",
       "  <th>Time:</th>                 <td>14:38:12</td>     <th>  Log-Likelihood:    </th> <td>-1.5749e+07</td>\n",
       "</tr>\n",
       "<tr>\n",
       "  <th>No. Observations:</th>      <td>2378378</td>     <th>  AIC:               </th>  <td>3.150e+07</td> \n",
       "</tr>\n",
       "<tr>\n",
       "  <th>Df Residuals:</th>          <td>2378361</td>     <th>  BIC:               </th>  <td>3.150e+07</td> \n",
       "</tr>\n",
       "<tr>\n",
       "  <th>Df Model:</th>              <td>    16</td>      <th>                     </th>      <td> </td>     \n",
       "</tr>\n",
       "<tr>\n",
       "  <th>Covariance Type:</th>      <td>nonrobust</td>    <th>                     </th>      <td> </td>     \n",
       "</tr>\n",
       "</table>\n",
       "<table class=\"simpletable\">\n",
       "<tr>\n",
       "     <td></td>       <th>coef</th>     <th>std err</th>      <th>t</th>      <th>P>|t|</th>  <th>[0.025</th>    <th>0.975]</th>  \n",
       "</tr>\n",
       "<tr>\n",
       "  <th>const</th>  <td>  524.9004</td> <td>    0.520</td> <td> 1009.421</td> <td> 0.000</td> <td>  523.881</td> <td>  525.920</td>\n",
       "</tr>\n",
       "<tr>\n",
       "  <th>Q006_B</th> <td>   31.7432</td> <td>    0.571</td> <td>   55.554</td> <td> 0.000</td> <td>   30.623</td> <td>   32.863</td>\n",
       "</tr>\n",
       "<tr>\n",
       "  <th>Q006_C</th> <td>   61.8491</td> <td>    0.599</td> <td>  103.202</td> <td> 0.000</td> <td>   60.674</td> <td>   63.024</td>\n",
       "</tr>\n",
       "<tr>\n",
       "  <th>Q006_D</th> <td>   77.9640</td> <td>    0.618</td> <td>  126.138</td> <td> 0.000</td> <td>   76.753</td> <td>   79.175</td>\n",
       "</tr>\n",
       "<tr>\n",
       "  <th>Q006_E</th> <td>   96.1438</td> <td>    0.698</td> <td>  137.726</td> <td> 0.000</td> <td>   94.776</td> <td>   97.512</td>\n",
       "</tr>\n",
       "<tr>\n",
       "  <th>Q006_F</th> <td>  111.2419</td> <td>    0.676</td> <td>  164.521</td> <td> 0.000</td> <td>  109.917</td> <td>  112.567</td>\n",
       "</tr>\n",
       "<tr>\n",
       "  <th>Q006_G</th> <td>  129.3330</td> <td>    0.696</td> <td>  185.882</td> <td> 0.000</td> <td>  127.969</td> <td>  130.697</td>\n",
       "</tr>\n",
       "<tr>\n",
       "  <th>Q006_H</th> <td>  147.1123</td> <td>    0.733</td> <td>  200.766</td> <td> 0.000</td> <td>  145.676</td> <td>  148.548</td>\n",
       "</tr>\n",
       "<tr>\n",
       "  <th>Q006_I</th> <td>  160.9203</td> <td>    0.831</td> <td>  193.620</td> <td> 0.000</td> <td>  159.291</td> <td>  162.549</td>\n",
       "</tr>\n",
       "<tr>\n",
       "  <th>Q006_J</th> <td>  170.7520</td> <td>    0.973</td> <td>  175.472</td> <td> 0.000</td> <td>  168.845</td> <td>  172.659</td>\n",
       "</tr>\n",
       "<tr>\n",
       "  <th>Q006_K</th> <td>  177.5884</td> <td>    1.061</td> <td>  167.360</td> <td> 0.000</td> <td>  175.509</td> <td>  179.668</td>\n",
       "</tr>\n",
       "<tr>\n",
       "  <th>Q006_L</th> <td>  181.7226</td> <td>    1.116</td> <td>  162.870</td> <td> 0.000</td> <td>  179.536</td> <td>  183.909</td>\n",
       "</tr>\n",
       "<tr>\n",
       "  <th>Q006_M</th> <td>  189.4899</td> <td>    0.966</td> <td>  196.139</td> <td> 0.000</td> <td>  187.596</td> <td>  191.383</td>\n",
       "</tr>\n",
       "<tr>\n",
       "  <th>Q006_N</th> <td>  200.0611</td> <td>    1.153</td> <td>  173.551</td> <td> 0.000</td> <td>  197.802</td> <td>  202.320</td>\n",
       "</tr>\n",
       "<tr>\n",
       "  <th>Q006_O</th> <td>  207.6455</td> <td>    1.112</td> <td>  186.720</td> <td> 0.000</td> <td>  205.466</td> <td>  209.825</td>\n",
       "</tr>\n",
       "<tr>\n",
       "  <th>Q006_P</th> <td>  214.2053</td> <td>    1.112</td> <td>  192.638</td> <td> 0.000</td> <td>  212.026</td> <td>  216.385</td>\n",
       "</tr>\n",
       "<tr>\n",
       "  <th>Q006_Q</th> <td>  220.5969</td> <td>    1.028</td> <td>  214.678</td> <td> 0.000</td> <td>  218.583</td> <td>  222.611</td>\n",
       "</tr>\n",
       "</table>\n",
       "<table class=\"simpletable\">\n",
       "<tr>\n",
       "  <th>Omnibus:</th>       <td>383612.790</td> <th>  Durbin-Watson:     </th>  <td>   1.937</td> \n",
       "</tr>\n",
       "<tr>\n",
       "  <th>Prob(Omnibus):</th>   <td> 0.000</td>   <th>  Jarque-Bera (JB):  </th> <td>871778.287</td>\n",
       "</tr>\n",
       "<tr>\n",
       "  <th>Skew:</th>            <td>-0.940</td>   <th>  Prob(JB):          </th>  <td>    0.00</td> \n",
       "</tr>\n",
       "<tr>\n",
       "  <th>Kurtosis:</th>        <td> 5.294</td>   <th>  Cond. No.          </th>  <td>    20.4</td> \n",
       "</tr>\n",
       "</table><br/><br/>Notes:<br/>[1] Standard Errors assume that the covariance matrix of the errors is correctly specified."
      ],
      "text/plain": [
       "<class 'statsmodels.iolib.summary.Summary'>\n",
       "\"\"\"\n",
       "                            OLS Regression Results                            \n",
       "==============================================================================\n",
       "Dep. Variable:        NU_NOTA_REDACAO   R-squared:                       0.092\n",
       "Model:                            OLS   Adj. R-squared:                  0.092\n",
       "Method:                 Least Squares   F-statistic:                 1.501e+04\n",
       "Date:                Fri, 07 Apr 2023   Prob (F-statistic):               0.00\n",
       "Time:                        14:38:12   Log-Likelihood:            -1.5749e+07\n",
       "No. Observations:             2378378   AIC:                         3.150e+07\n",
       "Df Residuals:                 2378361   BIC:                         3.150e+07\n",
       "Df Model:                          16                                         \n",
       "Covariance Type:            nonrobust                                         \n",
       "==============================================================================\n",
       "                 coef    std err          t      P>|t|      [0.025      0.975]\n",
       "------------------------------------------------------------------------------\n",
       "const        524.9004      0.520   1009.421      0.000     523.881     525.920\n",
       "Q006_B        31.7432      0.571     55.554      0.000      30.623      32.863\n",
       "Q006_C        61.8491      0.599    103.202      0.000      60.674      63.024\n",
       "Q006_D        77.9640      0.618    126.138      0.000      76.753      79.175\n",
       "Q006_E        96.1438      0.698    137.726      0.000      94.776      97.512\n",
       "Q006_F       111.2419      0.676    164.521      0.000     109.917     112.567\n",
       "Q006_G       129.3330      0.696    185.882      0.000     127.969     130.697\n",
       "Q006_H       147.1123      0.733    200.766      0.000     145.676     148.548\n",
       "Q006_I       160.9203      0.831    193.620      0.000     159.291     162.549\n",
       "Q006_J       170.7520      0.973    175.472      0.000     168.845     172.659\n",
       "Q006_K       177.5884      1.061    167.360      0.000     175.509     179.668\n",
       "Q006_L       181.7226      1.116    162.870      0.000     179.536     183.909\n",
       "Q006_M       189.4899      0.966    196.139      0.000     187.596     191.383\n",
       "Q006_N       200.0611      1.153    173.551      0.000     197.802     202.320\n",
       "Q006_O       207.6455      1.112    186.720      0.000     205.466     209.825\n",
       "Q006_P       214.2053      1.112    192.638      0.000     212.026     216.385\n",
       "Q006_Q       220.5969      1.028    214.678      0.000     218.583     222.611\n",
       "==============================================================================\n",
       "Omnibus:                   383612.790   Durbin-Watson:                   1.937\n",
       "Prob(Omnibus):                  0.000   Jarque-Bera (JB):           871778.287\n",
       "Skew:                          -0.940   Prob(JB):                         0.00\n",
       "Kurtosis:                       5.294   Cond. No.                         20.4\n",
       "==============================================================================\n",
       "\n",
       "Notes:\n",
       "[1] Standard Errors assume that the covariance matrix of the errors is correctly specified.\n",
       "\"\"\""
      ]
     },
     "execution_count": 35,
     "metadata": {},
     "output_type": "execute_result"
    }
   ],
   "source": [
    "model3.summary()"
   ]
  },
  {
   "cell_type": "markdown",
   "id": "d177a52a",
   "metadata": {},
   "source": [
    "## Computador na residência"
   ]
  },
  {
   "cell_type": "markdown",
   "id": "18cd193b",
   "metadata": {},
   "source": [
    "#### VS Variável Tratamento "
   ]
  },
  {
   "cell_type": "markdown",
   "id": "d30ca407",
   "metadata": {},
   "source": [
    "* Visão gráfica\n",
    "    * Quando não ha computador na residência, ha uma taxa alta de ausência de acesso a internet, por fim, com algum computador na casa, a taxa de não acesso a rede cai vertiginosamente"
   ]
  },
  {
   "cell_type": "code",
   "execution_count": 36,
   "id": "33bae30b",
   "metadata": {},
   "outputs": [
    {
     "data": {
      "image/png": "[encoded data removed]",
      "text/plain": [
       "<Figure size 640x480 with 1 Axes>"
      ]
     },
     "metadata": {},
     "output_type": "display_data"
    }
   ],
   "source": [
    "freq = pd.crosstab(df['Q024'], df['Q025'], normalize = 'index')*100\n",
    "freq\n",
    "ax = freq.plot.bar(stacked=True, rot=0)\n",
    "plt.legend(title = \"Acesso a internet\", bbox_to_anchor=(1.05, 1), loc=2, borderaxespad=0.)\n",
    "ax.yaxis.set_major_formatter(mtick.PercentFormatter())"
   ]
  },
  {
   "cell_type": "markdown",
   "id": "9c61fc17",
   "metadata": {},
   "source": [
    "* Teste de hipotese - qui-quadrado\n",
    "    * Como p-valor <0.05, há evidências para rejeitar a hipotese de nula que não ha relação entre as variaveis"
   ]
  },
  {
   "cell_type": "code",
   "execution_count": 37,
   "id": "ab8e4904",
   "metadata": {},
   "outputs": [
    {
     "name": "stdout",
     "output_type": "stream",
     "text": [
      "0.0\n"
     ]
    }
   ],
   "source": [
    "from scipy.stats import chi2_contingency\n",
    "df2 = pd.crosstab(df['Q024'], df['Q025'])\n",
    "chi2, p, dof, ex = chi2_contingency(df2)\n",
    "print(p)"
   ]
  },
  {
   "cell_type": "markdown",
   "id": "8d515cce",
   "metadata": {},
   "source": [
    "    * V-cramer: Mensura a força entre a associação entre variáveis categoricas\n",
    "        * Semelhante a associação com renda, temos um v-cramer moderado em relação ao acesso a computadores"
   ]
  },
  {
   "cell_type": "code",
   "execution_count": 38,
   "id": "f3c8d94a",
   "metadata": {},
   "outputs": [
    {
     "name": "stdout",
     "output_type": "stream",
     "text": [
      "0.33466699535586214\n"
     ]
    }
   ],
   "source": [
    "chi = df.pivot_table('cont',df['Q024'], df['Q025'],aggfunc = 'count')\n",
    "chi=chi.replace(np.nan,0)\n",
    "xsq,pvalue,dof,expected=chi2_contingency(chi)\n",
    "a = min(len(df['Q024'].unique()),len(df['Q025'].unique()))\n",
    "b = len(df['Q024'])\n",
    "vcramer = (xsq/(b*(a-1)))**(1/2)\n",
    "print(vcramer)"
   ]
  },
  {
   "cell_type": "markdown",
   "id": "684f9824",
   "metadata": {},
   "source": [
    "#### VS Variável Outcome "
   ]
  },
  {
   "cell_type": "markdown",
   "id": "d107ece9",
   "metadata": {},
   "source": [
    "* Visão gráfica\n",
    "    * Há a tendencia de elevação da nota conforme há mais computadores na residencia do aluno, principalmente até 03"
   ]
  },
  {
   "cell_type": "code",
   "execution_count": 39,
   "id": "e807fb24",
   "metadata": {},
   "outputs": [
    {
     "data": {
      "image/png": "[encoded data removed]",
      "text/plain": [
       "<Figure size 640x480 with 1 Axes>"
      ]
     },
     "metadata": {},
     "output_type": "display_data"
    }
   ],
   "source": [
    "sns.boxplot(x=\"Q024\", y=\"NU_NOTA_REDACAO\", data=df, palette=\"Set2\", width=0.5,\n",
    "           order = ['A','B','C','D','E'])\n",
    "plt.show()"
   ]
  },
  {
   "cell_type": "markdown",
   "id": "6c4e1a1d",
   "metadata": {},
   "source": [
    "* Regressão Linear\n",
    "    * Os coeficientes da regressão confirmam a tendência acima, todos estatisticamente significantes e positivamente correlacionados com a nota"
   ]
  },
  {
   "cell_type": "code",
   "execution_count": 40,
   "id": "6b6e6420",
   "metadata": {},
   "outputs": [],
   "source": [
    "df_comp = df[['Q024','NU_NOTA_REDACAO']]\n",
    "df_comp = pd.get_dummies(df_comp,columns=['Q024'], drop_first=True)\n",
    "df_comp = sm.add_constant(df_comp)\n",
    "Y = \"NU_NOTA_REDACAO\"\n",
    "X = df_comp.columns.drop([Y])"
   ]
  },
  {
   "cell_type": "code",
   "execution_count": 41,
   "id": "353f9ecf",
   "metadata": {},
   "outputs": [],
   "source": [
    "model4 = sm.WLS(df_comp[Y], df_comp[X]).fit()"
   ]
  },
  {
   "cell_type": "code",
   "execution_count": 42,
   "id": "4b05cbbf",
   "metadata": {},
   "outputs": [
    {
     "data": {
      "text/html": [
       "<table class=\"simpletable\">\n",
       "<caption>OLS Regression Results</caption>\n",
       "<tr>\n",
       "  <th>Dep. Variable:</th>     <td>NU_NOTA_REDACAO</td> <th>  R-squared:         </th>  <td>   0.082</td>  \n",
       "</tr>\n",
       "<tr>\n",
       "  <th>Model:</th>                   <td>OLS</td>       <th>  Adj. R-squared:    </th>  <td>   0.082</td>  \n",
       "</tr>\n",
       "<tr>\n",
       "  <th>Method:</th>             <td>Least Squares</td>  <th>  F-statistic:       </th>  <td>5.328e+04</td> \n",
       "</tr>\n",
       "<tr>\n",
       "  <th>Date:</th>             <td>Fri, 07 Apr 2023</td> <th>  Prob (F-statistic):</th>   <td>  0.00</td>   \n",
       "</tr>\n",
       "<tr>\n",
       "  <th>Time:</th>                 <td>14:38:15</td>     <th>  Log-Likelihood:    </th> <td>-1.5761e+07</td>\n",
       "</tr>\n",
       "<tr>\n",
       "  <th>No. Observations:</th>      <td>2378378</td>     <th>  AIC:               </th>  <td>3.152e+07</td> \n",
       "</tr>\n",
       "<tr>\n",
       "  <th>Df Residuals:</th>          <td>2378373</td>     <th>  BIC:               </th>  <td>3.152e+07</td> \n",
       "</tr>\n",
       "<tr>\n",
       "  <th>Df Model:</th>              <td>     4</td>      <th>                     </th>      <td> </td>     \n",
       "</tr>\n",
       "<tr>\n",
       "  <th>Covariance Type:</th>      <td>nonrobust</td>    <th>                     </th>      <td> </td>     \n",
       "</tr>\n",
       "</table>\n",
       "<table class=\"simpletable\">\n",
       "<tr>\n",
       "     <td></td>       <th>coef</th>     <th>std err</th>      <th>t</th>      <th>P>|t|</th>  <th>[0.025</th>    <th>0.975]</th>  \n",
       "</tr>\n",
       "<tr>\n",
       "  <th>const</th>  <td>  552.8622</td> <td>    0.193</td> <td> 2870.899</td> <td> 0.000</td> <td>  552.485</td> <td>  553.240</td>\n",
       "</tr>\n",
       "<tr>\n",
       "  <th>Q024_B</th> <td>   74.6872</td> <td>    0.265</td> <td>  281.888</td> <td> 0.000</td> <td>   74.168</td> <td>   75.207</td>\n",
       "</tr>\n",
       "<tr>\n",
       "  <th>Q024_C</th> <td>  133.8285</td> <td>    0.389</td> <td>  343.781</td> <td> 0.000</td> <td>  133.065</td> <td>  134.591</td>\n",
       "</tr>\n",
       "<tr>\n",
       "  <th>Q024_D</th> <td>  163.0394</td> <td>    0.567</td> <td>  287.762</td> <td> 0.000</td> <td>  161.929</td> <td>  164.150</td>\n",
       "</tr>\n",
       "<tr>\n",
       "  <th>Q024_E</th> <td>  175.8925</td> <td>    0.764</td> <td>  230.179</td> <td> 0.000</td> <td>  174.395</td> <td>  177.390</td>\n",
       "</tr>\n",
       "</table>\n",
       "<table class=\"simpletable\">\n",
       "<tr>\n",
       "  <th>Omnibus:</th>       <td>377742.351</td> <th>  Durbin-Watson:     </th>  <td>   1.943</td> \n",
       "</tr>\n",
       "<tr>\n",
       "  <th>Prob(Omnibus):</th>   <td> 0.000</td>   <th>  Jarque-Bera (JB):  </th> <td>839571.426</td>\n",
       "</tr>\n",
       "<tr>\n",
       "  <th>Skew:</th>            <td>-0.935</td>   <th>  Prob(JB):          </th>  <td>    0.00</td> \n",
       "</tr>\n",
       "<tr>\n",
       "  <th>Kurtosis:</th>        <td> 5.231</td>   <th>  Cond. No.          </th>  <td>    7.28</td> \n",
       "</tr>\n",
       "</table><br/><br/>Notes:<br/>[1] Standard Errors assume that the covariance matrix of the errors is correctly specified."
      ],
      "text/plain": [
       "<class 'statsmodels.iolib.summary.Summary'>\n",
       "\"\"\"\n",
       "                            OLS Regression Results                            \n",
       "==============================================================================\n",
       "Dep. Variable:        NU_NOTA_REDACAO   R-squared:                       0.082\n",
       "Model:                            OLS   Adj. R-squared:                  0.082\n",
       "Method:                 Least Squares   F-statistic:                 5.328e+04\n",
       "Date:                Fri, 07 Apr 2023   Prob (F-statistic):               0.00\n",
       "Time:                        14:38:15   Log-Likelihood:            -1.5761e+07\n",
       "No. Observations:             2378378   AIC:                         3.152e+07\n",
       "Df Residuals:                 2378373   BIC:                         3.152e+07\n",
       "Df Model:                           4                                         \n",
       "Covariance Type:            nonrobust                                         \n",
       "==============================================================================\n",
       "                 coef    std err          t      P>|t|      [0.025      0.975]\n",
       "------------------------------------------------------------------------------\n",
       "const        552.8622      0.193   2870.899      0.000     552.485     553.240\n",
       "Q024_B        74.6872      0.265    281.888      0.000      74.168      75.207\n",
       "Q024_C       133.8285      0.389    343.781      0.000     133.065     134.591\n",
       "Q024_D       163.0394      0.567    287.762      0.000     161.929     164.150\n",
       "Q024_E       175.8925      0.764    230.179      0.000     174.395     177.390\n",
       "==============================================================================\n",
       "Omnibus:                   377742.351   Durbin-Watson:                   1.943\n",
       "Prob(Omnibus):                  0.000   Jarque-Bera (JB):           839571.426\n",
       "Skew:                          -0.935   Prob(JB):                         0.00\n",
       "Kurtosis:                       5.231   Cond. No.                         7.28\n",
       "==============================================================================\n",
       "\n",
       "Notes:\n",
       "[1] Standard Errors assume that the covariance matrix of the errors is correctly specified.\n",
       "\"\"\""
      ]
     },
     "execution_count": 42,
     "metadata": {},
     "output_type": "execute_result"
    }
   ],
   "source": [
    "model4.summary()"
   ]
  },
  {
   "cell_type": "markdown",
   "id": "9f1562c5",
   "metadata": {},
   "source": [
    "## Associação entre as variáveis explicativas"
   ]
  },
  {
   "cell_type": "markdown",
   "id": "486bf05a",
   "metadata": {},
   "source": [
    "* Como todas as variaveis estão categóricas, utiliza-se o V-cramer para estabelecer estas associaçoes:"
   ]
  },
  {
   "cell_type": "code",
   "execution_count": 43,
   "id": "fbfcef0c",
   "metadata": {},
   "outputs": [],
   "source": [
    "df['TP_ESCOLA'] = df['TP_ESCOLA'].astype('str')\n",
    "df['TP_LOCALIZACAO_ESC'] = df['TP_LOCALIZACAO_ESC'].astype('str')\n",
    "df['cont'] = 1"
   ]
  },
  {
   "cell_type": "code",
   "execution_count": 44,
   "id": "1ed74fbb",
   "metadata": {},
   "outputs": [],
   "source": [
    "df_cat = df[['TP_ESCOLA','TP_LOCALIZACAO_ESC','Q006','Q024','cont']]"
   ]
  },
  {
   "cell_type": "markdown",
   "id": "64bcd779",
   "metadata": {},
   "source": [
    "* O tipo de escola e sua localização são as variáveis mais fortemente associadas (ainda que o efeito seja moderado)\n",
    "* Em sequência, renda e acesso a computador possuem um grau razoavel de força de associação\n",
    "* Por fim, o tipo da escola possue grau médio de associacao tanto com renda quanto acesso a computador"
   ]
  },
  {
   "cell_type": "code",
   "execution_count": 45,
   "id": "041e5ff0",
   "metadata": {},
   "outputs": [
    {
     "data": {
      "text/html": [
       "<div>\n",
       "<style scoped>\n",
       "    .dataframe tbody tr th:only-of-type {\n",
       "        vertical-align: middle;\n",
       "    }\n",
       "\n",
       "    .dataframe tbody tr th {\n",
       "        vertical-align: top;\n",
       "    }\n",
       "\n",
       "    .dataframe thead th {\n",
       "        text-align: right;\n",
       "    }\n",
       "</style>\n",
       "<table border=\"1\" class=\"dataframe\">\n",
       "  <thead>\n",
       "    <tr style=\"text-align: right;\">\n",
       "      <th></th>\n",
       "      <th>Var1</th>\n",
       "      <th>Var2</th>\n",
       "      <th>xsq</th>\n",
       "      <th>pvalue</th>\n",
       "      <th>vcramer</th>\n",
       "    </tr>\n",
       "  </thead>\n",
       "  <tbody>\n",
       "    <tr>\n",
       "      <th>0</th>\n",
       "      <td>TP_ESCOLA</td>\n",
       "      <td>TP_LOCALIZACAO_ESC</td>\n",
       "      <td>1.486386e+06</td>\n",
       "      <td>0.0</td>\n",
       "      <td>0.558998</td>\n",
       "    </tr>\n",
       "    <tr>\n",
       "      <th>3</th>\n",
       "      <td>TP_LOCALIZACAO_ESC</td>\n",
       "      <td>TP_ESCOLA</td>\n",
       "      <td>1.486386e+06</td>\n",
       "      <td>0.0</td>\n",
       "      <td>0.558998</td>\n",
       "    </tr>\n",
       "    <tr>\n",
       "      <th>11</th>\n",
       "      <td>Q024</td>\n",
       "      <td>Q006</td>\n",
       "      <td>1.424168e+06</td>\n",
       "      <td>0.0</td>\n",
       "      <td>0.386910</td>\n",
       "    </tr>\n",
       "    <tr>\n",
       "      <th>8</th>\n",
       "      <td>Q006</td>\n",
       "      <td>Q024</td>\n",
       "      <td>1.424168e+06</td>\n",
       "      <td>0.0</td>\n",
       "      <td>0.386910</td>\n",
       "    </tr>\n",
       "    <tr>\n",
       "      <th>1</th>\n",
       "      <td>TP_ESCOLA</td>\n",
       "      <td>Q006</td>\n",
       "      <td>2.781146e+05</td>\n",
       "      <td>0.0</td>\n",
       "      <td>0.241800</td>\n",
       "    </tr>\n",
       "    <tr>\n",
       "      <th>6</th>\n",
       "      <td>Q006</td>\n",
       "      <td>TP_ESCOLA</td>\n",
       "      <td>2.781146e+05</td>\n",
       "      <td>0.0</td>\n",
       "      <td>0.241800</td>\n",
       "    </tr>\n",
       "    <tr>\n",
       "      <th>2</th>\n",
       "      <td>TP_ESCOLA</td>\n",
       "      <td>Q024</td>\n",
       "      <td>2.017974e+05</td>\n",
       "      <td>0.0</td>\n",
       "      <td>0.205969</td>\n",
       "    </tr>\n",
       "    <tr>\n",
       "      <th>9</th>\n",
       "      <td>Q024</td>\n",
       "      <td>TP_ESCOLA</td>\n",
       "      <td>2.017974e+05</td>\n",
       "      <td>0.0</td>\n",
       "      <td>0.205969</td>\n",
       "    </tr>\n",
       "    <tr>\n",
       "      <th>4</th>\n",
       "      <td>TP_LOCALIZACAO_ESC</td>\n",
       "      <td>Q006</td>\n",
       "      <td>2.629349e+04</td>\n",
       "      <td>0.0</td>\n",
       "      <td>0.074348</td>\n",
       "    </tr>\n",
       "    <tr>\n",
       "      <th>7</th>\n",
       "      <td>Q006</td>\n",
       "      <td>TP_LOCALIZACAO_ESC</td>\n",
       "      <td>2.629349e+04</td>\n",
       "      <td>0.0</td>\n",
       "      <td>0.074348</td>\n",
       "    </tr>\n",
       "    <tr>\n",
       "      <th>5</th>\n",
       "      <td>TP_LOCALIZACAO_ESC</td>\n",
       "      <td>Q024</td>\n",
       "      <td>1.378412e+04</td>\n",
       "      <td>0.0</td>\n",
       "      <td>0.053831</td>\n",
       "    </tr>\n",
       "    <tr>\n",
       "      <th>10</th>\n",
       "      <td>Q024</td>\n",
       "      <td>TP_LOCALIZACAO_ESC</td>\n",
       "      <td>1.378412e+04</td>\n",
       "      <td>0.0</td>\n",
       "      <td>0.053831</td>\n",
       "    </tr>\n",
       "  </tbody>\n",
       "</table>\n",
       "</div>"
      ],
      "text/plain": [
       "                  Var1                Var2           xsq  pvalue   vcramer\n",
       "0            TP_ESCOLA  TP_LOCALIZACAO_ESC  1.486386e+06     0.0  0.558998\n",
       "3   TP_LOCALIZACAO_ESC           TP_ESCOLA  1.486386e+06     0.0  0.558998\n",
       "11                Q024                Q006  1.424168e+06     0.0  0.386910\n",
       "8                 Q006                Q024  1.424168e+06     0.0  0.386910\n",
       "1            TP_ESCOLA                Q006  2.781146e+05     0.0  0.241800\n",
       "6                 Q006           TP_ESCOLA  2.781146e+05     0.0  0.241800\n",
       "2            TP_ESCOLA                Q024  2.017974e+05     0.0  0.205969\n",
       "9                 Q024           TP_ESCOLA  2.017974e+05     0.0  0.205969\n",
       "4   TP_LOCALIZACAO_ESC                Q006  2.629349e+04     0.0  0.074348\n",
       "7                 Q006  TP_LOCALIZACAO_ESC  2.629349e+04     0.0  0.074348\n",
       "5   TP_LOCALIZACAO_ESC                Q024  1.378412e+04     0.0  0.053831\n",
       "10                Q024  TP_LOCALIZACAO_ESC  1.378412e+04     0.0  0.053831"
      ]
     },
     "execution_count": 45,
     "metadata": {},
     "output_type": "execute_result"
    }
   ],
   "source": [
    "from scipy.stats import chi2_contingency\n",
    "categoricas = df_cat.select_dtypes(include=['object']).columns.tolist() #cria uma lista das variaveis categoricas\n",
    "chimap = pd.DataFrame(columns=['Var1','Var2','xsq','pvalue','vcramer']) #cria dataframe para inserir valores do chisquare\n",
    "for x in categoricas:\n",
    "    for y in categoricas:\n",
    "        if x != y:\n",
    "            chi = df_cat.pivot_table('cont',index= [x],columns= [y] ,aggfunc = 'count')\n",
    "            chi=chi.replace(np.nan,0)\n",
    "            xsq,pvalue,dof,expected=chi2_contingency(chi)\n",
    "            a = min(len(df_cat[x].unique()),len(df_cat[y].unique()))\n",
    "            b = len(df_cat[x])\n",
    "            vcramer = (xsq/(b*(a-1)))**(1/2)\n",
    "            chimap = chimap.append({'Var1' : x, 'Var2' : y, 'xsq': xsq, 'pvalue': pvalue, 'vcramer':vcramer}, ignore_index=True)\n",
    "chimap = chimap.sort_values(by = 'vcramer', ascending = False)\n",
    "chimap"
   ]
  },
  {
   "cell_type": "markdown",
   "id": "5ff846d8",
   "metadata": {},
   "source": [
    "## Grafico causal "
   ]
  },
  {
   "cell_type": "markdown",
   "id": "286a452b",
   "metadata": {},
   "source": [
    "* Conclui-se a partir da relação das variáveis estudadas acima\n",
    "    * Todas as variáveis explicativas estão relacionadas/explicam a variabilidade do tratamento e do outcome, então, a principio, poderiam fazer parte do modelo\n",
    "    * Porém, ha assoacicoes significativas entre estas variáveis, de tal forma que:\n",
    "        * Renda esta associado com o tipo de escola e acesso a computador, o que faz sentido que a primeira cause as duas outras\n",
    "        * A localização da escola, apesar de estar associado com o tipo da escola, não esta muito com renda, sendo assim, na ausência da segunda, faz sentido que esteja no modelo\n",
    "    * Desta forma, as variáveis inclusas junto com o tratamento e o outcome serão renda e localizacao da escola"
   ]
  },
  {
   "cell_type": "code",
   "execution_count": 1,
   "id": "b61f0d2b",
   "metadata": {},
   "outputs": [],
   "source": [
    "import collections.abc\n",
    "collections.Iterable = collections.abc.Iterable\n",
    "collections.Mapping = collections.abc.Mapping\n",
    "collections.MutableSet = collections.abc.MutableSet\n",
    "collections.MutableMapping = collections.abc.MutableMapping\n",
    "import hyper"
   ]
  },
  {
   "cell_type": "code",
   "execution_count": 2,
   "id": "680cacca",
   "metadata": {},
   "outputs": [],
   "source": [
    "from causalgraphicalmodels import CausalGraphicalModel\n",
    "import graphviz"
   ]
  },
  {
   "cell_type": "code",
   "execution_count": 3,
   "id": "6ba6d7a1",
   "metadata": {},
   "outputs": [
    {
     "data": {
      "image/svg+xml": [
       "<?xml version=\"1.0\" encoding=\"UTF-8\" standalone=\"no\"?>\n",
       "<!DOCTYPE svg PUBLIC \"-//W3C//DTD SVG 1.1//EN\"\n",
       " \"http://www.w3.org/Graphics/SVG/1.1/DTD/svg11.dtd\">\n",
       "<!-- Generated by graphviz version 7.1.0 (20230121.1956)\n",
       " -->\n",
       "<!-- Pages: 1 -->\n",
       "<svg width=\"215pt\" height=\"188pt\"\n",
       " viewBox=\"0.00 0.00 215.29 188.00\" xmlns=\"http://www.w3.org/2000/svg\" xmlns:xlink=\"http://www.w3.org/1999/xlink\">\n",
       "<g id=\"graph0\" class=\"graph\" transform=\"scale(1 1) rotate(0) translate(4 184)\">\n",
       "<polygon fill=\"white\" stroke=\"none\" points=\"-4,4 -4,-184 211.29,-184 211.29,4 -4,4\"/>\n",
       "<!-- Renda -->\n",
       "<g id=\"node1\" class=\"node\">\n",
       "<title>Renda</title>\n",
       "<ellipse fill=\"none\" stroke=\"black\" cx=\"34.45\" cy=\"-162\" rx=\"34.39\" ry=\"18\"/>\n",
       "<text text-anchor=\"middle\" x=\"34.45\" y=\"-158.3\" font-family=\"Times New Roman,serif\" font-size=\"14.00\">Renda</text>\n",
       "</g>\n",
       "<!-- Nota Redação -->\n",
       "<g id=\"node2\" class=\"node\">\n",
       "<title>Nota Redação</title>\n",
       "<ellipse fill=\"none\" stroke=\"black\" cx=\"89.45\" cy=\"-18\" rx=\"63.09\" ry=\"18\"/>\n",
       "<text text-anchor=\"middle\" x=\"89.45\" y=\"-14.3\" font-family=\"Times New Roman,serif\" font-size=\"14.00\">Nota Redação</text>\n",
       "</g>\n",
       "<!-- Renda&#45;&gt;Nota Redação -->\n",
       "<g id=\"edge3\" class=\"edge\">\n",
       "<title>Renda&#45;&gt;Nota Redação</title>\n",
       "<path fill=\"none\" stroke=\"black\" d=\"M32.9,-143.83C31.92,-125.31 32.36,-95.36 42.45,-72 46.93,-61.61 54.27,-51.84 61.82,-43.59\"/>\n",
       "<polygon fill=\"black\" stroke=\"black\" points=\"64.11,-46.25 68.61,-36.66 59.11,-41.35 64.11,-46.25\"/>\n",
       "</g>\n",
       "<!-- Internet -->\n",
       "<g id=\"node3\" class=\"node\">\n",
       "<title>Internet</title>\n",
       "<ellipse fill=\"none\" stroke=\"black\" cx=\"89.45\" cy=\"-90\" rx=\"38.19\" ry=\"18\"/>\n",
       "<text text-anchor=\"middle\" x=\"89.45\" y=\"-86.3\" font-family=\"Times New Roman,serif\" font-size=\"14.00\">Internet</text>\n",
       "</g>\n",
       "<!-- Renda&#45;&gt;Internet -->\n",
       "<g id=\"edge2\" class=\"edge\">\n",
       "<title>Renda&#45;&gt;Internet</title>\n",
       "<path fill=\"none\" stroke=\"black\" d=\"M46.93,-145.12C53.65,-136.56 62.11,-125.8 69.7,-116.13\"/>\n",
       "<polygon fill=\"black\" stroke=\"black\" points=\"72.27,-118.52 75.7,-108.5 66.77,-114.2 72.27,-118.52\"/>\n",
       "</g>\n",
       "<!-- Internet&#45;&gt;Nota Redação -->\n",
       "<g id=\"edge1\" class=\"edge\">\n",
       "<title>Internet&#45;&gt;Nota Redação</title>\n",
       "<path fill=\"none\" stroke=\"black\" d=\"M89.45,-71.7C89.45,-64.41 89.45,-55.73 89.45,-47.54\"/>\n",
       "<polygon fill=\"black\" stroke=\"black\" points=\"92.95,-47.62 89.45,-37.62 85.95,-47.62 92.95,-47.62\"/>\n",
       "</g>\n",
       "<!-- Local Escola -->\n",
       "<g id=\"node4\" class=\"node\">\n",
       "<title>Local Escola</title>\n",
       "<ellipse fill=\"none\" stroke=\"black\" cx=\"149.45\" cy=\"-162\" rx=\"57.69\" ry=\"18\"/>\n",
       "<text text-anchor=\"middle\" x=\"149.45\" y=\"-158.3\" font-family=\"Times New Roman,serif\" font-size=\"14.00\">Local Escola</text>\n",
       "</g>\n",
       "<!-- Local Escola&#45;&gt;Nota Redação -->\n",
       "<g id=\"edge5\" class=\"edge\">\n",
       "<title>Local Escola&#45;&gt;Nota Redação</title>\n",
       "<path fill=\"none\" stroke=\"black\" d=\"M149.8,-143.78C149.54,-125.22 147.24,-95.22 136.45,-72 131.6,-61.57 124.02,-51.69 116.35,-43.35\"/>\n",
       "<polygon fill=\"black\" stroke=\"black\" points=\"118.99,-41.04 109.5,-36.33 113.99,-45.93 118.99,-41.04\"/>\n",
       "</g>\n",
       "<!-- Local Escola&#45;&gt;Internet -->\n",
       "<g id=\"edge4\" class=\"edge\">\n",
       "<title>Local Escola&#45;&gt;Internet</title>\n",
       "<path fill=\"none\" stroke=\"black\" d=\"M135.23,-144.41C127.87,-135.83 118.75,-125.19 110.59,-115.67\"/>\n",
       "<polygon fill=\"black\" stroke=\"black\" points=\"113.3,-113.45 104.14,-108.14 107.99,-118.01 113.3,-113.45\"/>\n",
       "</g>\n",
       "</g>\n",
       "</svg>\n"
      ],
      "text/plain": [
       "<graphviz.graphs.Digraph at 0x1613595dd90>"
      ]
     },
     "execution_count": 3,
     "metadata": {},
     "output_type": "execute_result"
    }
   ],
   "source": [
    "sprinkler = CausalGraphicalModel(\n",
    "    nodes=[\"Nota Redação\", \"Internet\", \"Renda\",\"Local Escola\"],\n",
    "    edges=[\n",
    "        (\"Renda\", \"Internet\"), \n",
    "        (\"Local Escola\", \"Internet\"),\n",
    "        (\"Internet\", \"Nota Redação\"),\n",
    "        (\"Renda\",\"Nota Redação\"),\n",
    "        (\"Local Escola\",\"Nota Redação\")\n",
    "    ]\n",
    ")\n",
    "\n",
    "sprinkler.draw()"
   ]
  },
  {
   "attachments": {
    "image.png": {
     "image/png": "[encoded data removed]"
    }
   },
   "cell_type": "markdown",
   "id": "458ae907",
   "metadata": {},
   "source": [
    "![image.png](attachment:image.png)"
   ]
  },
  {
   "cell_type": "markdown",
   "id": "650d297d",
   "metadata": {},
   "source": [
    "## Calculo do Propensity Score"
   ]
  },
  {
   "cell_type": "markdown",
   "id": "107596d0",
   "metadata": {},
   "source": [
    "* Será utilizado a regressão logística como função geradora do score"
   ]
  },
  {
   "cell_type": "code",
   "execution_count": 52,
   "id": "d91fd055",
   "metadata": {},
   "outputs": [],
   "source": [
    "# Separando a base\n",
    "df2 = df[['Q025','Q006','TP_LOCALIZACAO_ESC','NU_NOTA_REDACAO']]"
   ]
  },
  {
   "cell_type": "code",
   "execution_count": 53,
   "id": "6997b48f",
   "metadata": {},
   "outputs": [],
   "source": [
    "# Transformando a variavel de intervenção em dummy\n",
    "df2['intervencao'] = np.where(df2['Q025'] == 'A', 0, 1)"
   ]
  },
  {
   "cell_type": "code",
   "execution_count": 54,
   "id": "9d29d02e",
   "metadata": {},
   "outputs": [],
   "source": [
    "# Tratando variaveis categoricas\n",
    "df2 = pd.get_dummies(df2,columns=['Q006'], drop_first = True)\n",
    "df2 = pd.get_dummies(df2,columns=['TP_LOCALIZACAO_ESC'], drop_first = True)"
   ]
  },
  {
   "cell_type": "code",
   "execution_count": 55,
   "id": "3c345918",
   "metadata": {},
   "outputs": [
    {
     "data": {
      "text/html": [
       "<div>\n",
       "<style scoped>\n",
       "    .dataframe tbody tr th:only-of-type {\n",
       "        vertical-align: middle;\n",
       "    }\n",
       "\n",
       "    .dataframe tbody tr th {\n",
       "        vertical-align: top;\n",
       "    }\n",
       "\n",
       "    .dataframe thead th {\n",
       "        text-align: right;\n",
       "    }\n",
       "</style>\n",
       "<table border=\"1\" class=\"dataframe\">\n",
       "  <thead>\n",
       "    <tr style=\"text-align: right;\">\n",
       "      <th></th>\n",
       "      <th>Q025</th>\n",
       "      <th>NU_NOTA_REDACAO</th>\n",
       "      <th>intervencao</th>\n",
       "      <th>Q006_B</th>\n",
       "      <th>Q006_C</th>\n",
       "      <th>Q006_D</th>\n",
       "      <th>Q006_E</th>\n",
       "      <th>Q006_F</th>\n",
       "      <th>Q006_G</th>\n",
       "      <th>Q006_H</th>\n",
       "      <th>...</th>\n",
       "      <th>Q006_J</th>\n",
       "      <th>Q006_K</th>\n",
       "      <th>Q006_L</th>\n",
       "      <th>Q006_M</th>\n",
       "      <th>Q006_N</th>\n",
       "      <th>Q006_O</th>\n",
       "      <th>Q006_P</th>\n",
       "      <th>Q006_Q</th>\n",
       "      <th>TP_LOCALIZACAO_ESC_2.0</th>\n",
       "      <th>TP_LOCALIZACAO_ESC_3.0</th>\n",
       "    </tr>\n",
       "  </thead>\n",
       "  <tbody>\n",
       "    <tr>\n",
       "      <th>0</th>\n",
       "      <td>B</td>\n",
       "      <td>760.0</td>\n",
       "      <td>1</td>\n",
       "      <td>0</td>\n",
       "      <td>0</td>\n",
       "      <td>1</td>\n",
       "      <td>0</td>\n",
       "      <td>0</td>\n",
       "      <td>0</td>\n",
       "      <td>0</td>\n",
       "      <td>...</td>\n",
       "      <td>0</td>\n",
       "      <td>0</td>\n",
       "      <td>0</td>\n",
       "      <td>0</td>\n",
       "      <td>0</td>\n",
       "      <td>0</td>\n",
       "      <td>0</td>\n",
       "      <td>0</td>\n",
       "      <td>0</td>\n",
       "      <td>1</td>\n",
       "    </tr>\n",
       "    <tr>\n",
       "      <th>1</th>\n",
       "      <td>A</td>\n",
       "      <td>560.0</td>\n",
       "      <td>0</td>\n",
       "      <td>1</td>\n",
       "      <td>0</td>\n",
       "      <td>0</td>\n",
       "      <td>0</td>\n",
       "      <td>0</td>\n",
       "      <td>0</td>\n",
       "      <td>0</td>\n",
       "      <td>...</td>\n",
       "      <td>0</td>\n",
       "      <td>0</td>\n",
       "      <td>0</td>\n",
       "      <td>0</td>\n",
       "      <td>0</td>\n",
       "      <td>0</td>\n",
       "      <td>0</td>\n",
       "      <td>0</td>\n",
       "      <td>0</td>\n",
       "      <td>1</td>\n",
       "    </tr>\n",
       "    <tr>\n",
       "      <th>3</th>\n",
       "      <td>B</td>\n",
       "      <td>780.0</td>\n",
       "      <td>1</td>\n",
       "      <td>1</td>\n",
       "      <td>0</td>\n",
       "      <td>0</td>\n",
       "      <td>0</td>\n",
       "      <td>0</td>\n",
       "      <td>0</td>\n",
       "      <td>0</td>\n",
       "      <td>...</td>\n",
       "      <td>0</td>\n",
       "      <td>0</td>\n",
       "      <td>0</td>\n",
       "      <td>0</td>\n",
       "      <td>0</td>\n",
       "      <td>0</td>\n",
       "      <td>0</td>\n",
       "      <td>0</td>\n",
       "      <td>0</td>\n",
       "      <td>0</td>\n",
       "    </tr>\n",
       "    <tr>\n",
       "      <th>4</th>\n",
       "      <td>B</td>\n",
       "      <td>780.0</td>\n",
       "      <td>1</td>\n",
       "      <td>0</td>\n",
       "      <td>1</td>\n",
       "      <td>0</td>\n",
       "      <td>0</td>\n",
       "      <td>0</td>\n",
       "      <td>0</td>\n",
       "      <td>0</td>\n",
       "      <td>...</td>\n",
       "      <td>0</td>\n",
       "      <td>0</td>\n",
       "      <td>0</td>\n",
       "      <td>0</td>\n",
       "      <td>0</td>\n",
       "      <td>0</td>\n",
       "      <td>0</td>\n",
       "      <td>0</td>\n",
       "      <td>0</td>\n",
       "      <td>0</td>\n",
       "    </tr>\n",
       "    <tr>\n",
       "      <th>6</th>\n",
       "      <td>B</td>\n",
       "      <td>480.0</td>\n",
       "      <td>1</td>\n",
       "      <td>0</td>\n",
       "      <td>1</td>\n",
       "      <td>0</td>\n",
       "      <td>0</td>\n",
       "      <td>0</td>\n",
       "      <td>0</td>\n",
       "      <td>0</td>\n",
       "      <td>...</td>\n",
       "      <td>0</td>\n",
       "      <td>0</td>\n",
       "      <td>0</td>\n",
       "      <td>0</td>\n",
       "      <td>0</td>\n",
       "      <td>0</td>\n",
       "      <td>0</td>\n",
       "      <td>0</td>\n",
       "      <td>0</td>\n",
       "      <td>1</td>\n",
       "    </tr>\n",
       "  </tbody>\n",
       "</table>\n",
       "<p>5 rows × 21 columns</p>\n",
       "</div>"
      ],
      "text/plain": [
       "  Q025  NU_NOTA_REDACAO  intervencao  Q006_B  Q006_C  Q006_D  Q006_E  Q006_F  \\\n",
       "0    B            760.0            1       0       0       1       0       0   \n",
       "1    A            560.0            0       1       0       0       0       0   \n",
       "3    B            780.0            1       1       0       0       0       0   \n",
       "4    B            780.0            1       0       1       0       0       0   \n",
       "6    B            480.0            1       0       1       0       0       0   \n",
       "\n",
       "   Q006_G  Q006_H  ...  Q006_J  Q006_K  Q006_L  Q006_M  Q006_N  Q006_O  \\\n",
       "0       0       0  ...       0       0       0       0       0       0   \n",
       "1       0       0  ...       0       0       0       0       0       0   \n",
       "3       0       0  ...       0       0       0       0       0       0   \n",
       "4       0       0  ...       0       0       0       0       0       0   \n",
       "6       0       0  ...       0       0       0       0       0       0   \n",
       "\n",
       "   Q006_P  Q006_Q  TP_LOCALIZACAO_ESC_2.0  TP_LOCALIZACAO_ESC_3.0  \n",
       "0       0       0                       0                       1  \n",
       "1       0       0                       0                       1  \n",
       "3       0       0                       0                       0  \n",
       "4       0       0                       0                       0  \n",
       "6       0       0                       0                       1  \n",
       "\n",
       "[5 rows x 21 columns]"
      ]
     },
     "execution_count": 55,
     "metadata": {},
     "output_type": "execute_result"
    }
   ],
   "source": [
    "df2.head()"
   ]
  },
  {
   "cell_type": "code",
   "execution_count": 82,
   "id": "e442b417",
   "metadata": {},
   "outputs": [],
   "source": [
    "from sklearn.linear_model import LogisticRegression\n",
    "T = 'intervencao'\n",
    "Y = 'NU_NOTA_REDACAO'\n",
    "X = df2.columns.drop(['Q025',T, Y])\n",
    "\n",
    "ps_model = LogisticRegression(C=1e6).fit(df2[X], df2[T])\n",
    "\n",
    "data_ps = df2.assign(propensity_score=ps_model.predict_proba(df2[X])[:, 1])"
   ]
  },
  {
   "cell_type": "code",
   "execution_count": 83,
   "id": "2bbffc96",
   "metadata": {},
   "outputs": [
    {
     "data": {
      "text/html": [
       "<div>\n",
       "<style scoped>\n",
       "    .dataframe tbody tr th:only-of-type {\n",
       "        vertical-align: middle;\n",
       "    }\n",
       "\n",
       "    .dataframe tbody tr th {\n",
       "        vertical-align: top;\n",
       "    }\n",
       "\n",
       "    .dataframe thead th {\n",
       "        text-align: right;\n",
       "    }\n",
       "</style>\n",
       "<table border=\"1\" class=\"dataframe\">\n",
       "  <thead>\n",
       "    <tr style=\"text-align: right;\">\n",
       "      <th></th>\n",
       "      <th>Q025</th>\n",
       "      <th>NU_NOTA_REDACAO</th>\n",
       "      <th>intervencao</th>\n",
       "      <th>Q006_B</th>\n",
       "      <th>Q006_C</th>\n",
       "      <th>Q006_D</th>\n",
       "      <th>Q006_E</th>\n",
       "      <th>Q006_F</th>\n",
       "      <th>Q006_G</th>\n",
       "      <th>Q006_H</th>\n",
       "      <th>...</th>\n",
       "      <th>Q006_K</th>\n",
       "      <th>Q006_L</th>\n",
       "      <th>Q006_M</th>\n",
       "      <th>Q006_N</th>\n",
       "      <th>Q006_O</th>\n",
       "      <th>Q006_P</th>\n",
       "      <th>Q006_Q</th>\n",
       "      <th>TP_LOCALIZACAO_ESC_2.0</th>\n",
       "      <th>TP_LOCALIZACAO_ESC_3.0</th>\n",
       "      <th>propensity_score</th>\n",
       "    </tr>\n",
       "  </thead>\n",
       "  <tbody>\n",
       "    <tr>\n",
       "      <th>0</th>\n",
       "      <td>B</td>\n",
       "      <td>760.0</td>\n",
       "      <td>1</td>\n",
       "      <td>0</td>\n",
       "      <td>0</td>\n",
       "      <td>1</td>\n",
       "      <td>0</td>\n",
       "      <td>0</td>\n",
       "      <td>0</td>\n",
       "      <td>0</td>\n",
       "      <td>...</td>\n",
       "      <td>0</td>\n",
       "      <td>0</td>\n",
       "      <td>0</td>\n",
       "      <td>0</td>\n",
       "      <td>0</td>\n",
       "      <td>0</td>\n",
       "      <td>0</td>\n",
       "      <td>0</td>\n",
       "      <td>1</td>\n",
       "      <td>0.960370</td>\n",
       "    </tr>\n",
       "    <tr>\n",
       "      <th>1</th>\n",
       "      <td>A</td>\n",
       "      <td>560.0</td>\n",
       "      <td>0</td>\n",
       "      <td>1</td>\n",
       "      <td>0</td>\n",
       "      <td>0</td>\n",
       "      <td>0</td>\n",
       "      <td>0</td>\n",
       "      <td>0</td>\n",
       "      <td>0</td>\n",
       "      <td>...</td>\n",
       "      <td>0</td>\n",
       "      <td>0</td>\n",
       "      <td>0</td>\n",
       "      <td>0</td>\n",
       "      <td>0</td>\n",
       "      <td>0</td>\n",
       "      <td>0</td>\n",
       "      <td>0</td>\n",
       "      <td>1</td>\n",
       "      <td>0.806096</td>\n",
       "    </tr>\n",
       "    <tr>\n",
       "      <th>3</th>\n",
       "      <td>B</td>\n",
       "      <td>780.0</td>\n",
       "      <td>1</td>\n",
       "      <td>1</td>\n",
       "      <td>0</td>\n",
       "      <td>0</td>\n",
       "      <td>0</td>\n",
       "      <td>0</td>\n",
       "      <td>0</td>\n",
       "      <td>0</td>\n",
       "      <td>...</td>\n",
       "      <td>0</td>\n",
       "      <td>0</td>\n",
       "      <td>0</td>\n",
       "      <td>0</td>\n",
       "      <td>0</td>\n",
       "      <td>0</td>\n",
       "      <td>0</td>\n",
       "      <td>0</td>\n",
       "      <td>0</td>\n",
       "      <td>0.817765</td>\n",
       "    </tr>\n",
       "    <tr>\n",
       "      <th>4</th>\n",
       "      <td>B</td>\n",
       "      <td>780.0</td>\n",
       "      <td>1</td>\n",
       "      <td>0</td>\n",
       "      <td>1</td>\n",
       "      <td>0</td>\n",
       "      <td>0</td>\n",
       "      <td>0</td>\n",
       "      <td>0</td>\n",
       "      <td>0</td>\n",
       "      <td>...</td>\n",
       "      <td>0</td>\n",
       "      <td>0</td>\n",
       "      <td>0</td>\n",
       "      <td>0</td>\n",
       "      <td>0</td>\n",
       "      <td>0</td>\n",
       "      <td>0</td>\n",
       "      <td>0</td>\n",
       "      <td>0</td>\n",
       "      <td>0.928044</td>\n",
       "    </tr>\n",
       "    <tr>\n",
       "      <th>6</th>\n",
       "      <td>B</td>\n",
       "      <td>480.0</td>\n",
       "      <td>1</td>\n",
       "      <td>0</td>\n",
       "      <td>1</td>\n",
       "      <td>0</td>\n",
       "      <td>0</td>\n",
       "      <td>0</td>\n",
       "      <td>0</td>\n",
       "      <td>0</td>\n",
       "      <td>...</td>\n",
       "      <td>0</td>\n",
       "      <td>0</td>\n",
       "      <td>0</td>\n",
       "      <td>0</td>\n",
       "      <td>0</td>\n",
       "      <td>0</td>\n",
       "      <td>0</td>\n",
       "      <td>0</td>\n",
       "      <td>1</td>\n",
       "      <td>0.922770</td>\n",
       "    </tr>\n",
       "  </tbody>\n",
       "</table>\n",
       "<p>5 rows × 22 columns</p>\n",
       "</div>"
      ],
      "text/plain": [
       "  Q025  NU_NOTA_REDACAO  intervencao  Q006_B  Q006_C  Q006_D  Q006_E  Q006_F  \\\n",
       "0    B            760.0            1       0       0       1       0       0   \n",
       "1    A            560.0            0       1       0       0       0       0   \n",
       "3    B            780.0            1       1       0       0       0       0   \n",
       "4    B            780.0            1       0       1       0       0       0   \n",
       "6    B            480.0            1       0       1       0       0       0   \n",
       "\n",
       "   Q006_G  Q006_H  ...  Q006_K  Q006_L  Q006_M  Q006_N  Q006_O  Q006_P  \\\n",
       "0       0       0  ...       0       0       0       0       0       0   \n",
       "1       0       0  ...       0       0       0       0       0       0   \n",
       "3       0       0  ...       0       0       0       0       0       0   \n",
       "4       0       0  ...       0       0       0       0       0       0   \n",
       "6       0       0  ...       0       0       0       0       0       0   \n",
       "\n",
       "   Q006_Q  TP_LOCALIZACAO_ESC_2.0  TP_LOCALIZACAO_ESC_3.0  propensity_score  \n",
       "0       0                       0                       1          0.960370  \n",
       "1       0                       0                       1          0.806096  \n",
       "3       0                       0                       0          0.817765  \n",
       "4       0                       0                       0          0.928044  \n",
       "6       0                       0                       1          0.922770  \n",
       "\n",
       "[5 rows x 22 columns]"
      ]
     },
     "execution_count": 83,
     "metadata": {},
     "output_type": "execute_result"
    }
   ],
   "source": [
    "data_ps.head()"
   ]
  },
  {
   "cell_type": "code",
   "execution_count": 84,
   "id": "36433b26",
   "metadata": {},
   "outputs": [],
   "source": [
    "data_ps = pd.concat([data_ps, df[['Q006']]], join='inner', axis=1)\n",
    "data_ps = pd.concat([data_ps, df[['TP_LOCALIZACAO_ESC']]], join='inner', axis=1)"
   ]
  },
  {
   "cell_type": "markdown",
   "id": "3e3818f8",
   "metadata": {},
   "source": [
    "* Plotar o score de propensão pelas variáveis explicativas nos auxilia a verificar que existe um viés na atribuição do tratamento, ou seja, que tratados e não-tratados não seriam comparaveis\n",
    "    * Em renda, os scores das rendas mais baixas são bem distintos, até que se estabilizam próximo a faixa F/G \n",
    "    * Para localização da escola, o score é semelhante para escolas urbanas e sem descrição, acima das escolas rurais"
   ]
  },
  {
   "cell_type": "code",
   "execution_count": 85,
   "id": "42ea0805",
   "metadata": {},
   "outputs": [
    {
     "data": {
      "text/plain": [
       "<AxesSubplot: xlabel='Q006', ylabel='propensity_score'>"
      ]
     },
     "execution_count": 85,
     "metadata": {},
     "output_type": "execute_result"
    },
    {
     "data": {
      "image/png": "[encoded data removed]",
      "text/plain": [
       "<Figure size 640x480 with 1 Axes>"
      ]
     },
     "metadata": {},
     "output_type": "display_data"
    }
   ],
   "source": [
    "sns.boxplot(x=\"Q006\", y=\"propensity_score\", data=data_ps, \n",
    "            order = ['A','B','C','D','E','F','G','H','I','J','K','L','M','N','O','P','Q'])"
   ]
  },
  {
   "cell_type": "code",
   "execution_count": 86,
   "id": "673ebf82",
   "metadata": {},
   "outputs": [
    {
     "data": {
      "text/plain": [
       "<AxesSubplot: xlabel='TP_LOCALIZACAO_ESC', ylabel='propensity_score'>"
      ]
     },
     "execution_count": 86,
     "metadata": {},
     "output_type": "execute_result"
    },
    {
     "data": {
      "image/png": "[encoded data removed]",
      "text/plain": [
       "<Figure size 640x480 with 1 Axes>"
      ]
     },
     "metadata": {},
     "output_type": "display_data"
    }
   ],
   "source": [
    "sns.boxplot(x=\"TP_LOCALIZACAO_ESC\", y=\"propensity_score\", data=data_ps)"
   ]
  },
  {
   "cell_type": "markdown",
   "id": "78125144",
   "metadata": {},
   "source": [
    "* É essencial a aplicação do método existir um equilibrio no score entre tratados e não-tratados, ou seja, que exista sobreposição nas diversas faixas do score entre os 02 grupos\n",
    "    * Conforme disposto abaixo, no caso do acesso a internet (o tratamento), **não** há esta sobreposição, dado que para os maiores scores (de maior renda e escolas urbanas) quase não alunos sem acesso a internet\n",
    "    * Assim, para seguir com o estudo, será escolhido um range do score em que há amostras de tratados e não-tratados (menor que 0.9\n",
    "        * Obviamente, esta escolha pode atribuir um vies ao resultado, dado que estamos excluindo um público que dificilmente poderemos extrapolar o resultado"
   ]
  },
  {
   "cell_type": "code",
   "execution_count": 87,
   "id": "f7bc811b",
   "metadata": {},
   "outputs": [
    {
     "data": {
      "text/plain": [
       "<matplotlib.legend.Legend at 0x18a5c8cb5d0>"
      ]
     },
     "execution_count": 87,
     "metadata": {},
     "output_type": "execute_result"
    },
    {
     "data": {
      "image/png": "[encoded data removed]",
      "text/plain": [
       "<Figure size 640x480 with 1 Axes>"
      ]
     },
     "metadata": {},
     "output_type": "display_data"
    }
   ],
   "source": [
    "sns.distplot(data_ps.query(\"intervencao==0\")[\"propensity_score\"], kde=False, label=\"Sem internet\")\n",
    "sns.distplot(data_ps.query(\"intervencao==1\")[\"propensity_score\"], kde=False, label=\"Com internet\")\n",
    "plt.title(\"Sobreposição dos Scores\")\n",
    "plt.legend()"
   ]
  },
  {
   "cell_type": "code",
   "execution_count": null,
   "id": "28f8899c",
   "metadata": {},
   "outputs": [],
   "source": []
  },
  {
   "cell_type": "markdown",
   "id": "b9120270",
   "metadata": {},
   "source": [
    "## IPTW e Intervalo de confiança"
   ]
  },
  {
   "cell_type": "markdown",
   "id": "8527780c",
   "metadata": {},
   "source": [
    "* Dado os scores e o intervalo destes definido para a estimativa do impacto, aplica-se o IPTW (Inverse probability weighting)\n",
    "    * Método estatistico para remover o efeito das variáveis confounders\n",
    "    * Cada amostra terá um peso no calculo da média do efeito, e esse peso é definido pelo inverso da probabilidade daquela amostra pertencer ao respectivo grupo, sendo, para o tratamento : (1/score) e para não-trarados (1/(1-score))\n",
    "    * Por essa metodologia, garante-se peso maior as amostras que tem menor probabilidade de pertencer aos tratados e não-tratados\n",
    "        * Ou seja, se temos um tratado com score baixo, implica que ele tem características de um não-tratado, o que é uma ótima observação para se comparar com os não-tratados de fato\n",
    "    * Multiplica-se a qtdd de amostras de um dado score pelo seu respectivo peso, criando uma pseudopopulação para tratados e não-tratados, ambas de mesmo tamanho\n",
    "    * Por fim, extra-se a média destas pseudopopulações entre tratados e não-tratados"
   ]
  },
  {
   "cell_type": "code",
   "execution_count": 88,
   "id": "25f97d1b",
   "metadata": {},
   "outputs": [
    {
     "name": "stdout",
     "output_type": "stream",
     "text": [
      "Y1: 559.0750408666033\n",
      "Y0: 522.7927349803541\n",
      "Efeito Médio 36.28230588624922\n"
     ]
    }
   ],
   "source": [
    "data_ps2 = data_ps[data_ps['propensity_score']< 0.9] #pegando scores menores que 0.9: região com algum grau de sobreposição\n",
    "\n",
    "weight_t = 1/data_ps2.query(\"intervencao==1\")[\"propensity_score\"] #calculando peso para cada tratado\n",
    "weight_nt = 1/(1-data_ps2.query(\"intervencao==0\")[\"propensity_score\"]) #calculando peso para cada não-tratado\n",
    "\n",
    "\n",
    "y1 = sum(data_ps2.query(\"intervencao==1\")[\"NU_NOTA_REDACAO\"]*weight_t) / len(data_ps2) #calculando média da nota entre tratados\n",
    "y0 = sum(data_ps2.query(\"intervencao==0\")[\"NU_NOTA_REDACAO\"]*weight_nt) / len(data_ps2) #calculando médoa entre não-tratados\n",
    "\n",
    "\n",
    "print(\"Y1:\", y1)\n",
    "print(\"Y0:\", y0)\n",
    "print(\"Efeito Médio\", y1-y0) #capturando o efeito médio do tratamento"
   ]
  },
  {
   "cell_type": "markdown",
   "id": "87108386",
   "metadata": {},
   "source": [
    "* Observa-se que o efeito calculado por este método é bem distinto da estimativa inicial, apenas comparando as médias de quem tem e não tem internet\n",
    "* A magnitude do efeito é menor (36 contra 93), evidenciando que há viés na comparação inicial"
   ]
  },
  {
   "cell_type": "markdown",
   "id": "12a05ae3",
   "metadata": {},
   "source": [
    "* Como uma estimativa, é prudente fornecer um intervalo de confiança para o parâmetro\n",
    "* Utiliza-se o metodo do bootstrapping para realizar o intervalo"
   ]
  },
  {
   "cell_type": "code",
   "execution_count": 89,
   "id": "ffb0f1e2",
   "metadata": {},
   "outputs": [],
   "source": [
    "def propens_score(base,X,T,Y): #funcao que calcula o efeito médio do acesso a internet\n",
    "    modelo = LogisticRegression(C=1e6, solver = \"saga\").fit(base[X], base[T])\n",
    "    base_ps = base.assign(propensity_score=modelo.predict_proba(base[X])[:, 1])\n",
    "    base_ps2 = base_ps[base_ps['propensity_score']< 0.9]\n",
    "    weight = ((base_ps2[\"intervencao\"]-base_ps2[\"propensity_score\"]) /\n",
    "          (base_ps2[\"propensity_score\"]*(1-base_ps2[\"propensity_score\"])))\n",
    "    ate = np.mean(weight * base_ps2[\"NU_NOTA_REDACAO\"])\n",
    "    return ate"
   ]
  },
  {
   "cell_type": "markdown",
   "id": "357fb3e4",
   "metadata": {},
   "source": [
    "* Realiza-se abaixo 5 reamostragens para fins de demonstração, porém, o ideal é realizar pelo menos 1.000"
   ]
  },
  {
   "cell_type": "code",
   "execution_count": 98,
   "id": "5e71b52a",
   "metadata": {},
   "outputs": [],
   "source": [
    "np.random.seed(100)\n",
    "lista = []\n",
    "for x in range(1,5):\n",
    "    base = df2.sample(frac=1, replace=True)\n",
    "    ates = propens_score(base,X,T,Y)\n",
    "    lista.append(ates)"
   ]
  },
  {
   "cell_type": "code",
   "execution_count": 99,
   "id": "09102632",
   "metadata": {},
   "outputs": [
    {
     "data": {
      "text/plain": [
       "[37.06846402281338, 37.06514414596164, 36.86063868479491, 35.722230246385706]"
      ]
     },
     "execution_count": 99,
     "metadata": {},
     "output_type": "execute_result"
    }
   ],
   "source": [
    "lista"
   ]
  },
  {
   "cell_type": "markdown",
   "id": "92cfe4e8",
   "metadata": {},
   "source": [
    "## Regressão com Propensity Score"
   ]
  },
  {
   "cell_type": "markdown",
   "id": "63cd09f3",
   "metadata": {},
   "source": [
    "* O score pode ser utilizado como uma variável em uma regressão com a função de controlar o viés"
   ]
  },
  {
   "cell_type": "code",
   "execution_count": 65,
   "id": "59d14b10",
   "metadata": {},
   "outputs": [],
   "source": [
    "data_ps_reg = data_ps[['intervencao','NU_NOTA_REDACAO','propensity_score']]\n",
    "data_ps_reg = sm.add_constant(data_ps_reg)\n",
    "Y = \"NU_NOTA_REDACAO\"\n",
    "X = data_ps_reg.columns.drop([Y])"
   ]
  },
  {
   "cell_type": "code",
   "execution_count": 66,
   "id": "b9fb1073",
   "metadata": {},
   "outputs": [],
   "source": [
    "model5 = sm.OLS(data_ps_reg[Y], data_ps_reg[X]).fit()"
   ]
  },
  {
   "cell_type": "markdown",
   "id": "97a4a383",
   "metadata": {},
   "source": [
    "* O impacto do tratamento, neste modelo, é de 38.7 a 40.4, um pouco acima do que o estimado anteriormente"
   ]
  },
  {
   "cell_type": "code",
   "execution_count": 67,
   "id": "28d6a309",
   "metadata": {},
   "outputs": [
    {
     "data": {
      "text/html": [
       "<table class=\"simpletable\">\n",
       "<caption>OLS Regression Results</caption>\n",
       "<tr>\n",
       "  <th>Dep. Variable:</th>     <td>NU_NOTA_REDACAO</td> <th>  R-squared:         </th>  <td>   0.064</td>  \n",
       "</tr>\n",
       "<tr>\n",
       "  <th>Model:</th>                   <td>OLS</td>       <th>  Adj. R-squared:    </th>  <td>   0.064</td>  \n",
       "</tr>\n",
       "<tr>\n",
       "  <th>Method:</th>             <td>Least Squares</td>  <th>  F-statistic:       </th>  <td>8.195e+04</td> \n",
       "</tr>\n",
       "<tr>\n",
       "  <th>Date:</th>             <td>Fri, 07 Apr 2023</td> <th>  Prob (F-statistic):</th>   <td>  0.00</td>   \n",
       "</tr>\n",
       "<tr>\n",
       "  <th>Time:</th>                 <td>18:27:16</td>     <th>  Log-Likelihood:    </th> <td>-1.5784e+07</td>\n",
       "</tr>\n",
       "<tr>\n",
       "  <th>No. Observations:</th>      <td>2378378</td>     <th>  AIC:               </th>  <td>3.157e+07</td> \n",
       "</tr>\n",
       "<tr>\n",
       "  <th>Df Residuals:</th>          <td>2378375</td>     <th>  BIC:               </th>  <td>3.157e+07</td> \n",
       "</tr>\n",
       "<tr>\n",
       "  <th>Df Model:</th>              <td>     2</td>      <th>                     </th>      <td> </td>     \n",
       "</tr>\n",
       "<tr>\n",
       "  <th>Covariance Type:</th>      <td>nonrobust</td>    <th>                     </th>      <td> </td>     \n",
       "</tr>\n",
       "</table>\n",
       "<table class=\"simpletable\">\n",
       "<tr>\n",
       "          <td></td>            <th>coef</th>     <th>std err</th>      <th>t</th>      <th>P>|t|</th>  <th>[0.025</th>    <th>0.975]</th>  \n",
       "</tr>\n",
       "<tr>\n",
       "  <th>const</th>            <td>  171.0265</td> <td>    1.126</td> <td>  151.955</td> <td> 0.000</td> <td>  168.821</td> <td>  173.232</td>\n",
       "</tr>\n",
       "<tr>\n",
       "  <th>intervencao</th>      <td>   39.5939</td> <td>    0.454</td> <td>   87.159</td> <td> 0.000</td> <td>   38.704</td> <td>   40.484</td>\n",
       "</tr>\n",
       "<tr>\n",
       "  <th>propensity_score</th> <td>  444.6717</td> <td>    1.306</td> <td>  340.402</td> <td> 0.000</td> <td>  442.111</td> <td>  447.232</td>\n",
       "</tr>\n",
       "</table>\n",
       "<table class=\"simpletable\">\n",
       "<tr>\n",
       "  <th>Omnibus:</th>       <td>360019.116</td> <th>  Durbin-Watson:     </th>  <td>   1.939</td> \n",
       "</tr>\n",
       "<tr>\n",
       "  <th>Prob(Omnibus):</th>   <td> 0.000</td>   <th>  Jarque-Bera (JB):  </th> <td>770074.473</td>\n",
       "</tr>\n",
       "<tr>\n",
       "  <th>Skew:</th>            <td>-0.909</td>   <th>  Prob(JB):          </th>  <td>    0.00</td> \n",
       "</tr>\n",
       "<tr>\n",
       "  <th>Kurtosis:</th>        <td> 5.113</td>   <th>  Cond. No.          </th>  <td>    23.3</td> \n",
       "</tr>\n",
       "</table><br/><br/>Notes:<br/>[1] Standard Errors assume that the covariance matrix of the errors is correctly specified."
      ],
      "text/plain": [
       "<class 'statsmodels.iolib.summary.Summary'>\n",
       "\"\"\"\n",
       "                            OLS Regression Results                            \n",
       "==============================================================================\n",
       "Dep. Variable:        NU_NOTA_REDACAO   R-squared:                       0.064\n",
       "Model:                            OLS   Adj. R-squared:                  0.064\n",
       "Method:                 Least Squares   F-statistic:                 8.195e+04\n",
       "Date:                Fri, 07 Apr 2023   Prob (F-statistic):               0.00\n",
       "Time:                        18:27:16   Log-Likelihood:            -1.5784e+07\n",
       "No. Observations:             2378378   AIC:                         3.157e+07\n",
       "Df Residuals:                 2378375   BIC:                         3.157e+07\n",
       "Df Model:                           2                                         \n",
       "Covariance Type:            nonrobust                                         \n",
       "====================================================================================\n",
       "                       coef    std err          t      P>|t|      [0.025      0.975]\n",
       "------------------------------------------------------------------------------------\n",
       "const              171.0265      1.126    151.955      0.000     168.821     173.232\n",
       "intervencao         39.5939      0.454     87.159      0.000      38.704      40.484\n",
       "propensity_score   444.6717      1.306    340.402      0.000     442.111     447.232\n",
       "==============================================================================\n",
       "Omnibus:                   360019.116   Durbin-Watson:                   1.939\n",
       "Prob(Omnibus):                  0.000   Jarque-Bera (JB):           770074.473\n",
       "Skew:                          -0.909   Prob(JB):                         0.00\n",
       "Kurtosis:                       5.113   Cond. No.                         23.3\n",
       "==============================================================================\n",
       "\n",
       "Notes:\n",
       "[1] Standard Errors assume that the covariance matrix of the errors is correctly specified.\n",
       "\"\"\""
      ]
     },
     "execution_count": 67,
     "metadata": {},
     "output_type": "execute_result"
    }
   ],
   "source": [
    "model5.summary()"
   ]
  },
  {
   "cell_type": "code",
   "execution_count": null,
   "id": "fa61226b",
   "metadata": {},
   "outputs": [],
   "source": []
  }
 ],
 "metadata": {
  "kernelspec": {
   "display_name": "Python 3 (ipykernel)",
   "language": "python",
   "name": "python3"
  },
  "language_info": {
   "codemirror_mode": {
    "name": "ipython",
    "version": 3
   },
   "file_extension": ".py",
   "mimetype": "text/x-python",
   "name": "python",
   "nbconvert_exporter": "python",
   "pygments_lexer": "ipython3",
   "version": "3.11.0"
  }
 },
 "nbformat": 4,
 "nbformat_minor": 5
}
