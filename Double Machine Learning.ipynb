{
 "cells": [
  {
   "cell_type": "code",
   "execution_count": 1,
   "id": "6fc07176",
   "metadata": {},
   "outputs": [],
   "source": [
    "import numpy as np\n",
    "import pandas as pd\n",
    "from sklearn.linear_model import LogisticRegression\n",
    "from xgboost import XGBRegressor, XGBClassifier\n",
    "import doubleml as dml\n",
    "import matplotlib.pyplot as plt"
   ]
  },
  {
   "cell_type": "markdown",
   "id": "f1630211",
   "metadata": {},
   "source": [
    "## 1 - Preparando a base"
   ]
  },
  {
   "cell_type": "code",
   "execution_count": 2,
   "id": "aa105e93",
   "metadata": {},
   "outputs": [],
   "source": [
    "import numpy as np\n",
    "import pandas as pd\n",
    "\n",
    "# 1. reprodutibilidade\n",
    "np.random.seed(422)\n",
    "\n",
    "# 2. tamanho da amostra e número de clusters\n",
    "n = 10_000\n",
    "n_clust = 5\n",
    "\n",
    "# 3. atribuição a clusters + interceptos aleatórios\n",
    "cluster_id = np.random.choice(range(n_clust), size=n)\n",
    "cluster_effect = np.random.normal(loc=0, scale=1.0, size=n_clust)\n",
    "\n",
    "# 4. covariáveis\n",
    "X1 = np.random.normal(loc=0, scale=1, size=n)         # gaussiana\n",
    "X2 = np.random.normal(loc=5, scale=2, size=n)         # gaussiana\n",
    "X4 = np.random.exponential(scale=1, size=n)           # assimétrica\n",
    "X5 = np.random.poisson(lam=3, size=n)                 # contagem\n",
    "X6 = np.random.choice(['C1','C2','C3'],                # categórica 3 níveis\n",
    "                      size=n, p=[0.5,0.3,0.2])\n",
    "X6_num = pd.get_dummies(X6).values @ np.array([0, 0.5, -0.5])\n",
    "\n",
    "# 5. um confundidor não observado\n",
    "U = np.random.normal(0, 1, size=n)\n",
    "\n",
    "# 6. propensão com interações (tratamento sera desbalanceado pelas variaveis X1, X2 e X6)\n",
    "logit = (\n",
    "    0.2 * X1 \n",
    "  - 0.15 * X2 \n",
    "  + 1.2  * X6_num \n",
    "  + 0.8  * X1 * X6_num   # interação\n",
    "  + 0.2  * U             # confundidor não observado\n",
    ")\n",
    "propensity = 1 / (1 + np.exp(-logit))\n",
    "T = np.random.binomial(1, propensity)\n",
    "\n",
    "# 7. efeito de tratamento heterogêneo (depende de X4 e X6)\n",
    "TE = 2.0 + 1.0 * np.sqrt(X4 + 1) - 0.5 * (X6 == 'C3')\n",
    "\n",
    "# 8. ruído heterocedástico\n",
    "noise_sd = 1 + 0.5 * np.abs(X4)\n",
    "noise    = np.random.normal(loc=0, scale=noise_sd, size=n)\n",
    "\n",
    "# 9. Variavel objetivo Y\n",
    "Y = (\n",
    "    5\n",
    "  + TE * T\n",
    "  + 1.2 * (X1**2)\n",
    "  - 1.5 * np.log(np.abs(X2) + 1)\n",
    "  + 0.8 * X5\n",
    "  + 0.4 * X4\n",
    "  + 0.7 * X6_num\n",
    "  + cluster_effect[cluster_id]\n",
    "  + noise\n",
    ")\n",
    "\n",
    "# 10. montagem do DataFrame\n",
    "df = pd.DataFrame({\n",
    "    'Y':          Y,\n",
    "    'T':          T,\n",
    "    'X1':         X1,\n",
    "    'X2':         X2,\n",
    "    'X4':         X4,\n",
    "    'X5':         X5,\n",
    "    'X6':         X6,\n",
    "    'cluster_id': cluster_id\n",
    "})"
   ]
  },
  {
   "cell_type": "code",
   "execution_count": 3,
   "id": "6d40764f",
   "metadata": {},
   "outputs": [
    {
     "data": {
      "text/plain": [
       "3.2768279548662047"
      ]
     },
     "execution_count": 3,
     "metadata": {},
     "output_type": "execute_result"
    }
   ],
   "source": [
    "# Verdadeiro Efeito Médio do Tratamento (ATE)\n",
    "TE.mean()"
   ]
  },
  {
   "cell_type": "code",
   "execution_count": 4,
   "id": "7c12aaae",
   "metadata": {},
   "outputs": [
    {
     "data": {
      "text/html": [
       "<div>\n",
       "<style scoped>\n",
       "    .dataframe tbody tr th:only-of-type {\n",
       "        vertical-align: middle;\n",
       "    }\n",
       "\n",
       "    .dataframe tbody tr th {\n",
       "        vertical-align: top;\n",
       "    }\n",
       "\n",
       "    .dataframe thead th {\n",
       "        text-align: right;\n",
       "    }\n",
       "</style>\n",
       "<table border=\"1\" class=\"dataframe\">\n",
       "  <thead>\n",
       "    <tr style=\"text-align: right;\">\n",
       "      <th></th>\n",
       "      <th>Y</th>\n",
       "      <th>T</th>\n",
       "      <th>X1</th>\n",
       "      <th>X2</th>\n",
       "      <th>X4</th>\n",
       "      <th>X5</th>\n",
       "      <th>X6</th>\n",
       "      <th>cluster_id</th>\n",
       "    </tr>\n",
       "  </thead>\n",
       "  <tbody>\n",
       "    <tr>\n",
       "      <th>0</th>\n",
       "      <td>10.441602</td>\n",
       "      <td>0</td>\n",
       "      <td>-1.265842</td>\n",
       "      <td>4.092662</td>\n",
       "      <td>0.189403</td>\n",
       "      <td>5</td>\n",
       "      <td>C2</td>\n",
       "      <td>2</td>\n",
       "    </tr>\n",
       "    <tr>\n",
       "      <th>1</th>\n",
       "      <td>8.894606</td>\n",
       "      <td>1</td>\n",
       "      <td>-0.558146</td>\n",
       "      <td>5.514226</td>\n",
       "      <td>0.783577</td>\n",
       "      <td>5</td>\n",
       "      <td>C1</td>\n",
       "      <td>2</td>\n",
       "    </tr>\n",
       "    <tr>\n",
       "      <th>2</th>\n",
       "      <td>7.351063</td>\n",
       "      <td>0</td>\n",
       "      <td>1.697067</td>\n",
       "      <td>3.926277</td>\n",
       "      <td>0.169392</td>\n",
       "      <td>1</td>\n",
       "      <td>C3</td>\n",
       "      <td>0</td>\n",
       "    </tr>\n",
       "    <tr>\n",
       "      <th>3</th>\n",
       "      <td>10.362764</td>\n",
       "      <td>1</td>\n",
       "      <td>0.473085</td>\n",
       "      <td>9.349065</td>\n",
       "      <td>2.130764</td>\n",
       "      <td>3</td>\n",
       "      <td>C2</td>\n",
       "      <td>0</td>\n",
       "    </tr>\n",
       "    <tr>\n",
       "      <th>4</th>\n",
       "      <td>8.861628</td>\n",
       "      <td>1</td>\n",
       "      <td>0.527927</td>\n",
       "      <td>2.994966</td>\n",
       "      <td>0.737608</td>\n",
       "      <td>2</td>\n",
       "      <td>C2</td>\n",
       "      <td>4</td>\n",
       "    </tr>\n",
       "  </tbody>\n",
       "</table>\n",
       "</div>"
      ],
      "text/plain": [
       "           Y  T        X1        X2        X4  X5  X6  cluster_id\n",
       "0  10.441602  0 -1.265842  4.092662  0.189403   5  C2           2\n",
       "1   8.894606  1 -0.558146  5.514226  0.783577   5  C1           2\n",
       "2   7.351063  0  1.697067  3.926277  0.169392   1  C3           0\n",
       "3  10.362764  1  0.473085  9.349065  2.130764   3  C2           0\n",
       "4   8.861628  1  0.527927  2.994966  0.737608   2  C2           4"
      ]
     },
     "execution_count": 4,
     "metadata": {},
     "output_type": "execute_result"
    }
   ],
   "source": [
    "df.head()"
   ]
  },
  {
   "cell_type": "code",
   "execution_count": 5,
   "id": "1a255065",
   "metadata": {},
   "outputs": [],
   "source": [
    "# Transformando a variavel qualitativa via dummie (assumindo B como referencia)\n",
    "dummies = pd.get_dummies(df['X6'], prefix='X6', drop_first=True, dtype=float)\n",
    "\n",
    "# Inserindo a nova variavel no data frame original\n",
    "df = pd.concat([df, dummies], axis=1)"
   ]
  },
  {
   "cell_type": "code",
   "execution_count": 6,
   "id": "62a67a2a",
   "metadata": {},
   "outputs": [
    {
     "data": {
      "text/html": [
       "<div>\n",
       "<style scoped>\n",
       "    .dataframe tbody tr th:only-of-type {\n",
       "        vertical-align: middle;\n",
       "    }\n",
       "\n",
       "    .dataframe tbody tr th {\n",
       "        vertical-align: top;\n",
       "    }\n",
       "\n",
       "    .dataframe thead th {\n",
       "        text-align: right;\n",
       "    }\n",
       "</style>\n",
       "<table border=\"1\" class=\"dataframe\">\n",
       "  <thead>\n",
       "    <tr style=\"text-align: right;\">\n",
       "      <th></th>\n",
       "      <th>Y</th>\n",
       "      <th>T</th>\n",
       "      <th>X1</th>\n",
       "      <th>X2</th>\n",
       "      <th>X4</th>\n",
       "      <th>X5</th>\n",
       "      <th>X6</th>\n",
       "      <th>cluster_id</th>\n",
       "      <th>X6_C2</th>\n",
       "      <th>X6_C3</th>\n",
       "    </tr>\n",
       "  </thead>\n",
       "  <tbody>\n",
       "    <tr>\n",
       "      <th>0</th>\n",
       "      <td>10.441602</td>\n",
       "      <td>0</td>\n",
       "      <td>-1.265842</td>\n",
       "      <td>4.092662</td>\n",
       "      <td>0.189403</td>\n",
       "      <td>5</td>\n",
       "      <td>C2</td>\n",
       "      <td>2</td>\n",
       "      <td>1.0</td>\n",
       "      <td>0.0</td>\n",
       "    </tr>\n",
       "    <tr>\n",
       "      <th>1</th>\n",
       "      <td>8.894606</td>\n",
       "      <td>1</td>\n",
       "      <td>-0.558146</td>\n",
       "      <td>5.514226</td>\n",
       "      <td>0.783577</td>\n",
       "      <td>5</td>\n",
       "      <td>C1</td>\n",
       "      <td>2</td>\n",
       "      <td>0.0</td>\n",
       "      <td>0.0</td>\n",
       "    </tr>\n",
       "    <tr>\n",
       "      <th>2</th>\n",
       "      <td>7.351063</td>\n",
       "      <td>0</td>\n",
       "      <td>1.697067</td>\n",
       "      <td>3.926277</td>\n",
       "      <td>0.169392</td>\n",
       "      <td>1</td>\n",
       "      <td>C3</td>\n",
       "      <td>0</td>\n",
       "      <td>0.0</td>\n",
       "      <td>1.0</td>\n",
       "    </tr>\n",
       "    <tr>\n",
       "      <th>3</th>\n",
       "      <td>10.362764</td>\n",
       "      <td>1</td>\n",
       "      <td>0.473085</td>\n",
       "      <td>9.349065</td>\n",
       "      <td>2.130764</td>\n",
       "      <td>3</td>\n",
       "      <td>C2</td>\n",
       "      <td>0</td>\n",
       "      <td>1.0</td>\n",
       "      <td>0.0</td>\n",
       "    </tr>\n",
       "    <tr>\n",
       "      <th>4</th>\n",
       "      <td>8.861628</td>\n",
       "      <td>1</td>\n",
       "      <td>0.527927</td>\n",
       "      <td>2.994966</td>\n",
       "      <td>0.737608</td>\n",
       "      <td>2</td>\n",
       "      <td>C2</td>\n",
       "      <td>4</td>\n",
       "      <td>1.0</td>\n",
       "      <td>0.0</td>\n",
       "    </tr>\n",
       "  </tbody>\n",
       "</table>\n",
       "</div>"
      ],
      "text/plain": [
       "           Y  T        X1        X2        X4  X5  X6  cluster_id  X6_C2  \\\n",
       "0  10.441602  0 -1.265842  4.092662  0.189403   5  C2           2    1.0   \n",
       "1   8.894606  1 -0.558146  5.514226  0.783577   5  C1           2    0.0   \n",
       "2   7.351063  0  1.697067  3.926277  0.169392   1  C3           0    0.0   \n",
       "3  10.362764  1  0.473085  9.349065  2.130764   3  C2           0    1.0   \n",
       "4   8.861628  1  0.527927  2.994966  0.737608   2  C2           4    1.0   \n",
       "\n",
       "   X6_C3  \n",
       "0    0.0  \n",
       "1    0.0  \n",
       "2    1.0  \n",
       "3    0.0  \n",
       "4    0.0  "
      ]
     },
     "execution_count": 6,
     "metadata": {},
     "output_type": "execute_result"
    }
   ],
   "source": [
    "df.head()"
   ]
  },
  {
   "cell_type": "code",
   "execution_count": 7,
   "id": "11e4d3c4",
   "metadata": {},
   "outputs": [],
   "source": [
    "# Nome das variaveis que serao as confundidoras do modelo\n",
    "features_base = ['X1','X2','X4','X5','X6_C2','X6_C3']"
   ]
  },
  {
   "cell_type": "markdown",
   "id": "a74104df",
   "metadata": {},
   "source": [
    "## 2 - Verificando o pressuposto da positividade"
   ]
  },
  {
   "cell_type": "code",
   "execution_count": 8,
   "id": "751de2e6",
   "metadata": {},
   "outputs": [],
   "source": [
    "# Para evitar o overfitting no calculo do propensity score, vamos separar a base em duas, assim, treinaremos dois modelos\n",
    "np.random.seed(42)\n",
    "df1 = df.sample(frac = 0.5)\n",
    "df2 = df.drop(df1.index)"
   ]
  },
  {
   "cell_type": "code",
   "execution_count": 9,
   "id": "1eab458c",
   "metadata": {},
   "outputs": [],
   "source": [
    "from sklearn.linear_model import LogisticRegression\n",
    "# Vamos fazer duas regressoes logisticas para estimar os propensity scores, cada uma vai ser treinada em metade da base\n",
    "logit1 = LogisticRegression()\n",
    "logit2 = LogisticRegression()\n",
    "\n",
    "# Treinando os modelos em cada parte da base, prevendo T com base nas variaveis confundidoras (X)\n",
    "logit1.fit(df1[['X1','X2','X4','X5','X6_C2','X6_C3']], df1['T'])\n",
    "logit2.fit(df2[['X1','X2','X4','X5','X6_C2','X6_C3']], df2['T'])\n",
    "\n",
    "\n",
    "# O modelo treinado na base 1 vai ser usado para calcular o score na base 2\n",
    "# O modelo treinado na base 2 vai ser usado para calcular o score na base 1\n",
    "df1['propensity_score'] = logit2.predict_proba(df1[['X1','X2','X4','X5','X6_C2','X6_C3']])[:, 1]\n",
    "df2['propensity_score'] = logit1.predict_proba(df2[['X1','X2','X4','X5','X6_C2','X6_C3']])[:, 1]\n",
    "\n",
    "# juntando as bases novamente\n",
    "df_f = pd.concat([df1,df2])"
   ]
  },
  {
   "cell_type": "code",
   "execution_count": 10,
   "id": "8d6ffede",
   "metadata": {},
   "outputs": [
    {
     "data": {
      "text/html": [
       "<div>\n",
       "<style scoped>\n",
       "    .dataframe tbody tr th:only-of-type {\n",
       "        vertical-align: middle;\n",
       "    }\n",
       "\n",
       "    .dataframe tbody tr th {\n",
       "        vertical-align: top;\n",
       "    }\n",
       "\n",
       "    .dataframe thead th {\n",
       "        text-align: right;\n",
       "    }\n",
       "</style>\n",
       "<table border=\"1\" class=\"dataframe\">\n",
       "  <thead>\n",
       "    <tr style=\"text-align: right;\">\n",
       "      <th></th>\n",
       "      <th>Y</th>\n",
       "      <th>T</th>\n",
       "      <th>X1</th>\n",
       "      <th>X2</th>\n",
       "      <th>X4</th>\n",
       "      <th>X5</th>\n",
       "      <th>X6</th>\n",
       "      <th>cluster_id</th>\n",
       "      <th>X6_C2</th>\n",
       "      <th>X6_C3</th>\n",
       "      <th>propensity_score</th>\n",
       "    </tr>\n",
       "  </thead>\n",
       "  <tbody>\n",
       "    <tr>\n",
       "      <th>6252</th>\n",
       "      <td>10.526104</td>\n",
       "      <td>1</td>\n",
       "      <td>0.314130</td>\n",
       "      <td>9.345531</td>\n",
       "      <td>0.548184</td>\n",
       "      <td>5</td>\n",
       "      <td>C1</td>\n",
       "      <td>0</td>\n",
       "      <td>0.0</td>\n",
       "      <td>0.0</td>\n",
       "      <td>0.222550</td>\n",
       "    </tr>\n",
       "    <tr>\n",
       "      <th>4684</th>\n",
       "      <td>6.262451</td>\n",
       "      <td>0</td>\n",
       "      <td>1.166495</td>\n",
       "      <td>5.933869</td>\n",
       "      <td>0.743831</td>\n",
       "      <td>3</td>\n",
       "      <td>C1</td>\n",
       "      <td>0</td>\n",
       "      <td>0.0</td>\n",
       "      <td>0.0</td>\n",
       "      <td>0.353902</td>\n",
       "    </tr>\n",
       "    <tr>\n",
       "      <th>1731</th>\n",
       "      <td>5.873716</td>\n",
       "      <td>1</td>\n",
       "      <td>0.083750</td>\n",
       "      <td>4.612645</td>\n",
       "      <td>0.195561</td>\n",
       "      <td>0</td>\n",
       "      <td>C1</td>\n",
       "      <td>1</td>\n",
       "      <td>0.0</td>\n",
       "      <td>0.0</td>\n",
       "      <td>0.326049</td>\n",
       "    </tr>\n",
       "    <tr>\n",
       "      <th>4742</th>\n",
       "      <td>13.623841</td>\n",
       "      <td>1</td>\n",
       "      <td>-1.611314</td>\n",
       "      <td>0.779926</td>\n",
       "      <td>0.998823</td>\n",
       "      <td>1</td>\n",
       "      <td>C1</td>\n",
       "      <td>2</td>\n",
       "      <td>0.0</td>\n",
       "      <td>0.0</td>\n",
       "      <td>0.361966</td>\n",
       "    </tr>\n",
       "    <tr>\n",
       "      <th>4521</th>\n",
       "      <td>9.555984</td>\n",
       "      <td>0</td>\n",
       "      <td>-1.342107</td>\n",
       "      <td>3.989819</td>\n",
       "      <td>1.187833</td>\n",
       "      <td>4</td>\n",
       "      <td>C1</td>\n",
       "      <td>3</td>\n",
       "      <td>0.0</td>\n",
       "      <td>0.0</td>\n",
       "      <td>0.288668</td>\n",
       "    </tr>\n",
       "  </tbody>\n",
       "</table>\n",
       "</div>"
      ],
      "text/plain": [
       "              Y  T        X1        X2        X4  X5  X6  cluster_id  X6_C2  \\\n",
       "6252  10.526104  1  0.314130  9.345531  0.548184   5  C1           0    0.0   \n",
       "4684   6.262451  0  1.166495  5.933869  0.743831   3  C1           0    0.0   \n",
       "1731   5.873716  1  0.083750  4.612645  0.195561   0  C1           1    0.0   \n",
       "4742  13.623841  1 -1.611314  0.779926  0.998823   1  C1           2    0.0   \n",
       "4521   9.555984  0 -1.342107  3.989819  1.187833   4  C1           3    0.0   \n",
       "\n",
       "      X6_C3  propensity_score  \n",
       "6252    0.0          0.222550  \n",
       "4684    0.0          0.353902  \n",
       "1731    0.0          0.326049  \n",
       "4742    0.0          0.361966  \n",
       "4521    0.0          0.288668  "
      ]
     },
     "execution_count": 10,
     "metadata": {},
     "output_type": "execute_result"
    }
   ],
   "source": [
    "df_f.head()"
   ]
  },
  {
   "cell_type": "code",
   "execution_count": 11,
   "id": "7df7cb2f",
   "metadata": {},
   "outputs": [
    {
     "data": {
      "image/png": "[encoded data removed]",
      "text/plain": [
       "<Figure size 640x480 with 1 Axes>"
      ]
     },
     "metadata": {},
     "output_type": "display_data"
    }
   ],
   "source": [
    "import matplotlib.pyplot as plt\n",
    "# Visualizando se temos unidades de controle e tratamento nas mesmas faixas do propensity score (Pressuposto da Positividade)\n",
    "plt.hist(df_f[df_f['T'] == 0]['propensity_score'], label = 'Controle', alpha = 0.5)\n",
    "plt.hist(df_f[df_f['T'] == 1]['propensity_score'], label = 'Tratamento', alpha = 0.5)\n",
    "plt.legend()\n",
    "plt.show()"
   ]
  },
  {
   "cell_type": "markdown",
   "id": "adcb86e8",
   "metadata": {},
   "source": [
    "## 3 - Verificando equilibrio entre as variaveis X dos grupos controle e tratamento (SMD)"
   ]
  },
  {
   "cell_type": "code",
   "execution_count": 12,
   "id": "986b341b",
   "metadata": {},
   "outputs": [
    {
     "name": "stdout",
     "output_type": "stream",
     "text": [
      "📋 Relatório de Balanceamento:\n",
      "         SMD\n",
      "X1  0.235490\n",
      "X6  0.170714\n",
      "X4  0.032110\n",
      "X5  0.020512\n",
      "X2 -0.264729\n"
     ]
    }
   ],
   "source": [
    "# Função para SMD contínuas\n",
    "def compute_smd_continuous(x, t):\n",
    "    treated = x[t == 1]\n",
    "    control = x[t == 0]\n",
    "    mean_diff = treated.mean() - control.mean()\n",
    "    pooled_std = np.sqrt((np.var(treated, ddof=1) + np.var(control, ddof=1)) / 2)\n",
    "    return mean_diff / pooled_std\n",
    "\n",
    "# Função para SMD categóricas\n",
    "def compute_smd_categorical(x, t):\n",
    "    treated = pd.crosstab(index=t, columns=x, normalize='index').loc[1]\n",
    "    control = pd.crosstab(index=t, columns=x, normalize='index').loc[0]\n",
    "    smd = np.sum(np.abs(treated - control)) / 2\n",
    "    return smd\n",
    "\n",
    "# Identificando variáveis contínuas e categóricas\n",
    "continuous_vars = ['X1','X2','X4','X5']\n",
    "categorical_vars = ['X6']\n",
    "\n",
    "# Calculando SMDs\n",
    "smd_results = {}\n",
    "\n",
    "for col in continuous_vars:\n",
    "    smd = compute_smd_continuous(df[col], df['T'])\n",
    "    smd_results[col] = smd\n",
    "\n",
    "for col in categorical_vars:\n",
    "    smd = compute_smd_categorical(df[col], df['T'])\n",
    "    smd_results[col] = smd\n",
    "\n",
    "# Criar DataFrame de SMDs\n",
    "smd_df = pd.DataFrame.from_dict(smd_results, orient='index', columns=['SMD'])\n",
    "smd_df = smd_df.sort_values(by='SMD', ascending=False)\n",
    "\n",
    "print(\"📋 Relatório de Balanceamento:\")\n",
    "print(smd_df)\n",
    "\n",
    "# Relatorio revela que os grupos tratamento e controle sao desbalanceados pelas variaveis X1, X2 e X6"
   ]
  },
  {
   "cell_type": "markdown",
   "id": "0a8f4ce7",
   "metadata": {},
   "source": [
    "## 4 - Verificando o resultado de uma regressao linear Y ~ T"
   ]
  },
  {
   "cell_type": "code",
   "execution_count": 13,
   "id": "25e0636d",
   "metadata": {},
   "outputs": [],
   "source": [
    "import statsmodels.api as sm"
   ]
  },
  {
   "cell_type": "code",
   "execution_count": 15,
   "id": "507410db",
   "metadata": {},
   "outputs": [
    {
     "name": "stdout",
     "output_type": "stream",
     "text": [
      "                            OLS Regression Results                            \n",
      "==============================================================================\n",
      "Dep. Variable:                      Y   R-squared:                       0.272\n",
      "Model:                            OLS   Adj. R-squared:                  0.272\n",
      "Method:                 Least Squares   F-statistic:                     3734.\n",
      "Date:                Sat, 03 May 2025   Prob (F-statistic):               0.00\n",
      "Time:                        01:24:16   Log-Likelihood:                -24615.\n",
      "No. Observations:               10000   AIC:                         4.923e+04\n",
      "Df Residuals:                    9998   BIC:                         4.925e+04\n",
      "Df Model:                           1                                         \n",
      "Covariance Type:            nonrobust                                         \n",
      "==============================================================================\n",
      "                 coef    std err          t      P>|t|      [0.025      0.975]\n",
      "------------------------------------------------------------------------------\n",
      "const          6.6430      0.035    189.183      0.000       6.574       6.712\n",
      "T              3.6404      0.060     61.106      0.000       3.524       3.757\n",
      "==============================================================================\n",
      "Omnibus:                      871.841   Durbin-Watson:                   1.995\n",
      "Prob(Omnibus):                  0.000   Jarque-Bera (JB):             1286.497\n",
      "Skew:                           0.687   Prob(JB):                    4.37e-280\n",
      "Kurtosis:                       4.095   Cond. No.                         2.42\n",
      "==============================================================================\n",
      "\n",
      "Notes:\n",
      "[1] Standard Errors assume that the covariance matrix of the errors is correctly specified.\n"
     ]
    }
   ],
   "source": [
    "X = df[['T']]\n",
    "y = df[['Y']]\n",
    "# Adicionar constante\n",
    "X_const = sm.add_constant(X)\n",
    "\n",
    "# Ajustar modelo\n",
    "model = sm.OLS(y, X_const)\n",
    "results = model.fit()\n",
    "\n",
    "# Exibir o resumo completo\n",
    "print(results.summary())\n",
    "\n",
    "#O impacto de T [3.52;3.7] não contem o valor especificado na funcao geradora dos dados (ATE = 3.27)"
   ]
  },
  {
   "cell_type": "markdown",
   "id": "e7f99631",
   "metadata": {},
   "source": [
    "## 5 - Ajustando os modelos do DoubleML"
   ]
  },
  {
   "cell_type": "code",
   "execution_count": 16,
   "id": "06ff9dae",
   "metadata": {},
   "outputs": [],
   "source": [
    "# Ajustando os modelos de XGBoost que serão usados\n",
    "\n",
    "# Modelo que preve o Outcome (Y) com base nas confundidoras (X)\n",
    "boost = XGBRegressor(n_jobs=1, objective = \"reg:squarederror\")\n",
    "\n",
    "# Modelo que preve o Tratamento (T) com base nas confundidoras (X)\n",
    "boost_class = XGBClassifier(n_jobs=1,\n",
    "                            objective = \"binary:logistic\", eval_metric = \"logloss\")"
   ]
  },
  {
   "cell_type": "code",
   "execution_count": 17,
   "id": "778c0bf6",
   "metadata": {},
   "outputs": [],
   "source": [
    "# Inicializando o DoubleML\n",
    "data_dml_base = dml.DoubleMLData(df,\n",
    "                                 y_col='Y',\n",
    "                                 d_cols='T',\n",
    "                                 x_cols=features_base)"
   ]
  },
  {
   "cell_type": "code",
   "execution_count": 18,
   "id": "34305616",
   "metadata": {},
   "outputs": [],
   "source": [
    "np.random.seed(42)\n",
    "# Ajustando o DoubleML, definindo o numero de folds para o cross-fiting (n_folds) e número de repeticoes do processo (n_rep)\n",
    "dml_plr_boost = dml.DoubleMLPLR(data_dml_base,\n",
    "                                ml_l = boost,\n",
    "                                ml_m = boost_class,\n",
    "                                n_folds = 10,\n",
    "                                n_rep = 5)"
   ]
  },
  {
   "cell_type": "code",
   "execution_count": 19,
   "id": "cdcd25c5",
   "metadata": {},
   "outputs": [],
   "source": [
    "# Hiperparametros que serao tunados de cada modelo de XGBoost (Y~X e T~X)\n",
    "par_grids = {'ml_l': {'learning_rate': [0.01, 0.05, 0.1, 0.2,0.5,1],\n",
    "    'n_estimators': [100, 200, 300,500,900,1200],\n",
    "    'max_depth': [3, 4, 5, 6,8,10],\n",
    "    'min_child_weight': [1, 3, 5],\n",
    "    'gamma': [0, 0.1, 0.2, 0.3,0.5,1],\n",
    "    'subsample': [0.7, 0.8, 0.9, 1.0],\n",
    "    'colsample_bytree': [0.7, 0.8, 0.9, 1.0],\n",
    "    'reg_alpha': [0, 0.1,0.3,0.5,0.8, 1,10],\n",
    "    'reg_lambda': [0, 0.1,0.3,0.5,0.8, 1,10]},\n",
    "             'ml_m': {'learning_rate': [0.01, 0.05, 0.1, 0.2,0.5,1],\n",
    "    'n_estimators': [100, 200, 300,500,900,1200],\n",
    "    'max_depth': [3, 4, 5, 6,8,10],\n",
    "    'min_child_weight': [1, 3, 5],\n",
    "    'gamma': [0, 0.1, 0.2, 0.3,0.5,1],\n",
    "    'subsample': [0.7, 0.8, 0.9, 1.0],\n",
    "    'colsample_bytree': [0.7, 0.8, 0.9, 1.0],\n",
    "    'reg_alpha': [0, 0.1,0.3,0.5,0.8, 1,10],\n",
    "    'reg_lambda': [0, 0.1,0.3,0.5,0.8, 1,10]}}"
   ]
  },
  {
   "cell_type": "code",
   "execution_count": 20,
   "id": "6c31e06e",
   "metadata": {},
   "outputs": [
    {
     "data": {
      "text/plain": [
       "[{'params': {'ml_l': [{'subsample': 0.7,\n",
       "     'reg_lambda': 10,\n",
       "     'reg_alpha': 0.3,\n",
       "     'n_estimators': 1200,\n",
       "     'min_child_weight': 3,\n",
       "     'max_depth': 3,\n",
       "     'learning_rate': 0.01,\n",
       "     'gamma': 0.5,\n",
       "     'colsample_bytree': 0.9}],\n",
       "   'ml_m': [{'subsample': 1.0,\n",
       "     'reg_lambda': 0.1,\n",
       "     'reg_alpha': 1,\n",
       "     'n_estimators': 100,\n",
       "     'min_child_weight': 1,\n",
       "     'max_depth': 3,\n",
       "     'learning_rate': 0.05,\n",
       "     'gamma': 0,\n",
       "     'colsample_bytree': 0.9}]},\n",
       "  'tune_res': {'l_tune': [RandomizedSearchCV(cv=KFold(n_splits=5, random_state=None, shuffle=True),\n",
       "                       estimator=XGBRegressor(base_score=None, booster=None,\n",
       "                                              callbacks=None,\n",
       "                                              colsample_bylevel=None,\n",
       "                                              colsample_bynode=None,\n",
       "                                              colsample_bytree=None, device=None,\n",
       "                                              early_stopping_rounds=None,\n",
       "                                              enable_categorical=False,\n",
       "                                              eval_metric=None, feature_types=None,\n",
       "                                              feature_weights=None, gamma=None,\n",
       "                                              grow_policy=N...\n",
       "                                              num_parallel_tree=None, ...),\n",
       "                       n_iter=50,\n",
       "                       param_distributions={'colsample_bytree': [0.7, 0.8, 0.9,\n",
       "                                                                 1.0],\n",
       "                                            'gamma': [0, 0.1, 0.2, 0.3, 0.5, 1],\n",
       "                                            'learning_rate': [0.01, 0.05, 0.1, 0.2,\n",
       "                                                              0.5, 1],\n",
       "                                            'max_depth': [3, 4, 5, 6, 8, 10],\n",
       "                                            'min_child_weight': [1, 3, 5],\n",
       "                                            'n_estimators': [100, 200, 300, 500,\n",
       "                                                             900, 1200],\n",
       "                                            'reg_alpha': [0, 0.1, 0.3, 0.5, 0.8, 1,\n",
       "                                                          10],\n",
       "                                            'reg_lambda': [0, 0.1, 0.3, 0.5, 0.8, 1,\n",
       "                                                           10],\n",
       "                                            'subsample': [0.7, 0.8, 0.9, 1.0]})],\n",
       "   'm_tune': [RandomizedSearchCV(cv=KFold(n_splits=5, random_state=None, shuffle=True),\n",
       "                       estimator=XGBClassifier(base_score=None, booster=None,\n",
       "                                               callbacks=None,\n",
       "                                               colsample_bylevel=None,\n",
       "                                               colsample_bynode=None,\n",
       "                                               colsample_bytree=None, device=None,\n",
       "                                               early_stopping_rounds=None,\n",
       "                                               enable_categorical=False,\n",
       "                                               eval_metric='logloss',\n",
       "                                               feature_types=None,\n",
       "                                               feature_weights=None, gamma=None,\n",
       "                                               grow_po...\n",
       "                                               num_parallel_tree=None, ...),\n",
       "                       n_iter=50,\n",
       "                       param_distributions={'colsample_bytree': [0.7, 0.8, 0.9,\n",
       "                                                                 1.0],\n",
       "                                            'gamma': [0, 0.1, 0.2, 0.3, 0.5, 1],\n",
       "                                            'learning_rate': [0.01, 0.05, 0.1, 0.2,\n",
       "                                                              0.5, 1],\n",
       "                                            'max_depth': [3, 4, 5, 6, 8, 10],\n",
       "                                            'min_child_weight': [1, 3, 5],\n",
       "                                            'n_estimators': [100, 200, 300, 500,\n",
       "                                                             900, 1200],\n",
       "                                            'reg_alpha': [0, 0.1, 0.3, 0.5, 0.8, 1,\n",
       "                                                          10],\n",
       "                                            'reg_lambda': [0, 0.1, 0.3, 0.5, 0.8, 1,\n",
       "                                                           10],\n",
       "                                            'subsample': [0.7, 0.8, 0.9, 1.0]})]}}]"
      ]
     },
     "execution_count": 20,
     "metadata": {},
     "output_type": "execute_result"
    }
   ],
   "source": [
    "dml_plr_boost.tune(\n",
    "    par_grids,\n",
    "    search_mode='randomized_search',\n",
    "    set_as_params = True,\n",
    "    n_iter_randomized_search=50,\n",
    "    return_tune_res=True\n",
    ")\n",
    "# Abaixo esta disposto o melhor conjunto de hiperparametros para cada modelo"
   ]
  },
  {
   "cell_type": "markdown",
   "id": "6a8582c6",
   "metadata": {},
   "source": [
    "## 6 - Executando o DoubleML"
   ]
  },
  {
   "cell_type": "code",
   "execution_count": 21,
   "id": "e8804503",
   "metadata": {},
   "outputs": [
    {
     "name": "stdout",
     "output_type": "stream",
     "text": [
      "       coef   std err          t  P>|t|     2.5 %    97.5 %\n",
      "T  3.284566  0.037845  86.789512    0.0  3.210444  3.358687\n",
      "================== DoubleMLPLR Object ==================\n",
      "\n",
      "------------------ Data summary      ------------------\n",
      "Outcome variable: Y\n",
      "Treatment variable(s): ['T']\n",
      "Covariates: ['X1', 'X2', 'X4', 'X5', 'X6_C2', 'X6_C3']\n",
      "Instrument variable(s): None\n",
      "No. Observations: 10000\n",
      "\n",
      "------------------ Score & algorithm ------------------\n",
      "Score function: partialling out\n",
      "\n",
      "------------------ Machine learner   ------------------\n",
      "Learner ml_l: XGBRegressor(base_score=None, booster=None, callbacks=None,\n",
      "             colsample_bylevel=None, colsample_bynode=None,\n",
      "             colsample_bytree=None, device=None, early_stopping_rounds=None,\n",
      "             enable_categorical=False, eval_metric=None, feature_types=None,\n",
      "             feature_weights=None, gamma=None, grow_policy=None,\n",
      "             importance_type=None, interaction_constraints=None,\n",
      "             learning_rate=None, max_bin=None, max_cat_threshold=None,\n",
      "             max_cat_to_onehot=None, max_delta_step=None, max_depth=None,\n",
      "             max_leaves=None, min_child_weight=None, missing=nan,\n",
      "             monotone_constraints=None, multi_strategy=None, n_estimators=None,\n",
      "             n_jobs=1, num_parallel_tree=None, ...)\n",
      "Learner ml_m: XGBClassifier(base_score=None, booster=None, callbacks=None,\n",
      "              colsample_bylevel=None, colsample_bynode=None,\n",
      "              colsample_bytree=None, device=None, early_stopping_rounds=None,\n",
      "              enable_categorical=False, eval_metric='logloss',\n",
      "              feature_types=None, feature_weights=None, gamma=None,\n",
      "              grow_policy=None, importance_type=None,\n",
      "              interaction_constraints=None, learning_rate=None, max_bin=None,\n",
      "              max_cat_threshold=None, max_cat_to_onehot=None,\n",
      "              max_delta_step=None, max_depth=None, max_leaves=None,\n",
      "              min_child_weight=None, missing=nan, monotone_constraints=None,\n",
      "              multi_strategy=None, n_estimators=None, n_jobs=1,\n",
      "              num_parallel_tree=None, ...)\n",
      "Out-of-sample Performance:\n",
      "Regression:\n",
      "Learner ml_l RMSE: [[2.28963381]\n",
      " [2.28570046]\n",
      " [2.28036371]\n",
      " [2.28327052]\n",
      " [2.28312341]]\n",
      "Classification:\n",
      "Learner ml_m Log Loss: [[0.60742135]\n",
      " [0.60673717]\n",
      " [0.60649886]\n",
      " [0.60659437]\n",
      " [0.60723445]]\n",
      "\n",
      "------------------ Resampling        ------------------\n",
      "No. folds: 10\n",
      "No. repeated sample splits: 5\n",
      "\n",
      "------------------ Fit summary       ------------------\n",
      "       coef   std err          t  P>|t|     2.5 %    97.5 %\n",
      "T  3.284566  0.037845  86.789512    0.0  3.210444  3.358687\n",
      "Bootstrap confidence intervals:\n",
      "       2.5 %    97.5 %\n",
      "T  3.211947  3.353407\n"
     ]
    }
   ],
   "source": [
    "# Rodando o modelo DoubleML utilizando os melhores hiperparametros encontrados\n",
    "dml_plr_boost.fit(store_predictions=True)\n",
    "\n",
    "# Mostrando o impacto de T em Y e seus respectivos intervalos de confianca (com Bootstrap ao final)\n",
    "print(dml_plr_boost.summary)\n",
    "print(dml_plr_boost)\n",
    "bootstrap_results = dml_plr_boost.bootstrap(method='normal', n_rep_boot=100) # intervalo de confianca com Bootstrap\n",
    "print(\"Bootstrap confidence intervals:\\n\", bootstrap_results.confint(joint=True))\n",
    "# Valor do ATE ficou proximo do verdadeiro (3.27)"
   ]
  },
  {
   "cell_type": "markdown",
   "id": "88dc6bff",
   "metadata": {},
   "source": [
    "# 7 - Estudando o efeito heterogêneo do tratamento por grupos (GATE)"
   ]
  },
  {
   "cell_type": "code",
   "execution_count": 22,
   "id": "b303a433",
   "metadata": {},
   "outputs": [
    {
     "data": {
      "text/plain": [
       "<doubleml.plm.plr.DoubleMLPLR at 0x12e4803c910>"
      ]
     },
     "execution_count": 22,
     "metadata": {},
     "output_type": "execute_result"
    }
   ],
   "source": [
    "# O metodo de calculo do efeito do tratamento por grupo de observacoes so é viavel com o parametro de n_rep do cross-fitting = 1, por isso, vamos reajustar o modelo\n",
    "dml_plr_boost = dml.DoubleMLPLR(data_dml_base,\n",
    "                                ml_l = boost,\n",
    "                                ml_m = boost_class,\n",
    "                                n_folds = 10,\n",
    "                                n_rep = 1)\n",
    "\n",
    "dml_plr_boost.tune(\n",
    "    par_grids,\n",
    "    search_mode='randomized_search',\n",
    "    set_as_params = True,\n",
    "    n_iter_randomized_search=50,\n",
    "    return_tune_res=True\n",
    ")\n",
    "\n",
    "dml_plr_boost.fit(store_predictions=True)"
   ]
  },
  {
   "cell_type": "code",
   "execution_count": 23,
   "id": "0ddf3bcc",
   "metadata": {},
   "outputs": [],
   "source": [
    "# Construindo grupos de observacoes que quero identificar diferenca no tratamento\n",
    "# Faremos pela variavel X6 que esta na formula do efeito do tratamento\n",
    "groups = pd.DataFrame(df['X6'], columns=['X6'], dtype=str)"
   ]
  },
  {
   "cell_type": "code",
   "execution_count": 24,
   "id": "e0671d80",
   "metadata": {},
   "outputs": [
    {
     "name": "stdout",
     "output_type": "stream",
     "text": [
      "             2.5 %    effect    97.5 %\n",
      "Group_C1  3.155295  3.329594  3.503892\n",
      "Group_C2  3.178694  3.392042  3.605390\n",
      "Group_C3  2.527592  2.850850  3.174108\n"
     ]
    }
   ],
   "source": [
    "gate = dml_plr_boost.gate(groups=groups)\n",
    "ci = gate.confint(level=0.95, joint=True, n_rep_boot=100) # com bootstrapping\n",
    "print(ci)\n",
    "# O grupo C3 tem efeito estatisticamente diferente dos demais"
   ]
  },
  {
   "cell_type": "code",
   "execution_count": 25,
   "id": "a766c160",
   "metadata": {},
   "outputs": [],
   "source": [
    "# Outro grupo relevante, categorizando a variavel X4\n",
    "groups2 = pd.DataFrame(pd.qcut(df['X4'],q=8), columns=['X4'], dtype=str)"
   ]
  },
  {
   "cell_type": "code",
   "execution_count": 26,
   "id": "aafb3466",
   "metadata": {},
   "outputs": [
    {
     "data": {
      "text/plain": [
       "X4                             \n",
       "(-0.0009660000000000001, 0.134]    1250\n",
       "(0.134, 0.285]                     1250\n",
       "(0.285, 0.474]                     1250\n",
       "(0.474, 0.699]                     1250\n",
       "(0.699, 0.985]                     1250\n",
       "(0.985, 1.396]                     1250\n",
       "(1.396, 2.092]                     1250\n",
       "(2.092, 8.18]                      1250\n",
       "Name: count, dtype: int64"
      ]
     },
     "execution_count": 26,
     "metadata": {},
     "output_type": "execute_result"
    }
   ],
   "source": [
    "groups2.value_counts()"
   ]
  },
  {
   "cell_type": "code",
   "execution_count": 27,
   "id": "b1e2b0ff",
   "metadata": {},
   "outputs": [
    {
     "name": "stdout",
     "output_type": "stream",
     "text": [
      "                                          2.5 %    effect    97.5 %\n",
      "Group_(-0.0009660000000000001, 0.134]  2.597660  2.857556  3.117451\n",
      "Group_(0.134, 0.285]                   2.782204  3.059438  3.336672\n",
      "Group_(0.285, 0.474]                   2.796153  3.100805  3.405457\n",
      "Group_(0.474, 0.699]                   2.768994  3.063404  3.357814\n",
      "Group_(0.699, 0.985]                   2.957340  3.303278  3.649216\n",
      "Group_(0.985, 1.396]                   2.794802  3.163357  3.531912\n",
      "Group_(1.396, 2.092]                   3.336831  3.755128  4.173425\n",
      "Group_(2.092, 8.18]                    3.297411  3.890562  4.483714\n"
     ]
    }
   ],
   "source": [
    "gate = dml_plr_boost.gate(groups=groups2)\n",
    "ci = gate.confint(level=0.95, joint=True, n_rep_boot=100) # com bootstrapping\n",
    "print(ci)\n",
    "# Conforme aumenta o valor da variavel, maior o efeito do tratamento"
   ]
  },
  {
   "cell_type": "code",
   "execution_count": null,
   "id": "8504e3f1",
   "metadata": {},
   "outputs": [],
   "source": []
  }
 ],
 "metadata": {
  "kernelspec": {
   "display_name": "Python 3 (ipykernel)",
   "language": "python",
   "name": "python3"
  },
  "language_info": {
   "codemirror_mode": {
    "name": "ipython",
    "version": 3
   },
   "file_extension": ".py",
   "mimetype": "text/x-python",
   "name": "python",
   "nbconvert_exporter": "python",
   "pygments_lexer": "ipython3",
   "version": "3.11.0"
  }
 },
 "nbformat": 4,
 "nbformat_minor": 5
}
