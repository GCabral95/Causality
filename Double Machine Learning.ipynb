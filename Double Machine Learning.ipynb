{
 "cells": [
  {
   "cell_type": "code",
   "execution_count": 1,
   "id": "6fc07176",
   "metadata": {},
   "outputs": [],
   "source": [
    "import numpy as np\n",
    "import pandas as pd\n",
    "import doubleml as dml\n",
    "from sklearn.linear_model import LogisticRegression\n",
    "from xgboost import XGBClassifier, XGBRegressor\n",
    "import matplotlib.pyplot as plt"
   ]
  },
  {
   "cell_type": "markdown",
   "id": "f1630211",
   "metadata": {},
   "source": [
    "## 1 - Preparando a base"
   ]
  },
  {
   "cell_type": "code",
   "execution_count": 2,
   "id": "814b580f",
   "metadata": {},
   "outputs": [],
   "source": [
    "import numpy as np\n",
    "import pandas as pd\n",
    "\n",
    "# seed para a reproducao\n",
    "np.random.seed(422)\n",
    "\n",
    "# numero de linhas do dataframe\n",
    "n = 10000\n",
    "\n",
    "# Gerando as variáveis confundidoras\n",
    "X1 = np.random.normal(loc=0, scale=1, size=n)\n",
    "X2 = np.random.normal(loc=5, scale=2, size=n)\n",
    "X3 = np.random.choice(['A', 'B'], size=n)\n",
    "\n",
    "# Codificando X3 para variável numérica\n",
    "X3_numeric = np.where(X3 == 'B', 1, 0)\n",
    "\n",
    "# Criando a propensity score\n",
    "logits = (0.2 * X1) - (0.2 * X2) + (1.0 * X3_numeric)\n",
    "propensity = 1 / (1 + np.exp(-logits))\n",
    "\n",
    "# Gerando T\n",
    "T = np.random.binomial(1, propensity)\n",
    "\n",
    "# Ruído\n",
    "noise = np.random.normal(1.5, 4, n)\n",
    "\n",
    "# ----> Y com relação NÃO LINEAR <----\n",
    "Y = (2 \n",
    "     + 3 * np.sqrt(T + 1)               # impacto de T não linear --- ATE = 1.24\n",
    "     + 1.5 * (X1**2)                    # quadrático em X1\n",
    "     - 2 * np.log(np.abs(X2) + 1)        # logaritmo de X2\n",
    "     + 2 * (X3_numeric**2)               # X3_dummy ao quadrado (mas como é 0 ou 1, mantém)\n",
    "     + noise)\n",
    "\n",
    "# Construindo o dataframe\n",
    "df = pd.DataFrame({\n",
    "    'Y': Y,\n",
    "    'T': T,\n",
    "    'X1': X1,\n",
    "    'X2': X2,\n",
    "    'X3': X3\n",
    "})"
   ]
  },
  {
   "cell_type": "code",
   "execution_count": 3,
   "id": "7c12aaae",
   "metadata": {},
   "outputs": [
    {
     "data": {
      "text/html": [
       "<div>\n",
       "<style scoped>\n",
       "    .dataframe tbody tr th:only-of-type {\n",
       "        vertical-align: middle;\n",
       "    }\n",
       "\n",
       "    .dataframe tbody tr th {\n",
       "        vertical-align: top;\n",
       "    }\n",
       "\n",
       "    .dataframe thead th {\n",
       "        text-align: right;\n",
       "    }\n",
       "</style>\n",
       "<table border=\"1\" class=\"dataframe\">\n",
       "  <thead>\n",
       "    <tr style=\"text-align: right;\">\n",
       "      <th></th>\n",
       "      <th>Y</th>\n",
       "      <th>T</th>\n",
       "      <th>X1</th>\n",
       "      <th>X2</th>\n",
       "      <th>X3</th>\n",
       "    </tr>\n",
       "  </thead>\n",
       "  <tbody>\n",
       "    <tr>\n",
       "      <th>0</th>\n",
       "      <td>8.152606</td>\n",
       "      <td>0</td>\n",
       "      <td>-0.689625</td>\n",
       "      <td>9.263023</td>\n",
       "      <td>A</td>\n",
       "    </tr>\n",
       "    <tr>\n",
       "      <th>1</th>\n",
       "      <td>10.371396</td>\n",
       "      <td>0</td>\n",
       "      <td>-1.334058</td>\n",
       "      <td>7.404452</td>\n",
       "      <td>B</td>\n",
       "    </tr>\n",
       "    <tr>\n",
       "      <th>2</th>\n",
       "      <td>7.999956</td>\n",
       "      <td>0</td>\n",
       "      <td>0.554514</td>\n",
       "      <td>1.811336</td>\n",
       "      <td>A</td>\n",
       "    </tr>\n",
       "    <tr>\n",
       "      <th>3</th>\n",
       "      <td>2.684620</td>\n",
       "      <td>0</td>\n",
       "      <td>-0.774483</td>\n",
       "      <td>5.144973</td>\n",
       "      <td>B</td>\n",
       "    </tr>\n",
       "    <tr>\n",
       "      <th>4</th>\n",
       "      <td>5.758653</td>\n",
       "      <td>0</td>\n",
       "      <td>0.065460</td>\n",
       "      <td>4.653085</td>\n",
       "      <td>B</td>\n",
       "    </tr>\n",
       "  </tbody>\n",
       "</table>\n",
       "</div>"
      ],
      "text/plain": [
       "           Y  T        X1        X2 X3\n",
       "0   8.152606  0 -0.689625  9.263023  A\n",
       "1  10.371396  0 -1.334058  7.404452  B\n",
       "2   7.999956  0  0.554514  1.811336  A\n",
       "3   2.684620  0 -0.774483  5.144973  B\n",
       "4   5.758653  0  0.065460  4.653085  B"
      ]
     },
     "execution_count": 3,
     "metadata": {},
     "output_type": "execute_result"
    }
   ],
   "source": [
    "df.head()"
   ]
  },
  {
   "cell_type": "code",
   "execution_count": 4,
   "id": "1a255065",
   "metadata": {},
   "outputs": [],
   "source": [
    "# Transformando a variavel qualitativa via dummie (assumindo B como referencia)\n",
    "dummies = pd.get_dummies(df['X3'], prefix='X3', drop_first=True, dtype=float)\n",
    "\n",
    "# Inserindo a nova variavel no data frame original\n",
    "df = pd.concat([df, dummies], axis=1)"
   ]
  },
  {
   "cell_type": "code",
   "execution_count": 5,
   "id": "62a67a2a",
   "metadata": {},
   "outputs": [
    {
     "data": {
      "text/html": [
       "<div>\n",
       "<style scoped>\n",
       "    .dataframe tbody tr th:only-of-type {\n",
       "        vertical-align: middle;\n",
       "    }\n",
       "\n",
       "    .dataframe tbody tr th {\n",
       "        vertical-align: top;\n",
       "    }\n",
       "\n",
       "    .dataframe thead th {\n",
       "        text-align: right;\n",
       "    }\n",
       "</style>\n",
       "<table border=\"1\" class=\"dataframe\">\n",
       "  <thead>\n",
       "    <tr style=\"text-align: right;\">\n",
       "      <th></th>\n",
       "      <th>Y</th>\n",
       "      <th>T</th>\n",
       "      <th>X1</th>\n",
       "      <th>X2</th>\n",
       "      <th>X3</th>\n",
       "      <th>X3_B</th>\n",
       "    </tr>\n",
       "  </thead>\n",
       "  <tbody>\n",
       "    <tr>\n",
       "      <th>0</th>\n",
       "      <td>8.152606</td>\n",
       "      <td>0</td>\n",
       "      <td>-0.689625</td>\n",
       "      <td>9.263023</td>\n",
       "      <td>A</td>\n",
       "      <td>0.0</td>\n",
       "    </tr>\n",
       "    <tr>\n",
       "      <th>1</th>\n",
       "      <td>10.371396</td>\n",
       "      <td>0</td>\n",
       "      <td>-1.334058</td>\n",
       "      <td>7.404452</td>\n",
       "      <td>B</td>\n",
       "      <td>1.0</td>\n",
       "    </tr>\n",
       "    <tr>\n",
       "      <th>2</th>\n",
       "      <td>7.999956</td>\n",
       "      <td>0</td>\n",
       "      <td>0.554514</td>\n",
       "      <td>1.811336</td>\n",
       "      <td>A</td>\n",
       "      <td>0.0</td>\n",
       "    </tr>\n",
       "    <tr>\n",
       "      <th>3</th>\n",
       "      <td>2.684620</td>\n",
       "      <td>0</td>\n",
       "      <td>-0.774483</td>\n",
       "      <td>5.144973</td>\n",
       "      <td>B</td>\n",
       "      <td>1.0</td>\n",
       "    </tr>\n",
       "    <tr>\n",
       "      <th>4</th>\n",
       "      <td>5.758653</td>\n",
       "      <td>0</td>\n",
       "      <td>0.065460</td>\n",
       "      <td>4.653085</td>\n",
       "      <td>B</td>\n",
       "      <td>1.0</td>\n",
       "    </tr>\n",
       "  </tbody>\n",
       "</table>\n",
       "</div>"
      ],
      "text/plain": [
       "           Y  T        X1        X2 X3  X3_B\n",
       "0   8.152606  0 -0.689625  9.263023  A   0.0\n",
       "1  10.371396  0 -1.334058  7.404452  B   1.0\n",
       "2   7.999956  0  0.554514  1.811336  A   0.0\n",
       "3   2.684620  0 -0.774483  5.144973  B   1.0\n",
       "4   5.758653  0  0.065460  4.653085  B   1.0"
      ]
     },
     "execution_count": 5,
     "metadata": {},
     "output_type": "execute_result"
    }
   ],
   "source": [
    "df.head()"
   ]
  },
  {
   "cell_type": "code",
   "execution_count": 6,
   "id": "11e4d3c4",
   "metadata": {},
   "outputs": [],
   "source": [
    "# Nome das variaveis que serao as confundidoras do modelo\n",
    "features_base = ['X1','X2','X3_B']"
   ]
  },
  {
   "cell_type": "code",
   "execution_count": 7,
   "id": "4fbf6584",
   "metadata": {},
   "outputs": [
    {
     "data": {
      "image/png": "[encoded data removed]",
      "text/plain": [
       "<Figure size 640x480 with 1 Axes>"
      ]
     },
     "metadata": {},
     "output_type": "display_data"
    }
   ],
   "source": [
    "# Visualizacao do DAG\n",
    "import networkx as nx\n",
    "import matplotlib.pyplot as plt\n",
    "\n",
    "# Criar um grafo direcionado\n",
    "G = nx.DiGraph()\n",
    "\n",
    "# Adicionar arestas (de onde -> para onde)\n",
    "G.add_edges_from([\n",
    "    (\"T\", \"Y\"),\n",
    "    (\"X1\", \"Y\"),\n",
    "    (\"X2\", \"Y\"),\n",
    "    (\"X3\", \"Y\"),\n",
    "    (\"X1\", \"T\"),\n",
    "    (\"X2\", \"T\"),\n",
    "    (\"X3\", \"T\"),\n",
    "])\n",
    "\n",
    "# Desenhar o grafo\n",
    "pos = nx.spring_layout(G)  # Layout automático\n",
    "nx.draw(G, pos, with_labels=True, arrows=True, node_size=1000, node_color=\"lightblue\", font_size=12)\n",
    "plt.title(\"DAG do exemplo\")\n",
    "plt.show()"
   ]
  },
  {
   "cell_type": "markdown",
   "id": "a74104df",
   "metadata": {},
   "source": [
    "## 2 - Verificando o pressuposto da positividade"
   ]
  },
  {
   "cell_type": "code",
   "execution_count": 8,
   "id": "751de2e6",
   "metadata": {},
   "outputs": [],
   "source": [
    "# Para evitar o overfitting no calculo do propensity score, vamos separar a base em duas, assim, treinaremos dois modelos\n",
    "np.random.seed(42)\n",
    "df1 = df.sample(frac = 0.5)\n",
    "df2 = df.drop(df1.index)"
   ]
  },
  {
   "cell_type": "code",
   "execution_count": 9,
   "id": "1eab458c",
   "metadata": {},
   "outputs": [],
   "source": [
    "from sklearn.linear_model import LogisticRegression\n",
    "# Vamos fazer duas regressoes logisticas para estimar os propensity scores, cada uma vai ser treinada em metade da base\n",
    "logit1 = LogisticRegression()\n",
    "logit2 = LogisticRegression()\n",
    "\n",
    "# Treinando os modelos em cada parte da base, prevendo T com base nas variaveis confundidoras (X)\n",
    "logit1.fit(df1[['X1', 'X2', 'X3_B']], df1['T'])\n",
    "logit2.fit(df2[['X1', 'X2', 'X3_B']], df2['T'])\n",
    "\n",
    "\n",
    "# O modelo treinado na base 1 vai ser usado para calcular o score na base 2\n",
    "# O modelo treinado na base 2 vai ser usado para calcular o score na base 1\n",
    "df1['propensity_score'] = logit2.predict_proba(df1[['X1', 'X2', 'X3_B']])[:, 1]\n",
    "df2['propensity_score'] = logit1.predict_proba(df2[['X1', 'X2', 'X3_B']])[:, 1]\n",
    "\n",
    "# juntando as bases novamente\n",
    "df_f = pd.concat([df1,df2])"
   ]
  },
  {
   "cell_type": "code",
   "execution_count": 10,
   "id": "8d6ffede",
   "metadata": {},
   "outputs": [
    {
     "data": {
      "text/html": [
       "<div>\n",
       "<style scoped>\n",
       "    .dataframe tbody tr th:only-of-type {\n",
       "        vertical-align: middle;\n",
       "    }\n",
       "\n",
       "    .dataframe tbody tr th {\n",
       "        vertical-align: top;\n",
       "    }\n",
       "\n",
       "    .dataframe thead th {\n",
       "        text-align: right;\n",
       "    }\n",
       "</style>\n",
       "<table border=\"1\" class=\"dataframe\">\n",
       "  <thead>\n",
       "    <tr style=\"text-align: right;\">\n",
       "      <th></th>\n",
       "      <th>Y</th>\n",
       "      <th>T</th>\n",
       "      <th>X1</th>\n",
       "      <th>X2</th>\n",
       "      <th>X3</th>\n",
       "      <th>X3_B</th>\n",
       "      <th>propensity_score</th>\n",
       "    </tr>\n",
       "  </thead>\n",
       "  <tbody>\n",
       "    <tr>\n",
       "      <th>6252</th>\n",
       "      <td>13.525385</td>\n",
       "      <td>1</td>\n",
       "      <td>-1.853598</td>\n",
       "      <td>3.874194</td>\n",
       "      <td>B</td>\n",
       "      <td>1.0</td>\n",
       "      <td>0.490423</td>\n",
       "    </tr>\n",
       "    <tr>\n",
       "      <th>4684</th>\n",
       "      <td>8.494246</td>\n",
       "      <td>1</td>\n",
       "      <td>-0.813155</td>\n",
       "      <td>5.249052</td>\n",
       "      <td>B</td>\n",
       "      <td>1.0</td>\n",
       "      <td>0.458626</td>\n",
       "    </tr>\n",
       "    <tr>\n",
       "      <th>1731</th>\n",
       "      <td>8.851926</td>\n",
       "      <td>0</td>\n",
       "      <td>-0.525914</td>\n",
       "      <td>4.146047</td>\n",
       "      <td>A</td>\n",
       "      <td>0.0</td>\n",
       "      <td>0.293096</td>\n",
       "    </tr>\n",
       "    <tr>\n",
       "      <th>4742</th>\n",
       "      <td>0.546085</td>\n",
       "      <td>0</td>\n",
       "      <td>0.276478</td>\n",
       "      <td>8.660110</td>\n",
       "      <td>A</td>\n",
       "      <td>0.0</td>\n",
       "      <td>0.159445</td>\n",
       "    </tr>\n",
       "    <tr>\n",
       "      <th>4521</th>\n",
       "      <td>4.677539</td>\n",
       "      <td>1</td>\n",
       "      <td>-0.227592</td>\n",
       "      <td>3.596237</td>\n",
       "      <td>B</td>\n",
       "      <td>1.0</td>\n",
       "      <td>0.560359</td>\n",
       "    </tr>\n",
       "  </tbody>\n",
       "</table>\n",
       "</div>"
      ],
      "text/plain": [
       "              Y  T        X1        X2 X3  X3_B  propensity_score\n",
       "6252  13.525385  1 -1.853598  3.874194  B   1.0          0.490423\n",
       "4684   8.494246  1 -0.813155  5.249052  B   1.0          0.458626\n",
       "1731   8.851926  0 -0.525914  4.146047  A   0.0          0.293096\n",
       "4742   0.546085  0  0.276478  8.660110  A   0.0          0.159445\n",
       "4521   4.677539  1 -0.227592  3.596237  B   1.0          0.560359"
      ]
     },
     "execution_count": 10,
     "metadata": {},
     "output_type": "execute_result"
    }
   ],
   "source": [
    "df_f.head()"
   ]
  },
  {
   "cell_type": "code",
   "execution_count": 11,
   "id": "7df7cb2f",
   "metadata": {},
   "outputs": [
    {
     "data": {
      "image/png": "[encoded data removed]",
      "text/plain": [
       "<Figure size 640x480 with 1 Axes>"
      ]
     },
     "metadata": {},
     "output_type": "display_data"
    }
   ],
   "source": [
    "import matplotlib.pyplot as plt\n",
    "# Visualizando se temos unidades de controle e tratamento nas mesmas faixas do propensity score (Pressuposto da Positividade)\n",
    "plt.hist(df_f[df_f['T'] == 0]['propensity_score'], label = 'Controle', alpha = 0.5)\n",
    "plt.hist(df_f[df_f['T'] == 1]['propensity_score'], label = 'Tratamento', alpha = 0.5)\n",
    "plt.legend()\n",
    "plt.show()"
   ]
  },
  {
   "cell_type": "markdown",
   "id": "4735486c",
   "metadata": {},
   "source": [
    "## 3 - Verificando equilibrio entre as variaveis X dos grupos controle e tratamento (SMD)"
   ]
  },
  {
   "cell_type": "code",
   "execution_count": 12,
   "id": "92477022",
   "metadata": {},
   "outputs": [
    {
     "name": "stdout",
     "output_type": "stream",
     "text": [
      "📋 Relatório de Balanceamento:\n",
      "         SMD\n",
      "X3  0.238680\n",
      "X1  0.154279\n",
      "X2 -0.378367\n"
     ]
    }
   ],
   "source": [
    "# Função para SMD contínuas\n",
    "def compute_smd_continuous(x, t):\n",
    "    treated = x[t == 1]\n",
    "    control = x[t == 0]\n",
    "    mean_diff = treated.mean() - control.mean()\n",
    "    pooled_std = np.sqrt((np.var(treated, ddof=1) + np.var(control, ddof=1)) / 2)\n",
    "    return mean_diff / pooled_std\n",
    "\n",
    "# Função para SMD categóricas\n",
    "def compute_smd_categorical(x, t):\n",
    "    treated = pd.crosstab(index=t, columns=x, normalize='index').loc[1]\n",
    "    control = pd.crosstab(index=t, columns=x, normalize='index').loc[0]\n",
    "    smd = np.sum(np.abs(treated - control)) / 2\n",
    "    return smd\n",
    "\n",
    "# Identificando variáveis contínuas e categóricas\n",
    "continuous_vars = ['X1','X2']\n",
    "categorical_vars = ['X3']\n",
    "\n",
    "# Calculando SMDs\n",
    "smd_results = {}\n",
    "\n",
    "for col in continuous_vars:\n",
    "    smd = compute_smd_continuous(df[col], df['T'])\n",
    "    smd_results[col] = smd\n",
    "\n",
    "for col in categorical_vars:\n",
    "    smd = compute_smd_categorical(df[col], df['T'])\n",
    "    smd_results[col] = smd\n",
    "\n",
    "# Criar DataFrame de SMDs\n",
    "smd_df = pd.DataFrame.from_dict(smd_results, orient='index', columns=['SMD'])\n",
    "smd_df = smd_df.sort_values(by='SMD', ascending=False)\n",
    "\n",
    "print(\"📋 Relatório de Balanceamento:\")\n",
    "print(smd_df)"
   ]
  },
  {
   "cell_type": "markdown",
   "id": "bc05bde6",
   "metadata": {},
   "source": [
    "## 4 - Verificando o resultado de uma regressao linear Y ~ T"
   ]
  },
  {
   "cell_type": "code",
   "execution_count": 13,
   "id": "4e2a7a10",
   "metadata": {},
   "outputs": [],
   "source": [
    "import statsmodels.api as sm"
   ]
  },
  {
   "cell_type": "code",
   "execution_count": 14,
   "id": "5caec5ff",
   "metadata": {},
   "outputs": [
    {
     "name": "stdout",
     "output_type": "stream",
     "text": [
      "                            OLS Regression Results                            \n",
      "==============================================================================\n",
      "Dep. Variable:                      Y   R-squared:                       0.040\n",
      "Model:                            OLS   Adj. R-squared:                  0.040\n",
      "Method:                 Least Squares   F-statistic:                     416.0\n",
      "Date:                Sat, 12 Apr 2025   Prob (F-statistic):           1.24e-90\n",
      "Time:                        15:08:19   Log-Likelihood:                -29703.\n",
      "No. Observations:               10000   AIC:                         5.941e+04\n",
      "Df Residuals:                    9998   BIC:                         5.943e+04\n",
      "Df Model:                           1                                         \n",
      "Covariance Type:            nonrobust                                         \n",
      "==============================================================================\n",
      "                 coef    std err          t      P>|t|      [0.025      0.975]\n",
      "------------------------------------------------------------------------------\n",
      "const          5.2491      0.061     86.728      0.000       5.130       5.368\n",
      "T              1.9712      0.097     20.396      0.000       1.782       2.161\n",
      "==============================================================================\n",
      "Omnibus:                      177.182   Durbin-Watson:                   2.016\n",
      "Prob(Omnibus):                  0.000   Jarque-Bera (JB):              228.658\n",
      "Skew:                           0.242   Prob(JB):                     2.23e-50\n",
      "Kurtosis:                       3.561   Cond. No.                         2.44\n",
      "==============================================================================\n",
      "\n",
      "Notes:\n",
      "[1] Standard Errors assume that the covariance matrix of the errors is correctly specified.\n"
     ]
    }
   ],
   "source": [
    "X = df[['T']]\n",
    "y = df[['Y']]\n",
    "# Adicionar constante\n",
    "X_const = sm.add_constant(X)\n",
    "\n",
    "# Ajustar modelo\n",
    "model = sm.OLS(y, X_const)\n",
    "results = model.fit()\n",
    "\n",
    "# Exibir o resumo completo\n",
    "print(results.summary())\n",
    "\n",
    "#O impacto de T (1.822 - 2.135) não contem o valor especificado na funcao geradora dos dados (ATE = 1.24)"
   ]
  },
  {
   "cell_type": "markdown",
   "id": "e7f99631",
   "metadata": {},
   "source": [
    "## 5 - Ajustando os modelos do DoubleML"
   ]
  },
  {
   "cell_type": "code",
   "execution_count": 15,
   "id": "06ff9dae",
   "metadata": {},
   "outputs": [],
   "source": [
    "import xgboost as xgb\n",
    "# Ajustando os modelos de XGBoost que serão usados\n",
    "\n",
    "# Modelo que preve o Outcome (Y) com base nas confundidoras (X)\n",
    "boost = xgb.XGBRegressor(n_jobs=1, objective = \"reg:squarederror\")\n",
    "\n",
    "# Modelo que preve o Tratamento (T) com base nas confundidoras (X)\n",
    "boost_class = xgb.XGBClassifier(n_jobs=1,\n",
    "                            objective = \"binary:logistic\", eval_metric = \"logloss\")"
   ]
  },
  {
   "cell_type": "code",
   "execution_count": 16,
   "id": "778c0bf6",
   "metadata": {},
   "outputs": [],
   "source": [
    "import doubleml as dml\n",
    "# Inicializando o DoubleML\n",
    "data_dml_base = dml.DoubleMLData(df,\n",
    "                                 y_col='Y',\n",
    "                                 d_cols='T',\n",
    "                                 x_cols=features_base)"
   ]
  },
  {
   "cell_type": "code",
   "execution_count": 17,
   "id": "34305616",
   "metadata": {},
   "outputs": [],
   "source": [
    "np.random.seed(42)\n",
    "# Ajustando o DoubleML, definindo o numero de folds para o cross-fiting (n_folds) e número de repeticoes do processo (n_rep)\n",
    "dml_plr_boost = dml.DoubleMLPLR(data_dml_base,\n",
    "                                ml_l = boost,\n",
    "                                ml_m = boost_class,\n",
    "                                n_folds = 10,\n",
    "                                n_rep = 5)"
   ]
  },
  {
   "cell_type": "code",
   "execution_count": 18,
   "id": "cdcd25c5",
   "metadata": {},
   "outputs": [],
   "source": [
    "# Hiperparametros que serao tunados de cada modelo de XGBoost (Y~X e T~X)\n",
    "par_grids = {'ml_l': {'learning_rate': [0.01, 0.05, 0.1, 0.2,0.5,1],\n",
    "    'n_estimators': [100, 200, 300,500,900,1200],\n",
    "    'max_depth': [3, 4, 5, 6,8,10],\n",
    "    'min_child_weight': [1, 3, 5],\n",
    "    'gamma': [0, 0.1, 0.2, 0.3,0.5,1],\n",
    "    'subsample': [0.7, 0.8, 0.9, 1.0],\n",
    "    'colsample_bytree': [0.7, 0.8, 0.9, 1.0],\n",
    "    'reg_alpha': [0, 0.1,0.3,0.5,0.8, 1,10],\n",
    "    'reg_lambda': [0, 0.1,0.3,0.5,0.8, 1,10]},\n",
    "             'ml_m': {'learning_rate': [0.01, 0.05, 0.1, 0.2,0.5,1],\n",
    "    'n_estimators': [100, 200, 300,500,900,1200],\n",
    "    'max_depth': [3, 4, 5, 6,8,10],\n",
    "    'min_child_weight': [1, 3, 5],\n",
    "    'gamma': [0, 0.1, 0.2, 0.3,0.5,1],\n",
    "    'subsample': [0.7, 0.8, 0.9, 1.0],\n",
    "    'colsample_bytree': [0.7, 0.8, 0.9, 1.0],\n",
    "    'reg_alpha': [0, 0.1,0.3,0.5,0.8, 1,10],\n",
    "    'reg_lambda': [0, 0.1,0.3,0.5,0.8, 1,10]}}"
   ]
  },
  {
   "cell_type": "code",
   "execution_count": 19,
   "id": "ac2bb40f",
   "metadata": {},
   "outputs": [
    {
     "data": {
      "text/plain": [
       "<doubleml.plm.plr.DoubleMLPLR at 0x269fb698c10>"
      ]
     },
     "execution_count": 19,
     "metadata": {},
     "output_type": "execute_result"
    }
   ],
   "source": [
    "np.random.seed(42)\n",
    "#tunando os modelos via random search\n",
    "dml_plr_boost.tune(par_grids, search_mode='randomized_search', n_iter_randomized_search=500)"
   ]
  },
  {
   "cell_type": "markdown",
   "id": "6a8582c6",
   "metadata": {},
   "source": [
    "## 6 - Executando o DoubleML"
   ]
  },
  {
   "cell_type": "code",
   "execution_count": 20,
   "id": "e8804503",
   "metadata": {},
   "outputs": [
    {
     "name": "stdout",
     "output_type": "stream",
     "text": [
      "       coef   std err          t         P>|t|     2.5 %    97.5 %\n",
      "T  1.232622  0.087466  14.092551  4.220350e-45  1.060979  1.403927\n",
      "================== DoubleMLPLR Object ==================\n",
      "\n",
      "------------------ Data summary      ------------------\n",
      "Outcome variable: Y\n",
      "Treatment variable(s): ['T']\n",
      "Covariates: ['X1', 'X2', 'X3_B']\n",
      "Instrument variable(s): None\n",
      "No. Observations: 10000\n",
      "\n",
      "------------------ Score & algorithm ------------------\n",
      "Score function: partialling out\n",
      "\n",
      "------------------ Machine learner   ------------------\n",
      "Learner ml_l: XGBRegressor(base_score=None, booster=None, callbacks=None,\n",
      "             colsample_bylevel=None, colsample_bynode=None,\n",
      "             colsample_bytree=None, device=None, early_stopping_rounds=None,\n",
      "             enable_categorical=False, eval_metric=None, feature_types=None,\n",
      "             feature_weights=None, gamma=None, grow_policy=None,\n",
      "             importance_type=None, interaction_constraints=None,\n",
      "             learning_rate=None, max_bin=None, max_cat_threshold=None,\n",
      "             max_cat_to_onehot=None, max_delta_step=None, max_depth=None,\n",
      "             max_leaves=None, min_child_weight=None, missing=nan,\n",
      "             monotone_constraints=None, multi_strategy=None, n_estimators=None,\n",
      "             n_jobs=1, num_parallel_tree=None, ...)\n",
      "Learner ml_m: XGBClassifier(base_score=None, booster=None, callbacks=None,\n",
      "              colsample_bylevel=None, colsample_bynode=None,\n",
      "              colsample_bytree=None, device=None, early_stopping_rounds=None,\n",
      "              enable_categorical=False, eval_metric='logloss',\n",
      "              feature_types=None, feature_weights=None, gamma=None,\n",
      "              grow_policy=None, importance_type=None,\n",
      "              interaction_constraints=None, learning_rate=None, max_bin=None,\n",
      "              max_cat_threshold=None, max_cat_to_onehot=None,\n",
      "              max_delta_step=None, max_depth=None, max_leaves=None,\n",
      "              min_child_weight=None, missing=nan, monotone_constraints=None,\n",
      "              multi_strategy=None, n_estimators=None, n_jobs=1,\n",
      "              num_parallel_tree=None, ...)\n",
      "Out-of-sample Performance:\n",
      "Regression:\n",
      "Learner ml_l RMSE: [[4.11180498]\n",
      " [4.11062784]\n",
      " [4.11472108]\n",
      " [4.11610589]\n",
      " [4.11476862]]\n",
      "Classification:\n",
      "Learner ml_m Log Loss: [[0.62531474]\n",
      " [0.62535764]\n",
      " [0.62504223]\n",
      " [0.62625416]\n",
      " [0.62510117]]\n",
      "\n",
      "------------------ Resampling        ------------------\n",
      "No. folds: 10\n",
      "No. repeated sample splits: 5\n",
      "\n",
      "------------------ Fit summary       ------------------\n",
      "       coef   std err          t         P>|t|     2.5 %    97.5 %\n",
      "T  1.232622  0.087466  14.092551  4.220350e-45  1.060979  1.403927\n",
      "Bootstrap confidence intervals:\n",
      "       2.5 %    97.5 %\n",
      "T  1.057124  1.408884\n"
     ]
    }
   ],
   "source": [
    "# Rodando o modelo DoubleML utilizando os melhores hiperparametros encontrados\n",
    "dml_plr_boost.fit(store_predictions=True)\n",
    "\n",
    "# Mostrando o impacto de T em Y e seus respectivos intervalos de confianca (com Bootstrap ao final)\n",
    "print(dml_plr_boost.summary)\n",
    "print(dml_plr_boost)\n",
    "bootstrap_results = dml_plr_boost.bootstrap(method='normal', n_rep_boot=500) # intervalo de confianca com Bootstrap\n",
    "print(\"Bootstrap confidence intervals:\\n\", bootstrap_results.confint(joint=True))"
   ]
  },
  {
   "cell_type": "code",
   "execution_count": null,
   "id": "1a6bed91",
   "metadata": {},
   "outputs": [],
   "source": []
  }
 ],
 "metadata": {
  "kernelspec": {
   "display_name": "Python 3 (ipykernel)",
   "language": "python",
   "name": "python3"
  },
  "language_info": {
   "codemirror_mode": {
    "name": "ipython",
    "version": 3
   },
   "file_extension": ".py",
   "mimetype": "text/x-python",
   "name": "python",
   "nbconvert_exporter": "python",
   "pygments_lexer": "ipython3",
   "version": "3.11.0"
  }
 },
 "nbformat": 4,
 "nbformat_minor": 5
}
