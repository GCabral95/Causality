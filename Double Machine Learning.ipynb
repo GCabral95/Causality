{
 "cells": [
  {
   "cell_type": "code",
   "execution_count": 1,
   "id": "6fc07176",
   "metadata": {},
   "outputs": [],
   "source": [
    "import numpy as np\n",
    "import pandas as pd\n",
    "import doubleml as dml\n",
    "from sklearn.linear_model import LogisticRegression\n",
    "from xgboost import XGBClassifier, XGBRegressor\n",
    "import matplotlib.pyplot as plt"
   ]
  },
  {
   "cell_type": "markdown",
   "id": "1ae11242",
   "metadata": {},
   "source": [
    "## 1 - Preparando a base"
   ]
  },
  {
   "cell_type": "code",
   "execution_count": 2,
   "id": "1182428c",
   "metadata": {},
   "outputs": [],
   "source": [
    "# seed para a reproducao\n",
    "np.random.seed(42)\n",
    "\n",
    "# numero de linhas do dataframe\n",
    "n = 1000\n",
    "\n",
    "# Teremos duas variaveis confundidoras quantitativas\n",
    "X1 = np.random.normal(loc=0, scale=1, size=n)\n",
    "X2 = np.random.normal(loc=5, scale=2, size=n)\n",
    "\n",
    "# Uma variavel confundidora qualitativa, de duas categorias: A e B\n",
    "X3 = np.random.choice(['A', 'B'], size=n)\n",
    "\n",
    "# Para fins da criacao da base, a categoria B terá valor 1 \n",
    "X3_numeric = np.where(X3 == 'B', 1, 0)\n",
    "\n",
    "# Gerando o tratamento binario (0 e 1)\n",
    "T = np.random.binomial(1, 0.5, n)\n",
    "\n",
    "# Colocando algum ruído para simular a variabilidade de dados reais\n",
    "noise = np.random.normal(0, 3, n)\n",
    "\n",
    "# O outcome Y será dependente do tratamento T e das 03 variaveis confundidoras\n",
    "Y = 2 + 3 * T + 1.5 * X1 - 2 * X2 + 2 * X3_numeric + noise\n",
    "\n",
    "# Construindo o dataframe\n",
    "df = pd.DataFrame({\n",
    "    'Y': Y,\n",
    "    'T': T,\n",
    "    'X1': X1,\n",
    "    'X2': X2,\n",
    "    'X3': X3  # mantemos o valor original de X3, depois vamos tratá-la\n",
    "})"
   ]
  },
  {
   "cell_type": "code",
   "execution_count": 3,
   "id": "7c12aaae",
   "metadata": {},
   "outputs": [
    {
     "data": {
      "text/html": [
       "<div>\n",
       "<style scoped>\n",
       "    .dataframe tbody tr th:only-of-type {\n",
       "        vertical-align: middle;\n",
       "    }\n",
       "\n",
       "    .dataframe tbody tr th {\n",
       "        vertical-align: top;\n",
       "    }\n",
       "\n",
       "    .dataframe thead th {\n",
       "        text-align: right;\n",
       "    }\n",
       "</style>\n",
       "<table border=\"1\" class=\"dataframe\">\n",
       "  <thead>\n",
       "    <tr style=\"text-align: right;\">\n",
       "      <th></th>\n",
       "      <th>Y</th>\n",
       "      <th>T</th>\n",
       "      <th>X1</th>\n",
       "      <th>X2</th>\n",
       "      <th>X3</th>\n",
       "    </tr>\n",
       "  </thead>\n",
       "  <tbody>\n",
       "    <tr>\n",
       "      <th>0</th>\n",
       "      <td>-11.969308</td>\n",
       "      <td>0</td>\n",
       "      <td>0.496714</td>\n",
       "      <td>7.798711</td>\n",
       "      <td>B</td>\n",
       "    </tr>\n",
       "    <tr>\n",
       "      <th>1</th>\n",
       "      <td>-10.593992</td>\n",
       "      <td>0</td>\n",
       "      <td>-0.138264</td>\n",
       "      <td>6.849267</td>\n",
       "      <td>A</td>\n",
       "    </tr>\n",
       "    <tr>\n",
       "      <th>2</th>\n",
       "      <td>-4.711462</td>\n",
       "      <td>0</td>\n",
       "      <td>0.647689</td>\n",
       "      <td>5.119261</td>\n",
       "      <td>B</td>\n",
       "    </tr>\n",
       "    <tr>\n",
       "      <th>3</th>\n",
       "      <td>-1.851374</td>\n",
       "      <td>0</td>\n",
       "      <td>1.523030</td>\n",
       "      <td>3.706126</td>\n",
       "      <td>A</td>\n",
       "    </tr>\n",
       "    <tr>\n",
       "      <th>4</th>\n",
       "      <td>-10.477254</td>\n",
       "      <td>0</td>\n",
       "      <td>-0.234153</td>\n",
       "      <td>6.396447</td>\n",
       "      <td>A</td>\n",
       "    </tr>\n",
       "  </tbody>\n",
       "</table>\n",
       "</div>"
      ],
      "text/plain": [
       "           Y  T        X1        X2 X3\n",
       "0 -11.969308  0  0.496714  7.798711  B\n",
       "1 -10.593992  0 -0.138264  6.849267  A\n",
       "2  -4.711462  0  0.647689  5.119261  B\n",
       "3  -1.851374  0  1.523030  3.706126  A\n",
       "4 -10.477254  0 -0.234153  6.396447  A"
      ]
     },
     "execution_count": 3,
     "metadata": {},
     "output_type": "execute_result"
    }
   ],
   "source": [
    "df.head()"
   ]
  },
  {
   "cell_type": "code",
   "execution_count": 4,
   "id": "a6bf03fe",
   "metadata": {},
   "outputs": [],
   "source": [
    "# Transformando a variavel qualitativa via dummie (assumindo B como referencia)\n",
    "dummies = pd.get_dummies(df['X3'], prefix='X3', drop_first=True, dtype=float)\n",
    "\n",
    "# Inserindo a nova variavel no data frame original\n",
    "df = pd.concat([df, dummies], axis=1)"
   ]
  },
  {
   "cell_type": "code",
   "execution_count": 5,
   "id": "2ac0bd4a",
   "metadata": {},
   "outputs": [
    {
     "data": {
      "text/html": [
       "<div>\n",
       "<style scoped>\n",
       "    .dataframe tbody tr th:only-of-type {\n",
       "        vertical-align: middle;\n",
       "    }\n",
       "\n",
       "    .dataframe tbody tr th {\n",
       "        vertical-align: top;\n",
       "    }\n",
       "\n",
       "    .dataframe thead th {\n",
       "        text-align: right;\n",
       "    }\n",
       "</style>\n",
       "<table border=\"1\" class=\"dataframe\">\n",
       "  <thead>\n",
       "    <tr style=\"text-align: right;\">\n",
       "      <th></th>\n",
       "      <th>Y</th>\n",
       "      <th>T</th>\n",
       "      <th>X1</th>\n",
       "      <th>X2</th>\n",
       "      <th>X3</th>\n",
       "      <th>X3_B</th>\n",
       "    </tr>\n",
       "  </thead>\n",
       "  <tbody>\n",
       "    <tr>\n",
       "      <th>0</th>\n",
       "      <td>-11.969308</td>\n",
       "      <td>0</td>\n",
       "      <td>0.496714</td>\n",
       "      <td>7.798711</td>\n",
       "      <td>B</td>\n",
       "      <td>1.0</td>\n",
       "    </tr>\n",
       "    <tr>\n",
       "      <th>1</th>\n",
       "      <td>-10.593992</td>\n",
       "      <td>0</td>\n",
       "      <td>-0.138264</td>\n",
       "      <td>6.849267</td>\n",
       "      <td>A</td>\n",
       "      <td>0.0</td>\n",
       "    </tr>\n",
       "    <tr>\n",
       "      <th>2</th>\n",
       "      <td>-4.711462</td>\n",
       "      <td>0</td>\n",
       "      <td>0.647689</td>\n",
       "      <td>5.119261</td>\n",
       "      <td>B</td>\n",
       "      <td>1.0</td>\n",
       "    </tr>\n",
       "    <tr>\n",
       "      <th>3</th>\n",
       "      <td>-1.851374</td>\n",
       "      <td>0</td>\n",
       "      <td>1.523030</td>\n",
       "      <td>3.706126</td>\n",
       "      <td>A</td>\n",
       "      <td>0.0</td>\n",
       "    </tr>\n",
       "    <tr>\n",
       "      <th>4</th>\n",
       "      <td>-10.477254</td>\n",
       "      <td>0</td>\n",
       "      <td>-0.234153</td>\n",
       "      <td>6.396447</td>\n",
       "      <td>A</td>\n",
       "      <td>0.0</td>\n",
       "    </tr>\n",
       "  </tbody>\n",
       "</table>\n",
       "</div>"
      ],
      "text/plain": [
       "           Y  T        X1        X2 X3  X3_B\n",
       "0 -11.969308  0  0.496714  7.798711  B   1.0\n",
       "1 -10.593992  0 -0.138264  6.849267  A   0.0\n",
       "2  -4.711462  0  0.647689  5.119261  B   1.0\n",
       "3  -1.851374  0  1.523030  3.706126  A   0.0\n",
       "4 -10.477254  0 -0.234153  6.396447  A   0.0"
      ]
     },
     "execution_count": 5,
     "metadata": {},
     "output_type": "execute_result"
    }
   ],
   "source": [
    "df.head()"
   ]
  },
  {
   "cell_type": "code",
   "execution_count": 6,
   "id": "6437ec50",
   "metadata": {},
   "outputs": [],
   "source": [
    "# Nome das variaveis que serao as confundidoras do modelo\n",
    "features_base = ['X1','X2','X3_B']"
   ]
  },
  {
   "cell_type": "code",
   "execution_count": 7,
   "id": "c357caef",
   "metadata": {},
   "outputs": [],
   "source": [
    "# Visualizacao do DAG"
   ]
  },
  {
   "cell_type": "markdown",
   "id": "5d7f0b0a",
   "metadata": {},
   "source": [
    "## 2 - Verificando o pressuposto da positividade"
   ]
  },
  {
   "cell_type": "code",
   "execution_count": 8,
   "id": "a1e5e3fc",
   "metadata": {},
   "outputs": [],
   "source": [
    "# Para evitar o overfitting no calculo do propensity score, vamos separar a base em duas, assim, treinaremos dois modelos\n",
    "np.random.seed(42)\n",
    "df1 = df.sample(frac = 0.5)\n",
    "df2 = df.drop(df1.index)"
   ]
  },
  {
   "cell_type": "code",
   "execution_count": 9,
   "id": "bf7dd729",
   "metadata": {},
   "outputs": [],
   "source": [
    "# Vamos fazer duas regressoes logisticas para estimar os propensity scores, cada uma vai ser treinada em metade da base\n",
    "logit1 = LogisticRegression()\n",
    "logit2 = LogisticRegression()\n",
    "\n",
    "# Treinando os modelos em cada parte da base, prevendo T com base nas variaveis confundidoras (X)\n",
    "logit1.fit(df1[['X1', 'X2', 'X3_B']], df1['T'])\n",
    "logit2.fit(df2[['X1', 'X2', 'X3_B']], df2['T'])\n",
    "\n",
    "\n",
    "# O modelo treinado na base 1 vai ser usado para calcular o score na base 2\n",
    "# O modelo treinado na base 2 vai ser usado para calcular o score na base 1\n",
    "df1['propensity_score'] = logit2.predict_proba(df1[['X1', 'X2', 'X3_B']])[:, 1]\n",
    "df2['propensity_score'] = logit1.predict_proba(df2[['X1', 'X2', 'X3_B']])[:, 1]\n",
    "\n",
    "# juntando as bases novamente\n",
    "df_f = pd.concat([df1,df2])"
   ]
  },
  {
   "cell_type": "code",
   "execution_count": 10,
   "id": "4adc95eb",
   "metadata": {},
   "outputs": [
    {
     "data": {
      "text/html": [
       "<div>\n",
       "<style scoped>\n",
       "    .dataframe tbody tr th:only-of-type {\n",
       "        vertical-align: middle;\n",
       "    }\n",
       "\n",
       "    .dataframe tbody tr th {\n",
       "        vertical-align: top;\n",
       "    }\n",
       "\n",
       "    .dataframe thead th {\n",
       "        text-align: right;\n",
       "    }\n",
       "</style>\n",
       "<table border=\"1\" class=\"dataframe\">\n",
       "  <thead>\n",
       "    <tr style=\"text-align: right;\">\n",
       "      <th></th>\n",
       "      <th>Y</th>\n",
       "      <th>T</th>\n",
       "      <th>X1</th>\n",
       "      <th>X2</th>\n",
       "      <th>X3</th>\n",
       "      <th>X3_B</th>\n",
       "      <th>propensity_score</th>\n",
       "    </tr>\n",
       "  </thead>\n",
       "  <tbody>\n",
       "    <tr>\n",
       "      <th>521</th>\n",
       "      <td>-4.832362</td>\n",
       "      <td>1</td>\n",
       "      <td>0.543360</td>\n",
       "      <td>6.164195</td>\n",
       "      <td>B</td>\n",
       "      <td>1.0</td>\n",
       "      <td>0.465892</td>\n",
       "    </tr>\n",
       "    <tr>\n",
       "      <th>737</th>\n",
       "      <td>-1.089816</td>\n",
       "      <td>0</td>\n",
       "      <td>0.982691</td>\n",
       "      <td>2.864394</td>\n",
       "      <td>A</td>\n",
       "      <td>0.0</td>\n",
       "      <td>0.509121</td>\n",
       "    </tr>\n",
       "    <tr>\n",
       "      <th>740</th>\n",
       "      <td>-11.391832</td>\n",
       "      <td>0</td>\n",
       "      <td>-1.840874</td>\n",
       "      <td>4.791102</td>\n",
       "      <td>A</td>\n",
       "      <td>0.0</td>\n",
       "      <td>0.530871</td>\n",
       "    </tr>\n",
       "    <tr>\n",
       "      <th>660</th>\n",
       "      <td>-16.300924</td>\n",
       "      <td>0</td>\n",
       "      <td>-0.573662</td>\n",
       "      <td>7.634230</td>\n",
       "      <td>A</td>\n",
       "      <td>0.0</td>\n",
       "      <td>0.509159</td>\n",
       "    </tr>\n",
       "    <tr>\n",
       "      <th>411</th>\n",
       "      <td>-10.157524</td>\n",
       "      <td>1</td>\n",
       "      <td>-1.124642</td>\n",
       "      <td>6.112460</td>\n",
       "      <td>A</td>\n",
       "      <td>0.0</td>\n",
       "      <td>0.519529</td>\n",
       "    </tr>\n",
       "  </tbody>\n",
       "</table>\n",
       "</div>"
      ],
      "text/plain": [
       "             Y  T        X1        X2 X3  X3_B  propensity_score\n",
       "521  -4.832362  1  0.543360  6.164195  B   1.0          0.465892\n",
       "737  -1.089816  0  0.982691  2.864394  A   0.0          0.509121\n",
       "740 -11.391832  0 -1.840874  4.791102  A   0.0          0.530871\n",
       "660 -16.300924  0 -0.573662  7.634230  A   0.0          0.509159\n",
       "411 -10.157524  1 -1.124642  6.112460  A   0.0          0.519529"
      ]
     },
     "execution_count": 10,
     "metadata": {},
     "output_type": "execute_result"
    }
   ],
   "source": [
    "df_f.head()"
   ]
  },
  {
   "cell_type": "code",
   "execution_count": 11,
   "id": "0708046c",
   "metadata": {},
   "outputs": [
    {
     "data": {
      "image/png": "[encoded data removed]",
      "text/plain": [
       "<Figure size 640x480 with 1 Axes>"
      ]
     },
     "metadata": {},
     "output_type": "display_data"
    }
   ],
   "source": [
    "# Visualizando se temos unidades de controle e tratamento nas mesmas faixas do propensity score (Pressuposto da Positividade)\n",
    "plt.hist(df_f[df_f['T'] == 0]['propensity_score'], label = 'Controle', alpha = 0.5)\n",
    "plt.hist(df_f[df_f['T'] == 1]['propensity_score'], label = 'Tratamento', alpha = 0.5)\n",
    "plt.legend()\n",
    "plt.show()"
   ]
  },
  {
   "cell_type": "markdown",
   "id": "ba8f6d42",
   "metadata": {},
   "source": [
    "## 3 - Ajustando os modelos do DoubleML"
   ]
  },
  {
   "cell_type": "code",
   "execution_count": 12,
   "id": "d758b5ab",
   "metadata": {},
   "outputs": [],
   "source": [
    "# Ajustando os modelos de XGBoost que serão usados\n",
    "\n",
    "# Modelo que preve o Outcome (Y) com base nas confundidoras (X)\n",
    "boost = XGBRegressor(n_jobs=1, objective = \"reg:squarederror\")\n",
    "\n",
    "# Modelo que preve o Tratamento (T) com base nas confundidoras (X)\n",
    "boost_class = XGBClassifier(n_jobs=1,\n",
    "                            objective = \"binary:logistic\", eval_metric = \"logloss\")"
   ]
  },
  {
   "cell_type": "code",
   "execution_count": 13,
   "id": "817608d3",
   "metadata": {},
   "outputs": [],
   "source": [
    "# Inicializando o DoubleML\n",
    "data_dml_base = dml.DoubleMLData(df,\n",
    "                                 y_col='Y',\n",
    "                                 d_cols='T',\n",
    "                                 x_cols=features_base)"
   ]
  },
  {
   "cell_type": "code",
   "execution_count": 14,
   "id": "46782b38",
   "metadata": {},
   "outputs": [],
   "source": [
    "np.random.seed(42)\n",
    "# Ajustando o DoubleML, definindo o numero de folds para o cross-fiting (n_folds) e número de repeticoes do processo (n_rep)\n",
    "dml_plr_boost = dml.DoubleMLPLR(data_dml_base,\n",
    "                                ml_l = boost,\n",
    "                                ml_m = boost_class,\n",
    "                                n_folds = 10,\n",
    "                                n_rep = 5)"
   ]
  },
  {
   "cell_type": "code",
   "execution_count": 15,
   "id": "2fa57636",
   "metadata": {},
   "outputs": [],
   "source": [
    "# Hiperparametros que serao tunados de cada modelo de XGBoost (Y~X e T~X)\n",
    "par_grids = {'ml_l': {'learning_rate': [0.01, 0.05, 0.1, 0.2],\n",
    "    'n_estimators': [100, 200, 300],\n",
    "    'max_depth': [3, 4, 5, 6],\n",
    "    'min_child_weight': [1, 3, 5],\n",
    "    'gamma': [0, 0.1, 0.2, 0.3],\n",
    "    'subsample': [0.7, 0.8, 0.9, 1.0],\n",
    "    'colsample_bytree': [0.7, 0.8, 0.9, 1.0],\n",
    "    'reg_alpha': [0, 0.1, 1],\n",
    "    'reg_lambda': [0, 0.1, 1, 10]},\n",
    "             'ml_m': {'learning_rate': [0.01, 0.05, 0.1, 0.2],\n",
    "    'n_estimators': [100, 200, 300],\n",
    "    'max_depth': [3, 4, 5, 6],\n",
    "    'min_child_weight': [1, 3, 5],\n",
    "    'gamma': [0, 0.1, 0.2, 0.3],\n",
    "    'subsample': [0.7, 0.8, 0.9, 1.0],\n",
    "    'colsample_bytree': [0.7, 0.8, 0.9, 1.0],\n",
    "    'reg_alpha': [0, 0.1, 1],\n",
    "    'reg_lambda': [0, 0.1, 1, 10]}}"
   ]
  },
  {
   "cell_type": "code",
   "execution_count": 16,
   "id": "7050484e",
   "metadata": {},
   "outputs": [
    {
     "data": {
      "text/plain": [
       "<doubleml.plm.plr.DoubleMLPLR at 0x1d9d6dec890>"
      ]
     },
     "execution_count": 16,
     "metadata": {},
     "output_type": "execute_result"
    }
   ],
   "source": [
    "np.random.seed(42)\n",
    "#tunando os modelos via random search\n",
    "dml_plr_boost.tune(par_grids, search_mode='randomized_search', n_iter_randomized_search=500)"
   ]
  },
  {
   "cell_type": "markdown",
   "id": "60a8f0d4",
   "metadata": {},
   "source": [
    "## 4 - Executando o DoubleML"
   ]
  },
  {
   "cell_type": "code",
   "execution_count": 17,
   "id": "4b40c96d",
   "metadata": {},
   "outputs": [
    {
     "name": "stdout",
     "output_type": "stream",
     "text": [
      "       coef  std err          t         P>|t|     2.5 %    97.5 %\n",
      "T  2.830378  0.18651  15.175515  5.137318e-52  2.464337  3.196419\n",
      "================== DoubleMLPLR Object ==================\n",
      "\n",
      "------------------ Data summary      ------------------\n",
      "Outcome variable: Y\n",
      "Treatment variable(s): ['T']\n",
      "Covariates: ['X1', 'X2', 'X3_B']\n",
      "Instrument variable(s): None\n",
      "No. Observations: 1000\n",
      "\n",
      "------------------ Score & algorithm ------------------\n",
      "Score function: partialling out\n",
      "\n",
      "------------------ Machine learner   ------------------\n",
      "Learner ml_l: XGBRegressor(base_score=None, booster=None, callbacks=None,\n",
      "             colsample_bylevel=None, colsample_bynode=None,\n",
      "             colsample_bytree=None, device=None, early_stopping_rounds=None,\n",
      "             enable_categorical=False, eval_metric=None, feature_types=None,\n",
      "             feature_weights=None, gamma=None, grow_policy=None,\n",
      "             importance_type=None, interaction_constraints=None,\n",
      "             learning_rate=None, max_bin=None, max_cat_threshold=None,\n",
      "             max_cat_to_onehot=None, max_delta_step=None, max_depth=None,\n",
      "             max_leaves=None, min_child_weight=None, missing=nan,\n",
      "             monotone_constraints=None, multi_strategy=None, n_estimators=None,\n",
      "             n_jobs=1, num_parallel_tree=None, ...)\n",
      "Learner ml_m: XGBClassifier(base_score=None, booster=None, callbacks=None,\n",
      "              colsample_bylevel=None, colsample_bynode=None,\n",
      "              colsample_bytree=None, device=None, early_stopping_rounds=None,\n",
      "              enable_categorical=False, eval_metric='logloss',\n",
      "              feature_types=None, feature_weights=None, gamma=None,\n",
      "              grow_policy=None, importance_type=None,\n",
      "              interaction_constraints=None, learning_rate=None, max_bin=None,\n",
      "              max_cat_threshold=None, max_cat_to_onehot=None,\n",
      "              max_delta_step=None, max_depth=None, max_leaves=None,\n",
      "              min_child_weight=None, missing=nan, monotone_constraints=None,\n",
      "              multi_strategy=None, n_estimators=None, n_jobs=1,\n",
      "              num_parallel_tree=None, ...)\n",
      "Out-of-sample Performance:\n",
      "Regression:\n",
      "Learner ml_l RMSE: [[3.54144966]\n",
      " [3.55436073]\n",
      " [3.53775306]\n",
      " [3.55549429]\n",
      " [3.5487396 ]]\n",
      "Classification:\n",
      "Learner ml_m Log Loss: [[0.80234415]\n",
      " [0.81078264]\n",
      " [0.80798113]\n",
      " [0.81377291]\n",
      " [0.78293864]]\n",
      "\n",
      "------------------ Resampling        ------------------\n",
      "No. folds: 10\n",
      "No. repeated sample splits: 5\n",
      "\n",
      "------------------ Fit summary       ------------------\n",
      "       coef  std err          t         P>|t|     2.5 %    97.5 %\n",
      "T  2.830378  0.18651  15.175515  5.137318e-52  2.464337  3.196419\n",
      "Bootstrap confidence intervals:\n",
      "       2.5 %    97.5 %\n",
      "T  2.466067  3.188549\n"
     ]
    }
   ],
   "source": [
    "# Rodando o modelo DoubleML utilizando os melhores hiperparametros encontrados\n",
    "dml_plr_boost.fit(store_predictions=True)\n",
    "\n",
    "# Mostrando o impacto de T em Y e seus respectivos intervalos de confianca (com Bootstrap ao final)\n",
    "print(dml_plr_boost.summary)\n",
    "print(dml_plr_boost)\n",
    "bootstrap_results = dml_plr_boost.bootstrap(method='normal', n_rep_boot=500) # intervalo de confianca com Bootstrap\n",
    "print(\"Bootstrap confidence intervals:\\n\", bootstrap_results.confint(joint=True))"
   ]
  }
 ],
 "metadata": {
  "kernelspec": {
   "display_name": "Python 3 (ipykernel)",
   "language": "python",
   "name": "python3"
  },
  "language_info": {
   "codemirror_mode": {
    "name": "ipython",
    "version": 3
   },
   "file_extension": ".py",
   "mimetype": "text/x-python",
   "name": "python",
   "nbconvert_exporter": "python",
   "pygments_lexer": "ipython3",
   "version": "3.11.0"
  }
 },
 "nbformat": 4,
 "nbformat_minor": 5
}
