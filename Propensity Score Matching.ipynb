{
 "cells": [
  {
   "cell_type": "code",
   "execution_count": 1,
   "id": "8745ced7",
   "metadata": {},
   "outputs": [],
   "source": [
    "import numpy as np\n",
    "import pandas as pd\n",
    "from sklearn.linear_model import LogisticRegression\n",
    "from sklearn.model_selection import train_test_split\n",
    "from sklearn.preprocessing import StandardScaler\n",
    "from statsmodels.api import Logit\n",
    "from psmpy import PsmPy\n",
    "from psmpy.functions import cohenD\n",
    "import matplotlib.pyplot as plt"
   ]
  },
  {
   "cell_type": "markdown",
   "id": "e3265c81",
   "metadata": {},
   "source": [
    "# Criando dados simulados"
   ]
  },
  {
   "cell_type": "code",
   "execution_count": 2,
   "id": "3fa8f0c5",
   "metadata": {},
   "outputs": [],
   "source": [
    "# Dados simulados\n",
    "np.random.seed(400)\n",
    "N = 2000\n",
    "\n",
    "# Características das observacoes\n",
    "X1 = np.random.normal(0.3, 1, N)\n",
    "X2 = np.random.normal(0.3, 1, N)\n",
    "X3 = np.random.normal(0.3, 1, N)\n",
    "\n",
    "# Probabilidade de receber o tratamento - dependente das covariaveis\n",
    "p = 1 / (1 + np.exp(-((0.2 * X1) + (0.2 * X2) + (0.2 * X3))))\n",
    "\n",
    "# Atribuição ao tratamento com base na probabilidade\n",
    "treatment = np.random.binomial(1, p)\n",
    "\n",
    "# Variável resposta (Y) dependente do tratamento e das covariáveis\n",
    "Y = (8 * treatment) + (2 * X1) + (3 * X2) + (4 * X3) + np.random.normal(size=N)\n",
    "\n",
    "# Construindo o DataFrame\n",
    "df = pd.DataFrame({'X1': X1, 'X2': X2, 'X3': X3, 'treatment': treatment, 'Y': Y})"
   ]
  },
  {
   "cell_type": "code",
   "execution_count": 3,
   "id": "79fcf4c2",
   "metadata": {},
   "outputs": [
    {
     "data": {
      "text/html": [
       "<div>\n",
       "<style scoped>\n",
       "    .dataframe tbody tr th:only-of-type {\n",
       "        vertical-align: middle;\n",
       "    }\n",
       "\n",
       "    .dataframe tbody tr th {\n",
       "        vertical-align: top;\n",
       "    }\n",
       "\n",
       "    .dataframe thead th {\n",
       "        text-align: right;\n",
       "    }\n",
       "</style>\n",
       "<table border=\"1\" class=\"dataframe\">\n",
       "  <thead>\n",
       "    <tr style=\"text-align: right;\">\n",
       "      <th></th>\n",
       "      <th>X1</th>\n",
       "      <th>X2</th>\n",
       "      <th>X3</th>\n",
       "      <th>treatment</th>\n",
       "      <th>Y</th>\n",
       "    </tr>\n",
       "  </thead>\n",
       "  <tbody>\n",
       "    <tr>\n",
       "      <th>0</th>\n",
       "      <td>-0.830571</td>\n",
       "      <td>-0.345197</td>\n",
       "      <td>0.073416</td>\n",
       "      <td>1</td>\n",
       "      <td>5.628789</td>\n",
       "    </tr>\n",
       "    <tr>\n",
       "      <th>1</th>\n",
       "      <td>0.996200</td>\n",
       "      <td>2.544138</td>\n",
       "      <td>1.056202</td>\n",
       "      <td>0</td>\n",
       "      <td>13.379357</td>\n",
       "    </tr>\n",
       "    <tr>\n",
       "      <th>2</th>\n",
       "      <td>-0.132293</td>\n",
       "      <td>1.340311</td>\n",
       "      <td>-0.277241</td>\n",
       "      <td>1</td>\n",
       "      <td>9.908344</td>\n",
       "    </tr>\n",
       "    <tr>\n",
       "      <th>3</th>\n",
       "      <td>1.041020</td>\n",
       "      <td>1.586583</td>\n",
       "      <td>-1.154941</td>\n",
       "      <td>1</td>\n",
       "      <td>11.049054</td>\n",
       "    </tr>\n",
       "    <tr>\n",
       "      <th>4</th>\n",
       "      <td>-0.178137</td>\n",
       "      <td>0.997762</td>\n",
       "      <td>-0.937351</td>\n",
       "      <td>0</td>\n",
       "      <td>-1.494795</td>\n",
       "    </tr>\n",
       "  </tbody>\n",
       "</table>\n",
       "</div>"
      ],
      "text/plain": [
       "         X1        X2        X3  treatment          Y\n",
       "0 -0.830571 -0.345197  0.073416          1   5.628789\n",
       "1  0.996200  2.544138  1.056202          0  13.379357\n",
       "2 -0.132293  1.340311 -0.277241          1   9.908344\n",
       "3  1.041020  1.586583 -1.154941          1  11.049054\n",
       "4 -0.178137  0.997762 -0.937351          0  -1.494795"
      ]
     },
     "execution_count": 3,
     "metadata": {},
     "output_type": "execute_result"
    }
   ],
   "source": [
    "df.head()"
   ]
  },
  {
   "cell_type": "code",
   "execution_count": 4,
   "id": "99db37f1",
   "metadata": {},
   "outputs": [
    {
     "data": {
      "text/plain": [
       "treatment\n",
       "1    1111\n",
       "0     889\n",
       "Name: count, dtype: int64"
      ]
     },
     "execution_count": 4,
     "metadata": {},
     "output_type": "execute_result"
    }
   ],
   "source": [
    "df['treatment'].value_counts()"
   ]
  },
  {
   "cell_type": "code",
   "execution_count": 5,
   "id": "57416ea5",
   "metadata": {},
   "outputs": [
    {
     "data": {
      "text/plain": [
       "treatment\n",
       "0     1.755599\n",
       "1    11.540707\n",
       "Name: Y, dtype: float64"
      ]
     },
     "execution_count": 5,
     "metadata": {},
     "output_type": "execute_result"
    }
   ],
   "source": [
    "df.groupby(['treatment'])['Y'].mean()"
   ]
  },
  {
   "cell_type": "markdown",
   "id": "7da13428",
   "metadata": {},
   "source": [
    "# Calculando Propensity Score Inicial"
   ]
  },
  {
   "cell_type": "code",
   "execution_count": 6,
   "id": "21e4ba35",
   "metadata": {},
   "outputs": [
    {
     "data": {
      "text/html": [
       "<div>\n",
       "<style scoped>\n",
       "    .dataframe tbody tr th:only-of-type {\n",
       "        vertical-align: middle;\n",
       "    }\n",
       "\n",
       "    .dataframe tbody tr th {\n",
       "        vertical-align: top;\n",
       "    }\n",
       "\n",
       "    .dataframe thead th {\n",
       "        text-align: right;\n",
       "    }\n",
       "</style>\n",
       "<table border=\"1\" class=\"dataframe\">\n",
       "  <thead>\n",
       "    <tr style=\"text-align: right;\">\n",
       "      <th></th>\n",
       "      <th>X1</th>\n",
       "      <th>X2</th>\n",
       "      <th>X3</th>\n",
       "      <th>treatment</th>\n",
       "      <th>Y</th>\n",
       "      <th>propensity_score</th>\n",
       "    </tr>\n",
       "  </thead>\n",
       "  <tbody>\n",
       "    <tr>\n",
       "      <th>0</th>\n",
       "      <td>-0.830571</td>\n",
       "      <td>-0.345197</td>\n",
       "      <td>0.073416</td>\n",
       "      <td>1</td>\n",
       "      <td>5.628789</td>\n",
       "      <td>0.456671</td>\n",
       "    </tr>\n",
       "    <tr>\n",
       "      <th>1</th>\n",
       "      <td>0.996200</td>\n",
       "      <td>2.544138</td>\n",
       "      <td>1.056202</td>\n",
       "      <td>0</td>\n",
       "      <td>13.379357</td>\n",
       "      <td>0.708867</td>\n",
       "    </tr>\n",
       "    <tr>\n",
       "      <th>2</th>\n",
       "      <td>-0.132293</td>\n",
       "      <td>1.340311</td>\n",
       "      <td>-0.277241</td>\n",
       "      <td>1</td>\n",
       "      <td>9.908344</td>\n",
       "      <td>0.540591</td>\n",
       "    </tr>\n",
       "    <tr>\n",
       "      <th>3</th>\n",
       "      <td>1.041020</td>\n",
       "      <td>1.586583</td>\n",
       "      <td>-1.154941</td>\n",
       "      <td>1</td>\n",
       "      <td>11.049054</td>\n",
       "      <td>0.568587</td>\n",
       "    </tr>\n",
       "    <tr>\n",
       "      <th>4</th>\n",
       "      <td>-0.178137</td>\n",
       "      <td>0.997762</td>\n",
       "      <td>-0.937351</td>\n",
       "      <td>0</td>\n",
       "      <td>-1.494795</td>\n",
       "      <td>0.489371</td>\n",
       "    </tr>\n",
       "  </tbody>\n",
       "</table>\n",
       "</div>"
      ],
      "text/plain": [
       "         X1        X2        X3  treatment          Y  propensity_score\n",
       "0 -0.830571 -0.345197  0.073416          1   5.628789          0.456671\n",
       "1  0.996200  2.544138  1.056202          0  13.379357          0.708867\n",
       "2 -0.132293  1.340311 -0.277241          1   9.908344          0.540591\n",
       "3  1.041020  1.586583 -1.154941          1  11.049054          0.568587\n",
       "4 -0.178137  0.997762 -0.937351          0  -1.494795          0.489371"
      ]
     },
     "execution_count": 6,
     "metadata": {},
     "output_type": "execute_result"
    }
   ],
   "source": [
    "# Estimando o Propensity Score com Regressão Logística\n",
    "logit = LogisticRegression()\n",
    "logit.fit(df[['X1', 'X2', 'X3']], df['treatment'])\n",
    "\n",
    "# Adicionando o Propensity Score ao DataFrame\n",
    "df['propensity_score'] = logit.predict_proba(df[['X1', 'X2', 'X3']])[:, 1]\n",
    "\n",
    "# Visualizando os primeiros dados\n",
    "df.head()"
   ]
  },
  {
   "cell_type": "markdown",
   "id": "59d39b68",
   "metadata": {},
   "source": [
    "# Verificando a distribuicao dos scores"
   ]
  },
  {
   "cell_type": "code",
   "execution_count": 7,
   "id": "6ee59dad",
   "metadata": {},
   "outputs": [
    {
     "data": {
      "image/png": "[encoded data removed]",
      "text/plain": [
       "<Figure size 1000x800 with 1 Axes>"
      ]
     },
     "metadata": {},
     "output_type": "display_data"
    }
   ],
   "source": [
    "plt.hist(df[df['treatment'] == 0]['propensity_score'], label = 'Controle', alpha = 0.5)\n",
    "plt.hist(df[df['treatment'] == 1]['propensity_score'], label = 'Tratamento', alpha = 0.5)\n",
    "plt.legend()\n",
    "plt.show()"
   ]
  },
  {
   "cell_type": "markdown",
   "id": "38202cc6",
   "metadata": {},
   "source": [
    "# Definindo suporte comum entre os scores de tratamento/controle"
   ]
  },
  {
   "cell_type": "code",
   "execution_count": 8,
   "id": "04574b09",
   "metadata": {},
   "outputs": [],
   "source": [
    "# Determinando os valores mínimo e máximo do propensity score em ambos os grupos\n",
    "min_treated = df[df['treatment'] == 1]['propensity_score'].min()\n",
    "max_treated = df[df['treatment'] == 1]['propensity_score'].max()\n",
    "min_control = df[df['treatment'] == 0]['propensity_score'].min()\n",
    "max_control = df[df['treatment'] == 0]['propensity_score'].max()\n",
    "\n",
    "# Definindo a região de suporte comum\n",
    "common_support_min = max(min_treated, min_control)\n",
    "common_support_max = min(max_treated, max_control)\n",
    "\n",
    "# Aplicando o corte (trimming) para manter apenas as observações dentro do suporte comum\n",
    "df_trimmed = df[(df['propensity_score'] >= common_support_min) & \n",
    "                (df['propensity_score'] <= common_support_max)]"
   ]
  },
  {
   "cell_type": "code",
   "execution_count": 9,
   "id": "c41e6af7",
   "metadata": {},
   "outputs": [
    {
     "data": {
      "image/png": "[encoded data removed]",
      "text/plain": [
       "<Figure size 1000x800 with 1 Axes>"
      ]
     },
     "metadata": {},
     "output_type": "display_data"
    }
   ],
   "source": [
    "plt.hist(df_trimmed[df_trimmed['treatment'] == 0]['propensity_score'], label = 'Controle', alpha = 0.5)\n",
    "plt.hist(df_trimmed[df_trimmed['treatment'] == 1]['propensity_score'], label = 'Tratamento', alpha = 0.5)\n",
    "plt.show()"
   ]
  },
  {
   "cell_type": "code",
   "execution_count": 10,
   "id": "152dd42d",
   "metadata": {},
   "outputs": [
    {
     "data": {
      "text/html": [
       "<div>\n",
       "<style scoped>\n",
       "    .dataframe tbody tr th:only-of-type {\n",
       "        vertical-align: middle;\n",
       "    }\n",
       "\n",
       "    .dataframe tbody tr th {\n",
       "        vertical-align: top;\n",
       "    }\n",
       "\n",
       "    .dataframe thead th {\n",
       "        text-align: right;\n",
       "    }\n",
       "</style>\n",
       "<table border=\"1\" class=\"dataframe\">\n",
       "  <thead>\n",
       "    <tr style=\"text-align: right;\">\n",
       "      <th></th>\n",
       "      <th>X1</th>\n",
       "      <th>X2</th>\n",
       "      <th>X3</th>\n",
       "      <th>treatment</th>\n",
       "      <th>Y</th>\n",
       "      <th>propensity_score</th>\n",
       "    </tr>\n",
       "  </thead>\n",
       "  <tbody>\n",
       "    <tr>\n",
       "      <th>0</th>\n",
       "      <td>-0.830571</td>\n",
       "      <td>-0.345197</td>\n",
       "      <td>0.073416</td>\n",
       "      <td>1</td>\n",
       "      <td>5.628789</td>\n",
       "      <td>0.456671</td>\n",
       "    </tr>\n",
       "    <tr>\n",
       "      <th>1</th>\n",
       "      <td>0.996200</td>\n",
       "      <td>2.544138</td>\n",
       "      <td>1.056202</td>\n",
       "      <td>0</td>\n",
       "      <td>13.379357</td>\n",
       "      <td>0.708867</td>\n",
       "    </tr>\n",
       "    <tr>\n",
       "      <th>2</th>\n",
       "      <td>-0.132293</td>\n",
       "      <td>1.340311</td>\n",
       "      <td>-0.277241</td>\n",
       "      <td>1</td>\n",
       "      <td>9.908344</td>\n",
       "      <td>0.540591</td>\n",
       "    </tr>\n",
       "    <tr>\n",
       "      <th>3</th>\n",
       "      <td>1.041020</td>\n",
       "      <td>1.586583</td>\n",
       "      <td>-1.154941</td>\n",
       "      <td>1</td>\n",
       "      <td>11.049054</td>\n",
       "      <td>0.568587</td>\n",
       "    </tr>\n",
       "    <tr>\n",
       "      <th>4</th>\n",
       "      <td>-0.178137</td>\n",
       "      <td>0.997762</td>\n",
       "      <td>-0.937351</td>\n",
       "      <td>0</td>\n",
       "      <td>-1.494795</td>\n",
       "      <td>0.489371</td>\n",
       "    </tr>\n",
       "  </tbody>\n",
       "</table>\n",
       "</div>"
      ],
      "text/plain": [
       "         X1        X2        X3  treatment          Y  propensity_score\n",
       "0 -0.830571 -0.345197  0.073416          1   5.628789          0.456671\n",
       "1  0.996200  2.544138  1.056202          0  13.379357          0.708867\n",
       "2 -0.132293  1.340311 -0.277241          1   9.908344          0.540591\n",
       "3  1.041020  1.586583 -1.154941          1  11.049054          0.568587\n",
       "4 -0.178137  0.997762 -0.937351          0  -1.494795          0.489371"
      ]
     },
     "execution_count": 10,
     "metadata": {},
     "output_type": "execute_result"
    }
   ],
   "source": [
    "df_trimmed.head()"
   ]
  },
  {
   "cell_type": "code",
   "execution_count": 11,
   "id": "f17623a1",
   "metadata": {},
   "outputs": [
    {
     "name": "stderr",
     "output_type": "stream",
     "text": [
      "C:\\Users\\gcabr\\AppData\\Local\\Temp\\ipykernel_22520\\3567244812.py:1: SettingWithCopyWarning: \n",
      "A value is trying to be set on a copy of a slice from a DataFrame\n",
      "\n",
      "See the caveats in the documentation: https://pandas.pydata.org/pandas-docs/stable/user_guide/indexing.html#returning-a-view-versus-a-copy\n",
      "  df_trimmed.drop('propensity_score', axis=1, inplace=True)\n"
     ]
    }
   ],
   "source": [
    "df_trimmed.drop('propensity_score', axis=1, inplace=True)"
   ]
  },
  {
   "cell_type": "markdown",
   "id": "b422ee60",
   "metadata": {},
   "source": [
    "# Recalculando Score e pareamento das observacoes - KNN"
   ]
  },
  {
   "cell_type": "code",
   "execution_count": 12,
   "id": "92b16273",
   "metadata": {},
   "outputs": [
    {
     "name": "stderr",
     "output_type": "stream",
     "text": [
      "C:\\Users\\gcabr\\AppData\\Local\\Temp\\ipykernel_22520\\4276330821.py:1: SettingWithCopyWarning: \n",
      "A value is trying to be set on a copy of a slice from a DataFrame.\n",
      "Try using .loc[row_indexer,col_indexer] = value instead\n",
      "\n",
      "See the caveats in the documentation: https://pandas.pydata.org/pandas-docs/stable/user_guide/indexing.html#returning-a-view-versus-a-copy\n",
      "  df_trimmed['ID'] = df_trimmed.index\n"
     ]
    }
   ],
   "source": [
    "df_trimmed['ID'] = df_trimmed.index"
   ]
  },
  {
   "cell_type": "code",
   "execution_count": 13,
   "id": "118a0770",
   "metadata": {},
   "outputs": [
    {
     "data": {
      "text/html": [
       "<div>\n",
       "<style scoped>\n",
       "    .dataframe tbody tr th:only-of-type {\n",
       "        vertical-align: middle;\n",
       "    }\n",
       "\n",
       "    .dataframe tbody tr th {\n",
       "        vertical-align: top;\n",
       "    }\n",
       "\n",
       "    .dataframe thead th {\n",
       "        text-align: right;\n",
       "    }\n",
       "</style>\n",
       "<table border=\"1\" class=\"dataframe\">\n",
       "  <thead>\n",
       "    <tr style=\"text-align: right;\">\n",
       "      <th></th>\n",
       "      <th>X1</th>\n",
       "      <th>X2</th>\n",
       "      <th>X3</th>\n",
       "      <th>treatment</th>\n",
       "      <th>Y</th>\n",
       "      <th>ID</th>\n",
       "    </tr>\n",
       "  </thead>\n",
       "  <tbody>\n",
       "    <tr>\n",
       "      <th>0</th>\n",
       "      <td>-0.830571</td>\n",
       "      <td>-0.345197</td>\n",
       "      <td>0.073416</td>\n",
       "      <td>1</td>\n",
       "      <td>5.628789</td>\n",
       "      <td>0</td>\n",
       "    </tr>\n",
       "    <tr>\n",
       "      <th>1</th>\n",
       "      <td>0.996200</td>\n",
       "      <td>2.544138</td>\n",
       "      <td>1.056202</td>\n",
       "      <td>0</td>\n",
       "      <td>13.379357</td>\n",
       "      <td>1</td>\n",
       "    </tr>\n",
       "    <tr>\n",
       "      <th>2</th>\n",
       "      <td>-0.132293</td>\n",
       "      <td>1.340311</td>\n",
       "      <td>-0.277241</td>\n",
       "      <td>1</td>\n",
       "      <td>9.908344</td>\n",
       "      <td>2</td>\n",
       "    </tr>\n",
       "    <tr>\n",
       "      <th>3</th>\n",
       "      <td>1.041020</td>\n",
       "      <td>1.586583</td>\n",
       "      <td>-1.154941</td>\n",
       "      <td>1</td>\n",
       "      <td>11.049054</td>\n",
       "      <td>3</td>\n",
       "    </tr>\n",
       "    <tr>\n",
       "      <th>4</th>\n",
       "      <td>-0.178137</td>\n",
       "      <td>0.997762</td>\n",
       "      <td>-0.937351</td>\n",
       "      <td>0</td>\n",
       "      <td>-1.494795</td>\n",
       "      <td>4</td>\n",
       "    </tr>\n",
       "  </tbody>\n",
       "</table>\n",
       "</div>"
      ],
      "text/plain": [
       "         X1        X2        X3  treatment          Y  ID\n",
       "0 -0.830571 -0.345197  0.073416          1   5.628789   0\n",
       "1  0.996200  2.544138  1.056202          0  13.379357   1\n",
       "2 -0.132293  1.340311 -0.277241          1   9.908344   2\n",
       "3  1.041020  1.586583 -1.154941          1  11.049054   3\n",
       "4 -0.178137  0.997762 -0.937351          0  -1.494795   4"
      ]
     },
     "execution_count": 13,
     "metadata": {},
     "output_type": "execute_result"
    }
   ],
   "source": [
    "df_trimmed.head()"
   ]
  },
  {
   "cell_type": "code",
   "execution_count": 14,
   "id": "2b2041ee",
   "metadata": {},
   "outputs": [],
   "source": [
    "# Aplicando o Propensity Score Matching com os dados ajustados\n",
    "psm = PsmPy(df_trimmed, treatment='treatment', indx='ID', exclude = ['Y'])\n",
    "psm.logistic_ps(balance = True)"
   ]
  },
  {
   "cell_type": "code",
   "execution_count": 15,
   "id": "8f17a371",
   "metadata": {},
   "outputs": [
    {
     "data": {
      "text/html": [
       "<div>\n",
       "<style scoped>\n",
       "    .dataframe tbody tr th:only-of-type {\n",
       "        vertical-align: middle;\n",
       "    }\n",
       "\n",
       "    .dataframe tbody tr th {\n",
       "        vertical-align: top;\n",
       "    }\n",
       "\n",
       "    .dataframe thead th {\n",
       "        text-align: right;\n",
       "    }\n",
       "</style>\n",
       "<table border=\"1\" class=\"dataframe\">\n",
       "  <thead>\n",
       "    <tr style=\"text-align: right;\">\n",
       "      <th></th>\n",
       "      <th>ID</th>\n",
       "      <th>X1</th>\n",
       "      <th>X2</th>\n",
       "      <th>X3</th>\n",
       "      <th>propensity_score</th>\n",
       "      <th>propensity_logit</th>\n",
       "      <th>treatment</th>\n",
       "    </tr>\n",
       "  </thead>\n",
       "  <tbody>\n",
       "    <tr>\n",
       "      <th>0</th>\n",
       "      <td>9</td>\n",
       "      <td>0.483293</td>\n",
       "      <td>-0.635629</td>\n",
       "      <td>0.642763</td>\n",
       "      <td>0.489743</td>\n",
       "      <td>-0.041033</td>\n",
       "      <td>0</td>\n",
       "    </tr>\n",
       "    <tr>\n",
       "      <th>1</th>\n",
       "      <td>13</td>\n",
       "      <td>1.305500</td>\n",
       "      <td>-0.933070</td>\n",
       "      <td>-0.685513</td>\n",
       "      <td>0.449002</td>\n",
       "      <td>-0.204704</td>\n",
       "      <td>0</td>\n",
       "    </tr>\n",
       "    <tr>\n",
       "      <th>2</th>\n",
       "      <td>21</td>\n",
       "      <td>-0.279494</td>\n",
       "      <td>1.185114</td>\n",
       "      <td>-2.270197</td>\n",
       "      <td>0.370216</td>\n",
       "      <td>-0.531290</td>\n",
       "      <td>0</td>\n",
       "    </tr>\n",
       "    <tr>\n",
       "      <th>3</th>\n",
       "      <td>51</td>\n",
       "      <td>2.387179</td>\n",
       "      <td>0.838715</td>\n",
       "      <td>0.196143</td>\n",
       "      <td>0.615083</td>\n",
       "      <td>0.468728</td>\n",
       "      <td>0</td>\n",
       "    </tr>\n",
       "    <tr>\n",
       "      <th>4</th>\n",
       "      <td>54</td>\n",
       "      <td>-0.014224</td>\n",
       "      <td>0.642034</td>\n",
       "      <td>0.113926</td>\n",
       "      <td>0.485998</td>\n",
       "      <td>-0.056025</td>\n",
       "      <td>0</td>\n",
       "    </tr>\n",
       "  </tbody>\n",
       "</table>\n",
       "</div>"
      ],
      "text/plain": [
       "   ID        X1        X2        X3  propensity_score  propensity_logit  \\\n",
       "0   9  0.483293 -0.635629  0.642763          0.489743         -0.041033   \n",
       "1  13  1.305500 -0.933070 -0.685513          0.449002         -0.204704   \n",
       "2  21 -0.279494  1.185114 -2.270197          0.370216         -0.531290   \n",
       "3  51  2.387179  0.838715  0.196143          0.615083          0.468728   \n",
       "4  54 -0.014224  0.642034  0.113926          0.485998         -0.056025   \n",
       "\n",
       "   treatment  \n",
       "0          0  \n",
       "1          0  \n",
       "2          0  \n",
       "3          0  \n",
       "4          0  "
      ]
     },
     "execution_count": 15,
     "metadata": {},
     "output_type": "execute_result"
    }
   ],
   "source": [
    "psm.predicted_data.head()"
   ]
  },
  {
   "cell_type": "code",
   "execution_count": 16,
   "id": "6fb32af6",
   "metadata": {},
   "outputs": [
    {
     "data": {
      "image/png": "[encoded data removed]",
      "text/plain": [
       "<Figure size 1000x800 with 1 Axes>"
      ]
     },
     "metadata": {},
     "output_type": "display_data"
    }
   ],
   "source": [
    "plt.hist(psm.predicted_data[psm.predicted_data['treatment'] == 0]['propensity_logit'], label = 'Controle', alpha = 0.5)\n",
    "plt.hist(psm.predicted_data[psm.predicted_data['treatment'] == 1]['propensity_logit'], label = 'Tratamento', alpha = 0.5)\n",
    "plt.show()"
   ]
  },
  {
   "cell_type": "code",
   "execution_count": 17,
   "id": "771fe010",
   "metadata": {},
   "outputs": [],
   "source": [
    "# Pareamento do Vizinho Mais Próximo com caliper\n",
    "psm.knn_matched(matcher='propensity_score', caliper=1, replacement = True, drop_unmatched = True)"
   ]
  },
  {
   "cell_type": "code",
   "execution_count": 22,
   "id": "d53967cb",
   "metadata": {},
   "outputs": [
    {
     "data": {
      "text/plain": [
       "887"
      ]
     },
     "execution_count": 22,
     "metadata": {},
     "output_type": "execute_result"
    }
   ],
   "source": [
    "len(psm.df_matched[psm.df_matched['treatment'] == 0])"
   ]
  },
  {
   "cell_type": "markdown",
   "id": "c7e47739",
   "metadata": {},
   "source": [
    "# Qualidade do pareamento"
   ]
  },
  {
   "cell_type": "code",
   "execution_count": 23,
   "id": "bb51f9b1",
   "metadata": {},
   "outputs": [
    {
     "data": {
      "image/png": "[encoded data removed]",
      "text/plain": [
       "<Figure size 1000x800 with 1 Axes>"
      ]
     },
     "metadata": {},
     "output_type": "display_data"
    }
   ],
   "source": [
    "# Avaliação da qualidade do pareamento após o corte\n",
    "psm.plot_match(Title='Distribuição do Propensity Score Após o Corte e Pareamento', Ylabel='Densidade')"
   ]
  },
  {
   "cell_type": "code",
   "execution_count": 24,
   "id": "8267028a",
   "metadata": {},
   "outputs": [
    {
     "name": "stdout",
     "output_type": "stream",
     "text": [
      "0.014316550147560787\n",
      "0.029368750984369363\n",
      "0.01975588656574497\n"
     ]
    }
   ],
   "source": [
    "print(cohenD(psm.df_matched, 'treatment', metricName='X1'))\n",
    "print(cohenD(psm.df_matched, 'treatment', metricName='X2'))\n",
    "print(cohenD(psm.df_matched, 'treatment', metricName='X3'))"
   ]
  },
  {
   "cell_type": "markdown",
   "id": "9f5aeb31",
   "metadata": {},
   "source": [
    "# Efeito Medio do Tratamento"
   ]
  },
  {
   "cell_type": "code",
   "execution_count": 25,
   "id": "6aec9d61",
   "metadata": {},
   "outputs": [
    {
     "data": {
      "text/html": [
       "<div>\n",
       "<style scoped>\n",
       "    .dataframe tbody tr th:only-of-type {\n",
       "        vertical-align: middle;\n",
       "    }\n",
       "\n",
       "    .dataframe tbody tr th {\n",
       "        vertical-align: top;\n",
       "    }\n",
       "\n",
       "    .dataframe thead th {\n",
       "        text-align: right;\n",
       "    }\n",
       "</style>\n",
       "<table border=\"1\" class=\"dataframe\">\n",
       "  <thead>\n",
       "    <tr style=\"text-align: right;\">\n",
       "      <th></th>\n",
       "      <th>ID</th>\n",
       "      <th>X1</th>\n",
       "      <th>X2</th>\n",
       "      <th>X3</th>\n",
       "      <th>propensity_score</th>\n",
       "      <th>propensity_logit</th>\n",
       "      <th>treatment</th>\n",
       "      <th>matched_ID</th>\n",
       "    </tr>\n",
       "  </thead>\n",
       "  <tbody>\n",
       "    <tr>\n",
       "      <th>0</th>\n",
       "      <td>9</td>\n",
       "      <td>0.483293</td>\n",
       "      <td>-0.635629</td>\n",
       "      <td>0.642763</td>\n",
       "      <td>0.489743</td>\n",
       "      <td>-0.041033</td>\n",
       "      <td>0</td>\n",
       "      <td>1340.0</td>\n",
       "    </tr>\n",
       "    <tr>\n",
       "      <th>1</th>\n",
       "      <td>13</td>\n",
       "      <td>1.305500</td>\n",
       "      <td>-0.933070</td>\n",
       "      <td>-0.685513</td>\n",
       "      <td>0.449002</td>\n",
       "      <td>-0.204704</td>\n",
       "      <td>0</td>\n",
       "      <td>1955.0</td>\n",
       "    </tr>\n",
       "    <tr>\n",
       "      <th>2</th>\n",
       "      <td>21</td>\n",
       "      <td>-0.279494</td>\n",
       "      <td>1.185114</td>\n",
       "      <td>-2.270197</td>\n",
       "      <td>0.370216</td>\n",
       "      <td>-0.531290</td>\n",
       "      <td>0</td>\n",
       "      <td>1256.0</td>\n",
       "    </tr>\n",
       "    <tr>\n",
       "      <th>3</th>\n",
       "      <td>51</td>\n",
       "      <td>2.387179</td>\n",
       "      <td>0.838715</td>\n",
       "      <td>0.196143</td>\n",
       "      <td>0.615083</td>\n",
       "      <td>0.468728</td>\n",
       "      <td>0</td>\n",
       "      <td>1049.0</td>\n",
       "    </tr>\n",
       "    <tr>\n",
       "      <th>4</th>\n",
       "      <td>54</td>\n",
       "      <td>-0.014224</td>\n",
       "      <td>0.642034</td>\n",
       "      <td>0.113926</td>\n",
       "      <td>0.485998</td>\n",
       "      <td>-0.056025</td>\n",
       "      <td>0</td>\n",
       "      <td>1625.0</td>\n",
       "    </tr>\n",
       "  </tbody>\n",
       "</table>\n",
       "</div>"
      ],
      "text/plain": [
       "   ID        X1        X2        X3  propensity_score  propensity_logit  \\\n",
       "0   9  0.483293 -0.635629  0.642763          0.489743         -0.041033   \n",
       "1  13  1.305500 -0.933070 -0.685513          0.449002         -0.204704   \n",
       "2  21 -0.279494  1.185114 -2.270197          0.370216         -0.531290   \n",
       "3  51  2.387179  0.838715  0.196143          0.615083          0.468728   \n",
       "4  54 -0.014224  0.642034  0.113926          0.485998         -0.056025   \n",
       "\n",
       "   treatment  matched_ID  \n",
       "0          0      1340.0  \n",
       "1          0      1955.0  \n",
       "2          0      1256.0  \n",
       "3          0      1049.0  \n",
       "4          0      1625.0  "
      ]
     },
     "execution_count": 25,
     "metadata": {},
     "output_type": "execute_result"
    }
   ],
   "source": [
    "psm.df_matched.head()"
   ]
  },
  {
   "cell_type": "code",
   "execution_count": 26,
   "id": "259b1d6f",
   "metadata": {},
   "outputs": [
    {
     "data": {
      "text/html": [
       "<div>\n",
       "<style scoped>\n",
       "    .dataframe tbody tr th:only-of-type {\n",
       "        vertical-align: middle;\n",
       "    }\n",
       "\n",
       "    .dataframe tbody tr th {\n",
       "        vertical-align: top;\n",
       "    }\n",
       "\n",
       "    .dataframe thead th {\n",
       "        text-align: right;\n",
       "    }\n",
       "</style>\n",
       "<table border=\"1\" class=\"dataframe\">\n",
       "  <thead>\n",
       "    <tr style=\"text-align: right;\">\n",
       "      <th></th>\n",
       "      <th>X1</th>\n",
       "      <th>X2</th>\n",
       "      <th>X3</th>\n",
       "      <th>treatment</th>\n",
       "      <th>Y</th>\n",
       "      <th>ID</th>\n",
       "    </tr>\n",
       "  </thead>\n",
       "  <tbody>\n",
       "    <tr>\n",
       "      <th>0</th>\n",
       "      <td>-0.830571</td>\n",
       "      <td>-0.345197</td>\n",
       "      <td>0.073416</td>\n",
       "      <td>1</td>\n",
       "      <td>5.628789</td>\n",
       "      <td>0</td>\n",
       "    </tr>\n",
       "    <tr>\n",
       "      <th>1</th>\n",
       "      <td>0.996200</td>\n",
       "      <td>2.544138</td>\n",
       "      <td>1.056202</td>\n",
       "      <td>0</td>\n",
       "      <td>13.379357</td>\n",
       "      <td>1</td>\n",
       "    </tr>\n",
       "    <tr>\n",
       "      <th>2</th>\n",
       "      <td>-0.132293</td>\n",
       "      <td>1.340311</td>\n",
       "      <td>-0.277241</td>\n",
       "      <td>1</td>\n",
       "      <td>9.908344</td>\n",
       "      <td>2</td>\n",
       "    </tr>\n",
       "    <tr>\n",
       "      <th>3</th>\n",
       "      <td>1.041020</td>\n",
       "      <td>1.586583</td>\n",
       "      <td>-1.154941</td>\n",
       "      <td>1</td>\n",
       "      <td>11.049054</td>\n",
       "      <td>3</td>\n",
       "    </tr>\n",
       "    <tr>\n",
       "      <th>4</th>\n",
       "      <td>-0.178137</td>\n",
       "      <td>0.997762</td>\n",
       "      <td>-0.937351</td>\n",
       "      <td>0</td>\n",
       "      <td>-1.494795</td>\n",
       "      <td>4</td>\n",
       "    </tr>\n",
       "  </tbody>\n",
       "</table>\n",
       "</div>"
      ],
      "text/plain": [
       "         X1        X2        X3  treatment          Y  ID\n",
       "0 -0.830571 -0.345197  0.073416          1   5.628789   0\n",
       "1  0.996200  2.544138  1.056202          0  13.379357   1\n",
       "2 -0.132293  1.340311 -0.277241          1   9.908344   2\n",
       "3  1.041020  1.586583 -1.154941          1  11.049054   3\n",
       "4 -0.178137  0.997762 -0.937351          0  -1.494795   4"
      ]
     },
     "execution_count": 26,
     "metadata": {},
     "output_type": "execute_result"
    }
   ],
   "source": [
    "df_trimmed.head()"
   ]
  },
  {
   "cell_type": "code",
   "execution_count": 27,
   "id": "6b178ccf",
   "metadata": {},
   "outputs": [],
   "source": [
    "# Identificar os tratados e seus correspondentes no grupo de controle\n",
    "# Vamos dividir o DataFrame em tratados e controles\n",
    "control = psm.df_matched[psm.df_matched['treatment'] == 0]\n",
    "treated = psm.df_matched[psm.df_matched['treatment'] == 1]\n",
    "\n",
    "# Fazer o merge (junção) com base no 'matched_ID' para combinar pares\n",
    "pairs = pd.merge(control, treated, how = 'left', left_on='matched_ID', right_on='ID' ,suffixes=('_control', '_treated'))"
   ]
  },
  {
   "cell_type": "code",
   "execution_count": 28,
   "id": "87b1c06b",
   "metadata": {},
   "outputs": [
    {
     "data": {
      "text/html": [
       "<div>\n",
       "<style scoped>\n",
       "    .dataframe tbody tr th:only-of-type {\n",
       "        vertical-align: middle;\n",
       "    }\n",
       "\n",
       "    .dataframe tbody tr th {\n",
       "        vertical-align: top;\n",
       "    }\n",
       "\n",
       "    .dataframe thead th {\n",
       "        text-align: right;\n",
       "    }\n",
       "</style>\n",
       "<table border=\"1\" class=\"dataframe\">\n",
       "  <thead>\n",
       "    <tr style=\"text-align: right;\">\n",
       "      <th></th>\n",
       "      <th>ID_control</th>\n",
       "      <th>X1_control</th>\n",
       "      <th>X2_control</th>\n",
       "      <th>X3_control</th>\n",
       "      <th>propensity_score_control</th>\n",
       "      <th>propensity_logit_control</th>\n",
       "      <th>treatment_control</th>\n",
       "      <th>matched_ID_control</th>\n",
       "      <th>ID_treated</th>\n",
       "      <th>X1_treated</th>\n",
       "      <th>X2_treated</th>\n",
       "      <th>X3_treated</th>\n",
       "      <th>propensity_score_treated</th>\n",
       "      <th>propensity_logit_treated</th>\n",
       "      <th>treatment_treated</th>\n",
       "      <th>matched_ID_treated</th>\n",
       "    </tr>\n",
       "  </thead>\n",
       "  <tbody>\n",
       "    <tr>\n",
       "      <th>0</th>\n",
       "      <td>9</td>\n",
       "      <td>0.483293</td>\n",
       "      <td>-0.635629</td>\n",
       "      <td>0.642763</td>\n",
       "      <td>0.489743</td>\n",
       "      <td>-0.041033</td>\n",
       "      <td>0</td>\n",
       "      <td>1340.0</td>\n",
       "      <td>1340</td>\n",
       "      <td>1.184398</td>\n",
       "      <td>-1.274536</td>\n",
       "      <td>0.133046</td>\n",
       "      <td>0.489743</td>\n",
       "      <td>-0.041035</td>\n",
       "      <td>1</td>\n",
       "      <td>NaN</td>\n",
       "    </tr>\n",
       "    <tr>\n",
       "      <th>1</th>\n",
       "      <td>13</td>\n",
       "      <td>1.305500</td>\n",
       "      <td>-0.933070</td>\n",
       "      <td>-0.685513</td>\n",
       "      <td>0.449002</td>\n",
       "      <td>-0.204704</td>\n",
       "      <td>0</td>\n",
       "      <td>1955.0</td>\n",
       "      <td>1955</td>\n",
       "      <td>0.686978</td>\n",
       "      <td>0.696677</td>\n",
       "      <td>-1.004466</td>\n",
       "      <td>0.449079</td>\n",
       "      <td>-0.204394</td>\n",
       "      <td>1</td>\n",
       "      <td>NaN</td>\n",
       "    </tr>\n",
       "    <tr>\n",
       "      <th>2</th>\n",
       "      <td>13</td>\n",
       "      <td>1.305500</td>\n",
       "      <td>-0.933070</td>\n",
       "      <td>-0.685513</td>\n",
       "      <td>0.449002</td>\n",
       "      <td>-0.204704</td>\n",
       "      <td>0</td>\n",
       "      <td>1955.0</td>\n",
       "      <td>1955</td>\n",
       "      <td>0.686978</td>\n",
       "      <td>0.696677</td>\n",
       "      <td>-1.004466</td>\n",
       "      <td>0.449079</td>\n",
       "      <td>-0.204394</td>\n",
       "      <td>1</td>\n",
       "      <td>NaN</td>\n",
       "    </tr>\n",
       "    <tr>\n",
       "      <th>3</th>\n",
       "      <td>13</td>\n",
       "      <td>1.305500</td>\n",
       "      <td>-0.933070</td>\n",
       "      <td>-0.685513</td>\n",
       "      <td>0.449002</td>\n",
       "      <td>-0.204704</td>\n",
       "      <td>0</td>\n",
       "      <td>1955.0</td>\n",
       "      <td>1955</td>\n",
       "      <td>0.686978</td>\n",
       "      <td>0.696677</td>\n",
       "      <td>-1.004466</td>\n",
       "      <td>0.449079</td>\n",
       "      <td>-0.204394</td>\n",
       "      <td>1</td>\n",
       "      <td>NaN</td>\n",
       "    </tr>\n",
       "    <tr>\n",
       "      <th>4</th>\n",
       "      <td>21</td>\n",
       "      <td>-0.279494</td>\n",
       "      <td>1.185114</td>\n",
       "      <td>-2.270197</td>\n",
       "      <td>0.370216</td>\n",
       "      <td>-0.531290</td>\n",
       "      <td>0</td>\n",
       "      <td>1256.0</td>\n",
       "      <td>1256</td>\n",
       "      <td>-0.006672</td>\n",
       "      <td>-1.519102</td>\n",
       "      <td>-0.795176</td>\n",
       "      <td>0.369686</td>\n",
       "      <td>-0.533566</td>\n",
       "      <td>1</td>\n",
       "      <td>NaN</td>\n",
       "    </tr>\n",
       "  </tbody>\n",
       "</table>\n",
       "</div>"
      ],
      "text/plain": [
       "   ID_control  X1_control  X2_control  X3_control  propensity_score_control  \\\n",
       "0           9    0.483293   -0.635629    0.642763                  0.489743   \n",
       "1          13    1.305500   -0.933070   -0.685513                  0.449002   \n",
       "2          13    1.305500   -0.933070   -0.685513                  0.449002   \n",
       "3          13    1.305500   -0.933070   -0.685513                  0.449002   \n",
       "4          21   -0.279494    1.185114   -2.270197                  0.370216   \n",
       "\n",
       "   propensity_logit_control  treatment_control  matched_ID_control  \\\n",
       "0                 -0.041033                  0              1340.0   \n",
       "1                 -0.204704                  0              1955.0   \n",
       "2                 -0.204704                  0              1955.0   \n",
       "3                 -0.204704                  0              1955.0   \n",
       "4                 -0.531290                  0              1256.0   \n",
       "\n",
       "   ID_treated  X1_treated  X2_treated  X3_treated  propensity_score_treated  \\\n",
       "0        1340    1.184398   -1.274536    0.133046                  0.489743   \n",
       "1        1955    0.686978    0.696677   -1.004466                  0.449079   \n",
       "2        1955    0.686978    0.696677   -1.004466                  0.449079   \n",
       "3        1955    0.686978    0.696677   -1.004466                  0.449079   \n",
       "4        1256   -0.006672   -1.519102   -0.795176                  0.369686   \n",
       "\n",
       "   propensity_logit_treated  treatment_treated  matched_ID_treated  \n",
       "0                 -0.041035                  1                 NaN  \n",
       "1                 -0.204394                  1                 NaN  \n",
       "2                 -0.204394                  1                 NaN  \n",
       "3                 -0.204394                  1                 NaN  \n",
       "4                 -0.533566                  1                 NaN  "
      ]
     },
     "execution_count": 28,
     "metadata": {},
     "output_type": "execute_result"
    }
   ],
   "source": [
    "pairs.head()"
   ]
  },
  {
   "cell_type": "code",
   "execution_count": 31,
   "id": "e94e7eb1",
   "metadata": {},
   "outputs": [],
   "source": [
    "pairs.drop_duplicates(inplace=True)"
   ]
  },
  {
   "cell_type": "code",
   "execution_count": 32,
   "id": "feb53684",
   "metadata": {},
   "outputs": [
    {
     "data": {
      "text/plain": [
       "887"
      ]
     },
     "execution_count": 32,
     "metadata": {},
     "output_type": "execute_result"
    }
   ],
   "source": [
    "len(pairs)"
   ]
  },
  {
   "cell_type": "code",
   "execution_count": 33,
   "id": "f4b3cb7a",
   "metadata": {},
   "outputs": [],
   "source": [
    "#anexando valores resposta\n",
    "pairs_v2 = pd.merge(pairs, df_trimmed[['ID','Y']], how = 'left', left_on='ID_control', right_on='ID')\n",
    "pairs_v2.rename(columns={'Y': 'Y_control'}, inplace=True)\n",
    "pairs_v2.drop_duplicates(inplace=True)\n",
    "pairs_v3 = pd.merge(pairs_v2, df_trimmed[['ID','Y']], how = 'left', left_on='ID_treated', right_on='ID')\n",
    "pairs_v3.rename(columns={'Y': 'Y_treated'}, inplace=True)\n",
    "pairs_v3.drop_duplicates(inplace=True)"
   ]
  },
  {
   "cell_type": "code",
   "execution_count": 34,
   "id": "2301ff10",
   "metadata": {},
   "outputs": [
    {
     "data": {
      "text/html": [
       "<div>\n",
       "<style scoped>\n",
       "    .dataframe tbody tr th:only-of-type {\n",
       "        vertical-align: middle;\n",
       "    }\n",
       "\n",
       "    .dataframe tbody tr th {\n",
       "        vertical-align: top;\n",
       "    }\n",
       "\n",
       "    .dataframe thead th {\n",
       "        text-align: right;\n",
       "    }\n",
       "</style>\n",
       "<table border=\"1\" class=\"dataframe\">\n",
       "  <thead>\n",
       "    <tr style=\"text-align: right;\">\n",
       "      <th></th>\n",
       "      <th>ID_control</th>\n",
       "      <th>X1_control</th>\n",
       "      <th>X2_control</th>\n",
       "      <th>X3_control</th>\n",
       "      <th>propensity_score_control</th>\n",
       "      <th>propensity_logit_control</th>\n",
       "      <th>treatment_control</th>\n",
       "      <th>matched_ID_control</th>\n",
       "      <th>ID_treated</th>\n",
       "      <th>X1_treated</th>\n",
       "      <th>X2_treated</th>\n",
       "      <th>X3_treated</th>\n",
       "      <th>propensity_score_treated</th>\n",
       "      <th>propensity_logit_treated</th>\n",
       "      <th>treatment_treated</th>\n",
       "      <th>matched_ID_treated</th>\n",
       "      <th>ID_x</th>\n",
       "      <th>Y_control</th>\n",
       "      <th>ID_y</th>\n",
       "      <th>Y_treated</th>\n",
       "    </tr>\n",
       "  </thead>\n",
       "  <tbody>\n",
       "    <tr>\n",
       "      <th>0</th>\n",
       "      <td>9</td>\n",
       "      <td>0.483293</td>\n",
       "      <td>-0.635629</td>\n",
       "      <td>0.642763</td>\n",
       "      <td>0.489743</td>\n",
       "      <td>-0.041033</td>\n",
       "      <td>0</td>\n",
       "      <td>1340.0</td>\n",
       "      <td>1340</td>\n",
       "      <td>1.184398</td>\n",
       "      <td>-1.274536</td>\n",
       "      <td>0.133046</td>\n",
       "      <td>0.489743</td>\n",
       "      <td>-0.041035</td>\n",
       "      <td>1</td>\n",
       "      <td>NaN</td>\n",
       "      <td>9</td>\n",
       "      <td>1.579303</td>\n",
       "      <td>1340</td>\n",
       "      <td>8.424341</td>\n",
       "    </tr>\n",
       "    <tr>\n",
       "      <th>1</th>\n",
       "      <td>13</td>\n",
       "      <td>1.305500</td>\n",
       "      <td>-0.933070</td>\n",
       "      <td>-0.685513</td>\n",
       "      <td>0.449002</td>\n",
       "      <td>-0.204704</td>\n",
       "      <td>0</td>\n",
       "      <td>1955.0</td>\n",
       "      <td>1955</td>\n",
       "      <td>0.686978</td>\n",
       "      <td>0.696677</td>\n",
       "      <td>-1.004466</td>\n",
       "      <td>0.449079</td>\n",
       "      <td>-0.204394</td>\n",
       "      <td>1</td>\n",
       "      <td>NaN</td>\n",
       "      <td>13</td>\n",
       "      <td>-3.442367</td>\n",
       "      <td>1955</td>\n",
       "      <td>8.095400</td>\n",
       "    </tr>\n",
       "    <tr>\n",
       "      <th>2</th>\n",
       "      <td>21</td>\n",
       "      <td>-0.279494</td>\n",
       "      <td>1.185114</td>\n",
       "      <td>-2.270197</td>\n",
       "      <td>0.370216</td>\n",
       "      <td>-0.531290</td>\n",
       "      <td>0</td>\n",
       "      <td>1256.0</td>\n",
       "      <td>1256</td>\n",
       "      <td>-0.006672</td>\n",
       "      <td>-1.519102</td>\n",
       "      <td>-0.795176</td>\n",
       "      <td>0.369686</td>\n",
       "      <td>-0.533566</td>\n",
       "      <td>1</td>\n",
       "      <td>NaN</td>\n",
       "      <td>21</td>\n",
       "      <td>-5.786941</td>\n",
       "      <td>1256</td>\n",
       "      <td>0.386391</td>\n",
       "    </tr>\n",
       "    <tr>\n",
       "      <th>3</th>\n",
       "      <td>51</td>\n",
       "      <td>2.387179</td>\n",
       "      <td>0.838715</td>\n",
       "      <td>0.196143</td>\n",
       "      <td>0.615083</td>\n",
       "      <td>0.468728</td>\n",
       "      <td>0</td>\n",
       "      <td>1049.0</td>\n",
       "      <td>1049</td>\n",
       "      <td>1.199242</td>\n",
       "      <td>0.850671</td>\n",
       "      <td>1.175680</td>\n",
       "      <td>0.615181</td>\n",
       "      <td>0.469144</td>\n",
       "      <td>1</td>\n",
       "      <td>NaN</td>\n",
       "      <td>51</td>\n",
       "      <td>8.367107</td>\n",
       "      <td>1049</td>\n",
       "      <td>18.056371</td>\n",
       "    </tr>\n",
       "    <tr>\n",
       "      <th>4</th>\n",
       "      <td>54</td>\n",
       "      <td>-0.014224</td>\n",
       "      <td>0.642034</td>\n",
       "      <td>0.113926</td>\n",
       "      <td>0.485998</td>\n",
       "      <td>-0.056025</td>\n",
       "      <td>0</td>\n",
       "      <td>1625.0</td>\n",
       "      <td>1625</td>\n",
       "      <td>-1.261770</td>\n",
       "      <td>-0.169224</td>\n",
       "      <td>1.559619</td>\n",
       "      <td>0.485991</td>\n",
       "      <td>-0.056051</td>\n",
       "      <td>1</td>\n",
       "      <td>NaN</td>\n",
       "      <td>54</td>\n",
       "      <td>4.002706</td>\n",
       "      <td>1625</td>\n",
       "      <td>11.185688</td>\n",
       "    </tr>\n",
       "  </tbody>\n",
       "</table>\n",
       "</div>"
      ],
      "text/plain": [
       "   ID_control  X1_control  X2_control  X3_control  propensity_score_control  \\\n",
       "0           9    0.483293   -0.635629    0.642763                  0.489743   \n",
       "1          13    1.305500   -0.933070   -0.685513                  0.449002   \n",
       "2          21   -0.279494    1.185114   -2.270197                  0.370216   \n",
       "3          51    2.387179    0.838715    0.196143                  0.615083   \n",
       "4          54   -0.014224    0.642034    0.113926                  0.485998   \n",
       "\n",
       "   propensity_logit_control  treatment_control  matched_ID_control  \\\n",
       "0                 -0.041033                  0              1340.0   \n",
       "1                 -0.204704                  0              1955.0   \n",
       "2                 -0.531290                  0              1256.0   \n",
       "3                  0.468728                  0              1049.0   \n",
       "4                 -0.056025                  0              1625.0   \n",
       "\n",
       "   ID_treated  X1_treated  X2_treated  X3_treated  propensity_score_treated  \\\n",
       "0        1340    1.184398   -1.274536    0.133046                  0.489743   \n",
       "1        1955    0.686978    0.696677   -1.004466                  0.449079   \n",
       "2        1256   -0.006672   -1.519102   -0.795176                  0.369686   \n",
       "3        1049    1.199242    0.850671    1.175680                  0.615181   \n",
       "4        1625   -1.261770   -0.169224    1.559619                  0.485991   \n",
       "\n",
       "   propensity_logit_treated  treatment_treated  matched_ID_treated  ID_x  \\\n",
       "0                 -0.041035                  1                 NaN     9   \n",
       "1                 -0.204394                  1                 NaN    13   \n",
       "2                 -0.533566                  1                 NaN    21   \n",
       "3                  0.469144                  1                 NaN    51   \n",
       "4                 -0.056051                  1                 NaN    54   \n",
       "\n",
       "   Y_control  ID_y  Y_treated  \n",
       "0   1.579303  1340   8.424341  \n",
       "1  -3.442367  1955   8.095400  \n",
       "2  -5.786941  1256   0.386391  \n",
       "3   8.367107  1049  18.056371  \n",
       "4   4.002706  1625  11.185688  "
      ]
     },
     "execution_count": 34,
     "metadata": {},
     "output_type": "execute_result"
    }
   ],
   "source": [
    "pairs_v3.head()"
   ]
  },
  {
   "cell_type": "code",
   "execution_count": 35,
   "id": "bcfaf414",
   "metadata": {},
   "outputs": [
    {
     "data": {
      "text/plain": [
       "887"
      ]
     },
     "execution_count": 35,
     "metadata": {},
     "output_type": "execute_result"
    }
   ],
   "source": [
    "len(pairs_v3)"
   ]
  },
  {
   "cell_type": "code",
   "execution_count": 36,
   "id": "f8addb34",
   "metadata": {},
   "outputs": [],
   "source": [
    "# Calcular a diferença no resultado (desfecho Y) entre os pares\n",
    "pairs_v3['diff_Y'] = pairs_v3['Y_treated'] - pairs_v3['Y_control']"
   ]
  },
  {
   "cell_type": "code",
   "execution_count": 40,
   "id": "1307f175",
   "metadata": {},
   "outputs": [
    {
     "data": {
      "image/png": "[encoded data removed]",
      "text/plain": [
       "<Figure size 1000x600 with 1 Axes>"
      ]
     },
     "metadata": {},
     "output_type": "display_data"
    }
   ],
   "source": [
    "# Plotar a distribuição da diferença no desfecho Y entre os pares\n",
    "plt.figure(figsize=(10, 6))\n",
    "plt.hist(pairs_v3['diff_Y'], bins=30, alpha=0.7, color='blue', edgecolor='black')\n",
    "plt.title('Distribuicao dos efeitos')\n",
    "plt.xlabel('Diferença no Y (Y_treated - Y_control)')\n",
    "plt.ylabel('Frequência')\n",
    "plt.grid(True)\n",
    "plt.show()"
   ]
  },
  {
   "cell_type": "code",
   "execution_count": 41,
   "id": "75c2fe8a",
   "metadata": {},
   "outputs": [
    {
     "name": "stdout",
     "output_type": "stream",
     "text": [
      "Estatísticas:\n",
      "count    887.000000\n",
      "mean       8.065810\n",
      "std        2.939862\n",
      "min       -1.014226\n",
      "25%        6.224119\n",
      "50%        8.211368\n",
      "75%       10.113417\n",
      "max       16.594487\n",
      "Name: diff_Y, dtype: float64\n"
     ]
    }
   ],
   "source": [
    "# Calcular estatísticas descritivas das diferenças\n",
    "diff_stats = pairs_v3['diff_Y'].describe()\n",
    "\n",
    "# Exibir estatísticas descritivas\n",
    "print(\"Estatísticas:\")\n",
    "print(diff_stats)"
   ]
  },
  {
   "cell_type": "code",
   "execution_count": null,
   "id": "3a106422",
   "metadata": {},
   "outputs": [],
   "source": []
  },
  {
   "cell_type": "code",
   "execution_count": null,
   "id": "39104917",
   "metadata": {},
   "outputs": [],
   "source": []
  }
 ],
 "metadata": {
  "kernelspec": {
   "display_name": "Python 3 (ipykernel)",
   "language": "python",
   "name": "python3"
  },
  "language_info": {
   "codemirror_mode": {
    "name": "ipython",
    "version": 3
   },
   "file_extension": ".py",
   "mimetype": "text/x-python",
   "name": "python",
   "nbconvert_exporter": "python",
   "pygments_lexer": "ipython3",
   "version": "3.11.0"
  }
 },
 "nbformat": 4,
 "nbformat_minor": 5
}
